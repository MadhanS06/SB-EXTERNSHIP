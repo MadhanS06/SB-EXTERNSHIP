{
 "cells": [
  {
   "cell_type": "code",
   "execution_count": 1,
   "metadata": {},
   "outputs": [],
   "source": [
    "from ultralytics import YOLO "
   ]
  },
  {
   "cell_type": "code",
   "execution_count": 2,
   "metadata": {},
   "outputs": [],
   "source": [
    "import cv2\n",
    "import os\n",
    "import easyocr\n",
    "import re"
   ]
  },
  {
   "cell_type": "code",
   "execution_count": 3,
   "metadata": {},
   "outputs": [],
   "source": [
    "def extract_text_from_image(image_path):\n",
    "    # Initialize the EasyOCR reader\n",
    "    reader = easyocr.Reader(['en'])\n",
    "\n",
    "    # Read the image and extract text\n",
    "    result = reader.readtext(image_path)\n",
    "\n",
    "    # Extract all text\n",
    "    extracted_text = []\n",
    "    for detection in result:\n",
    "        text = detection[1]\n",
    "        extracted_text.append(text)\n",
    "\n",
    "    return extracted_text"
   ]
  },
  {
   "cell_type": "code",
   "execution_count": 4,
   "metadata": {},
   "outputs": [],
   "source": [
    "import csv\n",
    "\n",
    "def create_csv_file():\n",
    "    # Define the file path for the CSV file\n",
    "    csv_file = 'vehicle_information.csv'\n",
    "\n",
    "    # Create the CSV file\n",
    "    with open(csv_file, mode='w', newline='') as file:\n",
    "        writer = csv.writer(file)\n",
    "        writer.writerow(['Car ID','License Number', 'Car Type'])  # Write the header row\n",
    "\n",
    "create_csv_file()"
   ]
  },
  {
   "cell_type": "code",
   "execution_count": 5,
   "metadata": {},
   "outputs": [],
   "source": [
    "def save_vehicle_information_to_csv(vehicleID,vehicle_number, vehicle_type):\n",
    "    # Define the file path for the CSV file\n",
    "    csv_file = 'vehicle_information.csv'\n",
    "\n",
    "    # Append the vehicle information to the CSV file\n",
    "    with open(csv_file, mode='a', newline='') as file:\n",
    "        writer = csv.writer(file)\n",
    "        writer.writerow([vehicleID, vehicle_number, vehicle_type])"
   ]
  },
  {
   "cell_type": "code",
   "execution_count": 6,
   "metadata": {},
   "outputs": [],
   "source": [
    "class_names = {\n",
    "    0: 'Hatchback',\n",
    "    1: 'MidSize-SUV',\n",
    "    3: 'SUV',\n",
    "    4: 'Sedan'\n",
    "}"
   ]
  },
  {
   "cell_type": "code",
   "execution_count": 7,
   "metadata": {},
   "outputs": [],
   "source": [
    "model = YOLO('./best.pt')"
   ]
  },
  {
   "cell_type": "code",
   "execution_count": null,
   "metadata": {},
   "outputs": [],
   "source": []
  },
  {
   "cell_type": "code",
   "execution_count": 8,
   "metadata": {},
   "outputs": [
    {
     "name": "stderr",
     "output_type": "stream",
     "text": [
      "Ultralytics YOLOv8.0.23  Python-3.11.0 torch-2.0.1 CUDA:0 (NVIDIA GeForce GTX 1650, 4096MiB)\n",
      "Model summary (fused): 168 layers, 11127519 parameters, 0 gradients, 28.4 GFLOPs\n",
      "0: 192x256 1 MidSize-SUV, 1 NumberPlate, 81.8ms\n",
      "Speed: 26.1ms pre-process, 81.8ms inference, 556.4ms postprocess per image at shape (1, 3, 256, 256)\n"
     ]
    },
    {
     "name": "stdout",
     "output_type": "stream",
     "text": [
      "Car Type: MidSize-SUV\n"
     ]
    }
   ],
   "source": [
    "# Load the image file\n",
    "image_path = \"./creta.jpg\"\n",
    "frame = cv2.imread(image_path)\n",
    "\n",
    "\n",
    "\n",
    "# Run YOLOv8 inference on the image\n",
    "results = model(frame)\n",
    "\n",
    "cls = []\n",
    "number_plate = \"\"\n",
    "detected_car_type = \"\"\n",
    "\n",
    "for result in results:\n",
    "    boxes = result.boxes.cpu().numpy()\n",
    "    for i, box in enumerate(boxes):\n",
    "        if box.conf[0] > 0.4:\n",
    "            cls = int(box.cls[0])\n",
    "            if cls == 2:\n",
    "                r = box.xyxy[0].astype(int)\n",
    "                crop = frame[r[1]:r[3], r[0]:r[2]]\n",
    "                cv2.imwrite(\"numberplate.jpg\", crop)\n",
    "                # Specify the path to the image\n",
    "                number_plate = 'numberplate.jpg'\n",
    "            elif cls != 2:\n",
    "                car_type = class_names.get(cls)\n",
    "                print(f\"Car Type: {car_type}\")\n",
    "                detected_car_type = car_type\n",
    "\n",
    "# Extract text from the image (implement your extract_text_from_image function)\n",
    "text = extract_text_from_image(number_plate)\n",
    "text = str(text)\n",
    "\n",
    "# Define the pattern for number plate extraction using regular expressions\n",
    "pattern = r'[A-Z]{2}\\s?\\d{2}\\s?[A-Z]{2}\\s?\\d{4}'\n",
    "\n",
    "# Search for the pattern in the extracted text\n",
    "extracted_number_plates = re.findall(pattern, text)\n",
    "\n",
    "# Initialize a list to store the results\n",
    "car_results = []\n",
    "\n",
    "# Iterate over the extracted number plates\n",
    "for plate in extracted_number_plates:\n",
    "    car_results.append((detected_car_type, plate))\n",
    "\n",
    "# Print the extracted number plates along with the car type\n",
    "i = 0   #Vehicle ID\n",
    "for plate, car_type in car_results:\n",
    "    i+=1\n",
    "    save_vehicle_information_to_csv(i,plate,car_type)\n",
    "\n"
   ]
  },
  {
   "cell_type": "code",
   "execution_count": null,
   "metadata": {},
   "outputs": [],
   "source": []
  },
  {
   "cell_type": "code",
   "execution_count": 7,
   "metadata": {},
   "outputs": [],
   "source": [
    "import tkinter as tk\n",
    "import pandas as pd"
   ]
  },
  {
   "cell_type": "code",
   "execution_count": null,
   "metadata": {},
   "outputs": [],
   "source": []
  },
  {
   "cell_type": "code",
   "execution_count": null,
   "metadata": {},
   "outputs": [],
   "source": []
  },
  {
   "cell_type": "code",
   "execution_count": null,
   "metadata": {},
   "outputs": [],
   "source": []
  },
  {
   "cell_type": "code",
   "execution_count": null,
   "metadata": {},
   "outputs": [],
   "source": []
  },
  {
   "attachments": {},
   "cell_type": "markdown",
   "metadata": {},
   "source": [
    "# CSV TO API"
   ]
  },
  {
   "cell_type": "code",
   "execution_count": 31,
   "metadata": {},
   "outputs": [],
   "source": [
    "import tkinter as tk\n",
    "import csv\n",
    "\n",
    "def create_grid(frame, rows, columns):\n",
    "    for i in range(rows):\n",
    "        frame.rowconfigure(i, weight=1, minsize=50)\n",
    "        for j in range(columns):\n",
    "            frame.columnconfigure(j, weight=1, minsize=50)\n",
    "            cell = tk.Frame(\n",
    "                master=frame,\n",
    "                relief=tk.RAISED,\n",
    "                borderwidth=1\n",
    "            )\n",
    "            cell.grid(row=i, column=j, sticky=\"nsew\")\n",
    "            cell_colors.append(cell)  # Store the cell frame for color assignment\n",
    "\n",
    "def assign_vehicle_color(vehicle_type):\n",
    "    if vehicle_type == \"SUV\":\n",
    "        return \"red\"\n",
    "    elif vehicle_type == \"Sedan\":\n",
    "        return \"blue\"\n",
    "    elif vehicle_type == \"MidSize-SUV\":\n",
    "        return \"green\"\n",
    "    elif vehicle_type == \"Hatchback\":\n",
    "        return \"yellow\"\n",
    "    else:\n",
    "        return \"white\"  # Default color if vehicle type is unknown or not provided\n",
    "\n",
    "def read_vehicle_data(filename):\n",
    "    vehicle_data = []\n",
    "    with open(filename, \"r\") as file:\n",
    "        csv_reader = csv.reader(file)\n",
    "        next(csv_reader)  # Skip the header row\n",
    "        for row in csv_reader:\n",
    "            vehicle_id, vehicle_type, vehicle_number = row\n",
    "            vehicle_data.append((vehicle_id, vehicle_type.strip(), vehicle_number))\n",
    "    return vehicle_data\n",
    "\n",
    "def populate_grids(vehicle_data):\n",
    "    for i, (vehicle_id, vehicle_type, vehicle_number) in enumerate(vehicle_data):\n",
    "        cell = cell_colors[i % len(cell_colors)]\n",
    "        color = assign_vehicle_color(vehicle_type)\n",
    "        \n",
    "        # Configure cell's border and background color\n",
    "        cell.config(bg=color, highlightbackground=\"black\", highlightthickness=1.25)\n",
    "        \n",
    "        # Clear any existing widgets in the cell\n",
    "        for widget in cell.winfo_children():\n",
    "            widget.destroy()\n",
    "        \n",
    "        # Create label with custom font style and size\n",
    "        label_font = (\"Sans-Serif\", 12, \"bold\")\n",
    "        label = tk.Label(cell, text=f\"Vehicle ID: {vehicle_id}\\n\\nType: {vehicle_type}\\n\\nLicense: {vehicle_number}\", bg=color, fg=\"white\", font=label_font)\n",
    "        label.pack(fill=tk.BOTH, expand=True)\n",
    "\n",
    "def create_window(vehicle_data):\n",
    "    window = tk.Tk()\n",
    "    window.title(\"Vehicle Data\")\n",
    "    \n",
    "    # Calculate the number of grids needed\n",
    "    num_grids = (len(vehicle_data) + 9) // 10\n",
    "\n",
    "    for i in range(num_grids):\n",
    "        # Create the main frame for each grid\n",
    "        main_frame = tk.Frame(master=window)\n",
    "        main_frame.pack(fill=tk.BOTH, expand=True)\n",
    "\n",
    "        # Create the grid\n",
    "        create_grid(main_frame, 2, 5)\n",
    "\n",
    "        # Populate the grids with vehicle data\n",
    "        start_index = i * 10\n",
    "        end_index = min((i + 1) * 10, len(vehicle_data))\n",
    "        populate_grids(vehicle_data[start_index:end_index])\n",
    "\n",
    "    window.mainloop()\n",
    "\n",
    "# Read vehicle data from CSV file\n",
    "filename = \"vehicle_information.csv\"  # Replace with your own filename\n",
    "vehicle_data = read_vehicle_data(filename)\n",
    "\n",
    "# List to store cell frames for color assignment\n",
    "cell_colors = []\n",
    "\n",
    "# Create the window\n",
    "create_window(vehicle_data)\n"
   ]
  },
  {
   "cell_type": "code",
   "execution_count": null,
   "metadata": {},
   "outputs": [],
   "source": []
  },
  {
   "cell_type": "code",
   "execution_count": null,
   "metadata": {},
   "outputs": [],
   "source": []
  },
  {
   "cell_type": "code",
   "execution_count": 5,
   "metadata": {},
   "outputs": [
    {
     "ename": "error",
     "evalue": "OpenCV(4.7.0) :-1: error: (-5:Bad argument) in function 'imshow'\n> Overload resolution failed:\n>  - imshow() missing required argument 'winname' (pos 1)\n>  - imshow() missing required argument 'winname' (pos 1)\n>  - imshow() missing required argument 'winname' (pos 1)\n",
     "output_type": "error",
     "traceback": [
      "\u001b[1;31m---------------------------------------------------------------------------\u001b[0m",
      "\u001b[1;31merror\u001b[0m                                     Traceback (most recent call last)",
      "Cell \u001b[1;32mIn[5], line 1\u001b[0m\n\u001b[1;32m----> 1\u001b[0m cv2\u001b[39m.\u001b[39;49mimshow()\n",
      "\u001b[1;31merror\u001b[0m: OpenCV(4.7.0) :-1: error: (-5:Bad argument) in function 'imshow'\n> Overload resolution failed:\n>  - imshow() missing required argument 'winname' (pos 1)\n>  - imshow() missing required argument 'winname' (pos 1)\n>  - imshow() missing required argument 'winname' (pos 1)\n"
     ]
    }
   ],
   "source": [
    "cv2.imshow()"
   ]
  },
  {
   "cell_type": "code",
   "execution_count": null,
   "metadata": {},
   "outputs": [],
   "source": [
    "class_names = {\n",
    "    0: 'Hatchback',\n",
    "    1: 'MidSize-SUV',\n",
    "    3: 'SUV',\n",
    "    4: 'Sedan'\n",
    "}"
   ]
  },
  {
   "cell_type": "code",
   "execution_count": null,
   "metadata": {},
   "outputs": [],
   "source": []
  },
  {
   "cell_type": "code",
   "execution_count": null,
   "metadata": {},
   "outputs": [],
   "source": []
  },
  {
   "cell_type": "code",
   "execution_count": null,
   "metadata": {},
   "outputs": [],
   "source": []
  },
  {
   "attachments": {},
   "cell_type": "markdown",
   "metadata": {},
   "source": [
    "print(vehicle_)"
   ]
  },
  {
   "cell_type": "code",
   "execution_count": 29,
   "metadata": {},
   "outputs": [
    {
     "name": "stdout",
     "output_type": "stream",
     "text": [
      "MidSize-SUV\n"
     ]
    }
   ],
   "source": [
    "print(vehicle_type)"
   ]
  },
  {
   "attachments": {},
   "cell_type": "markdown",
   "metadata": {},
   "source": [
    "# VIDEO INPUTS TRIAL"
   ]
  },
  {
   "cell_type": "code",
   "execution_count": 14,
   "metadata": {},
   "outputs": [],
   "source": [
    "import cv2\n",
    "import easyocr\n",
    "import re\n",
    "import csv\n"
   ]
  },
  {
   "cell_type": "code",
   "execution_count": 15,
   "metadata": {},
   "outputs": [],
   "source": [
    "reader = easyocr.Reader(['en'])"
   ]
  },
  {
   "cell_type": "code",
   "execution_count": 16,
   "metadata": {},
   "outputs": [],
   "source": [
    "class_names = {\n",
    "    0: 'Hatchback',\n",
    "    1: 'MidSize-SUV',\n",
    "    3: 'SUV',\n",
    "    4: 'Sedan'\n",
    "}"
   ]
  },
  {
   "cell_type": "code",
   "execution_count": 35,
   "metadata": {},
   "outputs": [],
   "source": [
    "video_path = \"./entry.mp4\"\n",
    "cap = cv2.VideoCapture(video_path)"
   ]
  },
  {
   "cell_type": "code",
   "execution_count": 36,
   "metadata": {},
   "outputs": [],
   "source": [
    "vehicle_types = set()\n",
    "vehicle_numbers = set()\n"
   ]
  },
  {
   "cell_type": "code",
   "execution_count": 37,
   "metadata": {},
   "outputs": [],
   "source": [
    "csv_file = open(\"vehicle_information.csv\", \"a\", newline=\"\")\n",
    "csv_writer = csv.writer(csv_file)\n"
   ]
  },
  {
   "cell_type": "code",
   "execution_count": 38,
   "metadata": {},
   "outputs": [
    {
     "name": "stderr",
     "output_type": "stream",
     "text": [
      "0: 160x256 1 NumberPlate, 1 Sedan, 18.0ms\n",
      "Speed: 1.0ms pre-process, 18.0ms inference, 2.0ms postprocess per image at shape (1, 3, 256, 256)\n"
     ]
    },
    {
     "name": "stdout",
     "output_type": "stream",
     "text": [
      "Car Type: Sedan\n"
     ]
    },
    {
     "name": "stderr",
     "output_type": "stream",
     "text": [
      "0: 160x256 1 NumberPlate, 1 Sedan, 9.0ms\n",
      "Speed: 0.0ms pre-process, 9.0ms inference, 2.0ms postprocess per image at shape (1, 3, 256, 256)\n"
     ]
    },
    {
     "name": "stdout",
     "output_type": "stream",
     "text": [
      "Car Type: Sedan\n"
     ]
    },
    {
     "name": "stderr",
     "output_type": "stream",
     "text": [
      "0: 160x256 1 NumberPlate, 1 Sedan, 9.0ms\n",
      "Speed: 1.0ms pre-process, 9.0ms inference, 2.0ms postprocess per image at shape (1, 3, 256, 256)\n"
     ]
    },
    {
     "name": "stdout",
     "output_type": "stream",
     "text": [
      "Car Type: Sedan\n"
     ]
    },
    {
     "name": "stderr",
     "output_type": "stream",
     "text": [
      "0: 160x256 1 NumberPlate, 1 Sedan, 9.0ms\n",
      "Speed: 1.0ms pre-process, 9.0ms inference, 2.0ms postprocess per image at shape (1, 3, 256, 256)\n"
     ]
    },
    {
     "name": "stdout",
     "output_type": "stream",
     "text": [
      "Car Type: Sedan\n"
     ]
    },
    {
     "name": "stderr",
     "output_type": "stream",
     "text": [
      "0: 160x256 1 NumberPlate, 1 Sedan, 15.9ms\n",
      "Speed: 0.0ms pre-process, 15.9ms inference, 3.0ms postprocess per image at shape (1, 3, 256, 256)\n"
     ]
    },
    {
     "name": "stdout",
     "output_type": "stream",
     "text": [
      "Car Type: Sedan\n"
     ]
    },
    {
     "name": "stderr",
     "output_type": "stream",
     "text": [
      "0: 160x256 1 NumberPlate, 1 Sedan, 9.0ms\n",
      "Speed: 1.0ms pre-process, 9.0ms inference, 2.0ms postprocess per image at shape (1, 3, 256, 256)\n"
     ]
    },
    {
     "name": "stdout",
     "output_type": "stream",
     "text": [
      "Car Type: Sedan\n"
     ]
    },
    {
     "name": "stderr",
     "output_type": "stream",
     "text": [
      "0: 160x256 1 NumberPlate, 1 Sedan, 8.0ms\n",
      "Speed: 1.0ms pre-process, 8.0ms inference, 3.0ms postprocess per image at shape (1, 3, 256, 256)\n"
     ]
    },
    {
     "name": "stdout",
     "output_type": "stream",
     "text": [
      "Car Type: Sedan\n"
     ]
    },
    {
     "name": "stderr",
     "output_type": "stream",
     "text": [
      "0: 160x256 1 NumberPlate, 1 Sedan, 9.9ms\n",
      "Speed: 0.0ms pre-process, 9.9ms inference, 2.0ms postprocess per image at shape (1, 3, 256, 256)\n"
     ]
    },
    {
     "name": "stdout",
     "output_type": "stream",
     "text": [
      "Car Type: Sedan\n"
     ]
    },
    {
     "name": "stderr",
     "output_type": "stream",
     "text": [
      "0: 160x256 1 NumberPlate, 1 Sedan, 15.0ms\n",
      "Speed: 1.0ms pre-process, 15.0ms inference, 3.0ms postprocess per image at shape (1, 3, 256, 256)\n"
     ]
    },
    {
     "name": "stdout",
     "output_type": "stream",
     "text": [
      "Car Type: Sedan\n"
     ]
    },
    {
     "name": "stderr",
     "output_type": "stream",
     "text": [
      "0: 160x256 1 NumberPlate, 1 Sedan, 9.0ms\n",
      "Speed: 0.0ms pre-process, 9.0ms inference, 2.0ms postprocess per image at shape (1, 3, 256, 256)\n"
     ]
    },
    {
     "name": "stdout",
     "output_type": "stream",
     "text": [
      "Car Type: Sedan\n"
     ]
    },
    {
     "name": "stderr",
     "output_type": "stream",
     "text": [
      "0: 160x256 1 NumberPlate, 1 Sedan, 13.0ms\n",
      "Speed: 1.0ms pre-process, 13.0ms inference, 4.0ms postprocess per image at shape (1, 3, 256, 256)\n"
     ]
    },
    {
     "name": "stdout",
     "output_type": "stream",
     "text": [
      "Car Type: Sedan\n"
     ]
    },
    {
     "name": "stderr",
     "output_type": "stream",
     "text": [
      "0: 160x256 1 NumberPlate, 1 Sedan, 9.0ms\n",
      "Speed: 0.0ms pre-process, 9.0ms inference, 2.0ms postprocess per image at shape (1, 3, 256, 256)\n"
     ]
    },
    {
     "name": "stdout",
     "output_type": "stream",
     "text": [
      "Car Type: Sedan\n"
     ]
    },
    {
     "name": "stderr",
     "output_type": "stream",
     "text": [
      "0: 160x256 1 NumberPlate, 1 Sedan, 16.0ms\n",
      "Speed: 1.0ms pre-process, 16.0ms inference, 4.0ms postprocess per image at shape (1, 3, 256, 256)\n"
     ]
    },
    {
     "name": "stdout",
     "output_type": "stream",
     "text": [
      "Car Type: Sedan\n"
     ]
    },
    {
     "name": "stderr",
     "output_type": "stream",
     "text": [
      "0: 160x256 1 NumberPlate, 1 Sedan, 11.0ms\n",
      "Speed: 0.0ms pre-process, 11.0ms inference, 2.0ms postprocess per image at shape (1, 3, 256, 256)\n"
     ]
    },
    {
     "name": "stdout",
     "output_type": "stream",
     "text": [
      "Car Type: Sedan\n"
     ]
    },
    {
     "name": "stderr",
     "output_type": "stream",
     "text": [
      "0: 160x256 1 NumberPlate, 1 Sedan, 9.0ms\n",
      "Speed: 1.0ms pre-process, 9.0ms inference, 2.0ms postprocess per image at shape (1, 3, 256, 256)\n"
     ]
    },
    {
     "name": "stdout",
     "output_type": "stream",
     "text": [
      "Car Type: Sedan\n"
     ]
    },
    {
     "name": "stderr",
     "output_type": "stream",
     "text": [
      "0: 160x256 1 NumberPlate, 1 Sedan, 12.0ms\n",
      "Speed: 0.0ms pre-process, 12.0ms inference, 2.0ms postprocess per image at shape (1, 3, 256, 256)\n"
     ]
    },
    {
     "name": "stdout",
     "output_type": "stream",
     "text": [
      "Car Type: Sedan\n"
     ]
    },
    {
     "name": "stderr",
     "output_type": "stream",
     "text": [
      "0: 160x256 1 NumberPlate, 1 Sedan, 9.0ms\n",
      "Speed: 1.0ms pre-process, 9.0ms inference, 2.0ms postprocess per image at shape (1, 3, 256, 256)\n"
     ]
    },
    {
     "name": "stdout",
     "output_type": "stream",
     "text": [
      "Car Type: Sedan\n"
     ]
    },
    {
     "name": "stderr",
     "output_type": "stream",
     "text": [
      "0: 160x256 1 NumberPlate, 1 Sedan, 10.0ms\n",
      "Speed: 1.0ms pre-process, 10.0ms inference, 3.0ms postprocess per image at shape (1, 3, 256, 256)\n"
     ]
    },
    {
     "name": "stdout",
     "output_type": "stream",
     "text": [
      "Car Type: Sedan\n"
     ]
    },
    {
     "name": "stderr",
     "output_type": "stream",
     "text": [
      "0: 160x256 1 NumberPlate, 1 Sedan, 9.0ms\n",
      "Speed: 1.0ms pre-process, 9.0ms inference, 2.0ms postprocess per image at shape (1, 3, 256, 256)\n"
     ]
    },
    {
     "name": "stdout",
     "output_type": "stream",
     "text": [
      "Car Type: Sedan\n"
     ]
    },
    {
     "name": "stderr",
     "output_type": "stream",
     "text": [
      "0: 160x256 1 NumberPlate, 1 Sedan, 11.0ms\n",
      "Speed: 0.0ms pre-process, 11.0ms inference, 3.0ms postprocess per image at shape (1, 3, 256, 256)\n"
     ]
    },
    {
     "name": "stdout",
     "output_type": "stream",
     "text": [
      "Car Type: Sedan\n"
     ]
    },
    {
     "name": "stderr",
     "output_type": "stream",
     "text": [
      "0: 160x256 1 NumberPlate, 1 Sedan, 12.0ms\n",
      "Speed: 1.0ms pre-process, 12.0ms inference, 2.0ms postprocess per image at shape (1, 3, 256, 256)\n"
     ]
    },
    {
     "name": "stdout",
     "output_type": "stream",
     "text": [
      "Car Type: Sedan\n"
     ]
    },
    {
     "name": "stderr",
     "output_type": "stream",
     "text": [
      "0: 160x256 1 NumberPlate, 1 Sedan, 13.0ms\n",
      "Speed: 1.0ms pre-process, 13.0ms inference, 3.0ms postprocess per image at shape (1, 3, 256, 256)\n"
     ]
    },
    {
     "name": "stdout",
     "output_type": "stream",
     "text": [
      "Car Type: Sedan\n"
     ]
    },
    {
     "name": "stderr",
     "output_type": "stream",
     "text": [
      "0: 160x256 1 NumberPlate, 1 Sedan, 10.0ms\n",
      "Speed: 1.0ms pre-process, 10.0ms inference, 2.0ms postprocess per image at shape (1, 3, 256, 256)\n"
     ]
    },
    {
     "name": "stdout",
     "output_type": "stream",
     "text": [
      "Car Type: Sedan\n"
     ]
    },
    {
     "name": "stderr",
     "output_type": "stream",
     "text": [
      "0: 160x256 1 NumberPlate, 1 Sedan, 10.9ms\n",
      "Speed: 0.0ms pre-process, 10.9ms inference, 1.0ms postprocess per image at shape (1, 3, 256, 256)\n"
     ]
    },
    {
     "name": "stdout",
     "output_type": "stream",
     "text": [
      "Car Type: Sedan\n"
     ]
    },
    {
     "name": "stderr",
     "output_type": "stream",
     "text": [
      "0: 160x256 1 NumberPlate, 1 Sedan, 17.0ms\n",
      "Speed: 1.0ms pre-process, 17.0ms inference, 2.0ms postprocess per image at shape (1, 3, 256, 256)\n"
     ]
    },
    {
     "name": "stdout",
     "output_type": "stream",
     "text": [
      "Car Type: Sedan\n"
     ]
    },
    {
     "name": "stderr",
     "output_type": "stream",
     "text": [
      "0: 160x256 1 NumberPlate, 1 Sedan, 11.0ms\n",
      "Speed: 0.0ms pre-process, 11.0ms inference, 1.0ms postprocess per image at shape (1, 3, 256, 256)\n"
     ]
    },
    {
     "name": "stdout",
     "output_type": "stream",
     "text": [
      "Car Type: Sedan\n"
     ]
    },
    {
     "name": "stderr",
     "output_type": "stream",
     "text": [
      "0: 160x256 1 NumberPlate, 1 Sedan, 10.0ms\n",
      "Speed: 1.0ms pre-process, 10.0ms inference, 2.0ms postprocess per image at shape (1, 3, 256, 256)\n"
     ]
    },
    {
     "name": "stdout",
     "output_type": "stream",
     "text": [
      "Car Type: Sedan\n"
     ]
    },
    {
     "name": "stderr",
     "output_type": "stream",
     "text": [
      "0: 160x256 1 NumberPlate, 1 Sedan, 8.9ms\n",
      "Speed: 1.0ms pre-process, 8.9ms inference, 4.0ms postprocess per image at shape (1, 3, 256, 256)\n"
     ]
    },
    {
     "name": "stdout",
     "output_type": "stream",
     "text": [
      "Car Type: Sedan\n"
     ]
    },
    {
     "name": "stderr",
     "output_type": "stream",
     "text": [
      "0: 160x256 1 NumberPlate, 1 Sedan, 10.0ms\n",
      "Speed: 1.0ms pre-process, 10.0ms inference, 2.0ms postprocess per image at shape (1, 3, 256, 256)\n"
     ]
    },
    {
     "name": "stdout",
     "output_type": "stream",
     "text": [
      "Car Type: Sedan\n"
     ]
    },
    {
     "name": "stderr",
     "output_type": "stream",
     "text": [
      "0: 160x256 1 NumberPlate, 1 Sedan, 9.9ms\n",
      "Speed: 0.0ms pre-process, 9.9ms inference, 4.0ms postprocess per image at shape (1, 3, 256, 256)\n"
     ]
    },
    {
     "name": "stdout",
     "output_type": "stream",
     "text": [
      "Car Type: Sedan\n"
     ]
    },
    {
     "name": "stderr",
     "output_type": "stream",
     "text": [
      "0: 160x256 1 NumberPlate, 1 Sedan, 9.0ms\n",
      "Speed: 0.0ms pre-process, 9.0ms inference, 3.0ms postprocess per image at shape (1, 3, 256, 256)\n"
     ]
    },
    {
     "name": "stdout",
     "output_type": "stream",
     "text": [
      "Car Type: Sedan\n"
     ]
    },
    {
     "name": "stderr",
     "output_type": "stream",
     "text": [
      "0: 160x256 1 NumberPlate, 1 Sedan, 10.0ms\n",
      "Speed: 1.0ms pre-process, 10.0ms inference, 3.0ms postprocess per image at shape (1, 3, 256, 256)\n"
     ]
    },
    {
     "name": "stdout",
     "output_type": "stream",
     "text": [
      "Car Type: Sedan\n"
     ]
    },
    {
     "name": "stderr",
     "output_type": "stream",
     "text": [
      "0: 160x256 1 NumberPlate, 1 Sedan, 10.0ms\n",
      "Speed: 1.0ms pre-process, 10.0ms inference, 2.0ms postprocess per image at shape (1, 3, 256, 256)\n"
     ]
    },
    {
     "name": "stdout",
     "output_type": "stream",
     "text": [
      "Car Type: Sedan\n"
     ]
    },
    {
     "name": "stderr",
     "output_type": "stream",
     "text": [
      "0: 160x256 1 NumberPlate, 1 Sedan, 22.9ms\n",
      "Speed: 0.0ms pre-process, 22.9ms inference, 3.0ms postprocess per image at shape (1, 3, 256, 256)\n"
     ]
    },
    {
     "name": "stdout",
     "output_type": "stream",
     "text": [
      "Car Type: Sedan\n"
     ]
    },
    {
     "name": "stderr",
     "output_type": "stream",
     "text": [
      "0: 160x256 1 NumberPlate, 1 Sedan, 11.0ms\n",
      "Speed: 0.0ms pre-process, 11.0ms inference, 2.0ms postprocess per image at shape (1, 3, 256, 256)\n"
     ]
    },
    {
     "name": "stdout",
     "output_type": "stream",
     "text": [
      "Car Type: Sedan\n"
     ]
    },
    {
     "name": "stderr",
     "output_type": "stream",
     "text": [
      "0: 160x256 1 NumberPlate, 1 Sedan, 10.0ms\n",
      "Speed: 1.0ms pre-process, 10.0ms inference, 1.0ms postprocess per image at shape (1, 3, 256, 256)\n"
     ]
    },
    {
     "name": "stdout",
     "output_type": "stream",
     "text": [
      "Car Type: Sedan\n"
     ]
    },
    {
     "name": "stderr",
     "output_type": "stream",
     "text": [
      "0: 160x256 1 NumberPlate, 1 Sedan, 10.0ms\n",
      "Speed: 1.0ms pre-process, 10.0ms inference, 2.0ms postprocess per image at shape (1, 3, 256, 256)\n"
     ]
    },
    {
     "name": "stdout",
     "output_type": "stream",
     "text": [
      "Car Type: Sedan\n"
     ]
    },
    {
     "name": "stderr",
     "output_type": "stream",
     "text": [
      "0: 160x256 1 NumberPlate, 1 Sedan, 7.9ms\n",
      "Speed: 1.0ms pre-process, 7.9ms inference, 3.0ms postprocess per image at shape (1, 3, 256, 256)\n"
     ]
    },
    {
     "name": "stdout",
     "output_type": "stream",
     "text": [
      "Car Type: Sedan\n"
     ]
    },
    {
     "name": "stderr",
     "output_type": "stream",
     "text": [
      "0: 160x256 1 NumberPlate, 1 Sedan, 11.0ms\n",
      "Speed: 1.0ms pre-process, 11.0ms inference, 2.0ms postprocess per image at shape (1, 3, 256, 256)\n"
     ]
    },
    {
     "name": "stdout",
     "output_type": "stream",
     "text": [
      "Car Type: Sedan\n"
     ]
    },
    {
     "name": "stderr",
     "output_type": "stream",
     "text": [
      "0: 160x256 1 NumberPlate, 1 Sedan, 10.0ms\n",
      "Speed: 0.0ms pre-process, 10.0ms inference, 2.0ms postprocess per image at shape (1, 3, 256, 256)\n"
     ]
    },
    {
     "name": "stdout",
     "output_type": "stream",
     "text": [
      "Car Type: Sedan\n"
     ]
    },
    {
     "name": "stderr",
     "output_type": "stream",
     "text": [
      "0: 160x256 1 NumberPlate, 1 Sedan, 12.0ms\n",
      "Speed: 0.0ms pre-process, 12.0ms inference, 4.0ms postprocess per image at shape (1, 3, 256, 256)\n"
     ]
    },
    {
     "name": "stdout",
     "output_type": "stream",
     "text": [
      "Car Type: Sedan\n"
     ]
    },
    {
     "name": "stderr",
     "output_type": "stream",
     "text": [
      "0: 160x256 1 NumberPlate, 1 Sedan, 11.0ms\n",
      "Speed: 0.0ms pre-process, 11.0ms inference, 4.0ms postprocess per image at shape (1, 3, 256, 256)\n"
     ]
    },
    {
     "name": "stdout",
     "output_type": "stream",
     "text": [
      "Car Type: Sedan\n"
     ]
    },
    {
     "name": "stderr",
     "output_type": "stream",
     "text": [
      "0: 160x256 1 NumberPlate, 1 Sedan, 9.0ms\n",
      "Speed: 0.0ms pre-process, 9.0ms inference, 4.0ms postprocess per image at shape (1, 3, 256, 256)\n"
     ]
    },
    {
     "name": "stdout",
     "output_type": "stream",
     "text": [
      "Car Type: Sedan\n"
     ]
    },
    {
     "name": "stderr",
     "output_type": "stream",
     "text": [
      "0: 160x256 1 NumberPlate, 1 Sedan, 10.0ms\n",
      "Speed: 0.0ms pre-process, 10.0ms inference, 2.0ms postprocess per image at shape (1, 3, 256, 256)\n"
     ]
    },
    {
     "name": "stdout",
     "output_type": "stream",
     "text": [
      "Car Type: Sedan\n"
     ]
    },
    {
     "name": "stderr",
     "output_type": "stream",
     "text": [
      "0: 160x256 1 NumberPlate, 1 Sedan, 16.9ms\n",
      "Speed: 0.0ms pre-process, 16.9ms inference, 6.0ms postprocess per image at shape (1, 3, 256, 256)\n"
     ]
    },
    {
     "name": "stdout",
     "output_type": "stream",
     "text": [
      "Car Type: Sedan\n"
     ]
    },
    {
     "name": "stderr",
     "output_type": "stream",
     "text": [
      "0: 160x256 1 NumberPlate, 1 Sedan, 11.0ms\n",
      "Speed: 1.0ms pre-process, 11.0ms inference, 2.0ms postprocess per image at shape (1, 3, 256, 256)\n"
     ]
    },
    {
     "name": "stdout",
     "output_type": "stream",
     "text": [
      "Car Type: Sedan\n"
     ]
    },
    {
     "name": "stderr",
     "output_type": "stream",
     "text": [
      "0: 160x256 1 NumberPlate, 1 Sedan, 8.0ms\n",
      "Speed: 1.0ms pre-process, 8.0ms inference, 5.0ms postprocess per image at shape (1, 3, 256, 256)\n"
     ]
    },
    {
     "name": "stdout",
     "output_type": "stream",
     "text": [
      "Car Type: Sedan\n"
     ]
    },
    {
     "name": "stderr",
     "output_type": "stream",
     "text": [
      "0: 160x256 1 NumberPlate, 1 Sedan, 8.0ms\n",
      "Speed: 0.0ms pre-process, 8.0ms inference, 2.0ms postprocess per image at shape (1, 3, 256, 256)\n"
     ]
    },
    {
     "name": "stdout",
     "output_type": "stream",
     "text": [
      "Car Type: Sedan\n"
     ]
    },
    {
     "name": "stderr",
     "output_type": "stream",
     "text": [
      "0: 160x256 1 NumberPlate, 1 Sedan, 11.0ms\n",
      "Speed: 1.0ms pre-process, 11.0ms inference, 2.0ms postprocess per image at shape (1, 3, 256, 256)\n"
     ]
    },
    {
     "name": "stdout",
     "output_type": "stream",
     "text": [
      "Car Type: Sedan\n"
     ]
    },
    {
     "name": "stderr",
     "output_type": "stream",
     "text": [
      "0: 160x256 1 NumberPlate, 1 Sedan, 8.0ms\n",
      "Speed: 1.0ms pre-process, 8.0ms inference, 4.0ms postprocess per image at shape (1, 3, 256, 256)\n"
     ]
    },
    {
     "name": "stdout",
     "output_type": "stream",
     "text": [
      "Car Type: Sedan\n"
     ]
    },
    {
     "name": "stderr",
     "output_type": "stream",
     "text": [
      "0: 160x256 1 NumberPlate, 1 Sedan, 11.0ms\n",
      "Speed: 1.0ms pre-process, 11.0ms inference, 1.0ms postprocess per image at shape (1, 3, 256, 256)\n"
     ]
    },
    {
     "name": "stdout",
     "output_type": "stream",
     "text": [
      "Car Type: Sedan\n"
     ]
    },
    {
     "name": "stderr",
     "output_type": "stream",
     "text": [
      "0: 160x256 1 NumberPlate, 1 Sedan, 10.0ms\n",
      "Speed: 1.0ms pre-process, 10.0ms inference, 2.0ms postprocess per image at shape (1, 3, 256, 256)\n"
     ]
    },
    {
     "name": "stdout",
     "output_type": "stream",
     "text": [
      "Car Type: Sedan\n"
     ]
    },
    {
     "name": "stderr",
     "output_type": "stream",
     "text": [
      "0: 160x256 1 NumberPlate, 1 Sedan, 15.0ms\n",
      "Speed: 1.0ms pre-process, 15.0ms inference, 2.0ms postprocess per image at shape (1, 3, 256, 256)\n"
     ]
    },
    {
     "name": "stdout",
     "output_type": "stream",
     "text": [
      "Car Type: Sedan\n"
     ]
    },
    {
     "name": "stderr",
     "output_type": "stream",
     "text": [
      "0: 160x256 1 NumberPlate, 1 Sedan, 16.0ms\n",
      "Speed: 1.0ms pre-process, 16.0ms inference, 4.0ms postprocess per image at shape (1, 3, 256, 256)\n"
     ]
    },
    {
     "name": "stdout",
     "output_type": "stream",
     "text": [
      "Car Type: Sedan\n"
     ]
    },
    {
     "name": "stderr",
     "output_type": "stream",
     "text": [
      "0: 160x256 1 NumberPlate, 1 Sedan, 11.0ms\n",
      "Speed: 1.0ms pre-process, 11.0ms inference, 2.0ms postprocess per image at shape (1, 3, 256, 256)\n"
     ]
    },
    {
     "name": "stdout",
     "output_type": "stream",
     "text": [
      "Car Type: Sedan\n"
     ]
    },
    {
     "name": "stderr",
     "output_type": "stream",
     "text": [
      "0: 160x256 1 NumberPlate, 1 Sedan, 10.0ms\n",
      "Speed: 1.0ms pre-process, 10.0ms inference, 2.0ms postprocess per image at shape (1, 3, 256, 256)\n"
     ]
    },
    {
     "name": "stdout",
     "output_type": "stream",
     "text": [
      "Car Type: Sedan\n"
     ]
    },
    {
     "name": "stderr",
     "output_type": "stream",
     "text": [
      "0: 160x256 1 NumberPlate, 1 Sedan, 9.0ms\n",
      "Speed: 1.0ms pre-process, 9.0ms inference, 1.0ms postprocess per image at shape (1, 3, 256, 256)\n"
     ]
    },
    {
     "name": "stdout",
     "output_type": "stream",
     "text": [
      "Car Type: Sedan\n"
     ]
    },
    {
     "name": "stderr",
     "output_type": "stream",
     "text": [
      "0: 160x256 1 NumberPlate, 1 Sedan, 11.9ms\n",
      "Speed: 1.0ms pre-process, 11.9ms inference, 5.0ms postprocess per image at shape (1, 3, 256, 256)\n"
     ]
    },
    {
     "name": "stdout",
     "output_type": "stream",
     "text": [
      "Car Type: Sedan\n"
     ]
    },
    {
     "name": "stderr",
     "output_type": "stream",
     "text": [
      "0: 160x256 1 NumberPlate, 1 Sedan, 12.0ms\n",
      "Speed: 1.0ms pre-process, 12.0ms inference, 2.0ms postprocess per image at shape (1, 3, 256, 256)\n"
     ]
    },
    {
     "name": "stdout",
     "output_type": "stream",
     "text": [
      "Car Type: Sedan\n"
     ]
    },
    {
     "name": "stderr",
     "output_type": "stream",
     "text": [
      "0: 160x256 1 NumberPlate, 1 Sedan, 16.0ms\n",
      "Speed: 0.0ms pre-process, 16.0ms inference, 4.0ms postprocess per image at shape (1, 3, 256, 256)\n"
     ]
    },
    {
     "name": "stdout",
     "output_type": "stream",
     "text": [
      "Car Type: Sedan\n"
     ]
    },
    {
     "name": "stderr",
     "output_type": "stream",
     "text": [
      "0: 160x256 1 NumberPlate, 1 Sedan, 11.0ms\n",
      "Speed: 1.0ms pre-process, 11.0ms inference, 2.0ms postprocess per image at shape (1, 3, 256, 256)\n"
     ]
    },
    {
     "name": "stdout",
     "output_type": "stream",
     "text": [
      "Car Type: Sedan\n"
     ]
    },
    {
     "name": "stderr",
     "output_type": "stream",
     "text": [
      "0: 160x256 1 NumberPlate, 1 Sedan, 10.0ms\n",
      "Speed: 0.0ms pre-process, 10.0ms inference, 2.0ms postprocess per image at shape (1, 3, 256, 256)\n"
     ]
    },
    {
     "name": "stdout",
     "output_type": "stream",
     "text": [
      "Car Type: Sedan\n"
     ]
    },
    {
     "name": "stderr",
     "output_type": "stream",
     "text": [
      "0: 160x256 1 NumberPlate, 1 Sedan, 11.0ms\n",
      "Speed: 0.0ms pre-process, 11.0ms inference, 2.0ms postprocess per image at shape (1, 3, 256, 256)\n"
     ]
    },
    {
     "name": "stdout",
     "output_type": "stream",
     "text": [
      "Car Type: Sedan\n"
     ]
    },
    {
     "name": "stderr",
     "output_type": "stream",
     "text": [
      "0: 160x256 1 NumberPlate, 1 Sedan, 8.9ms\n",
      "Speed: 0.0ms pre-process, 8.9ms inference, 2.0ms postprocess per image at shape (1, 3, 256, 256)\n"
     ]
    },
    {
     "name": "stdout",
     "output_type": "stream",
     "text": [
      "Car Type: Sedan\n"
     ]
    },
    {
     "name": "stderr",
     "output_type": "stream",
     "text": [
      "0: 160x256 1 NumberPlate, 1 Sedan, 10.0ms\n",
      "Speed: 0.0ms pre-process, 10.0ms inference, 2.0ms postprocess per image at shape (1, 3, 256, 256)\n"
     ]
    },
    {
     "name": "stdout",
     "output_type": "stream",
     "text": [
      "Car Type: Sedan\n"
     ]
    },
    {
     "name": "stderr",
     "output_type": "stream",
     "text": [
      "0: 160x256 1 NumberPlate, 1 Sedan, 9.0ms\n",
      "Speed: 0.0ms pre-process, 9.0ms inference, 2.0ms postprocess per image at shape (1, 3, 256, 256)\n"
     ]
    },
    {
     "name": "stdout",
     "output_type": "stream",
     "text": [
      "Car Type: Sedan\n"
     ]
    },
    {
     "name": "stderr",
     "output_type": "stream",
     "text": [
      "0: 160x256 1 NumberPlate, 1 Sedan, 16.0ms\n",
      "Speed: 1.0ms pre-process, 16.0ms inference, 4.0ms postprocess per image at shape (1, 3, 256, 256)\n"
     ]
    },
    {
     "name": "stdout",
     "output_type": "stream",
     "text": [
      "Car Type: Sedan\n"
     ]
    },
    {
     "name": "stderr",
     "output_type": "stream",
     "text": [
      "0: 160x256 1 NumberPlate, 1 Sedan, 8.0ms\n",
      "Speed: 1.0ms pre-process, 8.0ms inference, 2.0ms postprocess per image at shape (1, 3, 256, 256)\n"
     ]
    },
    {
     "name": "stdout",
     "output_type": "stream",
     "text": [
      "Car Type: Sedan\n"
     ]
    },
    {
     "name": "stderr",
     "output_type": "stream",
     "text": [
      "0: 160x256 1 NumberPlate, 1 Sedan, 17.0ms\n",
      "Speed: 0.0ms pre-process, 17.0ms inference, 4.0ms postprocess per image at shape (1, 3, 256, 256)\n"
     ]
    },
    {
     "name": "stdout",
     "output_type": "stream",
     "text": [
      "Car Type: Sedan\n"
     ]
    },
    {
     "name": "stderr",
     "output_type": "stream",
     "text": [
      "0: 160x256 1 NumberPlate, 1 Sedan, 9.9ms\n",
      "Speed: 0.0ms pre-process, 9.9ms inference, 2.0ms postprocess per image at shape (1, 3, 256, 256)\n"
     ]
    },
    {
     "name": "stdout",
     "output_type": "stream",
     "text": [
      "Car Type: Sedan\n"
     ]
    },
    {
     "name": "stderr",
     "output_type": "stream",
     "text": [
      "0: 160x256 1 NumberPlate, 1 Sedan, 9.9ms\n",
      "Speed: 0.0ms pre-process, 9.9ms inference, 2.0ms postprocess per image at shape (1, 3, 256, 256)\n"
     ]
    },
    {
     "name": "stdout",
     "output_type": "stream",
     "text": [
      "Car Type: Sedan\n"
     ]
    },
    {
     "name": "stderr",
     "output_type": "stream",
     "text": [
      "0: 160x256 1 NumberPlate, 1 Sedan, 10.0ms\n",
      "Speed: 0.0ms pre-process, 10.0ms inference, 2.0ms postprocess per image at shape (1, 3, 256, 256)\n"
     ]
    },
    {
     "name": "stdout",
     "output_type": "stream",
     "text": [
      "Car Type: Sedan\n"
     ]
    },
    {
     "name": "stderr",
     "output_type": "stream",
     "text": [
      "0: 160x256 1 NumberPlate, 1 Sedan, 10.0ms\n",
      "Speed: 1.0ms pre-process, 10.0ms inference, 2.0ms postprocess per image at shape (1, 3, 256, 256)\n"
     ]
    },
    {
     "name": "stdout",
     "output_type": "stream",
     "text": [
      "Car Type: Sedan\n"
     ]
    },
    {
     "name": "stderr",
     "output_type": "stream",
     "text": [
      "0: 160x256 1 NumberPlate, 1 Sedan, 9.0ms\n",
      "Speed: 1.0ms pre-process, 9.0ms inference, 2.0ms postprocess per image at shape (1, 3, 256, 256)\n"
     ]
    },
    {
     "name": "stdout",
     "output_type": "stream",
     "text": [
      "Car Type: Sedan\n"
     ]
    },
    {
     "name": "stderr",
     "output_type": "stream",
     "text": [
      "0: 160x256 1 NumberPlate, 1 Sedan, 17.0ms\n",
      "Speed: 1.0ms pre-process, 17.0ms inference, 4.0ms postprocess per image at shape (1, 3, 256, 256)\n"
     ]
    },
    {
     "name": "stdout",
     "output_type": "stream",
     "text": [
      "Car Type: Sedan\n"
     ]
    },
    {
     "name": "stderr",
     "output_type": "stream",
     "text": [
      "0: 160x256 1 NumberPlate, 1 Sedan, 9.0ms\n",
      "Speed: 0.0ms pre-process, 9.0ms inference, 3.0ms postprocess per image at shape (1, 3, 256, 256)\n"
     ]
    },
    {
     "name": "stdout",
     "output_type": "stream",
     "text": [
      "Car Type: Sedan\n"
     ]
    },
    {
     "name": "stderr",
     "output_type": "stream",
     "text": [
      "0: 160x256 1 NumberPlate, 1 Sedan, 11.0ms\n",
      "Speed: 1.0ms pre-process, 11.0ms inference, 1.0ms postprocess per image at shape (1, 3, 256, 256)\n"
     ]
    },
    {
     "name": "stdout",
     "output_type": "stream",
     "text": [
      "Car Type: Sedan\n"
     ]
    },
    {
     "name": "stderr",
     "output_type": "stream",
     "text": [
      "0: 160x256 1 NumberPlate, 1 Sedan, 9.9ms\n",
      "Speed: 1.0ms pre-process, 9.9ms inference, 1.0ms postprocess per image at shape (1, 3, 256, 256)\n"
     ]
    },
    {
     "name": "stdout",
     "output_type": "stream",
     "text": [
      "Car Type: Sedan\n"
     ]
    },
    {
     "name": "stderr",
     "output_type": "stream",
     "text": [
      "0: 160x256 1 NumberPlate, 1 Sedan, 10.0ms\n",
      "Speed: 1.0ms pre-process, 10.0ms inference, 2.0ms postprocess per image at shape (1, 3, 256, 256)\n"
     ]
    },
    {
     "name": "stdout",
     "output_type": "stream",
     "text": [
      "Car Type: Sedan\n"
     ]
    },
    {
     "name": "stderr",
     "output_type": "stream",
     "text": [
      "0: 160x256 1 NumberPlate, 1 Sedan, 11.0ms\n",
      "Speed: 0.0ms pre-process, 11.0ms inference, 2.0ms postprocess per image at shape (1, 3, 256, 256)\n"
     ]
    },
    {
     "name": "stdout",
     "output_type": "stream",
     "text": [
      "Car Type: Sedan\n"
     ]
    },
    {
     "name": "stderr",
     "output_type": "stream",
     "text": [
      "0: 160x256 1 NumberPlate, 1 Sedan, 10.0ms\n",
      "Speed: 1.0ms pre-process, 10.0ms inference, 2.0ms postprocess per image at shape (1, 3, 256, 256)\n"
     ]
    },
    {
     "name": "stdout",
     "output_type": "stream",
     "text": [
      "Car Type: Sedan\n"
     ]
    },
    {
     "name": "stderr",
     "output_type": "stream",
     "text": [
      "0: 160x256 1 NumberPlate, 1 Sedan, 10.0ms\n",
      "Speed: 0.0ms pre-process, 10.0ms inference, 2.0ms postprocess per image at shape (1, 3, 256, 256)\n"
     ]
    },
    {
     "name": "stdout",
     "output_type": "stream",
     "text": [
      "Car Type: Sedan\n"
     ]
    },
    {
     "name": "stderr",
     "output_type": "stream",
     "text": [
      "0: 160x256 1 NumberPlate, 1 Sedan, 10.0ms\n",
      "Speed: 1.0ms pre-process, 10.0ms inference, 2.0ms postprocess per image at shape (1, 3, 256, 256)\n"
     ]
    },
    {
     "name": "stdout",
     "output_type": "stream",
     "text": [
      "Car Type: Sedan\n"
     ]
    },
    {
     "name": "stderr",
     "output_type": "stream",
     "text": [
      "0: 160x256 1 NumberPlate, 1 Sedan, 10.0ms\n",
      "Speed: 0.0ms pre-process, 10.0ms inference, 3.0ms postprocess per image at shape (1, 3, 256, 256)\n"
     ]
    },
    {
     "name": "stdout",
     "output_type": "stream",
     "text": [
      "Car Type: Sedan\n"
     ]
    },
    {
     "name": "stderr",
     "output_type": "stream",
     "text": [
      "0: 160x256 1 NumberPlate, 1 Sedan, 10.9ms\n",
      "Speed: 0.0ms pre-process, 10.9ms inference, 2.0ms postprocess per image at shape (1, 3, 256, 256)\n"
     ]
    },
    {
     "name": "stdout",
     "output_type": "stream",
     "text": [
      "Car Type: Sedan\n"
     ]
    },
    {
     "name": "stderr",
     "output_type": "stream",
     "text": [
      "0: 160x256 1 NumberPlate, 1 Sedan, 10.0ms\n",
      "Speed: 0.0ms pre-process, 10.0ms inference, 2.0ms postprocess per image at shape (1, 3, 256, 256)\n"
     ]
    },
    {
     "name": "stdout",
     "output_type": "stream",
     "text": [
      "Car Type: Sedan\n"
     ]
    },
    {
     "name": "stderr",
     "output_type": "stream",
     "text": [
      "0: 160x256 1 NumberPlate, 1 Sedan, 10.0ms\n",
      "Speed: 0.0ms pre-process, 10.0ms inference, 2.0ms postprocess per image at shape (1, 3, 256, 256)\n"
     ]
    },
    {
     "name": "stdout",
     "output_type": "stream",
     "text": [
      "Car Type: Sedan\n"
     ]
    },
    {
     "name": "stderr",
     "output_type": "stream",
     "text": [
      "0: 160x256 1 NumberPlate, 1 Sedan, 11.9ms\n",
      "Speed: 0.0ms pre-process, 11.9ms inference, 2.0ms postprocess per image at shape (1, 3, 256, 256)\n"
     ]
    },
    {
     "name": "stdout",
     "output_type": "stream",
     "text": [
      "Car Type: Sedan\n"
     ]
    },
    {
     "name": "stderr",
     "output_type": "stream",
     "text": [
      "0: 160x256 1 NumberPlate, 1 Sedan, 17.0ms\n",
      "Speed: 1.0ms pre-process, 17.0ms inference, 3.0ms postprocess per image at shape (1, 3, 256, 256)\n"
     ]
    },
    {
     "name": "stdout",
     "output_type": "stream",
     "text": [
      "Car Type: Sedan\n"
     ]
    },
    {
     "name": "stderr",
     "output_type": "stream",
     "text": [
      "0: 160x256 1 NumberPlate, 1 Sedan, 9.9ms\n",
      "Speed: 1.0ms pre-process, 9.9ms inference, 3.0ms postprocess per image at shape (1, 3, 256, 256)\n"
     ]
    },
    {
     "name": "stdout",
     "output_type": "stream",
     "text": [
      "Car Type: Sedan\n"
     ]
    },
    {
     "name": "stderr",
     "output_type": "stream",
     "text": [
      "0: 160x256 1 NumberPlate, 1 Sedan, 9.0ms\n",
      "Speed: 0.0ms pre-process, 9.0ms inference, 2.0ms postprocess per image at shape (1, 3, 256, 256)\n"
     ]
    },
    {
     "name": "stdout",
     "output_type": "stream",
     "text": [
      "Car Type: Sedan\n"
     ]
    },
    {
     "name": "stderr",
     "output_type": "stream",
     "text": [
      "0: 160x256 1 NumberPlate, 1 Sedan, 10.0ms\n",
      "Speed: 0.0ms pre-process, 10.0ms inference, 2.0ms postprocess per image at shape (1, 3, 256, 256)\n"
     ]
    },
    {
     "name": "stdout",
     "output_type": "stream",
     "text": [
      "Car Type: Sedan\n"
     ]
    },
    {
     "name": "stderr",
     "output_type": "stream",
     "text": [
      "0: 160x256 1 NumberPlate, 1 Sedan, 17.0ms\n",
      "Speed: 0.0ms pre-process, 17.0ms inference, 6.0ms postprocess per image at shape (1, 3, 256, 256)\n"
     ]
    },
    {
     "name": "stdout",
     "output_type": "stream",
     "text": [
      "Car Type: Sedan\n"
     ]
    },
    {
     "name": "stderr",
     "output_type": "stream",
     "text": [
      "0: 160x256 1 NumberPlate, 1 Sedan, 10.0ms\n",
      "Speed: 0.0ms pre-process, 10.0ms inference, 3.0ms postprocess per image at shape (1, 3, 256, 256)\n"
     ]
    },
    {
     "name": "stdout",
     "output_type": "stream",
     "text": [
      "Car Type: Sedan\n"
     ]
    },
    {
     "name": "stderr",
     "output_type": "stream",
     "text": [
      "0: 160x256 1 NumberPlate, 1 Sedan, 17.0ms\n",
      "Speed: 0.0ms pre-process, 17.0ms inference, 4.0ms postprocess per image at shape (1, 3, 256, 256)\n"
     ]
    },
    {
     "name": "stdout",
     "output_type": "stream",
     "text": [
      "Car Type: Sedan\n"
     ]
    },
    {
     "name": "stderr",
     "output_type": "stream",
     "text": [
      "0: 160x256 1 NumberPlate, 1 Sedan, 9.0ms\n",
      "Speed: 0.0ms pre-process, 9.0ms inference, 2.0ms postprocess per image at shape (1, 3, 256, 256)\n"
     ]
    },
    {
     "name": "stdout",
     "output_type": "stream",
     "text": [
      "Car Type: Sedan\n"
     ]
    },
    {
     "name": "stderr",
     "output_type": "stream",
     "text": [
      "0: 160x256 1 NumberPlate, 1 Sedan, 11.0ms\n",
      "Speed: 0.0ms pre-process, 11.0ms inference, 2.0ms postprocess per image at shape (1, 3, 256, 256)\n"
     ]
    },
    {
     "name": "stdout",
     "output_type": "stream",
     "text": [
      "Car Type: Sedan\n"
     ]
    },
    {
     "name": "stderr",
     "output_type": "stream",
     "text": [
      "0: 160x256 1 NumberPlate, 1 Sedan, 9.0ms\n",
      "Speed: 0.0ms pre-process, 9.0ms inference, 3.0ms postprocess per image at shape (1, 3, 256, 256)\n"
     ]
    },
    {
     "name": "stdout",
     "output_type": "stream",
     "text": [
      "Car Type: Sedan\n"
     ]
    },
    {
     "name": "stderr",
     "output_type": "stream",
     "text": [
      "0: 160x256 1 NumberPlate, 1 Sedan, 10.0ms\n",
      "Speed: 1.0ms pre-process, 10.0ms inference, 2.0ms postprocess per image at shape (1, 3, 256, 256)\n"
     ]
    },
    {
     "name": "stdout",
     "output_type": "stream",
     "text": [
      "Car Type: Sedan\n"
     ]
    },
    {
     "name": "stderr",
     "output_type": "stream",
     "text": [
      "0: 160x256 1 NumberPlate, 1 Sedan, 12.0ms\n",
      "Speed: 0.0ms pre-process, 12.0ms inference, 2.0ms postprocess per image at shape (1, 3, 256, 256)\n"
     ]
    },
    {
     "name": "stdout",
     "output_type": "stream",
     "text": [
      "Car Type: Sedan\n"
     ]
    },
    {
     "name": "stderr",
     "output_type": "stream",
     "text": [
      "0: 160x256 1 NumberPlate, 1 Sedan, 16.0ms\n",
      "Speed: 1.0ms pre-process, 16.0ms inference, 4.0ms postprocess per image at shape (1, 3, 256, 256)\n"
     ]
    },
    {
     "name": "stdout",
     "output_type": "stream",
     "text": [
      "Car Type: Sedan\n"
     ]
    },
    {
     "name": "stderr",
     "output_type": "stream",
     "text": [
      "0: 160x256 1 NumberPlate, 1 Sedan, 9.0ms\n",
      "Speed: 0.0ms pre-process, 9.0ms inference, 2.0ms postprocess per image at shape (1, 3, 256, 256)\n"
     ]
    },
    {
     "name": "stdout",
     "output_type": "stream",
     "text": [
      "Car Type: Sedan\n"
     ]
    },
    {
     "name": "stderr",
     "output_type": "stream",
     "text": [
      "0: 160x256 1 NumberPlate, 1 Sedan, 10.0ms\n",
      "Speed: 1.0ms pre-process, 10.0ms inference, 2.0ms postprocess per image at shape (1, 3, 256, 256)\n"
     ]
    },
    {
     "name": "stdout",
     "output_type": "stream",
     "text": [
      "Car Type: Sedan\n"
     ]
    },
    {
     "name": "stderr",
     "output_type": "stream",
     "text": [
      "0: 160x256 1 NumberPlate, 1 Sedan, 8.9ms\n",
      "Speed: 1.0ms pre-process, 8.9ms inference, 2.0ms postprocess per image at shape (1, 3, 256, 256)\n"
     ]
    },
    {
     "name": "stdout",
     "output_type": "stream",
     "text": [
      "Car Type: Sedan\n"
     ]
    },
    {
     "name": "stderr",
     "output_type": "stream",
     "text": [
      "0: 160x256 1 NumberPlate, 1 Sedan, 7.9ms\n",
      "Speed: 0.0ms pre-process, 7.9ms inference, 1.0ms postprocess per image at shape (1, 3, 256, 256)\n"
     ]
    },
    {
     "name": "stdout",
     "output_type": "stream",
     "text": [
      "Car Type: Sedan\n"
     ]
    },
    {
     "name": "stderr",
     "output_type": "stream",
     "text": [
      "0: 160x256 1 NumberPlate, 1 Sedan, 8.9ms\n",
      "Speed: 0.0ms pre-process, 8.9ms inference, 3.0ms postprocess per image at shape (1, 3, 256, 256)\n"
     ]
    },
    {
     "name": "stdout",
     "output_type": "stream",
     "text": [
      "Car Type: Sedan\n"
     ]
    },
    {
     "name": "stderr",
     "output_type": "stream",
     "text": [
      "0: 160x256 1 NumberPlate, 1 Sedan, 8.0ms\n",
      "Speed: 1.0ms pre-process, 8.0ms inference, 2.0ms postprocess per image at shape (1, 3, 256, 256)\n"
     ]
    },
    {
     "name": "stdout",
     "output_type": "stream",
     "text": [
      "Car Type: Sedan\n"
     ]
    },
    {
     "name": "stderr",
     "output_type": "stream",
     "text": [
      "0: 160x256 1 NumberPlate, 1 Sedan, 8.0ms\n",
      "Speed: 1.0ms pre-process, 8.0ms inference, 2.0ms postprocess per image at shape (1, 3, 256, 256)\n"
     ]
    },
    {
     "name": "stdout",
     "output_type": "stream",
     "text": [
      "Car Type: Sedan\n"
     ]
    },
    {
     "name": "stderr",
     "output_type": "stream",
     "text": [
      "0: 160x256 1 NumberPlate, 1 Sedan, 14.0ms\n",
      "Speed: 1.0ms pre-process, 14.0ms inference, 2.0ms postprocess per image at shape (1, 3, 256, 256)\n"
     ]
    },
    {
     "name": "stdout",
     "output_type": "stream",
     "text": [
      "Car Type: Sedan\n"
     ]
    },
    {
     "name": "stderr",
     "output_type": "stream",
     "text": [
      "0: 160x256 1 NumberPlate, 1 Sedan, 9.0ms\n",
      "Speed: 1.0ms pre-process, 9.0ms inference, 2.0ms postprocess per image at shape (1, 3, 256, 256)\n"
     ]
    },
    {
     "name": "stdout",
     "output_type": "stream",
     "text": [
      "Car Type: Sedan\n"
     ]
    },
    {
     "name": "stderr",
     "output_type": "stream",
     "text": [
      "0: 160x256 1 NumberPlate, 1 Sedan, 9.0ms\n",
      "Speed: 1.0ms pre-process, 9.0ms inference, 2.0ms postprocess per image at shape (1, 3, 256, 256)\n"
     ]
    },
    {
     "name": "stdout",
     "output_type": "stream",
     "text": [
      "Car Type: Sedan\n"
     ]
    },
    {
     "name": "stderr",
     "output_type": "stream",
     "text": [
      "0: 160x256 1 NumberPlate, 1 Sedan, 7.9ms\n",
      "Speed: 0.0ms pre-process, 7.9ms inference, 2.0ms postprocess per image at shape (1, 3, 256, 256)\n"
     ]
    },
    {
     "name": "stdout",
     "output_type": "stream",
     "text": [
      "Car Type: Sedan\n"
     ]
    },
    {
     "name": "stderr",
     "output_type": "stream",
     "text": [
      "0: 160x256 1 NumberPlate, 1 Sedan, 9.0ms\n",
      "Speed: 1.0ms pre-process, 9.0ms inference, 4.0ms postprocess per image at shape (1, 3, 256, 256)\n"
     ]
    },
    {
     "name": "stdout",
     "output_type": "stream",
     "text": [
      "Car Type: Sedan\n"
     ]
    },
    {
     "name": "stderr",
     "output_type": "stream",
     "text": [
      "0: 160x256 1 NumberPlate, 1 Sedan, 17.0ms\n",
      "Speed: 0.0ms pre-process, 17.0ms inference, 4.0ms postprocess per image at shape (1, 3, 256, 256)\n"
     ]
    },
    {
     "name": "stdout",
     "output_type": "stream",
     "text": [
      "Car Type: Sedan\n"
     ]
    },
    {
     "name": "stderr",
     "output_type": "stream",
     "text": [
      "0: 160x256 1 NumberPlate, 1 Sedan, 9.0ms\n",
      "Speed: 1.0ms pre-process, 9.0ms inference, 2.0ms postprocess per image at shape (1, 3, 256, 256)\n"
     ]
    },
    {
     "name": "stdout",
     "output_type": "stream",
     "text": [
      "Car Type: Sedan\n"
     ]
    },
    {
     "name": "stderr",
     "output_type": "stream",
     "text": [
      "0: 160x256 1 NumberPlate, 1 Sedan, 9.0ms\n",
      "Speed: 0.0ms pre-process, 9.0ms inference, 2.0ms postprocess per image at shape (1, 3, 256, 256)\n"
     ]
    },
    {
     "name": "stdout",
     "output_type": "stream",
     "text": [
      "Car Type: Sedan\n"
     ]
    },
    {
     "name": "stderr",
     "output_type": "stream",
     "text": [
      "0: 160x256 1 NumberPlate, 1 Sedan, 16.0ms\n",
      "Speed: 0.0ms pre-process, 16.0ms inference, 4.0ms postprocess per image at shape (1, 3, 256, 256)\n"
     ]
    },
    {
     "name": "stdout",
     "output_type": "stream",
     "text": [
      "Car Type: Sedan\n"
     ]
    },
    {
     "name": "stderr",
     "output_type": "stream",
     "text": [
      "0: 160x256 1 NumberPlate, 1 Sedan, 10.0ms\n",
      "Speed: 0.0ms pre-process, 10.0ms inference, 2.0ms postprocess per image at shape (1, 3, 256, 256)\n"
     ]
    },
    {
     "name": "stdout",
     "output_type": "stream",
     "text": [
      "Car Type: Sedan\n"
     ]
    },
    {
     "name": "stderr",
     "output_type": "stream",
     "text": [
      "0: 160x256 1 NumberPlate, 1 Sedan, 9.0ms\n",
      "Speed: 1.0ms pre-process, 9.0ms inference, 2.0ms postprocess per image at shape (1, 3, 256, 256)\n"
     ]
    },
    {
     "name": "stdout",
     "output_type": "stream",
     "text": [
      "Car Type: Sedan\n"
     ]
    },
    {
     "name": "stderr",
     "output_type": "stream",
     "text": [
      "0: 160x256 1 NumberPlate, 1 Sedan, 9.0ms\n",
      "Speed: 0.0ms pre-process, 9.0ms inference, 2.0ms postprocess per image at shape (1, 3, 256, 256)\n"
     ]
    },
    {
     "name": "stdout",
     "output_type": "stream",
     "text": [
      "Car Type: Sedan\n"
     ]
    },
    {
     "name": "stderr",
     "output_type": "stream",
     "text": [
      "0: 160x256 1 NumberPlate, 1 Sedan, 9.0ms\n",
      "Speed: 1.0ms pre-process, 9.0ms inference, 2.0ms postprocess per image at shape (1, 3, 256, 256)\n"
     ]
    },
    {
     "name": "stdout",
     "output_type": "stream",
     "text": [
      "Car Type: Sedan\n"
     ]
    },
    {
     "name": "stderr",
     "output_type": "stream",
     "text": [
      "0: 160x256 1 NumberPlate, 1 Sedan, 13.0ms\n",
      "Speed: 0.0ms pre-process, 13.0ms inference, 4.0ms postprocess per image at shape (1, 3, 256, 256)\n"
     ]
    },
    {
     "name": "stdout",
     "output_type": "stream",
     "text": [
      "Car Type: Sedan\n"
     ]
    },
    {
     "name": "stderr",
     "output_type": "stream",
     "text": [
      "0: 160x256 1 NumberPlate, 1 Sedan, 11.0ms\n",
      "Speed: 0.0ms pre-process, 11.0ms inference, 4.0ms postprocess per image at shape (1, 3, 256, 256)\n"
     ]
    },
    {
     "name": "stdout",
     "output_type": "stream",
     "text": [
      "Car Type: Sedan\n"
     ]
    },
    {
     "name": "stderr",
     "output_type": "stream",
     "text": [
      "0: 160x256 1 NumberPlate, 1 Sedan, 9.0ms\n",
      "Speed: 1.0ms pre-process, 9.0ms inference, 2.0ms postprocess per image at shape (1, 3, 256, 256)\n"
     ]
    },
    {
     "name": "stdout",
     "output_type": "stream",
     "text": [
      "Car Type: Sedan\n"
     ]
    },
    {
     "name": "stderr",
     "output_type": "stream",
     "text": [
      "0: 160x256 1 NumberPlate, 1 Sedan, 16.0ms\n",
      "Speed: 1.0ms pre-process, 16.0ms inference, 6.0ms postprocess per image at shape (1, 3, 256, 256)\n"
     ]
    },
    {
     "name": "stdout",
     "output_type": "stream",
     "text": [
      "Car Type: Sedan\n"
     ]
    },
    {
     "name": "stderr",
     "output_type": "stream",
     "text": [
      "0: 160x256 1 NumberPlate, 1 Sedan, 15.0ms\n",
      "Speed: 1.0ms pre-process, 15.0ms inference, 5.0ms postprocess per image at shape (1, 3, 256, 256)\n"
     ]
    },
    {
     "name": "stdout",
     "output_type": "stream",
     "text": [
      "Car Type: Sedan\n"
     ]
    },
    {
     "name": "stderr",
     "output_type": "stream",
     "text": [
      "0: 160x256 1 NumberPlate, 1 Sedan, 8.0ms\n",
      "Speed: 1.0ms pre-process, 8.0ms inference, 2.0ms postprocess per image at shape (1, 3, 256, 256)\n"
     ]
    },
    {
     "name": "stdout",
     "output_type": "stream",
     "text": [
      "Car Type: Sedan\n"
     ]
    },
    {
     "name": "stderr",
     "output_type": "stream",
     "text": [
      "0: 160x256 1 NumberPlate, 1 Sedan, 9.0ms\n",
      "Speed: 1.0ms pre-process, 9.0ms inference, 3.0ms postprocess per image at shape (1, 3, 256, 256)\n"
     ]
    },
    {
     "name": "stdout",
     "output_type": "stream",
     "text": [
      "Car Type: Sedan\n"
     ]
    },
    {
     "name": "stderr",
     "output_type": "stream",
     "text": [
      "0: 160x256 1 NumberPlate, 1 Sedan, 10.0ms\n",
      "Speed: 0.0ms pre-process, 10.0ms inference, 2.0ms postprocess per image at shape (1, 3, 256, 256)\n"
     ]
    },
    {
     "name": "stdout",
     "output_type": "stream",
     "text": [
      "Car Type: Sedan\n"
     ]
    },
    {
     "name": "stderr",
     "output_type": "stream",
     "text": [
      "0: 160x256 1 NumberPlate, 1 Sedan, 11.0ms\n",
      "Speed: 0.0ms pre-process, 11.0ms inference, 2.0ms postprocess per image at shape (1, 3, 256, 256)\n"
     ]
    },
    {
     "name": "stdout",
     "output_type": "stream",
     "text": [
      "Car Type: Sedan\n"
     ]
    },
    {
     "name": "stderr",
     "output_type": "stream",
     "text": [
      "0: 160x256 1 NumberPlate, 1 Sedan, 9.0ms\n",
      "Speed: 0.0ms pre-process, 9.0ms inference, 2.0ms postprocess per image at shape (1, 3, 256, 256)\n"
     ]
    },
    {
     "name": "stdout",
     "output_type": "stream",
     "text": [
      "Car Type: Sedan\n"
     ]
    },
    {
     "name": "stderr",
     "output_type": "stream",
     "text": [
      "0: 160x256 1 NumberPlate, 1 Sedan, 9.0ms\n",
      "Speed: 1.0ms pre-process, 9.0ms inference, 2.0ms postprocess per image at shape (1, 3, 256, 256)\n"
     ]
    },
    {
     "name": "stdout",
     "output_type": "stream",
     "text": [
      "Car Type: Sedan\n"
     ]
    },
    {
     "name": "stderr",
     "output_type": "stream",
     "text": [
      "0: 160x256 1 NumberPlate, 1 Sedan, 15.0ms\n",
      "Speed: 1.0ms pre-process, 15.0ms inference, 4.0ms postprocess per image at shape (1, 3, 256, 256)\n"
     ]
    },
    {
     "name": "stdout",
     "output_type": "stream",
     "text": [
      "Car Type: Sedan\n"
     ]
    },
    {
     "name": "stderr",
     "output_type": "stream",
     "text": [
      "0: 160x256 1 NumberPlate, 1 Sedan, 10.0ms\n",
      "Speed: 1.0ms pre-process, 10.0ms inference, 2.0ms postprocess per image at shape (1, 3, 256, 256)\n"
     ]
    },
    {
     "name": "stdout",
     "output_type": "stream",
     "text": [
      "Car Type: Sedan\n"
     ]
    },
    {
     "name": "stderr",
     "output_type": "stream",
     "text": [
      "0: 160x256 1 NumberPlate, 1 Sedan, 11.0ms\n",
      "Speed: 0.0ms pre-process, 11.0ms inference, 3.0ms postprocess per image at shape (1, 3, 256, 256)\n"
     ]
    },
    {
     "name": "stdout",
     "output_type": "stream",
     "text": [
      "Car Type: Sedan\n"
     ]
    },
    {
     "name": "stderr",
     "output_type": "stream",
     "text": [
      "0: 160x256 1 NumberPlate, 1 Sedan, 8.9ms\n",
      "Speed: 0.0ms pre-process, 8.9ms inference, 2.0ms postprocess per image at shape (1, 3, 256, 256)\n"
     ]
    },
    {
     "name": "stdout",
     "output_type": "stream",
     "text": [
      "Car Type: Sedan\n"
     ]
    },
    {
     "name": "stderr",
     "output_type": "stream",
     "text": [
      "0: 160x256 1 NumberPlate, 1 Sedan, 10.0ms\n",
      "Speed: 0.0ms pre-process, 10.0ms inference, 2.0ms postprocess per image at shape (1, 3, 256, 256)\n"
     ]
    },
    {
     "name": "stdout",
     "output_type": "stream",
     "text": [
      "Car Type: Sedan\n"
     ]
    },
    {
     "name": "stderr",
     "output_type": "stream",
     "text": [
      "0: 160x256 1 NumberPlate, 1 Sedan, 8.0ms\n",
      "Speed: 1.0ms pre-process, 8.0ms inference, 2.0ms postprocess per image at shape (1, 3, 256, 256)\n"
     ]
    },
    {
     "name": "stdout",
     "output_type": "stream",
     "text": [
      "Car Type: Sedan\n"
     ]
    },
    {
     "name": "stderr",
     "output_type": "stream",
     "text": [
      "0: 160x256 1 NumberPlate, 1 Sedan, 10.0ms\n",
      "Speed: 3.0ms pre-process, 10.0ms inference, 3.0ms postprocess per image at shape (1, 3, 256, 256)\n"
     ]
    },
    {
     "name": "stdout",
     "output_type": "stream",
     "text": [
      "Car Type: Sedan\n"
     ]
    },
    {
     "name": "stderr",
     "output_type": "stream",
     "text": [
      "0: 160x256 1 NumberPlate, 1 Sedan, 11.0ms\n",
      "Speed: 1.0ms pre-process, 11.0ms inference, 2.0ms postprocess per image at shape (1, 3, 256, 256)\n"
     ]
    },
    {
     "name": "stdout",
     "output_type": "stream",
     "text": [
      "Car Type: Sedan\n"
     ]
    },
    {
     "name": "stderr",
     "output_type": "stream",
     "text": [
      "0: 160x256 1 NumberPlate, 1 Sedan, 17.0ms\n",
      "Speed: 0.0ms pre-process, 17.0ms inference, 4.0ms postprocess per image at shape (1, 3, 256, 256)\n"
     ]
    },
    {
     "name": "stdout",
     "output_type": "stream",
     "text": [
      "Car Type: Sedan\n"
     ]
    },
    {
     "name": "stderr",
     "output_type": "stream",
     "text": [
      "0: 160x256 1 NumberPlate, 1 Sedan, 12.0ms\n",
      "Speed: 0.0ms pre-process, 12.0ms inference, 1.0ms postprocess per image at shape (1, 3, 256, 256)\n"
     ]
    },
    {
     "name": "stdout",
     "output_type": "stream",
     "text": [
      "Car Type: Sedan\n"
     ]
    },
    {
     "name": "stderr",
     "output_type": "stream",
     "text": [
      "0: 160x256 1 NumberPlate, 1 Sedan, 9.0ms\n",
      "Speed: 0.0ms pre-process, 9.0ms inference, 2.0ms postprocess per image at shape (1, 3, 256, 256)\n"
     ]
    },
    {
     "name": "stdout",
     "output_type": "stream",
     "text": [
      "Car Type: Sedan\n"
     ]
    },
    {
     "name": "stderr",
     "output_type": "stream",
     "text": [
      "0: 160x256 1 NumberPlate, 1 Sedan, 14.0ms\n",
      "Speed: 1.0ms pre-process, 14.0ms inference, 2.0ms postprocess per image at shape (1, 3, 256, 256)\n"
     ]
    },
    {
     "name": "stdout",
     "output_type": "stream",
     "text": [
      "Car Type: Sedan\n"
     ]
    },
    {
     "name": "stderr",
     "output_type": "stream",
     "text": [
      "0: 160x256 1 NumberPlate, 1 Sedan, 9.0ms\n",
      "Speed: 1.0ms pre-process, 9.0ms inference, 1.0ms postprocess per image at shape (1, 3, 256, 256)\n"
     ]
    },
    {
     "name": "stdout",
     "output_type": "stream",
     "text": [
      "Car Type: Sedan\n"
     ]
    },
    {
     "name": "stderr",
     "output_type": "stream",
     "text": [
      "0: 160x256 1 NumberPlate, 1 Sedan, 9.0ms\n",
      "Speed: 0.0ms pre-process, 9.0ms inference, 3.0ms postprocess per image at shape (1, 3, 256, 256)\n"
     ]
    },
    {
     "name": "stdout",
     "output_type": "stream",
     "text": [
      "Car Type: Sedan\n"
     ]
    },
    {
     "name": "stderr",
     "output_type": "stream",
     "text": [
      "0: 160x256 1 NumberPlate, 1 Sedan, 10.0ms\n",
      "Speed: 2.0ms pre-process, 10.0ms inference, 1.0ms postprocess per image at shape (1, 3, 256, 256)\n"
     ]
    },
    {
     "name": "stdout",
     "output_type": "stream",
     "text": [
      "Car Type: Sedan\n"
     ]
    },
    {
     "name": "stderr",
     "output_type": "stream",
     "text": [
      "0: 160x256 1 NumberPlate, 1 Sedan, 8.9ms\n",
      "Speed: 1.0ms pre-process, 8.9ms inference, 3.0ms postprocess per image at shape (1, 3, 256, 256)\n"
     ]
    },
    {
     "name": "stdout",
     "output_type": "stream",
     "text": [
      "Car Type: Sedan\n"
     ]
    },
    {
     "name": "stderr",
     "output_type": "stream",
     "text": [
      "0: 160x256 1 NumberPlate, 1 Sedan, 17.0ms\n",
      "Speed: 1.0ms pre-process, 17.0ms inference, 4.0ms postprocess per image at shape (1, 3, 256, 256)\n"
     ]
    },
    {
     "name": "stdout",
     "output_type": "stream",
     "text": [
      "Car Type: Sedan\n"
     ]
    },
    {
     "name": "stderr",
     "output_type": "stream",
     "text": [
      "0: 160x256 1 NumberPlate, 1 Sedan, 9.0ms\n",
      "Speed: 0.0ms pre-process, 9.0ms inference, 3.0ms postprocess per image at shape (1, 3, 256, 256)\n"
     ]
    },
    {
     "name": "stdout",
     "output_type": "stream",
     "text": [
      "Car Type: Sedan\n"
     ]
    },
    {
     "name": "stderr",
     "output_type": "stream",
     "text": [
      "0: 160x256 1 NumberPlate, 1 Sedan, 8.9ms\n",
      "Speed: 0.0ms pre-process, 8.9ms inference, 4.0ms postprocess per image at shape (1, 3, 256, 256)\n"
     ]
    },
    {
     "name": "stdout",
     "output_type": "stream",
     "text": [
      "Car Type: Sedan\n"
     ]
    },
    {
     "name": "stderr",
     "output_type": "stream",
     "text": [
      "0: 160x256 1 NumberPlate, 1 Sedan, 10.0ms\n",
      "Speed: 0.0ms pre-process, 10.0ms inference, 4.0ms postprocess per image at shape (1, 3, 256, 256)\n"
     ]
    },
    {
     "name": "stdout",
     "output_type": "stream",
     "text": [
      "Car Type: Sedan\n"
     ]
    },
    {
     "name": "stderr",
     "output_type": "stream",
     "text": [
      "0: 160x256 1 NumberPlate, 1 Sedan, 11.0ms\n",
      "Speed: 1.0ms pre-process, 11.0ms inference, 1.0ms postprocess per image at shape (1, 3, 256, 256)\n"
     ]
    },
    {
     "name": "stdout",
     "output_type": "stream",
     "text": [
      "Car Type: Sedan\n"
     ]
    },
    {
     "name": "stderr",
     "output_type": "stream",
     "text": [
      "0: 160x256 1 NumberPlate, 1 Sedan, 11.0ms\n",
      "Speed: 0.0ms pre-process, 11.0ms inference, 2.0ms postprocess per image at shape (1, 3, 256, 256)\n"
     ]
    },
    {
     "name": "stdout",
     "output_type": "stream",
     "text": [
      "Car Type: Sedan\n"
     ]
    },
    {
     "name": "stderr",
     "output_type": "stream",
     "text": [
      "0: 160x256 1 NumberPlate, 1 Sedan, 13.0ms\n",
      "Speed: 2.0ms pre-process, 13.0ms inference, 5.0ms postprocess per image at shape (1, 3, 256, 256)\n"
     ]
    },
    {
     "name": "stdout",
     "output_type": "stream",
     "text": [
      "Car Type: Sedan\n"
     ]
    },
    {
     "name": "stderr",
     "output_type": "stream",
     "text": [
      "0: 160x256 1 NumberPlate, 1 Sedan, 10.9ms\n",
      "Speed: 0.0ms pre-process, 10.9ms inference, 2.0ms postprocess per image at shape (1, 3, 256, 256)\n"
     ]
    },
    {
     "name": "stdout",
     "output_type": "stream",
     "text": [
      "Car Type: Sedan\n"
     ]
    },
    {
     "name": "stderr",
     "output_type": "stream",
     "text": [
      "0: 160x256 1 NumberPlate, 1 Sedan, 15.0ms\n",
      "Speed: 1.0ms pre-process, 15.0ms inference, 2.0ms postprocess per image at shape (1, 3, 256, 256)\n"
     ]
    },
    {
     "name": "stdout",
     "output_type": "stream",
     "text": [
      "Car Type: Sedan\n"
     ]
    },
    {
     "name": "stderr",
     "output_type": "stream",
     "text": [
      "0: 160x256 1 NumberPlate, 1 Sedan, 9.9ms\n",
      "Speed: 1.0ms pre-process, 9.9ms inference, 2.0ms postprocess per image at shape (1, 3, 256, 256)\n"
     ]
    },
    {
     "name": "stdout",
     "output_type": "stream",
     "text": [
      "Car Type: Sedan\n"
     ]
    },
    {
     "name": "stderr",
     "output_type": "stream",
     "text": [
      "0: 160x256 1 NumberPlate, 1 Sedan, 10.0ms\n",
      "Speed: 1.0ms pre-process, 10.0ms inference, 2.0ms postprocess per image at shape (1, 3, 256, 256)\n"
     ]
    },
    {
     "name": "stdout",
     "output_type": "stream",
     "text": [
      "Car Type: Sedan\n"
     ]
    },
    {
     "name": "stderr",
     "output_type": "stream",
     "text": [
      "0: 160x256 1 NumberPlate, 1 Sedan, 8.0ms\n",
      "Speed: 1.0ms pre-process, 8.0ms inference, 2.0ms postprocess per image at shape (1, 3, 256, 256)\n"
     ]
    },
    {
     "name": "stdout",
     "output_type": "stream",
     "text": [
      "Car Type: Sedan\n"
     ]
    },
    {
     "name": "stderr",
     "output_type": "stream",
     "text": [
      "0: 160x256 1 NumberPlate, 1 Sedan, 13.0ms\n",
      "Speed: 1.0ms pre-process, 13.0ms inference, 2.0ms postprocess per image at shape (1, 3, 256, 256)\n"
     ]
    },
    {
     "name": "stdout",
     "output_type": "stream",
     "text": [
      "Car Type: Sedan\n"
     ]
    },
    {
     "name": "stderr",
     "output_type": "stream",
     "text": [
      "0: 160x256 1 NumberPlate, 1 Sedan, 10.0ms\n",
      "Speed: 1.0ms pre-process, 10.0ms inference, 2.0ms postprocess per image at shape (1, 3, 256, 256)\n"
     ]
    },
    {
     "name": "stdout",
     "output_type": "stream",
     "text": [
      "Car Type: Sedan\n"
     ]
    },
    {
     "name": "stderr",
     "output_type": "stream",
     "text": [
      "0: 160x256 1 NumberPlate, 1 Sedan, 10.0ms\n",
      "Speed: 0.0ms pre-process, 10.0ms inference, 2.0ms postprocess per image at shape (1, 3, 256, 256)\n"
     ]
    },
    {
     "name": "stdout",
     "output_type": "stream",
     "text": [
      "Car Type: Sedan\n"
     ]
    },
    {
     "name": "stderr",
     "output_type": "stream",
     "text": [
      "0: 160x256 1 NumberPlate, 1 Sedan, 10.0ms\n",
      "Speed: 0.0ms pre-process, 10.0ms inference, 2.0ms postprocess per image at shape (1, 3, 256, 256)\n"
     ]
    },
    {
     "name": "stdout",
     "output_type": "stream",
     "text": [
      "Car Type: Sedan\n"
     ]
    },
    {
     "name": "stderr",
     "output_type": "stream",
     "text": [
      "0: 160x256 1 NumberPlate, 1 Sedan, 10.0ms\n",
      "Speed: 1.0ms pre-process, 10.0ms inference, 1.0ms postprocess per image at shape (1, 3, 256, 256)\n"
     ]
    },
    {
     "name": "stdout",
     "output_type": "stream",
     "text": [
      "Car Type: Sedan\n"
     ]
    },
    {
     "name": "stderr",
     "output_type": "stream",
     "text": [
      "0: 160x256 1 NumberPlate, 1 Sedan, 9.0ms\n",
      "Speed: 0.0ms pre-process, 9.0ms inference, 3.0ms postprocess per image at shape (1, 3, 256, 256)\n"
     ]
    },
    {
     "name": "stdout",
     "output_type": "stream",
     "text": [
      "Car Type: Sedan\n"
     ]
    },
    {
     "name": "stderr",
     "output_type": "stream",
     "text": [
      "0: 160x256 1 NumberPlate, 1 Sedan, 11.0ms\n",
      "Speed: 2.0ms pre-process, 11.0ms inference, 2.0ms postprocess per image at shape (1, 3, 256, 256)\n"
     ]
    },
    {
     "name": "stdout",
     "output_type": "stream",
     "text": [
      "Car Type: Sedan\n"
     ]
    },
    {
     "name": "stderr",
     "output_type": "stream",
     "text": [
      "0: 160x256 1 NumberPlate, 1 Sedan, 9.0ms\n",
      "Speed: 1.0ms pre-process, 9.0ms inference, 2.0ms postprocess per image at shape (1, 3, 256, 256)\n"
     ]
    },
    {
     "name": "stdout",
     "output_type": "stream",
     "text": [
      "Car Type: Sedan\n"
     ]
    },
    {
     "name": "stderr",
     "output_type": "stream",
     "text": [
      "0: 160x256 1 NumberPlate, 1 Sedan, 10.0ms\n",
      "Speed: 0.0ms pre-process, 10.0ms inference, 1.0ms postprocess per image at shape (1, 3, 256, 256)\n"
     ]
    },
    {
     "name": "stdout",
     "output_type": "stream",
     "text": [
      "Car Type: Sedan\n"
     ]
    },
    {
     "name": "stderr",
     "output_type": "stream",
     "text": [
      "0: 160x256 1 NumberPlate, 1 Sedan, 9.0ms\n",
      "Speed: 0.0ms pre-process, 9.0ms inference, 2.0ms postprocess per image at shape (1, 3, 256, 256)\n"
     ]
    },
    {
     "name": "stdout",
     "output_type": "stream",
     "text": [
      "Car Type: Sedan\n"
     ]
    },
    {
     "name": "stderr",
     "output_type": "stream",
     "text": [
      "0: 160x256 1 NumberPlate, 1 Sedan, 9.0ms\n",
      "Speed: 1.0ms pre-process, 9.0ms inference, 2.0ms postprocess per image at shape (1, 3, 256, 256)\n"
     ]
    },
    {
     "name": "stdout",
     "output_type": "stream",
     "text": [
      "Car Type: Sedan\n"
     ]
    },
    {
     "name": "stderr",
     "output_type": "stream",
     "text": [
      "0: 160x256 1 NumberPlate, 1 Sedan, 16.9ms\n",
      "Speed: 0.0ms pre-process, 16.9ms inference, 4.0ms postprocess per image at shape (1, 3, 256, 256)\n"
     ]
    },
    {
     "name": "stdout",
     "output_type": "stream",
     "text": [
      "Car Type: Sedan\n"
     ]
    },
    {
     "name": "stderr",
     "output_type": "stream",
     "text": [
      "0: 160x256 1 NumberPlate, 1 Sedan, 9.0ms\n",
      "Speed: 1.0ms pre-process, 9.0ms inference, 2.0ms postprocess per image at shape (1, 3, 256, 256)\n"
     ]
    },
    {
     "name": "stdout",
     "output_type": "stream",
     "text": [
      "Car Type: Sedan\n"
     ]
    },
    {
     "name": "stderr",
     "output_type": "stream",
     "text": [
      "0: 160x256 1 NumberPlate, 1 Sedan, 9.0ms\n",
      "Speed: 0.0ms pre-process, 9.0ms inference, 2.0ms postprocess per image at shape (1, 3, 256, 256)\n"
     ]
    },
    {
     "name": "stdout",
     "output_type": "stream",
     "text": [
      "Car Type: Sedan\n"
     ]
    },
    {
     "name": "stderr",
     "output_type": "stream",
     "text": [
      "0: 160x256 1 NumberPlate, 1 Sedan, 9.0ms\n",
      "Speed: 1.0ms pre-process, 9.0ms inference, 2.0ms postprocess per image at shape (1, 3, 256, 256)\n"
     ]
    },
    {
     "name": "stdout",
     "output_type": "stream",
     "text": [
      "Car Type: Sedan\n"
     ]
    },
    {
     "name": "stderr",
     "output_type": "stream",
     "text": [
      "0: 160x256 1 NumberPlate, 1 Sedan, 8.9ms\n",
      "Speed: 0.0ms pre-process, 8.9ms inference, 2.0ms postprocess per image at shape (1, 3, 256, 256)\n"
     ]
    },
    {
     "name": "stdout",
     "output_type": "stream",
     "text": [
      "Car Type: Sedan\n"
     ]
    },
    {
     "name": "stderr",
     "output_type": "stream",
     "text": [
      "0: 160x256 1 NumberPlate, 1 Sedan, 9.0ms\n",
      "Speed: 0.0ms pre-process, 9.0ms inference, 2.0ms postprocess per image at shape (1, 3, 256, 256)\n"
     ]
    },
    {
     "name": "stdout",
     "output_type": "stream",
     "text": [
      "Car Type: Sedan\n"
     ]
    },
    {
     "name": "stderr",
     "output_type": "stream",
     "text": [
      "0: 160x256 1 NumberPlate, 1 Sedan, 10.0ms\n",
      "Speed: 0.0ms pre-process, 10.0ms inference, 2.0ms postprocess per image at shape (1, 3, 256, 256)\n"
     ]
    },
    {
     "name": "stdout",
     "output_type": "stream",
     "text": [
      "Car Type: Sedan\n"
     ]
    },
    {
     "name": "stderr",
     "output_type": "stream",
     "text": [
      "0: 160x256 1 NumberPlate, 1 Sedan, 11.0ms\n",
      "Speed: 0.0ms pre-process, 11.0ms inference, 2.0ms postprocess per image at shape (1, 3, 256, 256)\n"
     ]
    },
    {
     "name": "stdout",
     "output_type": "stream",
     "text": [
      "Car Type: Sedan\n"
     ]
    },
    {
     "name": "stderr",
     "output_type": "stream",
     "text": [
      "0: 160x256 1 NumberPlate, 1 Sedan, 9.0ms\n",
      "Speed: 0.0ms pre-process, 9.0ms inference, 2.0ms postprocess per image at shape (1, 3, 256, 256)\n"
     ]
    },
    {
     "name": "stdout",
     "output_type": "stream",
     "text": [
      "Car Type: Sedan\n"
     ]
    },
    {
     "name": "stderr",
     "output_type": "stream",
     "text": [
      "0: 160x256 1 NumberPlate, 1 Sedan, 16.0ms\n",
      "Speed: 1.0ms pre-process, 16.0ms inference, 4.0ms postprocess per image at shape (1, 3, 256, 256)\n"
     ]
    },
    {
     "name": "stdout",
     "output_type": "stream",
     "text": [
      "Car Type: Sedan\n"
     ]
    },
    {
     "name": "stderr",
     "output_type": "stream",
     "text": [
      "0: 160x256 1 NumberPlate, 1 Sedan, 9.9ms\n",
      "Speed: 1.0ms pre-process, 9.9ms inference, 2.0ms postprocess per image at shape (1, 3, 256, 256)\n"
     ]
    },
    {
     "name": "stdout",
     "output_type": "stream",
     "text": [
      "Car Type: Sedan\n"
     ]
    },
    {
     "name": "stderr",
     "output_type": "stream",
     "text": [
      "0: 160x256 1 NumberPlate, 1 Sedan, 8.0ms\n",
      "Speed: 1.0ms pre-process, 8.0ms inference, 3.0ms postprocess per image at shape (1, 3, 256, 256)\n"
     ]
    },
    {
     "name": "stdout",
     "output_type": "stream",
     "text": [
      "Car Type: Sedan\n"
     ]
    },
    {
     "name": "stderr",
     "output_type": "stream",
     "text": [
      "0: 160x256 1 NumberPlate, 1 Sedan, 9.0ms\n",
      "Speed: 0.0ms pre-process, 9.0ms inference, 2.0ms postprocess per image at shape (1, 3, 256, 256)\n"
     ]
    },
    {
     "name": "stdout",
     "output_type": "stream",
     "text": [
      "Car Type: Sedan\n"
     ]
    },
    {
     "name": "stderr",
     "output_type": "stream",
     "text": [
      "0: 160x256 1 NumberPlate, 1 Sedan, 9.0ms\n",
      "Speed: 1.0ms pre-process, 9.0ms inference, 2.0ms postprocess per image at shape (1, 3, 256, 256)\n"
     ]
    },
    {
     "name": "stdout",
     "output_type": "stream",
     "text": [
      "Car Type: Sedan\n"
     ]
    },
    {
     "name": "stderr",
     "output_type": "stream",
     "text": [
      "0: 160x256 1 NumberPlate, 1 Sedan, 9.0ms\n",
      "Speed: 0.0ms pre-process, 9.0ms inference, 2.0ms postprocess per image at shape (1, 3, 256, 256)\n"
     ]
    },
    {
     "name": "stdout",
     "output_type": "stream",
     "text": [
      "Car Type: Sedan\n"
     ]
    },
    {
     "name": "stderr",
     "output_type": "stream",
     "text": [
      "0: 160x256 1 NumberPlate, 1 Sedan, 9.0ms\n",
      "Speed: 1.0ms pre-process, 9.0ms inference, 2.0ms postprocess per image at shape (1, 3, 256, 256)\n"
     ]
    },
    {
     "name": "stdout",
     "output_type": "stream",
     "text": [
      "Car Type: Sedan\n"
     ]
    },
    {
     "name": "stderr",
     "output_type": "stream",
     "text": [
      "0: 160x256 1 NumberPlate, 1 Sedan, 11.0ms\n",
      "Speed: 0.0ms pre-process, 11.0ms inference, 3.0ms postprocess per image at shape (1, 3, 256, 256)\n"
     ]
    },
    {
     "name": "stdout",
     "output_type": "stream",
     "text": [
      "Car Type: Sedan\n"
     ]
    },
    {
     "name": "stderr",
     "output_type": "stream",
     "text": [
      "0: 160x256 1 NumberPlate, 1 Sedan, 16.0ms\n",
      "Speed: 1.0ms pre-process, 16.0ms inference, 4.0ms postprocess per image at shape (1, 3, 256, 256)\n"
     ]
    },
    {
     "name": "stdout",
     "output_type": "stream",
     "text": [
      "Car Type: Sedan\n"
     ]
    },
    {
     "name": "stderr",
     "output_type": "stream",
     "text": [
      "0: 160x256 1 NumberPlate, 1 Sedan, 9.0ms\n",
      "Speed: 1.0ms pre-process, 9.0ms inference, 2.0ms postprocess per image at shape (1, 3, 256, 256)\n"
     ]
    },
    {
     "name": "stdout",
     "output_type": "stream",
     "text": [
      "Car Type: Sedan\n"
     ]
    },
    {
     "name": "stderr",
     "output_type": "stream",
     "text": [
      "0: 160x256 1 NumberPlate, 1 Sedan, 18.0ms\n",
      "Speed: 0.0ms pre-process, 18.0ms inference, 3.0ms postprocess per image at shape (1, 3, 256, 256)\n"
     ]
    },
    {
     "name": "stdout",
     "output_type": "stream",
     "text": [
      "Car Type: Sedan\n"
     ]
    },
    {
     "name": "stderr",
     "output_type": "stream",
     "text": [
      "0: 160x256 1 NumberPlate, 1 Sedan, 9.0ms\n",
      "Speed: 1.0ms pre-process, 9.0ms inference, 2.0ms postprocess per image at shape (1, 3, 256, 256)\n"
     ]
    },
    {
     "name": "stdout",
     "output_type": "stream",
     "text": [
      "Car Type: Sedan\n"
     ]
    },
    {
     "name": "stderr",
     "output_type": "stream",
     "text": [
      "0: 160x256 1 NumberPlate, 1 Sedan, 16.0ms\n",
      "Speed: 1.0ms pre-process, 16.0ms inference, 4.0ms postprocess per image at shape (1, 3, 256, 256)\n"
     ]
    },
    {
     "name": "stdout",
     "output_type": "stream",
     "text": [
      "Car Type: Sedan\n"
     ]
    },
    {
     "name": "stderr",
     "output_type": "stream",
     "text": [
      "0: 160x256 1 NumberPlate, 1 Sedan, 10.0ms\n",
      "Speed: 0.0ms pre-process, 10.0ms inference, 1.0ms postprocess per image at shape (1, 3, 256, 256)\n"
     ]
    },
    {
     "name": "stdout",
     "output_type": "stream",
     "text": [
      "Car Type: Sedan\n"
     ]
    },
    {
     "name": "stderr",
     "output_type": "stream",
     "text": [
      "0: 160x256 1 NumberPlate, 1 Sedan, 9.0ms\n",
      "Speed: 0.0ms pre-process, 9.0ms inference, 2.0ms postprocess per image at shape (1, 3, 256, 256)\n"
     ]
    },
    {
     "name": "stdout",
     "output_type": "stream",
     "text": [
      "Car Type: Sedan\n"
     ]
    },
    {
     "name": "stderr",
     "output_type": "stream",
     "text": [
      "0: 160x256 1 NumberPlate, 1 Sedan, 12.0ms\n",
      "Speed: 0.0ms pre-process, 12.0ms inference, 2.0ms postprocess per image at shape (1, 3, 256, 256)\n"
     ]
    },
    {
     "name": "stdout",
     "output_type": "stream",
     "text": [
      "Car Type: Sedan\n"
     ]
    },
    {
     "name": "stderr",
     "output_type": "stream",
     "text": [
      "0: 160x256 1 NumberPlate, 1 Sedan, 17.0ms\n",
      "Speed: 1.0ms pre-process, 17.0ms inference, 4.0ms postprocess per image at shape (1, 3, 256, 256)\n"
     ]
    },
    {
     "name": "stdout",
     "output_type": "stream",
     "text": [
      "Car Type: Sedan\n"
     ]
    },
    {
     "name": "stderr",
     "output_type": "stream",
     "text": [
      "0: 160x256 1 NumberPlate, 1 Sedan, 12.0ms\n",
      "Speed: 0.0ms pre-process, 12.0ms inference, 3.0ms postprocess per image at shape (1, 3, 256, 256)\n"
     ]
    },
    {
     "name": "stdout",
     "output_type": "stream",
     "text": [
      "Car Type: Sedan\n"
     ]
    },
    {
     "name": "stderr",
     "output_type": "stream",
     "text": [
      "0: 160x256 1 NumberPlate, 1 Sedan, 10.0ms\n",
      "Speed: 1.0ms pre-process, 10.0ms inference, 2.0ms postprocess per image at shape (1, 3, 256, 256)\n"
     ]
    },
    {
     "name": "stdout",
     "output_type": "stream",
     "text": [
      "Car Type: Sedan\n"
     ]
    },
    {
     "name": "stderr",
     "output_type": "stream",
     "text": [
      "0: 160x256 1 NumberPlate, 1 Sedan, 7.9ms\n",
      "Speed: 1.0ms pre-process, 7.9ms inference, 2.0ms postprocess per image at shape (1, 3, 256, 256)\n"
     ]
    },
    {
     "name": "stdout",
     "output_type": "stream",
     "text": [
      "Car Type: Sedan\n"
     ]
    },
    {
     "name": "stderr",
     "output_type": "stream",
     "text": [
      "0: 160x256 1 NumberPlate, 1 Sedan, 12.0ms\n",
      "Speed: 1.0ms pre-process, 12.0ms inference, 3.0ms postprocess per image at shape (1, 3, 256, 256)\n"
     ]
    },
    {
     "name": "stdout",
     "output_type": "stream",
     "text": [
      "Car Type: Sedan\n"
     ]
    },
    {
     "name": "stderr",
     "output_type": "stream",
     "text": [
      "0: 160x256 1 NumberPlate, 1 Sedan, 16.0ms\n",
      "Speed: 0.0ms pre-process, 16.0ms inference, 4.0ms postprocess per image at shape (1, 3, 256, 256)\n"
     ]
    },
    {
     "name": "stdout",
     "output_type": "stream",
     "text": [
      "Car Type: Sedan\n"
     ]
    },
    {
     "name": "stderr",
     "output_type": "stream",
     "text": [
      "0: 160x256 1 NumberPlate, 1 Sedan, 9.0ms\n",
      "Speed: 1.0ms pre-process, 9.0ms inference, 2.0ms postprocess per image at shape (1, 3, 256, 256)\n"
     ]
    },
    {
     "name": "stdout",
     "output_type": "stream",
     "text": [
      "Car Type: Sedan\n"
     ]
    },
    {
     "name": "stderr",
     "output_type": "stream",
     "text": [
      "0: 160x256 1 NumberPlate, 1 Sedan, 11.0ms\n",
      "Speed: 1.0ms pre-process, 11.0ms inference, 2.0ms postprocess per image at shape (1, 3, 256, 256)\n"
     ]
    },
    {
     "name": "stdout",
     "output_type": "stream",
     "text": [
      "Car Type: Sedan\n"
     ]
    },
    {
     "name": "stderr",
     "output_type": "stream",
     "text": [
      "0: 160x256 1 NumberPlate, 1 Sedan, 17.0ms\n",
      "Speed: 1.0ms pre-process, 17.0ms inference, 4.0ms postprocess per image at shape (1, 3, 256, 256)\n"
     ]
    },
    {
     "name": "stdout",
     "output_type": "stream",
     "text": [
      "Car Type: Sedan\n"
     ]
    },
    {
     "name": "stderr",
     "output_type": "stream",
     "text": [
      "0: 160x256 1 NumberPlate, 1 Sedan, 8.0ms\n",
      "Speed: 0.0ms pre-process, 8.0ms inference, 2.0ms postprocess per image at shape (1, 3, 256, 256)\n"
     ]
    },
    {
     "name": "stdout",
     "output_type": "stream",
     "text": [
      "Car Type: Sedan\n"
     ]
    },
    {
     "name": "stderr",
     "output_type": "stream",
     "text": [
      "0: 160x256 1 NumberPlate, 1 Sedan, 9.0ms\n",
      "Speed: 1.0ms pre-process, 9.0ms inference, 2.0ms postprocess per image at shape (1, 3, 256, 256)\n"
     ]
    },
    {
     "name": "stdout",
     "output_type": "stream",
     "text": [
      "Car Type: Sedan\n"
     ]
    },
    {
     "name": "stderr",
     "output_type": "stream",
     "text": [
      "0: 160x256 1 NumberPlate, 1 Sedan, 11.9ms\n",
      "Speed: 0.0ms pre-process, 11.9ms inference, 3.0ms postprocess per image at shape (1, 3, 256, 256)\n"
     ]
    },
    {
     "name": "stdout",
     "output_type": "stream",
     "text": [
      "Car Type: Sedan\n"
     ]
    },
    {
     "name": "stderr",
     "output_type": "stream",
     "text": [
      "0: 160x256 1 NumberPlate, 1 Sedan, 17.0ms\n",
      "Speed: 1.0ms pre-process, 17.0ms inference, 6.0ms postprocess per image at shape (1, 3, 256, 256)\n"
     ]
    },
    {
     "name": "stdout",
     "output_type": "stream",
     "text": [
      "Car Type: Sedan\n"
     ]
    },
    {
     "name": "stderr",
     "output_type": "stream",
     "text": [
      "0: 160x256 1 NumberPlate, 1 Sedan, 10.9ms\n",
      "Speed: 0.0ms pre-process, 10.9ms inference, 2.0ms postprocess per image at shape (1, 3, 256, 256)\n"
     ]
    },
    {
     "name": "stdout",
     "output_type": "stream",
     "text": [
      "Car Type: Sedan\n"
     ]
    },
    {
     "name": "stderr",
     "output_type": "stream",
     "text": [
      "0: 160x256 1 NumberPlate, 1 Sedan, 9.0ms\n",
      "Speed: 1.0ms pre-process, 9.0ms inference, 4.0ms postprocess per image at shape (1, 3, 256, 256)\n"
     ]
    },
    {
     "name": "stdout",
     "output_type": "stream",
     "text": [
      "Car Type: Sedan\n"
     ]
    },
    {
     "name": "stderr",
     "output_type": "stream",
     "text": [
      "0: 160x256 1 NumberPlate, 1 Sedan, 10.0ms\n",
      "Speed: 0.0ms pre-process, 10.0ms inference, 3.0ms postprocess per image at shape (1, 3, 256, 256)\n"
     ]
    },
    {
     "name": "stdout",
     "output_type": "stream",
     "text": [
      "Car Type: Sedan\n"
     ]
    },
    {
     "name": "stderr",
     "output_type": "stream",
     "text": [
      "0: 160x256 1 NumberPlate, 1 Sedan, 16.9ms\n",
      "Speed: 0.0ms pre-process, 16.9ms inference, 7.0ms postprocess per image at shape (1, 3, 256, 256)\n"
     ]
    },
    {
     "name": "stdout",
     "output_type": "stream",
     "text": [
      "Car Type: Sedan\n"
     ]
    },
    {
     "name": "stderr",
     "output_type": "stream",
     "text": [
      "0: 160x256 1 NumberPlate, 1 Sedan, 10.0ms\n",
      "Speed: 0.0ms pre-process, 10.0ms inference, 2.0ms postprocess per image at shape (1, 3, 256, 256)\n"
     ]
    },
    {
     "name": "stdout",
     "output_type": "stream",
     "text": [
      "Car Type: Sedan\n"
     ]
    },
    {
     "name": "stderr",
     "output_type": "stream",
     "text": [
      "0: 160x256 1 NumberPlate, 1 Sedan, 10.0ms\n",
      "Speed: 1.0ms pre-process, 10.0ms inference, 3.0ms postprocess per image at shape (1, 3, 256, 256)\n"
     ]
    },
    {
     "name": "stdout",
     "output_type": "stream",
     "text": [
      "Car Type: Sedan\n"
     ]
    },
    {
     "name": "stderr",
     "output_type": "stream",
     "text": [
      "0: 160x256 1 NumberPlate, 1 Sedan, 13.9ms\n",
      "Speed: 0.0ms pre-process, 13.9ms inference, 2.0ms postprocess per image at shape (1, 3, 256, 256)\n"
     ]
    },
    {
     "name": "stdout",
     "output_type": "stream",
     "text": [
      "Car Type: Sedan\n"
     ]
    },
    {
     "name": "stderr",
     "output_type": "stream",
     "text": [
      "0: 160x256 1 MidSize-SUV, 1 NumberPlate, 9.0ms\n",
      "Speed: 1.0ms pre-process, 9.0ms inference, 2.0ms postprocess per image at shape (1, 3, 256, 256)\n"
     ]
    },
    {
     "name": "stdout",
     "output_type": "stream",
     "text": [
      "Car Type: MidSize-SUV\n"
     ]
    },
    {
     "name": "stderr",
     "output_type": "stream",
     "text": [
      "0: 160x256 1 MidSize-SUV, 1 NumberPlate, 11.0ms\n",
      "Speed: 0.0ms pre-process, 11.0ms inference, 1.0ms postprocess per image at shape (1, 3, 256, 256)\n"
     ]
    },
    {
     "name": "stdout",
     "output_type": "stream",
     "text": [
      "Car Type: MidSize-SUV\n"
     ]
    },
    {
     "name": "stderr",
     "output_type": "stream",
     "text": [
      "0: 160x256 1 MidSize-SUV, 1 NumberPlate, 10.0ms\n",
      "Speed: 1.0ms pre-process, 10.0ms inference, 2.0ms postprocess per image at shape (1, 3, 256, 256)\n"
     ]
    },
    {
     "name": "stdout",
     "output_type": "stream",
     "text": [
      "Car Type: MidSize-SUV\n"
     ]
    },
    {
     "name": "stderr",
     "output_type": "stream",
     "text": [
      "0: 160x256 1 MidSize-SUV, 1 NumberPlate, 10.0ms\n",
      "Speed: 0.0ms pre-process, 10.0ms inference, 2.0ms postprocess per image at shape (1, 3, 256, 256)\n"
     ]
    },
    {
     "name": "stdout",
     "output_type": "stream",
     "text": [
      "Car Type: MidSize-SUV\n"
     ]
    },
    {
     "name": "stderr",
     "output_type": "stream",
     "text": [
      "0: 160x256 1 MidSize-SUV, 1 NumberPlate, 16.0ms\n",
      "Speed: 1.0ms pre-process, 16.0ms inference, 6.0ms postprocess per image at shape (1, 3, 256, 256)\n"
     ]
    },
    {
     "name": "stdout",
     "output_type": "stream",
     "text": [
      "Car Type: MidSize-SUV\n"
     ]
    },
    {
     "name": "stderr",
     "output_type": "stream",
     "text": [
      "0: 160x256 1 MidSize-SUV, 1 NumberPlate, 12.0ms\n",
      "Speed: 0.0ms pre-process, 12.0ms inference, 3.0ms postprocess per image at shape (1, 3, 256, 256)\n"
     ]
    },
    {
     "name": "stdout",
     "output_type": "stream",
     "text": [
      "Car Type: MidSize-SUV\n"
     ]
    },
    {
     "name": "stderr",
     "output_type": "stream",
     "text": [
      "0: 160x256 1 MidSize-SUV, 1 NumberPlate, 8.0ms\n",
      "Speed: 0.0ms pre-process, 8.0ms inference, 2.0ms postprocess per image at shape (1, 3, 256, 256)\n"
     ]
    },
    {
     "name": "stdout",
     "output_type": "stream",
     "text": [
      "Car Type: MidSize-SUV\n"
     ]
    },
    {
     "name": "stderr",
     "output_type": "stream",
     "text": [
      "0: 160x256 1 MidSize-SUV, 1 NumberPlate, 9.9ms\n",
      "Speed: 0.0ms pre-process, 9.9ms inference, 2.0ms postprocess per image at shape (1, 3, 256, 256)\n"
     ]
    },
    {
     "name": "stdout",
     "output_type": "stream",
     "text": [
      "Car Type: MidSize-SUV\n"
     ]
    },
    {
     "name": "stderr",
     "output_type": "stream",
     "text": [
      "0: 160x256 1 MidSize-SUV, 1 NumberPlate, 16.0ms\n",
      "Speed: 1.0ms pre-process, 16.0ms inference, 3.0ms postprocess per image at shape (1, 3, 256, 256)\n"
     ]
    },
    {
     "name": "stdout",
     "output_type": "stream",
     "text": [
      "Car Type: MidSize-SUV\n"
     ]
    },
    {
     "name": "stderr",
     "output_type": "stream",
     "text": [
      "0: 160x256 1 MidSize-SUV, 1 NumberPlate, 8.0ms\n",
      "Speed: 1.0ms pre-process, 8.0ms inference, 4.0ms postprocess per image at shape (1, 3, 256, 256)\n"
     ]
    },
    {
     "name": "stdout",
     "output_type": "stream",
     "text": [
      "Car Type: MidSize-SUV\n"
     ]
    },
    {
     "name": "stderr",
     "output_type": "stream",
     "text": [
      "0: 160x256 1 MidSize-SUV, 1 NumberPlate, 11.0ms\n",
      "Speed: 0.0ms pre-process, 11.0ms inference, 1.0ms postprocess per image at shape (1, 3, 256, 256)\n"
     ]
    },
    {
     "name": "stdout",
     "output_type": "stream",
     "text": [
      "Car Type: MidSize-SUV\n"
     ]
    },
    {
     "name": "stderr",
     "output_type": "stream",
     "text": [
      "0: 160x256 1 MidSize-SUV, 1 NumberPlate, 8.0ms\n",
      "Speed: 0.0ms pre-process, 8.0ms inference, 2.0ms postprocess per image at shape (1, 3, 256, 256)\n"
     ]
    },
    {
     "name": "stdout",
     "output_type": "stream",
     "text": [
      "Car Type: MidSize-SUV\n"
     ]
    },
    {
     "name": "stderr",
     "output_type": "stream",
     "text": [
      "0: 160x256 1 MidSize-SUV, 1 NumberPlate, 10.0ms\n",
      "Speed: 1.0ms pre-process, 10.0ms inference, 2.0ms postprocess per image at shape (1, 3, 256, 256)\n"
     ]
    },
    {
     "name": "stdout",
     "output_type": "stream",
     "text": [
      "Car Type: MidSize-SUV\n"
     ]
    },
    {
     "name": "stderr",
     "output_type": "stream",
     "text": [
      "0: 160x256 1 MidSize-SUV, 1 NumberPlate, 9.0ms\n",
      "Speed: 0.0ms pre-process, 9.0ms inference, 2.0ms postprocess per image at shape (1, 3, 256, 256)\n"
     ]
    },
    {
     "name": "stdout",
     "output_type": "stream",
     "text": [
      "Car Type: MidSize-SUV\n"
     ]
    },
    {
     "name": "stderr",
     "output_type": "stream",
     "text": [
      "0: 160x256 1 MidSize-SUV, 1 NumberPlate, 8.0ms\n",
      "Speed: 1.0ms pre-process, 8.0ms inference, 3.0ms postprocess per image at shape (1, 3, 256, 256)\n"
     ]
    },
    {
     "name": "stdout",
     "output_type": "stream",
     "text": [
      "Car Type: MidSize-SUV\n"
     ]
    },
    {
     "name": "stderr",
     "output_type": "stream",
     "text": [
      "0: 160x256 1 MidSize-SUV, 1 NumberPlate, 9.0ms\n",
      "Speed: 0.0ms pre-process, 9.0ms inference, 2.0ms postprocess per image at shape (1, 3, 256, 256)\n"
     ]
    },
    {
     "name": "stdout",
     "output_type": "stream",
     "text": [
      "Car Type: MidSize-SUV\n"
     ]
    },
    {
     "name": "stderr",
     "output_type": "stream",
     "text": [
      "0: 160x256 1 MidSize-SUV, 1 NumberPlate, 16.0ms\n",
      "Speed: 0.0ms pre-process, 16.0ms inference, 5.0ms postprocess per image at shape (1, 3, 256, 256)\n"
     ]
    },
    {
     "name": "stdout",
     "output_type": "stream",
     "text": [
      "Car Type: MidSize-SUV\n"
     ]
    },
    {
     "name": "stderr",
     "output_type": "stream",
     "text": [
      "0: 160x256 1 MidSize-SUV, 1 NumberPlate, 9.0ms\n",
      "Speed: 0.0ms pre-process, 9.0ms inference, 2.0ms postprocess per image at shape (1, 3, 256, 256)\n"
     ]
    },
    {
     "name": "stdout",
     "output_type": "stream",
     "text": [
      "Car Type: MidSize-SUV\n"
     ]
    },
    {
     "name": "stderr",
     "output_type": "stream",
     "text": [
      "0: 160x256 1 MidSize-SUV, 1 NumberPlate, 9.0ms\n",
      "Speed: 1.0ms pre-process, 9.0ms inference, 2.0ms postprocess per image at shape (1, 3, 256, 256)\n"
     ]
    },
    {
     "name": "stdout",
     "output_type": "stream",
     "text": [
      "Car Type: MidSize-SUV\n"
     ]
    },
    {
     "name": "stderr",
     "output_type": "stream",
     "text": [
      "0: 160x256 1 MidSize-SUV, 1 NumberPlate, 9.0ms\n",
      "Speed: 0.0ms pre-process, 9.0ms inference, 2.0ms postprocess per image at shape (1, 3, 256, 256)\n"
     ]
    },
    {
     "name": "stdout",
     "output_type": "stream",
     "text": [
      "Car Type: MidSize-SUV\n"
     ]
    },
    {
     "name": "stderr",
     "output_type": "stream",
     "text": [
      "0: 160x256 1 MidSize-SUV, 1 NumberPlate, 10.0ms\n",
      "Speed: 0.0ms pre-process, 10.0ms inference, 2.0ms postprocess per image at shape (1, 3, 256, 256)\n"
     ]
    },
    {
     "name": "stdout",
     "output_type": "stream",
     "text": [
      "Car Type: MidSize-SUV\n"
     ]
    },
    {
     "name": "stderr",
     "output_type": "stream",
     "text": [
      "0: 160x256 1 MidSize-SUV, 1 NumberPlate, 9.0ms\n",
      "Speed: 0.0ms pre-process, 9.0ms inference, 3.0ms postprocess per image at shape (1, 3, 256, 256)\n"
     ]
    },
    {
     "name": "stdout",
     "output_type": "stream",
     "text": [
      "Car Type: MidSize-SUV\n"
     ]
    },
    {
     "name": "stderr",
     "output_type": "stream",
     "text": [
      "0: 160x256 1 MidSize-SUV, 1 NumberPlate, 9.0ms\n",
      "Speed: 1.0ms pre-process, 9.0ms inference, 2.0ms postprocess per image at shape (1, 3, 256, 256)\n"
     ]
    },
    {
     "name": "stdout",
     "output_type": "stream",
     "text": [
      "Car Type: MidSize-SUV\n"
     ]
    },
    {
     "name": "stderr",
     "output_type": "stream",
     "text": [
      "0: 160x256 1 MidSize-SUV, 1 NumberPlate, 14.0ms\n",
      "Speed: 1.0ms pre-process, 14.0ms inference, 2.0ms postprocess per image at shape (1, 3, 256, 256)\n"
     ]
    },
    {
     "name": "stdout",
     "output_type": "stream",
     "text": [
      "Car Type: MidSize-SUV\n"
     ]
    },
    {
     "name": "stderr",
     "output_type": "stream",
     "text": [
      "0: 160x256 1 MidSize-SUV, 1 NumberPlate, 15.0ms\n",
      "Speed: 1.0ms pre-process, 15.0ms inference, 4.0ms postprocess per image at shape (1, 3, 256, 256)\n"
     ]
    },
    {
     "name": "stdout",
     "output_type": "stream",
     "text": [
      "Car Type: MidSize-SUV\n"
     ]
    },
    {
     "name": "stderr",
     "output_type": "stream",
     "text": [
      "0: 160x256 1 MidSize-SUV, 1 NumberPlate, 8.0ms\n",
      "Speed: 0.0ms pre-process, 8.0ms inference, 3.0ms postprocess per image at shape (1, 3, 256, 256)\n"
     ]
    },
    {
     "name": "stdout",
     "output_type": "stream",
     "text": [
      "Car Type: MidSize-SUV\n"
     ]
    },
    {
     "name": "stderr",
     "output_type": "stream",
     "text": [
      "0: 160x256 1 MidSize-SUV, 1 NumberPlate, 13.0ms\n",
      "Speed: 1.0ms pre-process, 13.0ms inference, 2.0ms postprocess per image at shape (1, 3, 256, 256)\n"
     ]
    },
    {
     "name": "stdout",
     "output_type": "stream",
     "text": [
      "Car Type: MidSize-SUV\n"
     ]
    },
    {
     "name": "stderr",
     "output_type": "stream",
     "text": [
      "0: 160x256 1 MidSize-SUV, 1 NumberPlate, 7.9ms\n",
      "Speed: 1.0ms pre-process, 7.9ms inference, 3.0ms postprocess per image at shape (1, 3, 256, 256)\n"
     ]
    },
    {
     "name": "stdout",
     "output_type": "stream",
     "text": [
      "Car Type: MidSize-SUV\n"
     ]
    },
    {
     "name": "stderr",
     "output_type": "stream",
     "text": [
      "0: 160x256 1 MidSize-SUV, 1 NumberPlate, 11.0ms\n",
      "Speed: 1.0ms pre-process, 11.0ms inference, 2.0ms postprocess per image at shape (1, 3, 256, 256)\n"
     ]
    },
    {
     "name": "stdout",
     "output_type": "stream",
     "text": [
      "Car Type: MidSize-SUV\n"
     ]
    },
    {
     "name": "stderr",
     "output_type": "stream",
     "text": [
      "0: 160x256 1 MidSize-SUV, 1 NumberPlate, 8.9ms\n",
      "Speed: 1.0ms pre-process, 8.9ms inference, 2.0ms postprocess per image at shape (1, 3, 256, 256)\n"
     ]
    },
    {
     "name": "stdout",
     "output_type": "stream",
     "text": [
      "Car Type: MidSize-SUV\n"
     ]
    },
    {
     "name": "stderr",
     "output_type": "stream",
     "text": [
      "0: 160x256 1 MidSize-SUV, 1 NumberPlate, 10.0ms\n",
      "Speed: 0.0ms pre-process, 10.0ms inference, 2.0ms postprocess per image at shape (1, 3, 256, 256)\n"
     ]
    },
    {
     "name": "stdout",
     "output_type": "stream",
     "text": [
      "Car Type: MidSize-SUV\n"
     ]
    },
    {
     "name": "stderr",
     "output_type": "stream",
     "text": [
      "0: 160x256 1 MidSize-SUV, 1 NumberPlate, 8.0ms\n",
      "Speed: 0.0ms pre-process, 8.0ms inference, 3.0ms postprocess per image at shape (1, 3, 256, 256)\n"
     ]
    },
    {
     "name": "stdout",
     "output_type": "stream",
     "text": [
      "Car Type: MidSize-SUV\n"
     ]
    },
    {
     "name": "stderr",
     "output_type": "stream",
     "text": [
      "0: 160x256 1 MidSize-SUV, 1 NumberPlate, 9.0ms\n",
      "Speed: 1.0ms pre-process, 9.0ms inference, 2.0ms postprocess per image at shape (1, 3, 256, 256)\n"
     ]
    },
    {
     "name": "stdout",
     "output_type": "stream",
     "text": [
      "Car Type: MidSize-SUV\n"
     ]
    },
    {
     "name": "stderr",
     "output_type": "stream",
     "text": [
      "0: 160x256 1 MidSize-SUV, 1 NumberPlate, 9.0ms\n",
      "Speed: 0.0ms pre-process, 9.0ms inference, 2.0ms postprocess per image at shape (1, 3, 256, 256)\n"
     ]
    },
    {
     "name": "stdout",
     "output_type": "stream",
     "text": [
      "Car Type: MidSize-SUV\n"
     ]
    },
    {
     "name": "stderr",
     "output_type": "stream",
     "text": [
      "0: 160x256 1 MidSize-SUV, 1 NumberPlate, 12.0ms\n",
      "Speed: 1.0ms pre-process, 12.0ms inference, 5.0ms postprocess per image at shape (1, 3, 256, 256)\n"
     ]
    },
    {
     "name": "stdout",
     "output_type": "stream",
     "text": [
      "Car Type: MidSize-SUV\n"
     ]
    },
    {
     "name": "stderr",
     "output_type": "stream",
     "text": [
      "0: 160x256 1 MidSize-SUV, 1 NumberPlate, 9.0ms\n",
      "Speed: 0.0ms pre-process, 9.0ms inference, 2.0ms postprocess per image at shape (1, 3, 256, 256)\n"
     ]
    },
    {
     "name": "stdout",
     "output_type": "stream",
     "text": [
      "Car Type: MidSize-SUV\n"
     ]
    },
    {
     "name": "stderr",
     "output_type": "stream",
     "text": [
      "0: 160x256 1 MidSize-SUV, 1 NumberPlate, 17.0ms\n",
      "Speed: 1.0ms pre-process, 17.0ms inference, 4.0ms postprocess per image at shape (1, 3, 256, 256)\n"
     ]
    },
    {
     "name": "stdout",
     "output_type": "stream",
     "text": [
      "Car Type: MidSize-SUV\n"
     ]
    },
    {
     "name": "stderr",
     "output_type": "stream",
     "text": [
      "0: 160x256 1 MidSize-SUV, 1 NumberPlate, 9.0ms\n",
      "Speed: 1.0ms pre-process, 9.0ms inference, 2.0ms postprocess per image at shape (1, 3, 256, 256)\n"
     ]
    },
    {
     "name": "stdout",
     "output_type": "stream",
     "text": [
      "Car Type: MidSize-SUV\n"
     ]
    },
    {
     "name": "stderr",
     "output_type": "stream",
     "text": [
      "0: 160x256 1 MidSize-SUV, 1 NumberPlate, 9.0ms\n",
      "Speed: 1.0ms pre-process, 9.0ms inference, 2.0ms postprocess per image at shape (1, 3, 256, 256)\n"
     ]
    },
    {
     "name": "stdout",
     "output_type": "stream",
     "text": [
      "Car Type: MidSize-SUV\n"
     ]
    },
    {
     "name": "stderr",
     "output_type": "stream",
     "text": [
      "0: 160x256 1 MidSize-SUV, 1 NumberPlate, 7.9ms\n",
      "Speed: 0.0ms pre-process, 7.9ms inference, 2.0ms postprocess per image at shape (1, 3, 256, 256)\n"
     ]
    },
    {
     "name": "stdout",
     "output_type": "stream",
     "text": [
      "Car Type: MidSize-SUV\n"
     ]
    },
    {
     "name": "stderr",
     "output_type": "stream",
     "text": [
      "0: 160x256 1 MidSize-SUV, 1 NumberPlate, 14.9ms\n",
      "Speed: 1.0ms pre-process, 14.9ms inference, 4.0ms postprocess per image at shape (1, 3, 256, 256)\n"
     ]
    },
    {
     "name": "stdout",
     "output_type": "stream",
     "text": [
      "Car Type: MidSize-SUV\n"
     ]
    },
    {
     "name": "stderr",
     "output_type": "stream",
     "text": [
      "0: 160x256 1 MidSize-SUV, 1 NumberPlate, 7.9ms\n",
      "Speed: 0.0ms pre-process, 7.9ms inference, 2.0ms postprocess per image at shape (1, 3, 256, 256)\n"
     ]
    },
    {
     "name": "stdout",
     "output_type": "stream",
     "text": [
      "Car Type: MidSize-SUV\n"
     ]
    },
    {
     "name": "stderr",
     "output_type": "stream",
     "text": [
      "0: 160x256 1 MidSize-SUV, 1 NumberPlate, 16.0ms\n",
      "Speed: 1.0ms pre-process, 16.0ms inference, 3.0ms postprocess per image at shape (1, 3, 256, 256)\n"
     ]
    },
    {
     "name": "stdout",
     "output_type": "stream",
     "text": [
      "Car Type: MidSize-SUV\n"
     ]
    },
    {
     "name": "stderr",
     "output_type": "stream",
     "text": [
      "0: 160x256 1 MidSize-SUV, 1 NumberPlate, 8.9ms\n",
      "Speed: 0.0ms pre-process, 8.9ms inference, 4.0ms postprocess per image at shape (1, 3, 256, 256)\n"
     ]
    },
    {
     "name": "stdout",
     "output_type": "stream",
     "text": [
      "Car Type: MidSize-SUV\n"
     ]
    },
    {
     "name": "stderr",
     "output_type": "stream",
     "text": [
      "0: 160x256 1 MidSize-SUV, 1 NumberPlate, 15.0ms\n",
      "Speed: 1.0ms pre-process, 15.0ms inference, 3.0ms postprocess per image at shape (1, 3, 256, 256)\n"
     ]
    },
    {
     "name": "stdout",
     "output_type": "stream",
     "text": [
      "Car Type: MidSize-SUV\n"
     ]
    },
    {
     "name": "stderr",
     "output_type": "stream",
     "text": [
      "0: 160x256 1 MidSize-SUV, 1 NumberPlate, 9.0ms\n",
      "Speed: 0.0ms pre-process, 9.0ms inference, 3.0ms postprocess per image at shape (1, 3, 256, 256)\n"
     ]
    },
    {
     "name": "stdout",
     "output_type": "stream",
     "text": [
      "Car Type: MidSize-SUV\n"
     ]
    },
    {
     "name": "stderr",
     "output_type": "stream",
     "text": [
      "0: 160x256 1 MidSize-SUV, 1 NumberPlate, 8.0ms\n",
      "Speed: 1.0ms pre-process, 8.0ms inference, 2.0ms postprocess per image at shape (1, 3, 256, 256)\n"
     ]
    },
    {
     "name": "stdout",
     "output_type": "stream",
     "text": [
      "Car Type: MidSize-SUV\n"
     ]
    },
    {
     "name": "stderr",
     "output_type": "stream",
     "text": [
      "0: 160x256 1 MidSize-SUV, 1 NumberPlate, 8.9ms\n",
      "Speed: 0.0ms pre-process, 8.9ms inference, 2.0ms postprocess per image at shape (1, 3, 256, 256)\n"
     ]
    },
    {
     "name": "stdout",
     "output_type": "stream",
     "text": [
      "Car Type: MidSize-SUV\n"
     ]
    },
    {
     "name": "stderr",
     "output_type": "stream",
     "text": [
      "0: 160x256 1 MidSize-SUV, 1 NumberPlate, 15.0ms\n",
      "Speed: 1.0ms pre-process, 15.0ms inference, 4.0ms postprocess per image at shape (1, 3, 256, 256)\n"
     ]
    },
    {
     "name": "stdout",
     "output_type": "stream",
     "text": [
      "Car Type: MidSize-SUV\n"
     ]
    },
    {
     "name": "stderr",
     "output_type": "stream",
     "text": [
      "0: 160x256 1 MidSize-SUV, 1 NumberPlate, 14.0ms\n",
      "Speed: 1.0ms pre-process, 14.0ms inference, 1.0ms postprocess per image at shape (1, 3, 256, 256)\n"
     ]
    },
    {
     "name": "stdout",
     "output_type": "stream",
     "text": [
      "Car Type: MidSize-SUV\n"
     ]
    },
    {
     "name": "stderr",
     "output_type": "stream",
     "text": [
      "0: 160x256 1 MidSize-SUV, 1 NumberPlate, 9.0ms\n",
      "Speed: 1.0ms pre-process, 9.0ms inference, 2.0ms postprocess per image at shape (1, 3, 256, 256)\n"
     ]
    },
    {
     "name": "stdout",
     "output_type": "stream",
     "text": [
      "Car Type: MidSize-SUV\n"
     ]
    },
    {
     "name": "stderr",
     "output_type": "stream",
     "text": [
      "0: 160x256 1 MidSize-SUV, 1 NumberPlate, 15.0ms\n",
      "Speed: 1.0ms pre-process, 15.0ms inference, 5.0ms postprocess per image at shape (1, 3, 256, 256)\n"
     ]
    },
    {
     "name": "stdout",
     "output_type": "stream",
     "text": [
      "Car Type: MidSize-SUV\n"
     ]
    },
    {
     "name": "stderr",
     "output_type": "stream",
     "text": [
      "0: 160x256 1 MidSize-SUV, 1 NumberPlate, 15.0ms\n",
      "Speed: 1.0ms pre-process, 15.0ms inference, 4.0ms postprocess per image at shape (1, 3, 256, 256)\n"
     ]
    },
    {
     "name": "stdout",
     "output_type": "stream",
     "text": [
      "Car Type: MidSize-SUV\n"
     ]
    },
    {
     "name": "stderr",
     "output_type": "stream",
     "text": [
      "0: 160x256 1 MidSize-SUV, 1 NumberPlate, 8.0ms\n",
      "Speed: 1.0ms pre-process, 8.0ms inference, 2.0ms postprocess per image at shape (1, 3, 256, 256)\n"
     ]
    },
    {
     "name": "stdout",
     "output_type": "stream",
     "text": [
      "Car Type: MidSize-SUV\n"
     ]
    },
    {
     "name": "stderr",
     "output_type": "stream",
     "text": [
      "0: 160x256 1 MidSize-SUV, 1 NumberPlate, 10.0ms\n",
      "Speed: 1.0ms pre-process, 10.0ms inference, 1.0ms postprocess per image at shape (1, 3, 256, 256)\n"
     ]
    },
    {
     "name": "stdout",
     "output_type": "stream",
     "text": [
      "Car Type: MidSize-SUV\n"
     ]
    },
    {
     "name": "stderr",
     "output_type": "stream",
     "text": [
      "0: 160x256 1 MidSize-SUV, 1 NumberPlate, 9.0ms\n",
      "Speed: 0.0ms pre-process, 9.0ms inference, 2.0ms postprocess per image at shape (1, 3, 256, 256)\n"
     ]
    },
    {
     "name": "stdout",
     "output_type": "stream",
     "text": [
      "Car Type: MidSize-SUV\n"
     ]
    },
    {
     "name": "stderr",
     "output_type": "stream",
     "text": [
      "0: 160x256 1 MidSize-SUV, 1 NumberPlate, 9.0ms\n",
      "Speed: 1.0ms pre-process, 9.0ms inference, 2.0ms postprocess per image at shape (1, 3, 256, 256)\n"
     ]
    },
    {
     "name": "stdout",
     "output_type": "stream",
     "text": [
      "Car Type: MidSize-SUV\n"
     ]
    },
    {
     "name": "stderr",
     "output_type": "stream",
     "text": [
      "0: 160x256 1 MidSize-SUV, 1 NumberPlate, 9.0ms\n",
      "Speed: 0.0ms pre-process, 9.0ms inference, 2.0ms postprocess per image at shape (1, 3, 256, 256)\n"
     ]
    },
    {
     "name": "stdout",
     "output_type": "stream",
     "text": [
      "Car Type: MidSize-SUV\n"
     ]
    },
    {
     "name": "stderr",
     "output_type": "stream",
     "text": [
      "0: 160x256 1 MidSize-SUV, 1 NumberPlate, 13.9ms\n",
      "Speed: 1.0ms pre-process, 13.9ms inference, 4.0ms postprocess per image at shape (1, 3, 256, 256)\n"
     ]
    },
    {
     "name": "stdout",
     "output_type": "stream",
     "text": [
      "Car Type: MidSize-SUV\n"
     ]
    },
    {
     "name": "stderr",
     "output_type": "stream",
     "text": [
      "0: 160x256 1 MidSize-SUV, 1 NumberPlate, 8.9ms\n",
      "Speed: 0.0ms pre-process, 8.9ms inference, 3.0ms postprocess per image at shape (1, 3, 256, 256)\n"
     ]
    },
    {
     "name": "stdout",
     "output_type": "stream",
     "text": [
      "Car Type: MidSize-SUV\n"
     ]
    },
    {
     "name": "stderr",
     "output_type": "stream",
     "text": [
      "0: 160x256 1 MidSize-SUV, 1 NumberPlate, 10.0ms\n",
      "Speed: 0.0ms pre-process, 10.0ms inference, 2.0ms postprocess per image at shape (1, 3, 256, 256)\n"
     ]
    },
    {
     "name": "stdout",
     "output_type": "stream",
     "text": [
      "Car Type: MidSize-SUV\n"
     ]
    },
    {
     "name": "stderr",
     "output_type": "stream",
     "text": [
      "0: 160x256 1 MidSize-SUV, 1 NumberPlate, 8.0ms\n",
      "Speed: 1.0ms pre-process, 8.0ms inference, 3.0ms postprocess per image at shape (1, 3, 256, 256)\n"
     ]
    },
    {
     "name": "stdout",
     "output_type": "stream",
     "text": [
      "Car Type: MidSize-SUV\n"
     ]
    },
    {
     "name": "stderr",
     "output_type": "stream",
     "text": [
      "0: 160x256 1 MidSize-SUV, 1 NumberPlate, 9.0ms\n",
      "Speed: 0.0ms pre-process, 9.0ms inference, 3.0ms postprocess per image at shape (1, 3, 256, 256)\n"
     ]
    },
    {
     "name": "stdout",
     "output_type": "stream",
     "text": [
      "Car Type: MidSize-SUV\n"
     ]
    },
    {
     "name": "stderr",
     "output_type": "stream",
     "text": [
      "0: 160x256 1 MidSize-SUV, 1 NumberPlate, 9.9ms\n",
      "Speed: 1.0ms pre-process, 9.9ms inference, 2.0ms postprocess per image at shape (1, 3, 256, 256)\n"
     ]
    },
    {
     "name": "stdout",
     "output_type": "stream",
     "text": [
      "Car Type: MidSize-SUV\n"
     ]
    },
    {
     "name": "stderr",
     "output_type": "stream",
     "text": [
      "0: 160x256 1 MidSize-SUV, 1 NumberPlate, 10.0ms\n",
      "Speed: 1.0ms pre-process, 10.0ms inference, 2.0ms postprocess per image at shape (1, 3, 256, 256)\n"
     ]
    },
    {
     "name": "stdout",
     "output_type": "stream",
     "text": [
      "Car Type: MidSize-SUV\n"
     ]
    },
    {
     "name": "stderr",
     "output_type": "stream",
     "text": [
      "0: 160x256 1 MidSize-SUV, 1 NumberPlate, 8.9ms\n",
      "Speed: 0.0ms pre-process, 8.9ms inference, 2.0ms postprocess per image at shape (1, 3, 256, 256)\n"
     ]
    },
    {
     "name": "stdout",
     "output_type": "stream",
     "text": [
      "Car Type: MidSize-SUV\n"
     ]
    },
    {
     "name": "stderr",
     "output_type": "stream",
     "text": [
      "0: 160x256 1 MidSize-SUV, 1 NumberPlate, 8.9ms\n",
      "Speed: 1.0ms pre-process, 8.9ms inference, 1.0ms postprocess per image at shape (1, 3, 256, 256)\n"
     ]
    },
    {
     "name": "stdout",
     "output_type": "stream",
     "text": [
      "Car Type: MidSize-SUV\n"
     ]
    },
    {
     "name": "stderr",
     "output_type": "stream",
     "text": [
      "0: 160x256 1 MidSize-SUV, 1 NumberPlate, 15.0ms\n",
      "Speed: 1.0ms pre-process, 15.0ms inference, 3.0ms postprocess per image at shape (1, 3, 256, 256)\n"
     ]
    },
    {
     "name": "stdout",
     "output_type": "stream",
     "text": [
      "Car Type: MidSize-SUV\n"
     ]
    },
    {
     "name": "stderr",
     "output_type": "stream",
     "text": [
      "0: 160x256 1 MidSize-SUV, 1 NumberPlate, 15.0ms\n",
      "Speed: 0.0ms pre-process, 15.0ms inference, 3.0ms postprocess per image at shape (1, 3, 256, 256)\n"
     ]
    },
    {
     "name": "stdout",
     "output_type": "stream",
     "text": [
      "Car Type: MidSize-SUV\n"
     ]
    },
    {
     "name": "stderr",
     "output_type": "stream",
     "text": [
      "0: 160x256 1 MidSize-SUV, 1 NumberPlate, 9.0ms\n",
      "Speed: 0.0ms pre-process, 9.0ms inference, 2.0ms postprocess per image at shape (1, 3, 256, 256)\n"
     ]
    },
    {
     "name": "stdout",
     "output_type": "stream",
     "text": [
      "Car Type: MidSize-SUV\n"
     ]
    },
    {
     "name": "stderr",
     "output_type": "stream",
     "text": [
      "0: 160x256 1 MidSize-SUV, 1 NumberPlate, 9.0ms\n",
      "Speed: 1.0ms pre-process, 9.0ms inference, 2.0ms postprocess per image at shape (1, 3, 256, 256)\n"
     ]
    },
    {
     "name": "stdout",
     "output_type": "stream",
     "text": [
      "Car Type: MidSize-SUV\n"
     ]
    },
    {
     "name": "stderr",
     "output_type": "stream",
     "text": [
      "0: 160x256 1 MidSize-SUV, 1 NumberPlate, 10.0ms\n",
      "Speed: 0.0ms pre-process, 10.0ms inference, 2.0ms postprocess per image at shape (1, 3, 256, 256)\n"
     ]
    },
    {
     "name": "stdout",
     "output_type": "stream",
     "text": [
      "Car Type: MidSize-SUV\n"
     ]
    },
    {
     "name": "stderr",
     "output_type": "stream",
     "text": [
      "0: 160x256 1 MidSize-SUV, 1 NumberPlate, 8.0ms\n",
      "Speed: 1.0ms pre-process, 8.0ms inference, 2.0ms postprocess per image at shape (1, 3, 256, 256)\n"
     ]
    },
    {
     "name": "stdout",
     "output_type": "stream",
     "text": [
      "Car Type: MidSize-SUV\n"
     ]
    },
    {
     "name": "stderr",
     "output_type": "stream",
     "text": [
      "0: 160x256 1 MidSize-SUV, 1 NumberPlate, 12.0ms\n",
      "Speed: 0.0ms pre-process, 12.0ms inference, 2.0ms postprocess per image at shape (1, 3, 256, 256)\n"
     ]
    },
    {
     "name": "stdout",
     "output_type": "stream",
     "text": [
      "Car Type: MidSize-SUV\n"
     ]
    },
    {
     "name": "stderr",
     "output_type": "stream",
     "text": [
      "0: 160x256 1 MidSize-SUV, 1 NumberPlate, 11.0ms\n",
      "Speed: 1.0ms pre-process, 11.0ms inference, 2.0ms postprocess per image at shape (1, 3, 256, 256)\n"
     ]
    },
    {
     "name": "stdout",
     "output_type": "stream",
     "text": [
      "Car Type: MidSize-SUV\n"
     ]
    },
    {
     "name": "stderr",
     "output_type": "stream",
     "text": [
      "0: 160x256 1 MidSize-SUV, 1 NumberPlate, 11.0ms\n",
      "Speed: 0.0ms pre-process, 11.0ms inference, 2.0ms postprocess per image at shape (1, 3, 256, 256)\n"
     ]
    },
    {
     "name": "stdout",
     "output_type": "stream",
     "text": [
      "Car Type: MidSize-SUV\n"
     ]
    },
    {
     "name": "stderr",
     "output_type": "stream",
     "text": [
      "0: 160x256 1 MidSize-SUV, 1 NumberPlate, 15.0ms\n",
      "Speed: 1.0ms pre-process, 15.0ms inference, 4.0ms postprocess per image at shape (1, 3, 256, 256)\n"
     ]
    },
    {
     "name": "stdout",
     "output_type": "stream",
     "text": [
      "Car Type: MidSize-SUV\n"
     ]
    },
    {
     "name": "stderr",
     "output_type": "stream",
     "text": [
      "0: 160x256 1 MidSize-SUV, 1 NumberPlate, 8.9ms\n",
      "Speed: 0.0ms pre-process, 8.9ms inference, 2.0ms postprocess per image at shape (1, 3, 256, 256)\n"
     ]
    },
    {
     "name": "stdout",
     "output_type": "stream",
     "text": [
      "Car Type: MidSize-SUV\n"
     ]
    },
    {
     "name": "stderr",
     "output_type": "stream",
     "text": [
      "0: 160x256 1 MidSize-SUV, 1 NumberPlate, 9.0ms\n",
      "Speed: 1.0ms pre-process, 9.0ms inference, 2.0ms postprocess per image at shape (1, 3, 256, 256)\n"
     ]
    },
    {
     "name": "stdout",
     "output_type": "stream",
     "text": [
      "Car Type: MidSize-SUV\n"
     ]
    },
    {
     "name": "stderr",
     "output_type": "stream",
     "text": [
      "0: 160x256 1 MidSize-SUV, 1 NumberPlate, 11.0ms\n",
      "Speed: 0.0ms pre-process, 11.0ms inference, 2.0ms postprocess per image at shape (1, 3, 256, 256)\n"
     ]
    },
    {
     "name": "stdout",
     "output_type": "stream",
     "text": [
      "Car Type: MidSize-SUV\n"
     ]
    },
    {
     "name": "stderr",
     "output_type": "stream",
     "text": [
      "0: 160x256 1 MidSize-SUV, 1 NumberPlate, 10.0ms\n",
      "Speed: 0.0ms pre-process, 10.0ms inference, 1.0ms postprocess per image at shape (1, 3, 256, 256)\n"
     ]
    },
    {
     "name": "stdout",
     "output_type": "stream",
     "text": [
      "Car Type: MidSize-SUV\n"
     ]
    },
    {
     "name": "stderr",
     "output_type": "stream",
     "text": [
      "0: 160x256 1 MidSize-SUV, 1 NumberPlate, 14.0ms\n",
      "Speed: 0.0ms pre-process, 14.0ms inference, 4.0ms postprocess per image at shape (1, 3, 256, 256)\n"
     ]
    },
    {
     "name": "stdout",
     "output_type": "stream",
     "text": [
      "Car Type: MidSize-SUV\n"
     ]
    },
    {
     "name": "stderr",
     "output_type": "stream",
     "text": [
      "0: 160x256 1 MidSize-SUV, 1 NumberPlate, 9.0ms\n",
      "Speed: 1.0ms pre-process, 9.0ms inference, 3.0ms postprocess per image at shape (1, 3, 256, 256)\n"
     ]
    },
    {
     "name": "stdout",
     "output_type": "stream",
     "text": [
      "Car Type: MidSize-SUV\n"
     ]
    },
    {
     "name": "stderr",
     "output_type": "stream",
     "text": [
      "0: 160x256 1 MidSize-SUV, 1 NumberPlate, 9.0ms\n",
      "Speed: 0.0ms pre-process, 9.0ms inference, 2.0ms postprocess per image at shape (1, 3, 256, 256)\n"
     ]
    },
    {
     "name": "stdout",
     "output_type": "stream",
     "text": [
      "Car Type: MidSize-SUV\n"
     ]
    },
    {
     "name": "stderr",
     "output_type": "stream",
     "text": [
      "0: 160x256 1 MidSize-SUV, 1 NumberPlate, 15.9ms\n",
      "Speed: 0.0ms pre-process, 15.9ms inference, 5.0ms postprocess per image at shape (1, 3, 256, 256)\n"
     ]
    },
    {
     "name": "stdout",
     "output_type": "stream",
     "text": [
      "Car Type: MidSize-SUV\n"
     ]
    },
    {
     "name": "stderr",
     "output_type": "stream",
     "text": [
      "0: 160x256 1 MidSize-SUV, 1 NumberPlate, 8.0ms\n",
      "Speed: 1.0ms pre-process, 8.0ms inference, 2.0ms postprocess per image at shape (1, 3, 256, 256)\n"
     ]
    },
    {
     "name": "stdout",
     "output_type": "stream",
     "text": [
      "Car Type: MidSize-SUV\n"
     ]
    },
    {
     "name": "stderr",
     "output_type": "stream",
     "text": [
      "0: 160x256 1 MidSize-SUV, 1 NumberPlate, 10.0ms\n",
      "Speed: 0.0ms pre-process, 10.0ms inference, 2.0ms postprocess per image at shape (1, 3, 256, 256)\n"
     ]
    },
    {
     "name": "stdout",
     "output_type": "stream",
     "text": [
      "Car Type: MidSize-SUV\n"
     ]
    },
    {
     "name": "stderr",
     "output_type": "stream",
     "text": [
      "0: 160x256 1 MidSize-SUV, 1 NumberPlate, 11.0ms\n",
      "Speed: 1.0ms pre-process, 11.0ms inference, 2.0ms postprocess per image at shape (1, 3, 256, 256)\n"
     ]
    },
    {
     "name": "stdout",
     "output_type": "stream",
     "text": [
      "Car Type: MidSize-SUV\n"
     ]
    },
    {
     "name": "stderr",
     "output_type": "stream",
     "text": [
      "0: 160x256 1 MidSize-SUV, 1 NumberPlate, 12.0ms\n",
      "Speed: 1.0ms pre-process, 12.0ms inference, 2.0ms postprocess per image at shape (1, 3, 256, 256)\n"
     ]
    },
    {
     "name": "stdout",
     "output_type": "stream",
     "text": [
      "Car Type: MidSize-SUV\n"
     ]
    },
    {
     "name": "stderr",
     "output_type": "stream",
     "text": [
      "0: 160x256 1 MidSize-SUV, 1 NumberPlate, 10.0ms\n",
      "Speed: 0.0ms pre-process, 10.0ms inference, 1.0ms postprocess per image at shape (1, 3, 256, 256)\n"
     ]
    },
    {
     "name": "stdout",
     "output_type": "stream",
     "text": [
      "Car Type: MidSize-SUV\n"
     ]
    },
    {
     "name": "stderr",
     "output_type": "stream",
     "text": [
      "0: 160x256 1 MidSize-SUV, 1 NumberPlate, 9.0ms\n",
      "Speed: 1.0ms pre-process, 9.0ms inference, 2.0ms postprocess per image at shape (1, 3, 256, 256)\n"
     ]
    },
    {
     "name": "stdout",
     "output_type": "stream",
     "text": [
      "Car Type: MidSize-SUV\n"
     ]
    },
    {
     "name": "stderr",
     "output_type": "stream",
     "text": [
      "0: 160x256 1 MidSize-SUV, 1 NumberPlate, 15.0ms\n",
      "Speed: 1.0ms pre-process, 15.0ms inference, 4.0ms postprocess per image at shape (1, 3, 256, 256)\n"
     ]
    },
    {
     "name": "stdout",
     "output_type": "stream",
     "text": [
      "Car Type: MidSize-SUV\n"
     ]
    },
    {
     "name": "stderr",
     "output_type": "stream",
     "text": [
      "0: 160x256 1 MidSize-SUV, 1 NumberPlate, 9.0ms\n",
      "Speed: 1.0ms pre-process, 9.0ms inference, 4.2ms postprocess per image at shape (1, 3, 256, 256)\n"
     ]
    },
    {
     "name": "stdout",
     "output_type": "stream",
     "text": [
      "Car Type: MidSize-SUV\n"
     ]
    },
    {
     "name": "stderr",
     "output_type": "stream",
     "text": [
      "0: 160x256 1 MidSize-SUV, 1 NumberPlate, 8.0ms\n",
      "Speed: 1.0ms pre-process, 8.0ms inference, 2.0ms postprocess per image at shape (1, 3, 256, 256)\n"
     ]
    },
    {
     "name": "stdout",
     "output_type": "stream",
     "text": [
      "Car Type: MidSize-SUV\n"
     ]
    },
    {
     "name": "stderr",
     "output_type": "stream",
     "text": [
      "0: 160x256 1 MidSize-SUV, 1 NumberPlate, 10.0ms\n",
      "Speed: 0.0ms pre-process, 10.0ms inference, 2.0ms postprocess per image at shape (1, 3, 256, 256)\n"
     ]
    },
    {
     "name": "stdout",
     "output_type": "stream",
     "text": [
      "Car Type: MidSize-SUV\n"
     ]
    },
    {
     "name": "stderr",
     "output_type": "stream",
     "text": [
      "0: 160x256 1 MidSize-SUV, 1 NumberPlate, 8.9ms\n",
      "Speed: 0.0ms pre-process, 8.9ms inference, 2.0ms postprocess per image at shape (1, 3, 256, 256)\n"
     ]
    },
    {
     "name": "stdout",
     "output_type": "stream",
     "text": [
      "Car Type: MidSize-SUV\n"
     ]
    },
    {
     "name": "stderr",
     "output_type": "stream",
     "text": [
      "0: 160x256 1 MidSize-SUV, 1 NumberPlate, 14.0ms\n",
      "Speed: 1.0ms pre-process, 14.0ms inference, 4.0ms postprocess per image at shape (1, 3, 256, 256)\n"
     ]
    },
    {
     "name": "stdout",
     "output_type": "stream",
     "text": [
      "Car Type: MidSize-SUV\n"
     ]
    },
    {
     "name": "stderr",
     "output_type": "stream",
     "text": [
      "0: 160x256 1 MidSize-SUV, 1 NumberPlate, 7.9ms\n",
      "Speed: 1.0ms pre-process, 7.9ms inference, 2.0ms postprocess per image at shape (1, 3, 256, 256)\n"
     ]
    },
    {
     "name": "stdout",
     "output_type": "stream",
     "text": [
      "Car Type: MidSize-SUV\n"
     ]
    },
    {
     "name": "stderr",
     "output_type": "stream",
     "text": [
      "0: 160x256 1 MidSize-SUV, 1 NumberPlate, 9.0ms\n",
      "Speed: 1.0ms pre-process, 9.0ms inference, 4.0ms postprocess per image at shape (1, 3, 256, 256)\n"
     ]
    },
    {
     "name": "stdout",
     "output_type": "stream",
     "text": [
      "Car Type: MidSize-SUV\n"
     ]
    },
    {
     "name": "stderr",
     "output_type": "stream",
     "text": [
      "0: 160x256 1 MidSize-SUV, 1 NumberPlate, 9.0ms\n",
      "Speed: 0.0ms pre-process, 9.0ms inference, 2.0ms postprocess per image at shape (1, 3, 256, 256)\n"
     ]
    },
    {
     "name": "stdout",
     "output_type": "stream",
     "text": [
      "Car Type: MidSize-SUV\n"
     ]
    },
    {
     "name": "stderr",
     "output_type": "stream",
     "text": [
      "0: 160x256 1 MidSize-SUV, 1 NumberPlate, 16.0ms\n",
      "Speed: 1.0ms pre-process, 16.0ms inference, 3.0ms postprocess per image at shape (1, 3, 256, 256)\n"
     ]
    },
    {
     "name": "stdout",
     "output_type": "stream",
     "text": [
      "Car Type: MidSize-SUV\n"
     ]
    },
    {
     "name": "stderr",
     "output_type": "stream",
     "text": [
      "0: 160x256 1 MidSize-SUV, 1 NumberPlate, 14.0ms\n",
      "Speed: 1.0ms pre-process, 14.0ms inference, 2.0ms postprocess per image at shape (1, 3, 256, 256)\n"
     ]
    },
    {
     "name": "stdout",
     "output_type": "stream",
     "text": [
      "Car Type: MidSize-SUV\n"
     ]
    },
    {
     "name": "stderr",
     "output_type": "stream",
     "text": [
      "0: 160x256 1 MidSize-SUV, 1 NumberPlate, 9.0ms\n",
      "Speed: 1.0ms pre-process, 9.0ms inference, 2.0ms postprocess per image at shape (1, 3, 256, 256)\n"
     ]
    },
    {
     "name": "stdout",
     "output_type": "stream",
     "text": [
      "Car Type: MidSize-SUV\n"
     ]
    },
    {
     "name": "stderr",
     "output_type": "stream",
     "text": [
      "0: 160x256 1 MidSize-SUV, 1 NumberPlate, 9.0ms\n",
      "Speed: 0.0ms pre-process, 9.0ms inference, 2.0ms postprocess per image at shape (1, 3, 256, 256)\n"
     ]
    },
    {
     "name": "stdout",
     "output_type": "stream",
     "text": [
      "Car Type: MidSize-SUV\n"
     ]
    },
    {
     "name": "stderr",
     "output_type": "stream",
     "text": [
      "0: 160x256 1 MidSize-SUV, 1 NumberPlate, 9.0ms\n",
      "Speed: 1.0ms pre-process, 9.0ms inference, 2.0ms postprocess per image at shape (1, 3, 256, 256)\n"
     ]
    },
    {
     "name": "stdout",
     "output_type": "stream",
     "text": [
      "Car Type: MidSize-SUV\n"
     ]
    },
    {
     "name": "stderr",
     "output_type": "stream",
     "text": [
      "0: 160x256 1 MidSize-SUV, 1 NumberPlate, 7.9ms\n",
      "Speed: 0.0ms pre-process, 7.9ms inference, 3.0ms postprocess per image at shape (1, 3, 256, 256)\n"
     ]
    },
    {
     "name": "stdout",
     "output_type": "stream",
     "text": [
      "Car Type: MidSize-SUV\n"
     ]
    },
    {
     "name": "stderr",
     "output_type": "stream",
     "text": [
      "0: 160x256 1 MidSize-SUV, 1 NumberPlate, 10.0ms\n",
      "Speed: 0.0ms pre-process, 10.0ms inference, 2.0ms postprocess per image at shape (1, 3, 256, 256)\n"
     ]
    },
    {
     "name": "stdout",
     "output_type": "stream",
     "text": [
      "Car Type: MidSize-SUV\n"
     ]
    },
    {
     "name": "stderr",
     "output_type": "stream",
     "text": [
      "0: 160x256 1 MidSize-SUV, 1 NumberPlate, 9.0ms\n",
      "Speed: 0.0ms pre-process, 9.0ms inference, 2.0ms postprocess per image at shape (1, 3, 256, 256)\n"
     ]
    },
    {
     "name": "stdout",
     "output_type": "stream",
     "text": [
      "Car Type: MidSize-SUV\n"
     ]
    },
    {
     "name": "stderr",
     "output_type": "stream",
     "text": [
      "0: 160x256 1 MidSize-SUV, 1 NumberPlate, 10.9ms\n",
      "Speed: 0.0ms pre-process, 10.9ms inference, 2.0ms postprocess per image at shape (1, 3, 256, 256)\n"
     ]
    },
    {
     "name": "stdout",
     "output_type": "stream",
     "text": [
      "Car Type: MidSize-SUV\n"
     ]
    },
    {
     "name": "stderr",
     "output_type": "stream",
     "text": [
      "0: 160x256 1 MidSize-SUV, 1 NumberPlate, 10.9ms\n",
      "Speed: 0.0ms pre-process, 10.9ms inference, 2.0ms postprocess per image at shape (1, 3, 256, 256)\n"
     ]
    },
    {
     "name": "stdout",
     "output_type": "stream",
     "text": [
      "Car Type: MidSize-SUV\n"
     ]
    },
    {
     "name": "stderr",
     "output_type": "stream",
     "text": [
      "0: 160x256 1 MidSize-SUV, 1 NumberPlate, 12.0ms\n",
      "Speed: 1.0ms pre-process, 12.0ms inference, 2.0ms postprocess per image at shape (1, 3, 256, 256)\n"
     ]
    },
    {
     "name": "stdout",
     "output_type": "stream",
     "text": [
      "Car Type: MidSize-SUV\n"
     ]
    },
    {
     "name": "stderr",
     "output_type": "stream",
     "text": [
      "0: 160x256 1 MidSize-SUV, 1 NumberPlate, 9.0ms\n",
      "Speed: 0.0ms pre-process, 9.0ms inference, 2.0ms postprocess per image at shape (1, 3, 256, 256)\n"
     ]
    },
    {
     "name": "stdout",
     "output_type": "stream",
     "text": [
      "Car Type: MidSize-SUV\n"
     ]
    },
    {
     "name": "stderr",
     "output_type": "stream",
     "text": [
      "0: 160x256 1 MidSize-SUV, 1 NumberPlate, 18.0ms\n",
      "Speed: 0.0ms pre-process, 18.0ms inference, 5.0ms postprocess per image at shape (1, 3, 256, 256)\n"
     ]
    },
    {
     "name": "stdout",
     "output_type": "stream",
     "text": [
      "Car Type: MidSize-SUV\n"
     ]
    },
    {
     "name": "stderr",
     "output_type": "stream",
     "text": [
      "0: 160x256 1 MidSize-SUV, 1 NumberPlate, 9.0ms\n",
      "Speed: 0.0ms pre-process, 9.0ms inference, 2.0ms postprocess per image at shape (1, 3, 256, 256)\n"
     ]
    },
    {
     "name": "stdout",
     "output_type": "stream",
     "text": [
      "Car Type: MidSize-SUV\n"
     ]
    },
    {
     "name": "stderr",
     "output_type": "stream",
     "text": [
      "0: 160x256 1 MidSize-SUV, 1 NumberPlate, 14.0ms\n",
      "Speed: 0.0ms pre-process, 14.0ms inference, 4.0ms postprocess per image at shape (1, 3, 256, 256)\n"
     ]
    },
    {
     "name": "stdout",
     "output_type": "stream",
     "text": [
      "Car Type: MidSize-SUV\n"
     ]
    },
    {
     "name": "stderr",
     "output_type": "stream",
     "text": [
      "0: 160x256 1 MidSize-SUV, 1 NumberPlate, 8.0ms\n",
      "Speed: 0.0ms pre-process, 8.0ms inference, 2.0ms postprocess per image at shape (1, 3, 256, 256)\n"
     ]
    },
    {
     "name": "stdout",
     "output_type": "stream",
     "text": [
      "Car Type: MidSize-SUV\n"
     ]
    },
    {
     "name": "stderr",
     "output_type": "stream",
     "text": [
      "0: 160x256 1 MidSize-SUV, 1 NumberPlate, 14.0ms\n",
      "Speed: 0.0ms pre-process, 14.0ms inference, 4.0ms postprocess per image at shape (1, 3, 256, 256)\n"
     ]
    },
    {
     "name": "stdout",
     "output_type": "stream",
     "text": [
      "Car Type: MidSize-SUV\n"
     ]
    },
    {
     "name": "stderr",
     "output_type": "stream",
     "text": [
      "0: 160x256 1 MidSize-SUV, 1 NumberPlate, 7.9ms\n",
      "Speed: 0.0ms pre-process, 7.9ms inference, 3.0ms postprocess per image at shape (1, 3, 256, 256)\n"
     ]
    },
    {
     "name": "stdout",
     "output_type": "stream",
     "text": [
      "Car Type: MidSize-SUV\n"
     ]
    },
    {
     "name": "stderr",
     "output_type": "stream",
     "text": [
      "0: 160x256 1 MidSize-SUV, 1 NumberPlate, 9.0ms\n",
      "Speed: 1.0ms pre-process, 9.0ms inference, 2.0ms postprocess per image at shape (1, 3, 256, 256)\n"
     ]
    },
    {
     "name": "stdout",
     "output_type": "stream",
     "text": [
      "Car Type: MidSize-SUV\n"
     ]
    },
    {
     "name": "stderr",
     "output_type": "stream",
     "text": [
      "0: 160x256 1 MidSize-SUV, 1 NumberPlate, 8.9ms\n",
      "Speed: 0.0ms pre-process, 8.9ms inference, 2.0ms postprocess per image at shape (1, 3, 256, 256)\n"
     ]
    },
    {
     "name": "stdout",
     "output_type": "stream",
     "text": [
      "Car Type: MidSize-SUV\n"
     ]
    },
    {
     "name": "stderr",
     "output_type": "stream",
     "text": [
      "0: 160x256 1 MidSize-SUV, 1 NumberPlate, 8.0ms\n",
      "Speed: 1.0ms pre-process, 8.0ms inference, 2.0ms postprocess per image at shape (1, 3, 256, 256)\n"
     ]
    },
    {
     "name": "stdout",
     "output_type": "stream",
     "text": [
      "Car Type: MidSize-SUV\n"
     ]
    },
    {
     "name": "stderr",
     "output_type": "stream",
     "text": [
      "0: 160x256 1 MidSize-SUV, 1 NumberPlate, 9.0ms\n",
      "Speed: 0.0ms pre-process, 9.0ms inference, 2.0ms postprocess per image at shape (1, 3, 256, 256)\n"
     ]
    },
    {
     "name": "stdout",
     "output_type": "stream",
     "text": [
      "Car Type: MidSize-SUV\n"
     ]
    },
    {
     "name": "stderr",
     "output_type": "stream",
     "text": [
      "0: 160x256 1 MidSize-SUV, 1 NumberPlate, 9.0ms\n",
      "Speed: 1.0ms pre-process, 9.0ms inference, 2.0ms postprocess per image at shape (1, 3, 256, 256)\n"
     ]
    },
    {
     "name": "stdout",
     "output_type": "stream",
     "text": [
      "Car Type: MidSize-SUV\n"
     ]
    },
    {
     "name": "stderr",
     "output_type": "stream",
     "text": [
      "0: 160x256 1 MidSize-SUV, 1 NumberPlate, 8.9ms\n",
      "Speed: 0.0ms pre-process, 8.9ms inference, 2.0ms postprocess per image at shape (1, 3, 256, 256)\n"
     ]
    },
    {
     "name": "stdout",
     "output_type": "stream",
     "text": [
      "Car Type: MidSize-SUV\n"
     ]
    },
    {
     "name": "stderr",
     "output_type": "stream",
     "text": [
      "0: 160x256 1 MidSize-SUV, 1 NumberPlate, 11.0ms\n",
      "Speed: 1.0ms pre-process, 11.0ms inference, 2.0ms postprocess per image at shape (1, 3, 256, 256)\n"
     ]
    },
    {
     "name": "stdout",
     "output_type": "stream",
     "text": [
      "Car Type: MidSize-SUV\n"
     ]
    },
    {
     "name": "stderr",
     "output_type": "stream",
     "text": [
      "0: 160x256 1 MidSize-SUV, 1 NumberPlate, 8.0ms\n",
      "Speed: 0.0ms pre-process, 8.0ms inference, 3.0ms postprocess per image at shape (1, 3, 256, 256)\n"
     ]
    },
    {
     "name": "stdout",
     "output_type": "stream",
     "text": [
      "Car Type: MidSize-SUV\n"
     ]
    },
    {
     "name": "stderr",
     "output_type": "stream",
     "text": [
      "0: 160x256 1 MidSize-SUV, 1 NumberPlate, 9.0ms\n",
      "Speed: 1.0ms pre-process, 9.0ms inference, 2.0ms postprocess per image at shape (1, 3, 256, 256)\n"
     ]
    },
    {
     "name": "stdout",
     "output_type": "stream",
     "text": [
      "Car Type: MidSize-SUV\n"
     ]
    },
    {
     "name": "stderr",
     "output_type": "stream",
     "text": [
      "0: 160x256 1 MidSize-SUV, 1 NumberPlate, 10.0ms\n",
      "Speed: 1.0ms pre-process, 10.0ms inference, 2.0ms postprocess per image at shape (1, 3, 256, 256)\n"
     ]
    },
    {
     "name": "stdout",
     "output_type": "stream",
     "text": [
      "Car Type: MidSize-SUV\n"
     ]
    },
    {
     "name": "stderr",
     "output_type": "stream",
     "text": [
      "0: 160x256 1 MidSize-SUV, 1 NumberPlate, 9.0ms\n",
      "Speed: 0.0ms pre-process, 9.0ms inference, 1.0ms postprocess per image at shape (1, 3, 256, 256)\n"
     ]
    },
    {
     "name": "stdout",
     "output_type": "stream",
     "text": [
      "Car Type: MidSize-SUV\n"
     ]
    },
    {
     "name": "stderr",
     "output_type": "stream",
     "text": [
      "0: 160x256 1 MidSize-SUV, 1 NumberPlate, 8.9ms\n",
      "Speed: 0.0ms pre-process, 8.9ms inference, 2.0ms postprocess per image at shape (1, 3, 256, 256)\n"
     ]
    },
    {
     "name": "stdout",
     "output_type": "stream",
     "text": [
      "Car Type: MidSize-SUV\n"
     ]
    },
    {
     "name": "stderr",
     "output_type": "stream",
     "text": [
      "0: 160x256 1 MidSize-SUV, 1 NumberPlate, 9.0ms\n",
      "Speed: 0.0ms pre-process, 9.0ms inference, 2.0ms postprocess per image at shape (1, 3, 256, 256)\n"
     ]
    },
    {
     "name": "stdout",
     "output_type": "stream",
     "text": [
      "Car Type: MidSize-SUV\n"
     ]
    },
    {
     "name": "stderr",
     "output_type": "stream",
     "text": [
      "0: 160x256 1 MidSize-SUV, 1 NumberPlate, 10.0ms\n",
      "Speed: 0.0ms pre-process, 10.0ms inference, 1.0ms postprocess per image at shape (1, 3, 256, 256)\n"
     ]
    },
    {
     "name": "stdout",
     "output_type": "stream",
     "text": [
      "Car Type: MidSize-SUV\n"
     ]
    },
    {
     "name": "stderr",
     "output_type": "stream",
     "text": [
      "0: 160x256 1 MidSize-SUV, 1 NumberPlate, 10.0ms\n",
      "Speed: 1.0ms pre-process, 10.0ms inference, 2.0ms postprocess per image at shape (1, 3, 256, 256)\n"
     ]
    },
    {
     "name": "stdout",
     "output_type": "stream",
     "text": [
      "Car Type: MidSize-SUV\n"
     ]
    },
    {
     "name": "stderr",
     "output_type": "stream",
     "text": [
      "0: 160x256 1 MidSize-SUV, 1 NumberPlate, 12.9ms\n",
      "Speed: 1.0ms pre-process, 12.9ms inference, 4.0ms postprocess per image at shape (1, 3, 256, 256)\n"
     ]
    },
    {
     "name": "stdout",
     "output_type": "stream",
     "text": [
      "Car Type: MidSize-SUV\n"
     ]
    },
    {
     "name": "stderr",
     "output_type": "stream",
     "text": [
      "0: 160x256 1 MidSize-SUV, 1 NumberPlate, 9.0ms\n",
      "Speed: 1.0ms pre-process, 9.0ms inference, 2.0ms postprocess per image at shape (1, 3, 256, 256)\n"
     ]
    },
    {
     "name": "stdout",
     "output_type": "stream",
     "text": [
      "Car Type: MidSize-SUV\n"
     ]
    },
    {
     "name": "stderr",
     "output_type": "stream",
     "text": [
      "0: 160x256 1 MidSize-SUV, 1 NumberPlate, 9.0ms\n",
      "Speed: 1.0ms pre-process, 9.0ms inference, 1.0ms postprocess per image at shape (1, 3, 256, 256)\n"
     ]
    },
    {
     "name": "stdout",
     "output_type": "stream",
     "text": [
      "Car Type: MidSize-SUV\n"
     ]
    },
    {
     "name": "stderr",
     "output_type": "stream",
     "text": [
      "0: 160x256 1 MidSize-SUV, 1 NumberPlate, 9.0ms\n",
      "Speed: 1.0ms pre-process, 9.0ms inference, 2.0ms postprocess per image at shape (1, 3, 256, 256)\n"
     ]
    },
    {
     "name": "stdout",
     "output_type": "stream",
     "text": [
      "Car Type: MidSize-SUV\n"
     ]
    },
    {
     "name": "stderr",
     "output_type": "stream",
     "text": [
      "0: 160x256 1 MidSize-SUV, 1 NumberPlate, 10.0ms\n",
      "Speed: 0.0ms pre-process, 10.0ms inference, 2.0ms postprocess per image at shape (1, 3, 256, 256)\n"
     ]
    },
    {
     "name": "stdout",
     "output_type": "stream",
     "text": [
      "Car Type: MidSize-SUV\n"
     ]
    },
    {
     "name": "stderr",
     "output_type": "stream",
     "text": [
      "0: 160x256 1 MidSize-SUV, 1 NumberPlate, 15.0ms\n",
      "Speed: 1.0ms pre-process, 15.0ms inference, 4.0ms postprocess per image at shape (1, 3, 256, 256)\n"
     ]
    },
    {
     "name": "stdout",
     "output_type": "stream",
     "text": [
      "Car Type: MidSize-SUV\n"
     ]
    },
    {
     "name": "stderr",
     "output_type": "stream",
     "text": [
      "0: 160x256 1 MidSize-SUV, 1 NumberPlate, 11.0ms\n",
      "Speed: 1.0ms pre-process, 11.0ms inference, 2.0ms postprocess per image at shape (1, 3, 256, 256)\n"
     ]
    },
    {
     "name": "stdout",
     "output_type": "stream",
     "text": [
      "Car Type: MidSize-SUV\n"
     ]
    },
    {
     "name": "stderr",
     "output_type": "stream",
     "text": [
      "0: 160x256 1 MidSize-SUV, 1 NumberPlate, 15.9ms\n",
      "Speed: 0.0ms pre-process, 15.9ms inference, 6.0ms postprocess per image at shape (1, 3, 256, 256)\n"
     ]
    },
    {
     "name": "stdout",
     "output_type": "stream",
     "text": [
      "Car Type: MidSize-SUV\n"
     ]
    },
    {
     "name": "stderr",
     "output_type": "stream",
     "text": [
      "0: 160x256 1 MidSize-SUV, 1 NumberPlate, 8.9ms\n",
      "Speed: 0.0ms pre-process, 8.9ms inference, 2.0ms postprocess per image at shape (1, 3, 256, 256)\n"
     ]
    },
    {
     "name": "stdout",
     "output_type": "stream",
     "text": [
      "Car Type: MidSize-SUV\n"
     ]
    },
    {
     "name": "stderr",
     "output_type": "stream",
     "text": [
      "0: 160x256 1 MidSize-SUV, 1 NumberPlate, 8.0ms\n",
      "Speed: 1.0ms pre-process, 8.0ms inference, 2.0ms postprocess per image at shape (1, 3, 256, 256)\n"
     ]
    },
    {
     "name": "stdout",
     "output_type": "stream",
     "text": [
      "Car Type: MidSize-SUV\n"
     ]
    },
    {
     "name": "stderr",
     "output_type": "stream",
     "text": [
      "0: 160x256 1 MidSize-SUV, 1 NumberPlate, 8.0ms\n",
      "Speed: 1.0ms pre-process, 8.0ms inference, 3.0ms postprocess per image at shape (1, 3, 256, 256)\n"
     ]
    },
    {
     "name": "stdout",
     "output_type": "stream",
     "text": [
      "Car Type: MidSize-SUV\n"
     ]
    },
    {
     "name": "stderr",
     "output_type": "stream",
     "text": [
      "0: 160x256 1 MidSize-SUV, 1 NumberPlate, 8.0ms\n",
      "Speed: 1.0ms pre-process, 8.0ms inference, 2.0ms postprocess per image at shape (1, 3, 256, 256)\n"
     ]
    },
    {
     "name": "stdout",
     "output_type": "stream",
     "text": [
      "Car Type: MidSize-SUV\n"
     ]
    },
    {
     "name": "stderr",
     "output_type": "stream",
     "text": [
      "0: 160x256 1 MidSize-SUV, 1 NumberPlate, 9.0ms\n",
      "Speed: 0.0ms pre-process, 9.0ms inference, 2.0ms postprocess per image at shape (1, 3, 256, 256)\n"
     ]
    },
    {
     "name": "stdout",
     "output_type": "stream",
     "text": [
      "Car Type: MidSize-SUV\n"
     ]
    },
    {
     "name": "stderr",
     "output_type": "stream",
     "text": [
      "0: 160x256 1 MidSize-SUV, 1 NumberPlate, 9.0ms\n",
      "Speed: 0.0ms pre-process, 9.0ms inference, 2.0ms postprocess per image at shape (1, 3, 256, 256)\n"
     ]
    },
    {
     "name": "stdout",
     "output_type": "stream",
     "text": [
      "Car Type: MidSize-SUV\n"
     ]
    },
    {
     "name": "stderr",
     "output_type": "stream",
     "text": [
      "0: 160x256 1 MidSize-SUV, 1 NumberPlate, 12.0ms\n",
      "Speed: 0.0ms pre-process, 12.0ms inference, 2.0ms postprocess per image at shape (1, 3, 256, 256)\n"
     ]
    },
    {
     "name": "stdout",
     "output_type": "stream",
     "text": [
      "Car Type: MidSize-SUV\n"
     ]
    },
    {
     "name": "stderr",
     "output_type": "stream",
     "text": [
      "0: 160x256 1 MidSize-SUV, 1 NumberPlate, 9.0ms\n",
      "Speed: 1.0ms pre-process, 9.0ms inference, 2.0ms postprocess per image at shape (1, 3, 256, 256)\n"
     ]
    },
    {
     "name": "stdout",
     "output_type": "stream",
     "text": [
      "Car Type: MidSize-SUV\n"
     ]
    },
    {
     "name": "stderr",
     "output_type": "stream",
     "text": [
      "0: 160x256 1 MidSize-SUV, 1 NumberPlate, 9.0ms\n",
      "Speed: 0.0ms pre-process, 9.0ms inference, 2.0ms postprocess per image at shape (1, 3, 256, 256)\n"
     ]
    },
    {
     "name": "stdout",
     "output_type": "stream",
     "text": [
      "Car Type: MidSize-SUV\n"
     ]
    },
    {
     "name": "stderr",
     "output_type": "stream",
     "text": [
      "0: 160x256 1 MidSize-SUV, 1 NumberPlate, 9.0ms\n",
      "Speed: 1.0ms pre-process, 9.0ms inference, 3.0ms postprocess per image at shape (1, 3, 256, 256)\n"
     ]
    },
    {
     "name": "stdout",
     "output_type": "stream",
     "text": [
      "Car Type: MidSize-SUV\n"
     ]
    },
    {
     "name": "stderr",
     "output_type": "stream",
     "text": [
      "0: 160x256 1 MidSize-SUV, 1 NumberPlate, 9.0ms\n",
      "Speed: 0.0ms pre-process, 9.0ms inference, 3.0ms postprocess per image at shape (1, 3, 256, 256)\n"
     ]
    },
    {
     "name": "stdout",
     "output_type": "stream",
     "text": [
      "Car Type: MidSize-SUV\n"
     ]
    },
    {
     "name": "stderr",
     "output_type": "stream",
     "text": [
      "0: 160x256 1 MidSize-SUV, 1 NumberPlate, 15.0ms\n",
      "Speed: 1.0ms pre-process, 15.0ms inference, 5.0ms postprocess per image at shape (1, 3, 256, 256)\n"
     ]
    },
    {
     "name": "stdout",
     "output_type": "stream",
     "text": [
      "Car Type: MidSize-SUV\n"
     ]
    },
    {
     "name": "stderr",
     "output_type": "stream",
     "text": [
      "0: 160x256 1 MidSize-SUV, 1 NumberPlate, 9.0ms\n",
      "Speed: 0.0ms pre-process, 9.0ms inference, 2.0ms postprocess per image at shape (1, 3, 256, 256)\n"
     ]
    },
    {
     "name": "stdout",
     "output_type": "stream",
     "text": [
      "Car Type: MidSize-SUV\n"
     ]
    },
    {
     "name": "stderr",
     "output_type": "stream",
     "text": [
      "0: 160x256 1 MidSize-SUV, 1 NumberPlate, 9.0ms\n",
      "Speed: 1.0ms pre-process, 9.0ms inference, 2.0ms postprocess per image at shape (1, 3, 256, 256)\n"
     ]
    },
    {
     "name": "stdout",
     "output_type": "stream",
     "text": [
      "Car Type: MidSize-SUV\n"
     ]
    },
    {
     "name": "stderr",
     "output_type": "stream",
     "text": [
      "0: 160x256 1 MidSize-SUV, 1 NumberPlate, 8.0ms\n",
      "Speed: 1.0ms pre-process, 8.0ms inference, 2.0ms postprocess per image at shape (1, 3, 256, 256)\n"
     ]
    },
    {
     "name": "stdout",
     "output_type": "stream",
     "text": [
      "Car Type: MidSize-SUV\n"
     ]
    },
    {
     "name": "stderr",
     "output_type": "stream",
     "text": [
      "0: 160x256 1 MidSize-SUV, 1 NumberPlate, 15.0ms\n",
      "Speed: 0.0ms pre-process, 15.0ms inference, 3.0ms postprocess per image at shape (1, 3, 256, 256)\n"
     ]
    },
    {
     "name": "stdout",
     "output_type": "stream",
     "text": [
      "Car Type: MidSize-SUV\n"
     ]
    },
    {
     "name": "stderr",
     "output_type": "stream",
     "text": [
      "0: 160x256 1 MidSize-SUV, 1 NumberPlate, 9.0ms\n",
      "Speed: 0.0ms pre-process, 9.0ms inference, 2.0ms postprocess per image at shape (1, 3, 256, 256)\n"
     ]
    },
    {
     "name": "stdout",
     "output_type": "stream",
     "text": [
      "Car Type: MidSize-SUV\n"
     ]
    },
    {
     "name": "stderr",
     "output_type": "stream",
     "text": [
      "0: 160x256 1 MidSize-SUV, 1 NumberPlate, 10.0ms\n",
      "Speed: 0.0ms pre-process, 10.0ms inference, 2.0ms postprocess per image at shape (1, 3, 256, 256)\n"
     ]
    },
    {
     "name": "stdout",
     "output_type": "stream",
     "text": [
      "Car Type: MidSize-SUV\n"
     ]
    },
    {
     "name": "stderr",
     "output_type": "stream",
     "text": [
      "0: 160x256 1 MidSize-SUV, 1 NumberPlate, 9.0ms\n",
      "Speed: 0.0ms pre-process, 9.0ms inference, 2.0ms postprocess per image at shape (1, 3, 256, 256)\n"
     ]
    },
    {
     "name": "stdout",
     "output_type": "stream",
     "text": [
      "Car Type: MidSize-SUV\n"
     ]
    },
    {
     "name": "stderr",
     "output_type": "stream",
     "text": [
      "0: 160x256 1 MidSize-SUV, 1 NumberPlate, 16.0ms\n",
      "Speed: 1.0ms pre-process, 16.0ms inference, 3.0ms postprocess per image at shape (1, 3, 256, 256)\n"
     ]
    },
    {
     "name": "stdout",
     "output_type": "stream",
     "text": [
      "Car Type: MidSize-SUV\n"
     ]
    },
    {
     "name": "stderr",
     "output_type": "stream",
     "text": [
      "0: 160x256 1 MidSize-SUV, 1 NumberPlate, 15.0ms\n",
      "Speed: 1.0ms pre-process, 15.0ms inference, 4.0ms postprocess per image at shape (1, 3, 256, 256)\n"
     ]
    },
    {
     "name": "stdout",
     "output_type": "stream",
     "text": [
      "Car Type: MidSize-SUV\n"
     ]
    },
    {
     "name": "stderr",
     "output_type": "stream",
     "text": [
      "0: 160x256 1 MidSize-SUV, 1 NumberPlate, 9.0ms\n",
      "Speed: 1.0ms pre-process, 9.0ms inference, 2.0ms postprocess per image at shape (1, 3, 256, 256)\n"
     ]
    },
    {
     "name": "stdout",
     "output_type": "stream",
     "text": [
      "Car Type: MidSize-SUV\n"
     ]
    },
    {
     "name": "stderr",
     "output_type": "stream",
     "text": [
      "0: 160x256 1 MidSize-SUV, 1 NumberPlate, 10.0ms\n",
      "Speed: 0.0ms pre-process, 10.0ms inference, 1.0ms postprocess per image at shape (1, 3, 256, 256)\n"
     ]
    },
    {
     "name": "stdout",
     "output_type": "stream",
     "text": [
      "Car Type: MidSize-SUV\n"
     ]
    },
    {
     "name": "stderr",
     "output_type": "stream",
     "text": [
      "0: 160x256 1 MidSize-SUV, 1 NumberPlate, 14.0ms\n",
      "Speed: 1.0ms pre-process, 14.0ms inference, 4.0ms postprocess per image at shape (1, 3, 256, 256)\n"
     ]
    },
    {
     "name": "stdout",
     "output_type": "stream",
     "text": [
      "Car Type: MidSize-SUV\n"
     ]
    },
    {
     "name": "stderr",
     "output_type": "stream",
     "text": [
      "0: 160x256 1 MidSize-SUV, 1 NumberPlate, 8.9ms\n",
      "Speed: 0.0ms pre-process, 8.9ms inference, 2.0ms postprocess per image at shape (1, 3, 256, 256)\n"
     ]
    },
    {
     "name": "stdout",
     "output_type": "stream",
     "text": [
      "Car Type: MidSize-SUV\n"
     ]
    },
    {
     "name": "stderr",
     "output_type": "stream",
     "text": [
      "0: 160x256 1 MidSize-SUV, 1 NumberPlate, 10.0ms\n",
      "Speed: 0.0ms pre-process, 10.0ms inference, 2.0ms postprocess per image at shape (1, 3, 256, 256)\n"
     ]
    },
    {
     "name": "stdout",
     "output_type": "stream",
     "text": [
      "Car Type: MidSize-SUV\n"
     ]
    },
    {
     "name": "stderr",
     "output_type": "stream",
     "text": [
      "0: 160x256 1 MidSize-SUV, 1 NumberPlate, 10.0ms\n",
      "Speed: 1.0ms pre-process, 10.0ms inference, 3.0ms postprocess per image at shape (1, 3, 256, 256)\n"
     ]
    },
    {
     "name": "stdout",
     "output_type": "stream",
     "text": [
      "Car Type: MidSize-SUV\n"
     ]
    },
    {
     "name": "stderr",
     "output_type": "stream",
     "text": [
      "0: 160x256 1 MidSize-SUV, 1 NumberPlate, 9.0ms\n",
      "Speed: 0.0ms pre-process, 9.0ms inference, 2.0ms postprocess per image at shape (1, 3, 256, 256)\n"
     ]
    },
    {
     "name": "stdout",
     "output_type": "stream",
     "text": [
      "Car Type: MidSize-SUV\n"
     ]
    },
    {
     "name": "stderr",
     "output_type": "stream",
     "text": [
      "0: 160x256 1 MidSize-SUV, 1 NumberPlate, 10.0ms\n",
      "Speed: 0.0ms pre-process, 10.0ms inference, 1.0ms postprocess per image at shape (1, 3, 256, 256)\n"
     ]
    },
    {
     "name": "stdout",
     "output_type": "stream",
     "text": [
      "Car Type: MidSize-SUV\n"
     ]
    },
    {
     "name": "stderr",
     "output_type": "stream",
     "text": [
      "0: 160x256 1 MidSize-SUV, 1 NumberPlate, 10.0ms\n",
      "Speed: 0.0ms pre-process, 10.0ms inference, 2.0ms postprocess per image at shape (1, 3, 256, 256)\n"
     ]
    },
    {
     "name": "stdout",
     "output_type": "stream",
     "text": [
      "Car Type: MidSize-SUV\n"
     ]
    },
    {
     "name": "stderr",
     "output_type": "stream",
     "text": [
      "0: 160x256 1 MidSize-SUV, 1 NumberPlate, 9.0ms\n",
      "Speed: 1.0ms pre-process, 9.0ms inference, 2.0ms postprocess per image at shape (1, 3, 256, 256)\n"
     ]
    },
    {
     "name": "stdout",
     "output_type": "stream",
     "text": [
      "Car Type: MidSize-SUV\n"
     ]
    },
    {
     "name": "stderr",
     "output_type": "stream",
     "text": [
      "0: 160x256 1 MidSize-SUV, 1 NumberPlate, 15.0ms\n",
      "Speed: 1.0ms pre-process, 15.0ms inference, 3.0ms postprocess per image at shape (1, 3, 256, 256)\n"
     ]
    },
    {
     "name": "stdout",
     "output_type": "stream",
     "text": [
      "Car Type: MidSize-SUV\n"
     ]
    },
    {
     "name": "stderr",
     "output_type": "stream",
     "text": [
      "0: 160x256 1 MidSize-SUV, 1 NumberPlate, 8.0ms\n",
      "Speed: 0.9ms pre-process, 8.0ms inference, 2.0ms postprocess per image at shape (1, 3, 256, 256)\n"
     ]
    },
    {
     "name": "stdout",
     "output_type": "stream",
     "text": [
      "Car Type: MidSize-SUV\n"
     ]
    },
    {
     "name": "stderr",
     "output_type": "stream",
     "text": [
      "0: 160x256 1 MidSize-SUV, 1 NumberPlate, 8.9ms\n",
      "Speed: 0.0ms pre-process, 8.9ms inference, 2.0ms postprocess per image at shape (1, 3, 256, 256)\n"
     ]
    },
    {
     "name": "stdout",
     "output_type": "stream",
     "text": [
      "Car Type: MidSize-SUV\n"
     ]
    },
    {
     "name": "stderr",
     "output_type": "stream",
     "text": [
      "0: 160x256 1 MidSize-SUV, 1 NumberPlate, 7.9ms\n",
      "Speed: 0.0ms pre-process, 7.9ms inference, 2.0ms postprocess per image at shape (1, 3, 256, 256)\n"
     ]
    },
    {
     "name": "stdout",
     "output_type": "stream",
     "text": [
      "Car Type: MidSize-SUV\n"
     ]
    },
    {
     "name": "stderr",
     "output_type": "stream",
     "text": [
      "0: 160x256 1 MidSize-SUV, 1 NumberPlate, 8.9ms\n",
      "Speed: 1.0ms pre-process, 8.9ms inference, 2.0ms postprocess per image at shape (1, 3, 256, 256)\n"
     ]
    },
    {
     "name": "stdout",
     "output_type": "stream",
     "text": [
      "Car Type: MidSize-SUV\n"
     ]
    },
    {
     "name": "stderr",
     "output_type": "stream",
     "text": [
      "0: 160x256 1 MidSize-SUV, 1 NumberPlate, 10.0ms\n",
      "Speed: 0.0ms pre-process, 10.0ms inference, 3.0ms postprocess per image at shape (1, 3, 256, 256)\n"
     ]
    },
    {
     "name": "stdout",
     "output_type": "stream",
     "text": [
      "Car Type: MidSize-SUV\n"
     ]
    },
    {
     "name": "stderr",
     "output_type": "stream",
     "text": [
      "0: 160x256 1 MidSize-SUV, 1 NumberPlate, 15.0ms\n",
      "Speed: 0.0ms pre-process, 15.0ms inference, 4.0ms postprocess per image at shape (1, 3, 256, 256)\n"
     ]
    },
    {
     "name": "stdout",
     "output_type": "stream",
     "text": [
      "Car Type: MidSize-SUV\n"
     ]
    },
    {
     "name": "stderr",
     "output_type": "stream",
     "text": [
      "0: 160x256 1 MidSize-SUV, 1 NumberPlate, 8.9ms\n",
      "Speed: 0.0ms pre-process, 8.9ms inference, 2.0ms postprocess per image at shape (1, 3, 256, 256)\n"
     ]
    },
    {
     "name": "stdout",
     "output_type": "stream",
     "text": [
      "Car Type: MidSize-SUV\n"
     ]
    },
    {
     "name": "stderr",
     "output_type": "stream",
     "text": [
      "0: 160x256 1 MidSize-SUV, 1 NumberPlate, 16.0ms\n",
      "Speed: 1.0ms pre-process, 16.0ms inference, 3.0ms postprocess per image at shape (1, 3, 256, 256)\n"
     ]
    },
    {
     "name": "stdout",
     "output_type": "stream",
     "text": [
      "Car Type: MidSize-SUV\n"
     ]
    },
    {
     "name": "stderr",
     "output_type": "stream",
     "text": [
      "0: 160x256 1 MidSize-SUV, 1 NumberPlate, 9.0ms\n",
      "Speed: 1.0ms pre-process, 9.0ms inference, 1.0ms postprocess per image at shape (1, 3, 256, 256)\n"
     ]
    },
    {
     "name": "stdout",
     "output_type": "stream",
     "text": [
      "Car Type: MidSize-SUV\n"
     ]
    },
    {
     "name": "stderr",
     "output_type": "stream",
     "text": [
      "0: 160x256 1 MidSize-SUV, 1 NumberPlate, 9.0ms\n",
      "Speed: 1.0ms pre-process, 9.0ms inference, 2.0ms postprocess per image at shape (1, 3, 256, 256)\n"
     ]
    },
    {
     "name": "stdout",
     "output_type": "stream",
     "text": [
      "Car Type: MidSize-SUV\n"
     ]
    },
    {
     "name": "stderr",
     "output_type": "stream",
     "text": [
      "0: 160x256 1 MidSize-SUV, 1 NumberPlate, 8.0ms\n",
      "Speed: 1.0ms pre-process, 8.0ms inference, 3.0ms postprocess per image at shape (1, 3, 256, 256)\n"
     ]
    },
    {
     "name": "stdout",
     "output_type": "stream",
     "text": [
      "Car Type: MidSize-SUV\n"
     ]
    },
    {
     "name": "stderr",
     "output_type": "stream",
     "text": [
      "0: 160x256 1 MidSize-SUV, 1 NumberPlate, 8.0ms\n",
      "Speed: 1.0ms pre-process, 8.0ms inference, 3.0ms postprocess per image at shape (1, 3, 256, 256)\n"
     ]
    },
    {
     "name": "stdout",
     "output_type": "stream",
     "text": [
      "Car Type: MidSize-SUV\n"
     ]
    },
    {
     "name": "stderr",
     "output_type": "stream",
     "text": [
      "0: 160x256 1 MidSize-SUV, 1 NumberPlate, 8.9ms\n",
      "Speed: 0.0ms pre-process, 8.9ms inference, 2.0ms postprocess per image at shape (1, 3, 256, 256)\n"
     ]
    },
    {
     "name": "stdout",
     "output_type": "stream",
     "text": [
      "Car Type: MidSize-SUV\n"
     ]
    },
    {
     "name": "stderr",
     "output_type": "stream",
     "text": [
      "0: 160x256 1 MidSize-SUV, 1 NumberPlate, 9.0ms\n",
      "Speed: 0.0ms pre-process, 9.0ms inference, 2.0ms postprocess per image at shape (1, 3, 256, 256)\n"
     ]
    },
    {
     "name": "stdout",
     "output_type": "stream",
     "text": [
      "Car Type: MidSize-SUV\n"
     ]
    },
    {
     "name": "stderr",
     "output_type": "stream",
     "text": [
      "0: 160x256 1 MidSize-SUV, 1 NumberPlate, 8.0ms\n",
      "Speed: 1.0ms pre-process, 8.0ms inference, 2.0ms postprocess per image at shape (1, 3, 256, 256)\n"
     ]
    },
    {
     "name": "stdout",
     "output_type": "stream",
     "text": [
      "Car Type: MidSize-SUV\n"
     ]
    },
    {
     "name": "stderr",
     "output_type": "stream",
     "text": [
      "0: 160x256 1 MidSize-SUV, 1 NumberPlate, 16.0ms\n",
      "Speed: 1.0ms pre-process, 16.0ms inference, 4.0ms postprocess per image at shape (1, 3, 256, 256)\n"
     ]
    },
    {
     "name": "stdout",
     "output_type": "stream",
     "text": [
      "Car Type: MidSize-SUV\n"
     ]
    },
    {
     "name": "stderr",
     "output_type": "stream",
     "text": [
      "0: 160x256 1 MidSize-SUV, 1 NumberPlate, 14.9ms\n",
      "Speed: 0.0ms pre-process, 14.9ms inference, 4.0ms postprocess per image at shape (1, 3, 256, 256)\n"
     ]
    },
    {
     "name": "stdout",
     "output_type": "stream",
     "text": [
      "Car Type: MidSize-SUV\n"
     ]
    },
    {
     "name": "stderr",
     "output_type": "stream",
     "text": [
      "0: 160x256 1 MidSize-SUV, 1 NumberPlate, 9.0ms\n",
      "Speed: 1.0ms pre-process, 9.0ms inference, 2.0ms postprocess per image at shape (1, 3, 256, 256)\n"
     ]
    },
    {
     "name": "stdout",
     "output_type": "stream",
     "text": [
      "Car Type: MidSize-SUV\n"
     ]
    },
    {
     "name": "stderr",
     "output_type": "stream",
     "text": [
      "0: 160x256 1 MidSize-SUV, 1 NumberPlate, 8.0ms\n",
      "Speed: 0.0ms pre-process, 8.0ms inference, 2.0ms postprocess per image at shape (1, 3, 256, 256)\n"
     ]
    },
    {
     "name": "stdout",
     "output_type": "stream",
     "text": [
      "Car Type: MidSize-SUV\n"
     ]
    },
    {
     "name": "stderr",
     "output_type": "stream",
     "text": [
      "0: 160x256 1 MidSize-SUV, 1 NumberPlate, 15.0ms\n",
      "Speed: 2.0ms pre-process, 15.0ms inference, 3.0ms postprocess per image at shape (1, 3, 256, 256)\n"
     ]
    },
    {
     "name": "stdout",
     "output_type": "stream",
     "text": [
      "Car Type: MidSize-SUV\n"
     ]
    },
    {
     "name": "stderr",
     "output_type": "stream",
     "text": [
      "0: 160x256 1 MidSize-SUV, 1 NumberPlate, 8.9ms\n",
      "Speed: 0.0ms pre-process, 8.9ms inference, 2.0ms postprocess per image at shape (1, 3, 256, 256)\n"
     ]
    },
    {
     "name": "stdout",
     "output_type": "stream",
     "text": [
      "Car Type: MidSize-SUV\n"
     ]
    },
    {
     "name": "stderr",
     "output_type": "stream",
     "text": [
      "0: 160x256 1 MidSize-SUV, 1 NumberPlate, 14.0ms\n",
      "Speed: 1.0ms pre-process, 14.0ms inference, 2.0ms postprocess per image at shape (1, 3, 256, 256)\n"
     ]
    },
    {
     "name": "stdout",
     "output_type": "stream",
     "text": [
      "Car Type: MidSize-SUV\n"
     ]
    },
    {
     "name": "stderr",
     "output_type": "stream",
     "text": [
      "0: 160x256 1 MidSize-SUV, 1 NumberPlate, 9.0ms\n",
      "Speed: 0.0ms pre-process, 9.0ms inference, 2.0ms postprocess per image at shape (1, 3, 256, 256)\n"
     ]
    },
    {
     "name": "stdout",
     "output_type": "stream",
     "text": [
      "Car Type: MidSize-SUV\n"
     ]
    },
    {
     "name": "stderr",
     "output_type": "stream",
     "text": [
      "0: 160x256 1 MidSize-SUV, 1 NumberPlate, 15.0ms\n",
      "Speed: 1.0ms pre-process, 15.0ms inference, 4.0ms postprocess per image at shape (1, 3, 256, 256)\n"
     ]
    },
    {
     "name": "stdout",
     "output_type": "stream",
     "text": [
      "Car Type: MidSize-SUV\n"
     ]
    },
    {
     "name": "stderr",
     "output_type": "stream",
     "text": [
      "0: 160x256 1 MidSize-SUV, 1 NumberPlate, 9.0ms\n",
      "Speed: 0.0ms pre-process, 9.0ms inference, 2.0ms postprocess per image at shape (1, 3, 256, 256)\n"
     ]
    },
    {
     "name": "stdout",
     "output_type": "stream",
     "text": [
      "Car Type: MidSize-SUV\n"
     ]
    },
    {
     "name": "stderr",
     "output_type": "stream",
     "text": [
      "0: 160x256 1 MidSize-SUV, 1 NumberPlate, 8.9ms\n",
      "Speed: 0.0ms pre-process, 8.9ms inference, 2.0ms postprocess per image at shape (1, 3, 256, 256)\n"
     ]
    },
    {
     "name": "stdout",
     "output_type": "stream",
     "text": [
      "Car Type: MidSize-SUV\n"
     ]
    },
    {
     "name": "stderr",
     "output_type": "stream",
     "text": [
      "0: 160x256 1 MidSize-SUV, 1 NumberPlate, 9.0ms\n",
      "Speed: 0.0ms pre-process, 9.0ms inference, 3.0ms postprocess per image at shape (1, 3, 256, 256)\n"
     ]
    },
    {
     "name": "stdout",
     "output_type": "stream",
     "text": [
      "Car Type: MidSize-SUV\n"
     ]
    },
    {
     "name": "stderr",
     "output_type": "stream",
     "text": [
      "0: 160x256 1 MidSize-SUV, 1 NumberPlate, 8.0ms\n",
      "Speed: 1.0ms pre-process, 8.0ms inference, 2.0ms postprocess per image at shape (1, 3, 256, 256)\n"
     ]
    },
    {
     "name": "stdout",
     "output_type": "stream",
     "text": [
      "Car Type: MidSize-SUV\n"
     ]
    },
    {
     "name": "stderr",
     "output_type": "stream",
     "text": [
      "0: 160x256 1 MidSize-SUV, 1 NumberPlate, 10.0ms\n",
      "Speed: 1.0ms pre-process, 10.0ms inference, 2.0ms postprocess per image at shape (1, 3, 256, 256)\n"
     ]
    },
    {
     "name": "stdout",
     "output_type": "stream",
     "text": [
      "Car Type: MidSize-SUV\n"
     ]
    },
    {
     "name": "stderr",
     "output_type": "stream",
     "text": [
      "0: 160x256 1 MidSize-SUV, 1 NumberPlate, 10.0ms\n",
      "Speed: 1.0ms pre-process, 10.0ms inference, 2.0ms postprocess per image at shape (1, 3, 256, 256)\n"
     ]
    },
    {
     "name": "stdout",
     "output_type": "stream",
     "text": [
      "Car Type: MidSize-SUV\n"
     ]
    },
    {
     "name": "stderr",
     "output_type": "stream",
     "text": [
      "0: 160x256 1 MidSize-SUV, 1 NumberPlate, 9.0ms\n",
      "Speed: 0.0ms pre-process, 9.0ms inference, 2.0ms postprocess per image at shape (1, 3, 256, 256)\n"
     ]
    },
    {
     "name": "stdout",
     "output_type": "stream",
     "text": [
      "Car Type: MidSize-SUV\n"
     ]
    },
    {
     "name": "stderr",
     "output_type": "stream",
     "text": [
      "0: 160x256 1 MidSize-SUV, 1 NumberPlate, 12.0ms\n",
      "Speed: 1.0ms pre-process, 12.0ms inference, 2.0ms postprocess per image at shape (1, 3, 256, 256)\n"
     ]
    },
    {
     "name": "stdout",
     "output_type": "stream",
     "text": [
      "Car Type: MidSize-SUV\n"
     ]
    },
    {
     "name": "stderr",
     "output_type": "stream",
     "text": [
      "0: 160x256 1 MidSize-SUV, 1 NumberPlate, 9.0ms\n",
      "Speed: 0.0ms pre-process, 9.0ms inference, 2.0ms postprocess per image at shape (1, 3, 256, 256)\n"
     ]
    },
    {
     "name": "stdout",
     "output_type": "stream",
     "text": [
      "Car Type: MidSize-SUV\n"
     ]
    },
    {
     "name": "stderr",
     "output_type": "stream",
     "text": [
      "0: 160x256 1 MidSize-SUV, 1 NumberPlate, 9.0ms\n",
      "Speed: 1.0ms pre-process, 9.0ms inference, 2.0ms postprocess per image at shape (1, 3, 256, 256)\n"
     ]
    },
    {
     "name": "stdout",
     "output_type": "stream",
     "text": [
      "Car Type: MidSize-SUV\n"
     ]
    },
    {
     "name": "stderr",
     "output_type": "stream",
     "text": [
      "0: 160x256 1 MidSize-SUV, 1 NumberPlate, 12.0ms\n",
      "Speed: 1.0ms pre-process, 12.0ms inference, 2.0ms postprocess per image at shape (1, 3, 256, 256)\n"
     ]
    },
    {
     "name": "stdout",
     "output_type": "stream",
     "text": [
      "Car Type: MidSize-SUV\n"
     ]
    },
    {
     "name": "stderr",
     "output_type": "stream",
     "text": [
      "0: 160x256 1 MidSize-SUV, 1 NumberPlate, 9.0ms\n",
      "Speed: 1.0ms pre-process, 9.0ms inference, 2.0ms postprocess per image at shape (1, 3, 256, 256)\n"
     ]
    },
    {
     "name": "stdout",
     "output_type": "stream",
     "text": [
      "Car Type: MidSize-SUV\n"
     ]
    },
    {
     "name": "stderr",
     "output_type": "stream",
     "text": [
      "0: 160x256 1 MidSize-SUV, 1 NumberPlate, 9.0ms\n",
      "Speed: 0.0ms pre-process, 9.0ms inference, 2.0ms postprocess per image at shape (1, 3, 256, 256)\n"
     ]
    },
    {
     "name": "stdout",
     "output_type": "stream",
     "text": [
      "Car Type: MidSize-SUV\n"
     ]
    },
    {
     "name": "stderr",
     "output_type": "stream",
     "text": [
      "0: 160x256 1 MidSize-SUV, 1 NumberPlate, 15.9ms\n",
      "Speed: 0.0ms pre-process, 15.9ms inference, 6.0ms postprocess per image at shape (1, 3, 256, 256)\n"
     ]
    },
    {
     "name": "stdout",
     "output_type": "stream",
     "text": [
      "Car Type: MidSize-SUV\n"
     ]
    },
    {
     "name": "stderr",
     "output_type": "stream",
     "text": [
      "0: 160x256 1 MidSize-SUV, 1 NumberPlate, 9.0ms\n",
      "Speed: 0.0ms pre-process, 9.0ms inference, 3.0ms postprocess per image at shape (1, 3, 256, 256)\n"
     ]
    },
    {
     "name": "stdout",
     "output_type": "stream",
     "text": [
      "Car Type: MidSize-SUV\n"
     ]
    },
    {
     "name": "stderr",
     "output_type": "stream",
     "text": [
      "0: 160x256 1 MidSize-SUV, 1 NumberPlate, 13.0ms\n",
      "Speed: 1.0ms pre-process, 13.0ms inference, 2.0ms postprocess per image at shape (1, 3, 256, 256)\n"
     ]
    },
    {
     "name": "stdout",
     "output_type": "stream",
     "text": [
      "Car Type: MidSize-SUV\n"
     ]
    },
    {
     "name": "stderr",
     "output_type": "stream",
     "text": [
      "0: 160x256 1 MidSize-SUV, 1 NumberPlate, 13.0ms\n",
      "Speed: 0.0ms pre-process, 13.0ms inference, 2.0ms postprocess per image at shape (1, 3, 256, 256)\n"
     ]
    },
    {
     "name": "stdout",
     "output_type": "stream",
     "text": [
      "Car Type: MidSize-SUV\n"
     ]
    },
    {
     "name": "stderr",
     "output_type": "stream",
     "text": [
      "0: 160x256 1 MidSize-SUV, 1 NumberPlate, 9.0ms\n",
      "Speed: 1.0ms pre-process, 9.0ms inference, 2.0ms postprocess per image at shape (1, 3, 256, 256)\n"
     ]
    },
    {
     "name": "stdout",
     "output_type": "stream",
     "text": [
      "Car Type: MidSize-SUV\n"
     ]
    },
    {
     "name": "stderr",
     "output_type": "stream",
     "text": [
      "0: 160x256 1 MidSize-SUV, 1 NumberPlate, 7.9ms\n",
      "Speed: 0.0ms pre-process, 7.9ms inference, 2.0ms postprocess per image at shape (1, 3, 256, 256)\n"
     ]
    },
    {
     "name": "stdout",
     "output_type": "stream",
     "text": [
      "Car Type: MidSize-SUV\n"
     ]
    },
    {
     "name": "stderr",
     "output_type": "stream",
     "text": [
      "0: 160x256 1 Hatchback, 1 NumberPlate, 8.0ms\n",
      "Speed: 1.0ms pre-process, 8.0ms inference, 2.0ms postprocess per image at shape (1, 3, 256, 256)\n"
     ]
    },
    {
     "name": "stdout",
     "output_type": "stream",
     "text": [
      "Car Type: Hatchback\n"
     ]
    },
    {
     "name": "stderr",
     "output_type": "stream",
     "text": [
      "0: 160x256 1 Hatchback, 1 NumberPlate, 8.0ms\n",
      "Speed: 1.0ms pre-process, 8.0ms inference, 2.0ms postprocess per image at shape (1, 3, 256, 256)\n"
     ]
    },
    {
     "name": "stdout",
     "output_type": "stream",
     "text": [
      "Car Type: Hatchback\n"
     ]
    },
    {
     "name": "stderr",
     "output_type": "stream",
     "text": [
      "0: 160x256 1 Hatchback, 1 NumberPlate, 10.0ms\n",
      "Speed: 0.0ms pre-process, 10.0ms inference, 2.0ms postprocess per image at shape (1, 3, 256, 256)\n"
     ]
    },
    {
     "name": "stdout",
     "output_type": "stream",
     "text": [
      "Car Type: Hatchback\n"
     ]
    },
    {
     "name": "stderr",
     "output_type": "stream",
     "text": [
      "0: 160x256 1 Hatchback, 1 NumberPlate, 8.9ms\n",
      "Speed: 1.0ms pre-process, 8.9ms inference, 2.0ms postprocess per image at shape (1, 3, 256, 256)\n"
     ]
    },
    {
     "name": "stdout",
     "output_type": "stream",
     "text": [
      "Car Type: Hatchback\n"
     ]
    },
    {
     "name": "stderr",
     "output_type": "stream",
     "text": [
      "0: 160x256 1 Hatchback, 1 NumberPlate, 8.0ms\n",
      "Speed: 1.0ms pre-process, 8.0ms inference, 2.0ms postprocess per image at shape (1, 3, 256, 256)\n"
     ]
    },
    {
     "name": "stdout",
     "output_type": "stream",
     "text": [
      "Car Type: Hatchback\n"
     ]
    },
    {
     "name": "stderr",
     "output_type": "stream",
     "text": [
      "0: 160x256 1 Hatchback, 1 NumberPlate, 9.0ms\n",
      "Speed: 0.0ms pre-process, 9.0ms inference, 2.0ms postprocess per image at shape (1, 3, 256, 256)\n"
     ]
    },
    {
     "name": "stdout",
     "output_type": "stream",
     "text": [
      "Car Type: Hatchback\n"
     ]
    },
    {
     "name": "stderr",
     "output_type": "stream",
     "text": [
      "0: 160x256 1 Hatchback, 1 NumberPlate, 10.0ms\n",
      "Speed: 0.0ms pre-process, 10.0ms inference, 2.0ms postprocess per image at shape (1, 3, 256, 256)\n"
     ]
    },
    {
     "name": "stdout",
     "output_type": "stream",
     "text": [
      "Car Type: Hatchback\n"
     ]
    },
    {
     "name": "stderr",
     "output_type": "stream",
     "text": [
      "0: 160x256 1 Hatchback, 1 NumberPlate, 9.0ms\n",
      "Speed: 0.0ms pre-process, 9.0ms inference, 2.0ms postprocess per image at shape (1, 3, 256, 256)\n"
     ]
    },
    {
     "name": "stdout",
     "output_type": "stream",
     "text": [
      "Car Type: Hatchback\n"
     ]
    },
    {
     "name": "stderr",
     "output_type": "stream",
     "text": [
      "0: 160x256 1 Hatchback, 1 NumberPlate, 8.0ms\n",
      "Speed: 1.0ms pre-process, 8.0ms inference, 3.0ms postprocess per image at shape (1, 3, 256, 256)\n"
     ]
    },
    {
     "name": "stdout",
     "output_type": "stream",
     "text": [
      "Car Type: Hatchback\n"
     ]
    },
    {
     "name": "stderr",
     "output_type": "stream",
     "text": [
      "0: 160x256 1 Hatchback, 1 NumberPlate, 11.0ms\n",
      "Speed: 0.0ms pre-process, 11.0ms inference, 2.0ms postprocess per image at shape (1, 3, 256, 256)\n"
     ]
    },
    {
     "name": "stdout",
     "output_type": "stream",
     "text": [
      "Car Type: Hatchback\n"
     ]
    },
    {
     "name": "stderr",
     "output_type": "stream",
     "text": [
      "0: 160x256 1 Hatchback, 1 NumberPlate, 9.0ms\n",
      "Speed: 1.0ms pre-process, 9.0ms inference, 2.0ms postprocess per image at shape (1, 3, 256, 256)\n"
     ]
    },
    {
     "name": "stdout",
     "output_type": "stream",
     "text": [
      "Car Type: Hatchback\n"
     ]
    },
    {
     "name": "stderr",
     "output_type": "stream",
     "text": [
      "0: 160x256 1 Hatchback, 1 NumberPlate, 9.0ms\n",
      "Speed: 1.0ms pre-process, 9.0ms inference, 2.0ms postprocess per image at shape (1, 3, 256, 256)\n"
     ]
    },
    {
     "name": "stdout",
     "output_type": "stream",
     "text": [
      "Car Type: Hatchback\n"
     ]
    },
    {
     "name": "stderr",
     "output_type": "stream",
     "text": [
      "0: 160x256 1 Hatchback, 1 NumberPlate, 9.0ms\n",
      "Speed: 1.0ms pre-process, 9.0ms inference, 2.0ms postprocess per image at shape (1, 3, 256, 256)\n"
     ]
    },
    {
     "name": "stdout",
     "output_type": "stream",
     "text": [
      "Car Type: Hatchback\n"
     ]
    },
    {
     "name": "stderr",
     "output_type": "stream",
     "text": [
      "0: 160x256 1 Hatchback, 1 NumberPlate, 8.0ms\n",
      "Speed: 0.0ms pre-process, 8.0ms inference, 3.0ms postprocess per image at shape (1, 3, 256, 256)\n"
     ]
    },
    {
     "name": "stdout",
     "output_type": "stream",
     "text": [
      "Car Type: Hatchback\n"
     ]
    },
    {
     "name": "stderr",
     "output_type": "stream",
     "text": [
      "0: 160x256 1 Hatchback, 1 NumberPlate, 11.0ms\n",
      "Speed: 1.0ms pre-process, 11.0ms inference, 2.0ms postprocess per image at shape (1, 3, 256, 256)\n"
     ]
    },
    {
     "name": "stdout",
     "output_type": "stream",
     "text": [
      "Car Type: Hatchback\n"
     ]
    },
    {
     "name": "stderr",
     "output_type": "stream",
     "text": [
      "0: 160x256 1 Hatchback, 1 NumberPlate, 8.9ms\n",
      "Speed: 0.0ms pre-process, 8.9ms inference, 2.0ms postprocess per image at shape (1, 3, 256, 256)\n"
     ]
    },
    {
     "name": "stdout",
     "output_type": "stream",
     "text": [
      "Car Type: Hatchback\n"
     ]
    },
    {
     "name": "stderr",
     "output_type": "stream",
     "text": [
      "0: 160x256 1 Hatchback, 1 NumberPlate, 13.0ms\n",
      "Speed: 0.0ms pre-process, 13.0ms inference, 1.0ms postprocess per image at shape (1, 3, 256, 256)\n"
     ]
    },
    {
     "name": "stdout",
     "output_type": "stream",
     "text": [
      "Car Type: Hatchback\n"
     ]
    },
    {
     "name": "stderr",
     "output_type": "stream",
     "text": [
      "0: 160x256 1 Hatchback, 1 NumberPlate, 8.0ms\n",
      "Speed: 0.0ms pre-process, 8.0ms inference, 3.0ms postprocess per image at shape (1, 3, 256, 256)\n"
     ]
    },
    {
     "name": "stdout",
     "output_type": "stream",
     "text": [
      "Car Type: Hatchback\n"
     ]
    },
    {
     "name": "stderr",
     "output_type": "stream",
     "text": [
      "0: 160x256 1 Hatchback, 1 NumberPlate, 9.0ms\n",
      "Speed: 1.0ms pre-process, 9.0ms inference, 2.0ms postprocess per image at shape (1, 3, 256, 256)\n"
     ]
    },
    {
     "name": "stdout",
     "output_type": "stream",
     "text": [
      "Car Type: Hatchback\n"
     ]
    },
    {
     "name": "stderr",
     "output_type": "stream",
     "text": [
      "0: 160x256 1 Hatchback, 1 NumberPlate, 9.0ms\n",
      "Speed: 0.0ms pre-process, 9.0ms inference, 2.0ms postprocess per image at shape (1, 3, 256, 256)\n"
     ]
    },
    {
     "name": "stdout",
     "output_type": "stream",
     "text": [
      "Car Type: Hatchback\n"
     ]
    },
    {
     "name": "stderr",
     "output_type": "stream",
     "text": [
      "0: 160x256 1 Hatchback, 1 NumberPlate, 9.0ms\n",
      "Speed: 1.0ms pre-process, 9.0ms inference, 2.0ms postprocess per image at shape (1, 3, 256, 256)\n"
     ]
    },
    {
     "name": "stdout",
     "output_type": "stream",
     "text": [
      "Car Type: Hatchback\n"
     ]
    },
    {
     "name": "stderr",
     "output_type": "stream",
     "text": [
      "0: 160x256 1 Hatchback, 1 NumberPlate, 10.0ms\n",
      "Speed: 1.0ms pre-process, 10.0ms inference, 2.0ms postprocess per image at shape (1, 3, 256, 256)\n"
     ]
    },
    {
     "name": "stdout",
     "output_type": "stream",
     "text": [
      "Car Type: Hatchback\n"
     ]
    },
    {
     "name": "stderr",
     "output_type": "stream",
     "text": [
      "0: 160x256 1 Hatchback, 1 NumberPlate, 10.0ms\n",
      "Speed: 0.0ms pre-process, 10.0ms inference, 1.0ms postprocess per image at shape (1, 3, 256, 256)\n"
     ]
    },
    {
     "name": "stdout",
     "output_type": "stream",
     "text": [
      "Car Type: Hatchback\n"
     ]
    },
    {
     "name": "stderr",
     "output_type": "stream",
     "text": [
      "0: 160x256 1 Hatchback, 1 NumberPlate, 9.0ms\n",
      "Speed: 0.0ms pre-process, 9.0ms inference, 2.0ms postprocess per image at shape (1, 3, 256, 256)\n"
     ]
    },
    {
     "name": "stdout",
     "output_type": "stream",
     "text": [
      "Car Type: Hatchback\n"
     ]
    },
    {
     "name": "stderr",
     "output_type": "stream",
     "text": [
      "0: 160x256 1 Hatchback, 1 NumberPlate, 9.0ms\n",
      "Speed: 1.0ms pre-process, 9.0ms inference, 1.0ms postprocess per image at shape (1, 3, 256, 256)\n"
     ]
    },
    {
     "name": "stdout",
     "output_type": "stream",
     "text": [
      "Car Type: Hatchback\n"
     ]
    },
    {
     "name": "stderr",
     "output_type": "stream",
     "text": [
      "0: 160x256 1 Hatchback, 1 NumberPlate, 11.0ms\n",
      "Speed: 0.0ms pre-process, 11.0ms inference, 4.0ms postprocess per image at shape (1, 3, 256, 256)\n"
     ]
    },
    {
     "name": "stdout",
     "output_type": "stream",
     "text": [
      "Car Type: Hatchback\n"
     ]
    },
    {
     "name": "stderr",
     "output_type": "stream",
     "text": [
      "0: 160x256 1 Hatchback, 1 NumberPlate, 8.0ms\n",
      "Speed: 1.0ms pre-process, 8.0ms inference, 2.0ms postprocess per image at shape (1, 3, 256, 256)\n"
     ]
    },
    {
     "name": "stdout",
     "output_type": "stream",
     "text": [
      "Car Type: Hatchback\n"
     ]
    },
    {
     "name": "stderr",
     "output_type": "stream",
     "text": [
      "0: 160x256 1 Hatchback, 1 NumberPlate, 14.0ms\n",
      "Speed: 1.0ms pre-process, 14.0ms inference, 4.0ms postprocess per image at shape (1, 3, 256, 256)\n"
     ]
    },
    {
     "name": "stdout",
     "output_type": "stream",
     "text": [
      "Car Type: Hatchback\n"
     ]
    },
    {
     "name": "stderr",
     "output_type": "stream",
     "text": [
      "0: 160x256 1 Hatchback, 1 NumberPlate, 8.0ms\n",
      "Speed: 1.0ms pre-process, 8.0ms inference, 2.0ms postprocess per image at shape (1, 3, 256, 256)\n"
     ]
    },
    {
     "name": "stdout",
     "output_type": "stream",
     "text": [
      "Car Type: Hatchback\n"
     ]
    },
    {
     "name": "stderr",
     "output_type": "stream",
     "text": [
      "0: 160x256 1 Hatchback, 1 NumberPlate, 9.0ms\n",
      "Speed: 0.0ms pre-process, 9.0ms inference, 2.0ms postprocess per image at shape (1, 3, 256, 256)\n"
     ]
    },
    {
     "name": "stdout",
     "output_type": "stream",
     "text": [
      "Car Type: Hatchback\n"
     ]
    },
    {
     "name": "stderr",
     "output_type": "stream",
     "text": [
      "0: 160x256 1 Hatchback, 1 NumberPlate, 8.0ms\n",
      "Speed: 1.0ms pre-process, 8.0ms inference, 2.0ms postprocess per image at shape (1, 3, 256, 256)\n"
     ]
    },
    {
     "name": "stdout",
     "output_type": "stream",
     "text": [
      "Car Type: Hatchback\n"
     ]
    },
    {
     "name": "stderr",
     "output_type": "stream",
     "text": [
      "0: 160x256 1 Hatchback, 1 NumberPlate, 8.0ms\n",
      "Speed: 0.0ms pre-process, 8.0ms inference, 2.0ms postprocess per image at shape (1, 3, 256, 256)\n"
     ]
    },
    {
     "name": "stdout",
     "output_type": "stream",
     "text": [
      "Car Type: Hatchback\n"
     ]
    },
    {
     "name": "stderr",
     "output_type": "stream",
     "text": [
      "0: 160x256 1 Hatchback, 1 NumberPlate, 8.0ms\n",
      "Speed: 1.0ms pre-process, 8.0ms inference, 3.0ms postprocess per image at shape (1, 3, 256, 256)\n"
     ]
    },
    {
     "name": "stdout",
     "output_type": "stream",
     "text": [
      "Car Type: Hatchback\n"
     ]
    },
    {
     "name": "stderr",
     "output_type": "stream",
     "text": [
      "0: 160x256 1 Hatchback, 1 NumberPlate, 9.0ms\n",
      "Speed: 1.0ms pre-process, 9.0ms inference, 2.0ms postprocess per image at shape (1, 3, 256, 256)\n"
     ]
    },
    {
     "name": "stdout",
     "output_type": "stream",
     "text": [
      "Car Type: Hatchback\n"
     ]
    },
    {
     "name": "stderr",
     "output_type": "stream",
     "text": [
      "0: 160x256 1 Hatchback, 1 NumberPlate, 10.0ms\n",
      "Speed: 1.0ms pre-process, 10.0ms inference, 2.0ms postprocess per image at shape (1, 3, 256, 256)\n"
     ]
    },
    {
     "name": "stdout",
     "output_type": "stream",
     "text": [
      "Car Type: Hatchback\n"
     ]
    },
    {
     "name": "stderr",
     "output_type": "stream",
     "text": [
      "0: 160x256 1 Hatchback, 1 NumberPlate, 8.0ms\n",
      "Speed: 1.0ms pre-process, 8.0ms inference, 3.0ms postprocess per image at shape (1, 3, 256, 256)\n"
     ]
    },
    {
     "name": "stdout",
     "output_type": "stream",
     "text": [
      "Car Type: Hatchback\n"
     ]
    },
    {
     "name": "stderr",
     "output_type": "stream",
     "text": [
      "0: 160x256 1 Hatchback, 1 NumberPlate, 16.0ms\n",
      "Speed: 1.0ms pre-process, 16.0ms inference, 6.0ms postprocess per image at shape (1, 3, 256, 256)\n"
     ]
    },
    {
     "name": "stdout",
     "output_type": "stream",
     "text": [
      "Car Type: Hatchback\n"
     ]
    },
    {
     "name": "stderr",
     "output_type": "stream",
     "text": [
      "0: 160x256 1 Hatchback, 1 NumberPlate, 9.0ms\n",
      "Speed: 0.0ms pre-process, 9.0ms inference, 2.0ms postprocess per image at shape (1, 3, 256, 256)\n"
     ]
    },
    {
     "name": "stdout",
     "output_type": "stream",
     "text": [
      "Car Type: Hatchback\n"
     ]
    },
    {
     "name": "stderr",
     "output_type": "stream",
     "text": [
      "0: 160x256 1 Hatchback, 1 NumberPlate, 10.0ms\n",
      "Speed: 0.0ms pre-process, 10.0ms inference, 3.0ms postprocess per image at shape (1, 3, 256, 256)\n"
     ]
    },
    {
     "name": "stdout",
     "output_type": "stream",
     "text": [
      "Car Type: Hatchback\n"
     ]
    },
    {
     "name": "stderr",
     "output_type": "stream",
     "text": [
      "0: 160x256 1 Hatchback, 1 NumberPlate, 9.0ms\n",
      "Speed: 1.0ms pre-process, 9.0ms inference, 2.0ms postprocess per image at shape (1, 3, 256, 256)\n"
     ]
    },
    {
     "name": "stdout",
     "output_type": "stream",
     "text": [
      "Car Type: Hatchback\n"
     ]
    },
    {
     "name": "stderr",
     "output_type": "stream",
     "text": [
      "0: 160x256 1 Hatchback, 1 NumberPlate, 16.0ms\n",
      "Speed: 0.0ms pre-process, 16.0ms inference, 2.0ms postprocess per image at shape (1, 3, 256, 256)\n"
     ]
    },
    {
     "name": "stdout",
     "output_type": "stream",
     "text": [
      "Car Type: Hatchback\n"
     ]
    },
    {
     "name": "stderr",
     "output_type": "stream",
     "text": [
      "0: 160x256 1 Hatchback, 1 NumberPlate, 9.0ms\n",
      "Speed: 0.0ms pre-process, 9.0ms inference, 2.0ms postprocess per image at shape (1, 3, 256, 256)\n"
     ]
    },
    {
     "name": "stdout",
     "output_type": "stream",
     "text": [
      "Car Type: Hatchback\n"
     ]
    },
    {
     "name": "stderr",
     "output_type": "stream",
     "text": [
      "0: 160x256 1 Hatchback, 1 NumberPlate, 8.0ms\n",
      "Speed: 1.0ms pre-process, 8.0ms inference, 2.0ms postprocess per image at shape (1, 3, 256, 256)\n"
     ]
    },
    {
     "name": "stdout",
     "output_type": "stream",
     "text": [
      "Car Type: Hatchback\n"
     ]
    },
    {
     "name": "stderr",
     "output_type": "stream",
     "text": [
      "0: 160x256 1 Hatchback, 1 NumberPlate, 9.0ms\n",
      "Speed: 0.0ms pre-process, 9.0ms inference, 2.0ms postprocess per image at shape (1, 3, 256, 256)\n"
     ]
    },
    {
     "name": "stdout",
     "output_type": "stream",
     "text": [
      "Car Type: Hatchback\n"
     ]
    },
    {
     "name": "stderr",
     "output_type": "stream",
     "text": [
      "0: 160x256 1 Hatchback, 1 NumberPlate, 15.0ms\n",
      "Speed: 1.0ms pre-process, 15.0ms inference, 4.0ms postprocess per image at shape (1, 3, 256, 256)\n"
     ]
    },
    {
     "name": "stdout",
     "output_type": "stream",
     "text": [
      "Car Type: Hatchback\n"
     ]
    },
    {
     "name": "stderr",
     "output_type": "stream",
     "text": [
      "0: 160x256 1 Hatchback, 1 NumberPlate, 8.9ms\n",
      "Speed: 0.0ms pre-process, 8.9ms inference, 2.0ms postprocess per image at shape (1, 3, 256, 256)\n"
     ]
    },
    {
     "name": "stdout",
     "output_type": "stream",
     "text": [
      "Car Type: Hatchback\n"
     ]
    },
    {
     "name": "stderr",
     "output_type": "stream",
     "text": [
      "0: 160x256 1 Hatchback, 1 NumberPlate, 11.9ms\n",
      "Speed: 1.0ms pre-process, 11.9ms inference, 2.0ms postprocess per image at shape (1, 3, 256, 256)\n"
     ]
    },
    {
     "name": "stdout",
     "output_type": "stream",
     "text": [
      "Car Type: Hatchback\n"
     ]
    },
    {
     "name": "stderr",
     "output_type": "stream",
     "text": [
      "0: 160x256 1 Hatchback, 1 NumberPlate, 9.0ms\n",
      "Speed: 0.0ms pre-process, 9.0ms inference, 2.0ms postprocess per image at shape (1, 3, 256, 256)\n"
     ]
    },
    {
     "name": "stdout",
     "output_type": "stream",
     "text": [
      "Car Type: Hatchback\n"
     ]
    },
    {
     "name": "stderr",
     "output_type": "stream",
     "text": [
      "0: 160x256 1 Hatchback, 1 NumberPlate, 11.0ms\n",
      "Speed: 1.0ms pre-process, 11.0ms inference, 2.0ms postprocess per image at shape (1, 3, 256, 256)\n"
     ]
    },
    {
     "name": "stdout",
     "output_type": "stream",
     "text": [
      "Car Type: Hatchback\n"
     ]
    },
    {
     "name": "stderr",
     "output_type": "stream",
     "text": [
      "0: 160x256 1 Hatchback, 1 NumberPlate, 8.0ms\n",
      "Speed: 0.0ms pre-process, 8.0ms inference, 2.0ms postprocess per image at shape (1, 3, 256, 256)\n"
     ]
    },
    {
     "name": "stdout",
     "output_type": "stream",
     "text": [
      "Car Type: Hatchback\n"
     ]
    },
    {
     "name": "stderr",
     "output_type": "stream",
     "text": [
      "0: 160x256 1 Hatchback, 1 NumberPlate, 9.0ms\n",
      "Speed: 1.0ms pre-process, 9.0ms inference, 2.0ms postprocess per image at shape (1, 3, 256, 256)\n"
     ]
    },
    {
     "name": "stdout",
     "output_type": "stream",
     "text": [
      "Car Type: Hatchback\n"
     ]
    },
    {
     "name": "stderr",
     "output_type": "stream",
     "text": [
      "0: 160x256 1 Hatchback, 1 NumberPlate, 8.9ms\n",
      "Speed: 0.0ms pre-process, 8.9ms inference, 1.0ms postprocess per image at shape (1, 3, 256, 256)\n"
     ]
    },
    {
     "name": "stdout",
     "output_type": "stream",
     "text": [
      "Car Type: Hatchback\n"
     ]
    },
    {
     "name": "stderr",
     "output_type": "stream",
     "text": [
      "0: 160x256 1 Hatchback, 1 NumberPlate, 15.0ms\n",
      "Speed: 1.0ms pre-process, 15.0ms inference, 4.0ms postprocess per image at shape (1, 3, 256, 256)\n"
     ]
    },
    {
     "name": "stdout",
     "output_type": "stream",
     "text": [
      "Car Type: Hatchback\n"
     ]
    },
    {
     "name": "stderr",
     "output_type": "stream",
     "text": [
      "0: 160x256 1 Hatchback, 1 NumberPlate, 9.0ms\n",
      "Speed: 0.0ms pre-process, 9.0ms inference, 2.0ms postprocess per image at shape (1, 3, 256, 256)\n"
     ]
    },
    {
     "name": "stdout",
     "output_type": "stream",
     "text": [
      "Car Type: Hatchback\n"
     ]
    },
    {
     "name": "stderr",
     "output_type": "stream",
     "text": [
      "0: 160x256 1 Hatchback, 1 NumberPlate, 9.0ms\n",
      "Speed: 0.0ms pre-process, 9.0ms inference, 2.0ms postprocess per image at shape (1, 3, 256, 256)\n"
     ]
    },
    {
     "name": "stdout",
     "output_type": "stream",
     "text": [
      "Car Type: Hatchback\n"
     ]
    },
    {
     "name": "stderr",
     "output_type": "stream",
     "text": [
      "0: 160x256 1 Hatchback, 1 NumberPlate, 17.0ms\n",
      "Speed: 0.0ms pre-process, 17.0ms inference, 4.0ms postprocess per image at shape (1, 3, 256, 256)\n"
     ]
    },
    {
     "name": "stdout",
     "output_type": "stream",
     "text": [
      "Car Type: Hatchback\n"
     ]
    },
    {
     "name": "stderr",
     "output_type": "stream",
     "text": [
      "0: 160x256 1 Hatchback, 1 NumberPlate, 16.0ms\n",
      "Speed: 1.0ms pre-process, 16.0ms inference, 4.0ms postprocess per image at shape (1, 3, 256, 256)\n"
     ]
    },
    {
     "name": "stdout",
     "output_type": "stream",
     "text": [
      "Car Type: Hatchback\n"
     ]
    },
    {
     "name": "stderr",
     "output_type": "stream",
     "text": [
      "0: 160x256 1 Hatchback, 1 NumberPlate, 9.0ms\n",
      "Speed: 1.0ms pre-process, 9.0ms inference, 2.0ms postprocess per image at shape (1, 3, 256, 256)\n"
     ]
    },
    {
     "name": "stdout",
     "output_type": "stream",
     "text": [
      "Car Type: Hatchback\n"
     ]
    },
    {
     "name": "stderr",
     "output_type": "stream",
     "text": [
      "0: 160x256 1 Hatchback, 1 NumberPlate, 9.0ms\n",
      "Speed: 1.0ms pre-process, 9.0ms inference, 2.0ms postprocess per image at shape (1, 3, 256, 256)\n"
     ]
    },
    {
     "name": "stdout",
     "output_type": "stream",
     "text": [
      "Car Type: Hatchback\n"
     ]
    },
    {
     "name": "stderr",
     "output_type": "stream",
     "text": [
      "0: 160x256 1 Hatchback, 1 NumberPlate, 8.9ms\n",
      "Speed: 0.0ms pre-process, 8.9ms inference, 2.0ms postprocess per image at shape (1, 3, 256, 256)\n"
     ]
    },
    {
     "name": "stdout",
     "output_type": "stream",
     "text": [
      "Car Type: Hatchback\n"
     ]
    },
    {
     "name": "stderr",
     "output_type": "stream",
     "text": [
      "0: 160x256 1 Hatchback, 1 NumberPlate, 14.0ms\n",
      "Speed: 1.0ms pre-process, 14.0ms inference, 4.0ms postprocess per image at shape (1, 3, 256, 256)\n"
     ]
    },
    {
     "name": "stdout",
     "output_type": "stream",
     "text": [
      "Car Type: Hatchback\n"
     ]
    },
    {
     "name": "stderr",
     "output_type": "stream",
     "text": [
      "0: 160x256 1 Hatchback, 1 NumberPlate, 8.9ms\n",
      "Speed: 0.0ms pre-process, 8.9ms inference, 2.0ms postprocess per image at shape (1, 3, 256, 256)\n"
     ]
    },
    {
     "name": "stdout",
     "output_type": "stream",
     "text": [
      "Car Type: Hatchback\n"
     ]
    },
    {
     "name": "stderr",
     "output_type": "stream",
     "text": [
      "0: 160x256 1 Hatchback, 1 NumberPlate, 9.0ms\n",
      "Speed: 1.0ms pre-process, 9.0ms inference, 2.0ms postprocess per image at shape (1, 3, 256, 256)\n"
     ]
    },
    {
     "name": "stdout",
     "output_type": "stream",
     "text": [
      "Car Type: Hatchback\n"
     ]
    },
    {
     "name": "stderr",
     "output_type": "stream",
     "text": [
      "0: 160x256 1 Hatchback, 1 NumberPlate, 8.9ms\n",
      "Speed: 0.0ms pre-process, 8.9ms inference, 2.0ms postprocess per image at shape (1, 3, 256, 256)\n"
     ]
    },
    {
     "name": "stdout",
     "output_type": "stream",
     "text": [
      "Car Type: Hatchback\n"
     ]
    },
    {
     "name": "stderr",
     "output_type": "stream",
     "text": [
      "0: 160x256 1 Hatchback, 1 NumberPlate, 9.0ms\n",
      "Speed: 1.0ms pre-process, 9.0ms inference, 2.0ms postprocess per image at shape (1, 3, 256, 256)\n"
     ]
    },
    {
     "name": "stdout",
     "output_type": "stream",
     "text": [
      "Car Type: Hatchback\n"
     ]
    },
    {
     "name": "stderr",
     "output_type": "stream",
     "text": [
      "0: 160x256 1 Hatchback, 1 NumberPlate, 9.9ms\n",
      "Speed: 0.0ms pre-process, 9.9ms inference, 2.0ms postprocess per image at shape (1, 3, 256, 256)\n"
     ]
    },
    {
     "name": "stdout",
     "output_type": "stream",
     "text": [
      "Car Type: Hatchback\n"
     ]
    },
    {
     "name": "stderr",
     "output_type": "stream",
     "text": [
      "0: 160x256 1 Hatchback, 1 NumberPlate, 10.0ms\n",
      "Speed: 0.0ms pre-process, 10.0ms inference, 2.0ms postprocess per image at shape (1, 3, 256, 256)\n"
     ]
    },
    {
     "name": "stdout",
     "output_type": "stream",
     "text": [
      "Car Type: Hatchback\n"
     ]
    },
    {
     "name": "stderr",
     "output_type": "stream",
     "text": [
      "0: 160x256 1 Hatchback, 1 NumberPlate, 16.0ms\n",
      "Speed: 0.0ms pre-process, 16.0ms inference, 4.0ms postprocess per image at shape (1, 3, 256, 256)\n"
     ]
    },
    {
     "name": "stdout",
     "output_type": "stream",
     "text": [
      "Car Type: Hatchback\n"
     ]
    },
    {
     "name": "stderr",
     "output_type": "stream",
     "text": [
      "0: 160x256 1 Hatchback, 1 NumberPlate, 16.0ms\n",
      "Speed: 1.0ms pre-process, 16.0ms inference, 4.0ms postprocess per image at shape (1, 3, 256, 256)\n"
     ]
    },
    {
     "name": "stdout",
     "output_type": "stream",
     "text": [
      "Car Type: Hatchback\n"
     ]
    },
    {
     "name": "stderr",
     "output_type": "stream",
     "text": [
      "0: 160x256 1 Hatchback, 1 NumberPlate, 9.0ms\n",
      "Speed: 1.0ms pre-process, 9.0ms inference, 2.0ms postprocess per image at shape (1, 3, 256, 256)\n"
     ]
    },
    {
     "name": "stdout",
     "output_type": "stream",
     "text": [
      "Car Type: Hatchback\n"
     ]
    },
    {
     "name": "stderr",
     "output_type": "stream",
     "text": [
      "0: 160x256 1 Hatchback, 1 NumberPlate, 11.0ms\n",
      "Speed: 1.0ms pre-process, 11.0ms inference, 2.0ms postprocess per image at shape (1, 3, 256, 256)\n"
     ]
    },
    {
     "name": "stdout",
     "output_type": "stream",
     "text": [
      "Car Type: Hatchback\n"
     ]
    },
    {
     "name": "stderr",
     "output_type": "stream",
     "text": [
      "0: 160x256 1 Hatchback, 1 NumberPlate, 9.0ms\n",
      "Speed: 0.0ms pre-process, 9.0ms inference, 2.0ms postprocess per image at shape (1, 3, 256, 256)\n"
     ]
    },
    {
     "name": "stdout",
     "output_type": "stream",
     "text": [
      "Car Type: Hatchback\n"
     ]
    },
    {
     "name": "stderr",
     "output_type": "stream",
     "text": [
      "0: 160x256 1 Hatchback, 1 NumberPlate, 11.9ms\n",
      "Speed: 1.0ms pre-process, 11.9ms inference, 2.0ms postprocess per image at shape (1, 3, 256, 256)\n"
     ]
    },
    {
     "name": "stdout",
     "output_type": "stream",
     "text": [
      "Car Type: Hatchback\n"
     ]
    },
    {
     "name": "stderr",
     "output_type": "stream",
     "text": [
      "0: 160x256 1 Hatchback, 1 NumberPlate, 10.0ms\n",
      "Speed: 0.0ms pre-process, 10.0ms inference, 2.0ms postprocess per image at shape (1, 3, 256, 256)\n"
     ]
    },
    {
     "name": "stdout",
     "output_type": "stream",
     "text": [
      "Car Type: Hatchback\n"
     ]
    },
    {
     "name": "stderr",
     "output_type": "stream",
     "text": [
      "0: 160x256 1 Hatchback, 1 NumberPlate, 10.0ms\n",
      "Speed: 1.0ms pre-process, 10.0ms inference, 2.0ms postprocess per image at shape (1, 3, 256, 256)\n"
     ]
    },
    {
     "name": "stdout",
     "output_type": "stream",
     "text": [
      "Car Type: Hatchback\n"
     ]
    },
    {
     "name": "stderr",
     "output_type": "stream",
     "text": [
      "0: 160x256 1 Hatchback, 1 NumberPlate, 10.0ms\n",
      "Speed: 0.0ms pre-process, 10.0ms inference, 2.0ms postprocess per image at shape (1, 3, 256, 256)\n"
     ]
    },
    {
     "name": "stdout",
     "output_type": "stream",
     "text": [
      "Car Type: Hatchback\n"
     ]
    },
    {
     "name": "stderr",
     "output_type": "stream",
     "text": [
      "0: 160x256 1 Hatchback, 1 NumberPlate, 16.0ms\n",
      "Speed: 1.0ms pre-process, 16.0ms inference, 4.0ms postprocess per image at shape (1, 3, 256, 256)\n"
     ]
    },
    {
     "name": "stdout",
     "output_type": "stream",
     "text": [
      "Car Type: Hatchback\n"
     ]
    },
    {
     "name": "stderr",
     "output_type": "stream",
     "text": [
      "0: 160x256 1 Hatchback, 1 NumberPlate, 16.0ms\n",
      "Speed: 0.0ms pre-process, 16.0ms inference, 4.0ms postprocess per image at shape (1, 3, 256, 256)\n"
     ]
    },
    {
     "name": "stdout",
     "output_type": "stream",
     "text": [
      "Car Type: Hatchback\n"
     ]
    },
    {
     "name": "stderr",
     "output_type": "stream",
     "text": [
      "0: 160x256 1 Hatchback, 1 NumberPlate, 11.0ms\n",
      "Speed: 2.0ms pre-process, 11.0ms inference, 2.0ms postprocess per image at shape (1, 3, 256, 256)\n"
     ]
    },
    {
     "name": "stdout",
     "output_type": "stream",
     "text": [
      "Car Type: Hatchback\n"
     ]
    },
    {
     "name": "stderr",
     "output_type": "stream",
     "text": [
      "0: 160x256 1 Hatchback, 1 NumberPlate, 9.0ms\n",
      "Speed: 1.0ms pre-process, 9.0ms inference, 2.0ms postprocess per image at shape (1, 3, 256, 256)\n"
     ]
    },
    {
     "name": "stdout",
     "output_type": "stream",
     "text": [
      "Car Type: Hatchback\n"
     ]
    },
    {
     "name": "stderr",
     "output_type": "stream",
     "text": [
      "0: 160x256 1 Hatchback, 1 NumberPlate, 9.0ms\n",
      "Speed: 0.0ms pre-process, 9.0ms inference, 2.0ms postprocess per image at shape (1, 3, 256, 256)\n"
     ]
    },
    {
     "name": "stdout",
     "output_type": "stream",
     "text": [
      "Car Type: Hatchback\n"
     ]
    },
    {
     "name": "stderr",
     "output_type": "stream",
     "text": [
      "0: 160x256 1 Hatchback, 1 NumberPlate, 11.0ms\n",
      "Speed: 0.0ms pre-process, 11.0ms inference, 2.0ms postprocess per image at shape (1, 3, 256, 256)\n"
     ]
    },
    {
     "name": "stdout",
     "output_type": "stream",
     "text": [
      "Car Type: Hatchback\n"
     ]
    },
    {
     "name": "stderr",
     "output_type": "stream",
     "text": [
      "0: 160x256 1 Hatchback, 1 NumberPlate, 8.0ms\n",
      "Speed: 1.0ms pre-process, 8.0ms inference, 2.0ms postprocess per image at shape (1, 3, 256, 256)\n"
     ]
    },
    {
     "name": "stdout",
     "output_type": "stream",
     "text": [
      "Car Type: Hatchback\n"
     ]
    },
    {
     "name": "stderr",
     "output_type": "stream",
     "text": [
      "0: 160x256 1 Hatchback, 1 NumberPlate, 10.0ms\n",
      "Speed: 0.0ms pre-process, 10.0ms inference, 2.0ms postprocess per image at shape (1, 3, 256, 256)\n"
     ]
    },
    {
     "name": "stdout",
     "output_type": "stream",
     "text": [
      "Car Type: Hatchback\n"
     ]
    },
    {
     "name": "stderr",
     "output_type": "stream",
     "text": [
      "0: 160x256 1 Hatchback, 1 NumberPlate, 8.0ms\n",
      "Speed: 1.0ms pre-process, 8.0ms inference, 2.0ms postprocess per image at shape (1, 3, 256, 256)\n"
     ]
    },
    {
     "name": "stdout",
     "output_type": "stream",
     "text": [
      "Car Type: Hatchback\n"
     ]
    },
    {
     "name": "stderr",
     "output_type": "stream",
     "text": [
      "0: 160x256 1 Hatchback, 1 NumberPlate, 9.0ms\n",
      "Speed: 0.0ms pre-process, 9.0ms inference, 2.0ms postprocess per image at shape (1, 3, 256, 256)\n"
     ]
    },
    {
     "name": "stdout",
     "output_type": "stream",
     "text": [
      "Car Type: Hatchback\n"
     ]
    },
    {
     "name": "stderr",
     "output_type": "stream",
     "text": [
      "0: 160x256 1 Hatchback, 1 NumberPlate, 8.0ms\n",
      "Speed: 1.0ms pre-process, 8.0ms inference, 2.0ms postprocess per image at shape (1, 3, 256, 256)\n"
     ]
    },
    {
     "name": "stdout",
     "output_type": "stream",
     "text": [
      "Car Type: Hatchback\n"
     ]
    },
    {
     "name": "stderr",
     "output_type": "stream",
     "text": [
      "0: 160x256 1 Hatchback, 1 NumberPlate, 8.9ms\n",
      "Speed: 0.0ms pre-process, 8.9ms inference, 3.0ms postprocess per image at shape (1, 3, 256, 256)\n"
     ]
    },
    {
     "name": "stdout",
     "output_type": "stream",
     "text": [
      "Car Type: Hatchback\n"
     ]
    },
    {
     "name": "stderr",
     "output_type": "stream",
     "text": [
      "0: 160x256 1 Hatchback, 1 NumberPlate, 10.9ms\n",
      "Speed: 1.0ms pre-process, 10.9ms inference, 4.0ms postprocess per image at shape (1, 3, 256, 256)\n"
     ]
    },
    {
     "name": "stdout",
     "output_type": "stream",
     "text": [
      "Car Type: Hatchback\n"
     ]
    },
    {
     "name": "stderr",
     "output_type": "stream",
     "text": [
      "0: 160x256 1 Hatchback, 1 NumberPlate, 9.0ms\n",
      "Speed: 0.0ms pre-process, 9.0ms inference, 3.0ms postprocess per image at shape (1, 3, 256, 256)\n"
     ]
    },
    {
     "name": "stdout",
     "output_type": "stream",
     "text": [
      "Car Type: Hatchback\n"
     ]
    },
    {
     "name": "stderr",
     "output_type": "stream",
     "text": [
      "0: 160x256 1 Hatchback, 1 NumberPlate, 8.9ms\n",
      "Speed: 0.0ms pre-process, 8.9ms inference, 2.0ms postprocess per image at shape (1, 3, 256, 256)\n"
     ]
    },
    {
     "name": "stdout",
     "output_type": "stream",
     "text": [
      "Car Type: Hatchback\n"
     ]
    },
    {
     "name": "stderr",
     "output_type": "stream",
     "text": [
      "0: 160x256 1 Hatchback, 1 NumberPlate, 9.0ms\n",
      "Speed: 0.0ms pre-process, 9.0ms inference, 2.0ms postprocess per image at shape (1, 3, 256, 256)\n"
     ]
    },
    {
     "name": "stdout",
     "output_type": "stream",
     "text": [
      "Car Type: Hatchback\n"
     ]
    },
    {
     "name": "stderr",
     "output_type": "stream",
     "text": [
      "0: 160x256 1 Hatchback, 1 NumberPlate, 10.0ms\n",
      "Speed: 0.0ms pre-process, 10.0ms inference, 2.0ms postprocess per image at shape (1, 3, 256, 256)\n"
     ]
    },
    {
     "name": "stdout",
     "output_type": "stream",
     "text": [
      "Car Type: Hatchback\n"
     ]
    },
    {
     "name": "stderr",
     "output_type": "stream",
     "text": [
      "0: 160x256 1 Hatchback, 1 NumberPlate, 10.0ms\n",
      "Speed: 0.0ms pre-process, 10.0ms inference, 2.0ms postprocess per image at shape (1, 3, 256, 256)\n"
     ]
    },
    {
     "name": "stdout",
     "output_type": "stream",
     "text": [
      "Car Type: Hatchback\n"
     ]
    },
    {
     "name": "stderr",
     "output_type": "stream",
     "text": [
      "0: 160x256 1 Hatchback, 1 NumberPlate, 14.0ms\n",
      "Speed: 1.0ms pre-process, 14.0ms inference, 4.0ms postprocess per image at shape (1, 3, 256, 256)\n"
     ]
    },
    {
     "name": "stdout",
     "output_type": "stream",
     "text": [
      "Car Type: Hatchback\n"
     ]
    },
    {
     "name": "stderr",
     "output_type": "stream",
     "text": [
      "0: 160x256 1 Hatchback, 1 NumberPlate, 9.0ms\n",
      "Speed: 0.0ms pre-process, 9.0ms inference, 2.0ms postprocess per image at shape (1, 3, 256, 256)\n"
     ]
    },
    {
     "name": "stdout",
     "output_type": "stream",
     "text": [
      "Car Type: Hatchback\n"
     ]
    },
    {
     "name": "stderr",
     "output_type": "stream",
     "text": [
      "0: 160x256 1 Hatchback, 1 NumberPlate, 10.0ms\n",
      "Speed: 1.0ms pre-process, 10.0ms inference, 2.0ms postprocess per image at shape (1, 3, 256, 256)\n"
     ]
    },
    {
     "name": "stdout",
     "output_type": "stream",
     "text": [
      "Car Type: Hatchback\n"
     ]
    },
    {
     "name": "stderr",
     "output_type": "stream",
     "text": [
      "0: 160x256 1 Hatchback, 1 NumberPlate, 8.9ms\n",
      "Speed: 1.0ms pre-process, 8.9ms inference, 1.0ms postprocess per image at shape (1, 3, 256, 256)\n"
     ]
    },
    {
     "name": "stdout",
     "output_type": "stream",
     "text": [
      "Car Type: Hatchback\n"
     ]
    },
    {
     "name": "stderr",
     "output_type": "stream",
     "text": [
      "0: 160x256 1 Hatchback, 1 NumberPlate, 9.0ms\n",
      "Speed: 0.0ms pre-process, 9.0ms inference, 2.0ms postprocess per image at shape (1, 3, 256, 256)\n"
     ]
    },
    {
     "name": "stdout",
     "output_type": "stream",
     "text": [
      "Car Type: Hatchback\n"
     ]
    },
    {
     "name": "stderr",
     "output_type": "stream",
     "text": [
      "0: 160x256 1 Hatchback, 1 NumberPlate, 7.9ms\n",
      "Speed: 0.0ms pre-process, 7.9ms inference, 2.0ms postprocess per image at shape (1, 3, 256, 256)\n"
     ]
    },
    {
     "name": "stdout",
     "output_type": "stream",
     "text": [
      "Car Type: Hatchback\n"
     ]
    },
    {
     "name": "stderr",
     "output_type": "stream",
     "text": [
      "0: 160x256 1 Hatchback, 1 NumberPlate, 12.0ms\n",
      "Speed: 0.0ms pre-process, 12.0ms inference, 3.0ms postprocess per image at shape (1, 3, 256, 256)\n"
     ]
    },
    {
     "name": "stdout",
     "output_type": "stream",
     "text": [
      "Car Type: Hatchback\n"
     ]
    },
    {
     "name": "stderr",
     "output_type": "stream",
     "text": [
      "0: 160x256 1 Hatchback, 1 NumberPlate, 9.0ms\n",
      "Speed: 1.0ms pre-process, 9.0ms inference, 2.0ms postprocess per image at shape (1, 3, 256, 256)\n"
     ]
    },
    {
     "name": "stdout",
     "output_type": "stream",
     "text": [
      "Car Type: Hatchback\n"
     ]
    },
    {
     "name": "stderr",
     "output_type": "stream",
     "text": [
      "0: 160x256 1 Hatchback, 1 NumberPlate, 10.0ms\n",
      "Speed: 1.0ms pre-process, 10.0ms inference, 1.0ms postprocess per image at shape (1, 3, 256, 256)\n"
     ]
    },
    {
     "name": "stdout",
     "output_type": "stream",
     "text": [
      "Car Type: Hatchback\n"
     ]
    },
    {
     "name": "stderr",
     "output_type": "stream",
     "text": [
      "0: 160x256 1 Hatchback, 1 NumberPlate, 9.0ms\n",
      "Speed: 0.0ms pre-process, 9.0ms inference, 2.0ms postprocess per image at shape (1, 3, 256, 256)\n"
     ]
    },
    {
     "name": "stdout",
     "output_type": "stream",
     "text": [
      "Car Type: Hatchback\n"
     ]
    },
    {
     "name": "stderr",
     "output_type": "stream",
     "text": [
      "0: 160x256 1 Hatchback, 1 NumberPlate, 9.0ms\n",
      "Speed: 1.0ms pre-process, 9.0ms inference, 2.0ms postprocess per image at shape (1, 3, 256, 256)\n"
     ]
    },
    {
     "name": "stdout",
     "output_type": "stream",
     "text": [
      "Car Type: Hatchback\n"
     ]
    },
    {
     "name": "stderr",
     "output_type": "stream",
     "text": [
      "0: 160x256 1 Hatchback, 1 NumberPlate, 8.0ms\n",
      "Speed: 1.0ms pre-process, 8.0ms inference, 2.0ms postprocess per image at shape (1, 3, 256, 256)\n"
     ]
    },
    {
     "name": "stdout",
     "output_type": "stream",
     "text": [
      "Car Type: Hatchback\n"
     ]
    },
    {
     "name": "stderr",
     "output_type": "stream",
     "text": [
      "0: 160x256 1 Hatchback, 1 NumberPlate, 15.9ms\n",
      "Speed: 0.0ms pre-process, 15.9ms inference, 4.0ms postprocess per image at shape (1, 3, 256, 256)\n"
     ]
    },
    {
     "name": "stdout",
     "output_type": "stream",
     "text": [
      "Car Type: Hatchback\n"
     ]
    },
    {
     "name": "stderr",
     "output_type": "stream",
     "text": [
      "0: 160x256 1 Hatchback, 1 NumberPlate, 17.0ms\n",
      "Speed: 0.0ms pre-process, 17.0ms inference, 4.0ms postprocess per image at shape (1, 3, 256, 256)\n"
     ]
    },
    {
     "name": "stdout",
     "output_type": "stream",
     "text": [
      "Car Type: Hatchback\n"
     ]
    },
    {
     "name": "stderr",
     "output_type": "stream",
     "text": [
      "0: 160x256 1 Hatchback, 1 NumberPlate, 10.0ms\n",
      "Speed: 0.0ms pre-process, 10.0ms inference, 2.0ms postprocess per image at shape (1, 3, 256, 256)\n"
     ]
    },
    {
     "name": "stdout",
     "output_type": "stream",
     "text": [
      "Car Type: Hatchback\n"
     ]
    },
    {
     "name": "stderr",
     "output_type": "stream",
     "text": [
      "0: 160x256 1 Hatchback, 1 NumberPlate, 10.0ms\n",
      "Speed: 0.0ms pre-process, 10.0ms inference, 3.0ms postprocess per image at shape (1, 3, 256, 256)\n"
     ]
    },
    {
     "name": "stdout",
     "output_type": "stream",
     "text": [
      "Car Type: Hatchback\n"
     ]
    },
    {
     "name": "stderr",
     "output_type": "stream",
     "text": [
      "0: 160x256 1 Hatchback, 1 NumberPlate, 16.0ms\n",
      "Speed: 1.0ms pre-process, 16.0ms inference, 5.0ms postprocess per image at shape (1, 3, 256, 256)\n"
     ]
    },
    {
     "name": "stdout",
     "output_type": "stream",
     "text": [
      "Car Type: Hatchback\n"
     ]
    },
    {
     "name": "stderr",
     "output_type": "stream",
     "text": [
      "0: 160x256 1 Hatchback, 1 NumberPlate, 8.0ms\n",
      "Speed: 1.0ms pre-process, 8.0ms inference, 2.0ms postprocess per image at shape (1, 3, 256, 256)\n"
     ]
    },
    {
     "name": "stdout",
     "output_type": "stream",
     "text": [
      "Car Type: Hatchback\n"
     ]
    },
    {
     "name": "stderr",
     "output_type": "stream",
     "text": [
      "0: 160x256 1 Hatchback, 1 NumberPlate, 9.9ms\n",
      "Speed: 1.0ms pre-process, 9.9ms inference, 2.0ms postprocess per image at shape (1, 3, 256, 256)\n"
     ]
    },
    {
     "name": "stdout",
     "output_type": "stream",
     "text": [
      "Car Type: Hatchback\n"
     ]
    },
    {
     "name": "stderr",
     "output_type": "stream",
     "text": [
      "0: 160x256 1 Hatchback, 1 NumberPlate, 10.0ms\n",
      "Speed: 1.0ms pre-process, 10.0ms inference, 4.0ms postprocess per image at shape (1, 3, 256, 256)\n"
     ]
    },
    {
     "name": "stdout",
     "output_type": "stream",
     "text": [
      "Car Type: Hatchback\n"
     ]
    },
    {
     "name": "stderr",
     "output_type": "stream",
     "text": [
      "0: 160x256 1 Hatchback, 1 NumberPlate, 15.0ms\n",
      "Speed: 0.0ms pre-process, 15.0ms inference, 4.0ms postprocess per image at shape (1, 3, 256, 256)\n"
     ]
    },
    {
     "name": "stdout",
     "output_type": "stream",
     "text": [
      "Car Type: Hatchback\n"
     ]
    },
    {
     "name": "stderr",
     "output_type": "stream",
     "text": [
      "0: 160x256 1 Hatchback, 1 NumberPlate, 9.0ms\n",
      "Speed: 0.0ms pre-process, 9.0ms inference, 2.0ms postprocess per image at shape (1, 3, 256, 256)\n"
     ]
    },
    {
     "name": "stdout",
     "output_type": "stream",
     "text": [
      "Car Type: Hatchback\n"
     ]
    },
    {
     "name": "stderr",
     "output_type": "stream",
     "text": [
      "0: 160x256 1 Hatchback, 1 NumberPlate, 15.0ms\n",
      "Speed: 1.0ms pre-process, 15.0ms inference, 4.0ms postprocess per image at shape (1, 3, 256, 256)\n"
     ]
    },
    {
     "name": "stdout",
     "output_type": "stream",
     "text": [
      "Car Type: Hatchback\n"
     ]
    },
    {
     "name": "stderr",
     "output_type": "stream",
     "text": [
      "0: 160x256 1 Hatchback, 1 NumberPlate, 9.0ms\n",
      "Speed: 1.0ms pre-process, 9.0ms inference, 2.0ms postprocess per image at shape (1, 3, 256, 256)\n"
     ]
    },
    {
     "name": "stdout",
     "output_type": "stream",
     "text": [
      "Car Type: Hatchback\n"
     ]
    },
    {
     "name": "stderr",
     "output_type": "stream",
     "text": [
      "0: 160x256 1 Hatchback, 1 NumberPlate, 8.9ms\n",
      "Speed: 0.0ms pre-process, 8.9ms inference, 2.0ms postprocess per image at shape (1, 3, 256, 256)\n"
     ]
    },
    {
     "name": "stdout",
     "output_type": "stream",
     "text": [
      "Car Type: Hatchback\n"
     ]
    },
    {
     "name": "stderr",
     "output_type": "stream",
     "text": [
      "0: 160x256 1 Hatchback, 1 NumberPlate, 9.0ms\n",
      "Speed: 0.0ms pre-process, 9.0ms inference, 2.0ms postprocess per image at shape (1, 3, 256, 256)\n"
     ]
    },
    {
     "name": "stdout",
     "output_type": "stream",
     "text": [
      "Car Type: Hatchback\n"
     ]
    },
    {
     "name": "stderr",
     "output_type": "stream",
     "text": [
      "0: 160x256 1 Hatchback, 1 NumberPlate, 16.0ms\n",
      "Speed: 1.0ms pre-process, 16.0ms inference, 4.0ms postprocess per image at shape (1, 3, 256, 256)\n"
     ]
    },
    {
     "name": "stdout",
     "output_type": "stream",
     "text": [
      "Car Type: Hatchback\n"
     ]
    },
    {
     "name": "stderr",
     "output_type": "stream",
     "text": [
      "0: 160x256 1 Hatchback, 1 NumberPlate, 10.0ms\n",
      "Speed: 1.0ms pre-process, 10.0ms inference, 2.0ms postprocess per image at shape (1, 3, 256, 256)\n"
     ]
    },
    {
     "name": "stdout",
     "output_type": "stream",
     "text": [
      "Car Type: Hatchback\n"
     ]
    },
    {
     "name": "stderr",
     "output_type": "stream",
     "text": [
      "0: 160x256 1 Hatchback, 1 NumberPlate, 15.9ms\n",
      "Speed: 0.0ms pre-process, 15.9ms inference, 5.0ms postprocess per image at shape (1, 3, 256, 256)\n"
     ]
    },
    {
     "name": "stdout",
     "output_type": "stream",
     "text": [
      "Car Type: Hatchback\n"
     ]
    },
    {
     "name": "stderr",
     "output_type": "stream",
     "text": [
      "0: 160x256 1 Hatchback, 1 NumberPlate, 8.0ms\n",
      "Speed: 1.0ms pre-process, 8.0ms inference, 2.0ms postprocess per image at shape (1, 3, 256, 256)\n"
     ]
    },
    {
     "name": "stdout",
     "output_type": "stream",
     "text": [
      "Car Type: Hatchback\n"
     ]
    },
    {
     "name": "stderr",
     "output_type": "stream",
     "text": [
      "0: 160x256 1 Hatchback, 1 NumberPlate, 16.0ms\n",
      "Speed: 1.0ms pre-process, 16.0ms inference, 4.0ms postprocess per image at shape (1, 3, 256, 256)\n"
     ]
    },
    {
     "name": "stdout",
     "output_type": "stream",
     "text": [
      "Car Type: Hatchback\n"
     ]
    },
    {
     "name": "stderr",
     "output_type": "stream",
     "text": [
      "0: 160x256 1 Hatchback, 1 NumberPlate, 9.0ms\n",
      "Speed: 1.0ms pre-process, 9.0ms inference, 1.0ms postprocess per image at shape (1, 3, 256, 256)\n"
     ]
    },
    {
     "name": "stdout",
     "output_type": "stream",
     "text": [
      "Car Type: Hatchback\n"
     ]
    },
    {
     "name": "stderr",
     "output_type": "stream",
     "text": [
      "0: 160x256 1 Hatchback, 1 NumberPlate, 9.0ms\n",
      "Speed: 1.0ms pre-process, 9.0ms inference, 2.0ms postprocess per image at shape (1, 3, 256, 256)\n"
     ]
    },
    {
     "name": "stdout",
     "output_type": "stream",
     "text": [
      "Car Type: Hatchback\n"
     ]
    },
    {
     "name": "stderr",
     "output_type": "stream",
     "text": [
      "0: 160x256 1 Hatchback, 1 NumberPlate, 10.0ms\n",
      "Speed: 0.0ms pre-process, 10.0ms inference, 2.0ms postprocess per image at shape (1, 3, 256, 256)\n"
     ]
    },
    {
     "name": "stdout",
     "output_type": "stream",
     "text": [
      "Car Type: Hatchback\n"
     ]
    },
    {
     "name": "stderr",
     "output_type": "stream",
     "text": [
      "0: 160x256 1 Hatchback, 1 NumberPlate, 8.9ms\n",
      "Speed: 0.0ms pre-process, 8.9ms inference, 2.0ms postprocess per image at shape (1, 3, 256, 256)\n"
     ]
    },
    {
     "name": "stdout",
     "output_type": "stream",
     "text": [
      "Car Type: Hatchback\n"
     ]
    },
    {
     "name": "stderr",
     "output_type": "stream",
     "text": [
      "0: 160x256 1 Hatchback, 1 NumberPlate, 9.0ms\n",
      "Speed: 0.0ms pre-process, 9.0ms inference, 2.0ms postprocess per image at shape (1, 3, 256, 256)\n"
     ]
    },
    {
     "name": "stdout",
     "output_type": "stream",
     "text": [
      "Car Type: Hatchback\n"
     ]
    },
    {
     "name": "stderr",
     "output_type": "stream",
     "text": [
      "0: 160x256 1 Hatchback, 1 NumberPlate, 10.0ms\n",
      "Speed: 1.0ms pre-process, 10.0ms inference, 3.0ms postprocess per image at shape (1, 3, 256, 256)\n"
     ]
    },
    {
     "name": "stdout",
     "output_type": "stream",
     "text": [
      "Car Type: Hatchback\n"
     ]
    },
    {
     "name": "stderr",
     "output_type": "stream",
     "text": [
      "0: 160x256 1 Hatchback, 1 NumberPlate, 9.0ms\n",
      "Speed: 0.0ms pre-process, 9.0ms inference, 2.0ms postprocess per image at shape (1, 3, 256, 256)\n"
     ]
    },
    {
     "name": "stdout",
     "output_type": "stream",
     "text": [
      "Car Type: Hatchback\n"
     ]
    },
    {
     "name": "stderr",
     "output_type": "stream",
     "text": [
      "0: 160x256 1 Hatchback, 1 NumberPlate, 12.0ms\n",
      "Speed: 1.0ms pre-process, 12.0ms inference, 1.0ms postprocess per image at shape (1, 3, 256, 256)\n"
     ]
    },
    {
     "name": "stdout",
     "output_type": "stream",
     "text": [
      "Car Type: Hatchback\n"
     ]
    },
    {
     "name": "stderr",
     "output_type": "stream",
     "text": [
      "0: 160x256 1 Hatchback, 1 NumberPlate, 12.0ms\n",
      "Speed: 0.0ms pre-process, 12.0ms inference, 2.0ms postprocess per image at shape (1, 3, 256, 256)\n"
     ]
    },
    {
     "name": "stdout",
     "output_type": "stream",
     "text": [
      "Car Type: Hatchback\n"
     ]
    },
    {
     "name": "stderr",
     "output_type": "stream",
     "text": [
      "0: 160x256 1 Hatchback, 1 NumberPlate, 15.0ms\n",
      "Speed: 1.0ms pre-process, 15.0ms inference, 5.0ms postprocess per image at shape (1, 3, 256, 256)\n"
     ]
    },
    {
     "name": "stdout",
     "output_type": "stream",
     "text": [
      "Car Type: Hatchback\n"
     ]
    },
    {
     "name": "stderr",
     "output_type": "stream",
     "text": [
      "0: 160x256 1 Hatchback, 1 NumberPlate, 15.0ms\n",
      "Speed: 1.0ms pre-process, 15.0ms inference, 4.0ms postprocess per image at shape (1, 3, 256, 256)\n"
     ]
    },
    {
     "name": "stdout",
     "output_type": "stream",
     "text": [
      "Car Type: Hatchback\n"
     ]
    },
    {
     "name": "stderr",
     "output_type": "stream",
     "text": [
      "0: 160x256 1 Hatchback, 1 NumberPlate, 8.0ms\n",
      "Speed: 1.0ms pre-process, 8.0ms inference, 1.0ms postprocess per image at shape (1, 3, 256, 256)\n"
     ]
    },
    {
     "name": "stdout",
     "output_type": "stream",
     "text": [
      "Car Type: Hatchback\n"
     ]
    },
    {
     "name": "stderr",
     "output_type": "stream",
     "text": [
      "0: 160x256 1 Hatchback, 1 NumberPlate, 11.0ms\n",
      "Speed: 1.0ms pre-process, 11.0ms inference, 2.0ms postprocess per image at shape (1, 3, 256, 256)\n"
     ]
    },
    {
     "name": "stdout",
     "output_type": "stream",
     "text": [
      "Car Type: Hatchback\n"
     ]
    },
    {
     "name": "stderr",
     "output_type": "stream",
     "text": [
      "0: 160x256 1 Hatchback, 1 NumberPlate, 10.0ms\n",
      "Speed: 0.0ms pre-process, 10.0ms inference, 3.0ms postprocess per image at shape (1, 3, 256, 256)\n"
     ]
    },
    {
     "name": "stdout",
     "output_type": "stream",
     "text": [
      "Car Type: Hatchback\n"
     ]
    },
    {
     "name": "stderr",
     "output_type": "stream",
     "text": [
      "0: 160x256 1 Hatchback, 1 NumberPlate, 16.0ms\n",
      "Speed: 0.0ms pre-process, 16.0ms inference, 4.0ms postprocess per image at shape (1, 3, 256, 256)\n"
     ]
    },
    {
     "name": "stdout",
     "output_type": "stream",
     "text": [
      "Car Type: Hatchback\n"
     ]
    },
    {
     "name": "stderr",
     "output_type": "stream",
     "text": [
      "0: 160x256 1 Hatchback, 1 NumberPlate, 15.9ms\n",
      "Speed: 1.0ms pre-process, 15.9ms inference, 4.0ms postprocess per image at shape (1, 3, 256, 256)\n"
     ]
    },
    {
     "name": "stdout",
     "output_type": "stream",
     "text": [
      "Car Type: Hatchback\n"
     ]
    },
    {
     "name": "stderr",
     "output_type": "stream",
     "text": [
      "0: 160x256 1 Hatchback, 1 NumberPlate, 8.0ms\n",
      "Speed: 1.0ms pre-process, 8.0ms inference, 2.0ms postprocess per image at shape (1, 3, 256, 256)\n"
     ]
    },
    {
     "name": "stdout",
     "output_type": "stream",
     "text": [
      "Car Type: Hatchback\n"
     ]
    },
    {
     "name": "stderr",
     "output_type": "stream",
     "text": [
      "0: 160x256 1 Hatchback, 1 NumberPlate, 11.0ms\n",
      "Speed: 1.0ms pre-process, 11.0ms inference, 2.0ms postprocess per image at shape (1, 3, 256, 256)\n"
     ]
    },
    {
     "name": "stdout",
     "output_type": "stream",
     "text": [
      "Car Type: Hatchback\n"
     ]
    },
    {
     "name": "stderr",
     "output_type": "stream",
     "text": [
      "0: 160x256 1 Hatchback, 1 NumberPlate, 8.0ms\n",
      "Speed: 1.0ms pre-process, 8.0ms inference, 2.0ms postprocess per image at shape (1, 3, 256, 256)\n"
     ]
    },
    {
     "name": "stdout",
     "output_type": "stream",
     "text": [
      "Car Type: Hatchback\n"
     ]
    },
    {
     "name": "stderr",
     "output_type": "stream",
     "text": [
      "0: 160x256 1 Hatchback, 1 NumberPlate, 8.9ms\n",
      "Speed: 1.0ms pre-process, 8.9ms inference, 2.0ms postprocess per image at shape (1, 3, 256, 256)\n"
     ]
    },
    {
     "name": "stdout",
     "output_type": "stream",
     "text": [
      "Car Type: Hatchback\n"
     ]
    },
    {
     "name": "stderr",
     "output_type": "stream",
     "text": [
      "0: 160x256 1 Hatchback, 1 NumberPlate, 9.0ms\n",
      "Speed: 0.0ms pre-process, 9.0ms inference, 2.0ms postprocess per image at shape (1, 3, 256, 256)\n"
     ]
    },
    {
     "name": "stdout",
     "output_type": "stream",
     "text": [
      "Car Type: Hatchback\n"
     ]
    },
    {
     "name": "stderr",
     "output_type": "stream",
     "text": [
      "0: 160x256 1 Hatchback, 1 NumberPlate, 12.0ms\n",
      "Speed: 0.0ms pre-process, 12.0ms inference, 3.0ms postprocess per image at shape (1, 3, 256, 256)\n"
     ]
    },
    {
     "name": "stdout",
     "output_type": "stream",
     "text": [
      "Car Type: Hatchback\n"
     ]
    },
    {
     "name": "stderr",
     "output_type": "stream",
     "text": [
      "0: 160x256 1 Hatchback, 1 NumberPlate, 8.0ms\n",
      "Speed: 1.0ms pre-process, 8.0ms inference, 2.0ms postprocess per image at shape (1, 3, 256, 256)\n"
     ]
    },
    {
     "name": "stdout",
     "output_type": "stream",
     "text": [
      "Car Type: Hatchback\n"
     ]
    },
    {
     "name": "stderr",
     "output_type": "stream",
     "text": [
      "0: 160x256 1 Hatchback, 1 NumberPlate, 8.0ms\n",
      "Speed: 1.0ms pre-process, 8.0ms inference, 2.0ms postprocess per image at shape (1, 3, 256, 256)\n"
     ]
    },
    {
     "name": "stdout",
     "output_type": "stream",
     "text": [
      "Car Type: Hatchback\n"
     ]
    },
    {
     "name": "stderr",
     "output_type": "stream",
     "text": [
      "0: 160x256 1 Hatchback, 1 NumberPlate, 10.0ms\n",
      "Speed: 0.0ms pre-process, 10.0ms inference, 2.0ms postprocess per image at shape (1, 3, 256, 256)\n"
     ]
    },
    {
     "name": "stdout",
     "output_type": "stream",
     "text": [
      "Car Type: Hatchback\n"
     ]
    },
    {
     "name": "stderr",
     "output_type": "stream",
     "text": [
      "0: 160x256 1 Hatchback, 1 NumberPlate, 9.0ms\n",
      "Speed: 1.0ms pre-process, 9.0ms inference, 2.0ms postprocess per image at shape (1, 3, 256, 256)\n"
     ]
    },
    {
     "name": "stdout",
     "output_type": "stream",
     "text": [
      "Car Type: Hatchback\n"
     ]
    },
    {
     "name": "stderr",
     "output_type": "stream",
     "text": [
      "0: 160x256 1 Hatchback, 1 NumberPlate, 8.9ms\n",
      "Speed: 0.0ms pre-process, 8.9ms inference, 2.0ms postprocess per image at shape (1, 3, 256, 256)\n"
     ]
    },
    {
     "name": "stdout",
     "output_type": "stream",
     "text": [
      "Car Type: Hatchback\n"
     ]
    },
    {
     "name": "stderr",
     "output_type": "stream",
     "text": [
      "0: 160x256 1 Hatchback, 1 NumberPlate, 10.0ms\n",
      "Speed: 1.0ms pre-process, 10.0ms inference, 2.0ms postprocess per image at shape (1, 3, 256, 256)\n"
     ]
    },
    {
     "name": "stdout",
     "output_type": "stream",
     "text": [
      "Car Type: Hatchback\n"
     ]
    },
    {
     "name": "stderr",
     "output_type": "stream",
     "text": [
      "0: 160x256 1 Hatchback, 1 NumberPlate, 11.0ms\n",
      "Speed: 0.0ms pre-process, 11.0ms inference, 2.0ms postprocess per image at shape (1, 3, 256, 256)\n"
     ]
    },
    {
     "name": "stdout",
     "output_type": "stream",
     "text": [
      "Car Type: Hatchback\n"
     ]
    },
    {
     "name": "stderr",
     "output_type": "stream",
     "text": [
      "0: 160x256 1 Hatchback, 1 NumberPlate, 11.0ms\n",
      "Speed: 0.0ms pre-process, 11.0ms inference, 2.0ms postprocess per image at shape (1, 3, 256, 256)\n"
     ]
    },
    {
     "name": "stdout",
     "output_type": "stream",
     "text": [
      "Car Type: Hatchback\n"
     ]
    },
    {
     "name": "stderr",
     "output_type": "stream",
     "text": [
      "0: 160x256 1 Hatchback, 1 NumberPlate, 9.0ms\n",
      "Speed: 0.0ms pre-process, 9.0ms inference, 1.0ms postprocess per image at shape (1, 3, 256, 256)\n"
     ]
    },
    {
     "name": "stdout",
     "output_type": "stream",
     "text": [
      "Car Type: Hatchback\n"
     ]
    },
    {
     "name": "stderr",
     "output_type": "stream",
     "text": [
      "0: 160x256 1 Hatchback, 1 NumberPlate, 13.0ms\n",
      "Speed: 0.0ms pre-process, 13.0ms inference, 2.0ms postprocess per image at shape (1, 3, 256, 256)\n"
     ]
    },
    {
     "name": "stdout",
     "output_type": "stream",
     "text": [
      "Car Type: Hatchback\n"
     ]
    },
    {
     "name": "stderr",
     "output_type": "stream",
     "text": [
      "0: 160x256 1 Hatchback, 1 NumberPlate, 8.0ms\n",
      "Speed: 0.9ms pre-process, 8.0ms inference, 2.0ms postprocess per image at shape (1, 3, 256, 256)\n"
     ]
    },
    {
     "name": "stdout",
     "output_type": "stream",
     "text": [
      "Car Type: Hatchback\n"
     ]
    },
    {
     "name": "stderr",
     "output_type": "stream",
     "text": [
      "0: 160x256 1 Hatchback, 1 NumberPlate, 9.0ms\n",
      "Speed: 1.0ms pre-process, 9.0ms inference, 2.0ms postprocess per image at shape (1, 3, 256, 256)\n"
     ]
    },
    {
     "name": "stdout",
     "output_type": "stream",
     "text": [
      "Car Type: Hatchback\n"
     ]
    },
    {
     "name": "stderr",
     "output_type": "stream",
     "text": [
      "0: 160x256 1 Hatchback, 1 NumberPlate, 9.0ms\n",
      "Speed: 0.0ms pre-process, 9.0ms inference, 2.0ms postprocess per image at shape (1, 3, 256, 256)\n"
     ]
    },
    {
     "name": "stdout",
     "output_type": "stream",
     "text": [
      "Car Type: Hatchback\n"
     ]
    },
    {
     "name": "stderr",
     "output_type": "stream",
     "text": [
      "0: 160x256 1 Hatchback, 1 NumberPlate, 9.0ms\n",
      "Speed: 1.0ms pre-process, 9.0ms inference, 2.0ms postprocess per image at shape (1, 3, 256, 256)\n"
     ]
    },
    {
     "name": "stdout",
     "output_type": "stream",
     "text": [
      "Car Type: Hatchback\n"
     ]
    },
    {
     "name": "stderr",
     "output_type": "stream",
     "text": [
      "0: 160x256 1 Hatchback, 1 NumberPlate, 9.0ms\n",
      "Speed: 0.0ms pre-process, 9.0ms inference, 2.0ms postprocess per image at shape (1, 3, 256, 256)\n"
     ]
    },
    {
     "name": "stdout",
     "output_type": "stream",
     "text": [
      "Car Type: Hatchback\n"
     ]
    },
    {
     "name": "stderr",
     "output_type": "stream",
     "text": [
      "0: 160x256 1 Hatchback, 1 NumberPlate, 8.9ms\n",
      "Speed: 0.0ms pre-process, 8.9ms inference, 2.0ms postprocess per image at shape (1, 3, 256, 256)\n"
     ]
    },
    {
     "name": "stdout",
     "output_type": "stream",
     "text": [
      "Car Type: Hatchback\n"
     ]
    },
    {
     "name": "stderr",
     "output_type": "stream",
     "text": [
      "0: 160x256 1 Hatchback, 1 NumberPlate, 9.0ms\n",
      "Speed: 0.0ms pre-process, 9.0ms inference, 2.0ms postprocess per image at shape (1, 3, 256, 256)\n"
     ]
    },
    {
     "name": "stdout",
     "output_type": "stream",
     "text": [
      "Car Type: Hatchback\n"
     ]
    },
    {
     "name": "stderr",
     "output_type": "stream",
     "text": [
      "0: 160x256 1 Hatchback, 1 NumberPlate, 17.0ms\n",
      "Speed: 0.0ms pre-process, 17.0ms inference, 5.0ms postprocess per image at shape (1, 3, 256, 256)\n"
     ]
    },
    {
     "name": "stdout",
     "output_type": "stream",
     "text": [
      "Car Type: Hatchback\n"
     ]
    },
    {
     "name": "stderr",
     "output_type": "stream",
     "text": [
      "0: 160x256 1 Hatchback, 1 NumberPlate, 8.9ms\n",
      "Speed: 0.0ms pre-process, 8.9ms inference, 3.0ms postprocess per image at shape (1, 3, 256, 256)\n"
     ]
    },
    {
     "name": "stdout",
     "output_type": "stream",
     "text": [
      "Car Type: Hatchback\n"
     ]
    },
    {
     "name": "stderr",
     "output_type": "stream",
     "text": [
      "0: 160x256 1 Hatchback, 1 NumberPlate, 11.0ms\n",
      "Speed: 0.0ms pre-process, 11.0ms inference, 2.0ms postprocess per image at shape (1, 3, 256, 256)\n"
     ]
    },
    {
     "name": "stdout",
     "output_type": "stream",
     "text": [
      "Car Type: Hatchback\n"
     ]
    },
    {
     "name": "stderr",
     "output_type": "stream",
     "text": [
      "0: 160x256 1 Hatchback, 1 NumberPlate, 10.9ms\n",
      "Speed: 0.0ms pre-process, 10.9ms inference, 3.0ms postprocess per image at shape (1, 3, 256, 256)\n"
     ]
    },
    {
     "name": "stdout",
     "output_type": "stream",
     "text": [
      "Car Type: Hatchback\n"
     ]
    },
    {
     "name": "stderr",
     "output_type": "stream",
     "text": [
      "0: 160x256 1 Hatchback, 1 NumberPlate, 9.0ms\n",
      "Speed: 1.0ms pre-process, 9.0ms inference, 2.0ms postprocess per image at shape (1, 3, 256, 256)\n"
     ]
    },
    {
     "name": "stdout",
     "output_type": "stream",
     "text": [
      "Car Type: Hatchback\n"
     ]
    },
    {
     "name": "stderr",
     "output_type": "stream",
     "text": [
      "0: 160x256 1 Hatchback, 1 NumberPlate, 11.9ms\n",
      "Speed: 0.0ms pre-process, 11.9ms inference, 2.0ms postprocess per image at shape (1, 3, 256, 256)\n"
     ]
    },
    {
     "name": "stdout",
     "output_type": "stream",
     "text": [
      "Car Type: Hatchback\n"
     ]
    },
    {
     "name": "stderr",
     "output_type": "stream",
     "text": [
      "0: 160x256 1 Hatchback, 1 NumberPlate, 9.0ms\n",
      "Speed: 0.0ms pre-process, 9.0ms inference, 3.0ms postprocess per image at shape (1, 3, 256, 256)\n"
     ]
    },
    {
     "name": "stdout",
     "output_type": "stream",
     "text": [
      "Car Type: Hatchback\n"
     ]
    },
    {
     "name": "stderr",
     "output_type": "stream",
     "text": [
      "0: 160x256 1 Hatchback, 1 NumberPlate, 13.0ms\n",
      "Speed: 0.0ms pre-process, 13.0ms inference, 2.0ms postprocess per image at shape (1, 3, 256, 256)\n"
     ]
    },
    {
     "name": "stdout",
     "output_type": "stream",
     "text": [
      "Car Type: Hatchback\n"
     ]
    },
    {
     "name": "stderr",
     "output_type": "stream",
     "text": [
      "0: 160x256 1 Hatchback, 1 NumberPlate, 13.0ms\n",
      "Speed: 1.0ms pre-process, 13.0ms inference, 1.0ms postprocess per image at shape (1, 3, 256, 256)\n"
     ]
    },
    {
     "name": "stdout",
     "output_type": "stream",
     "text": [
      "Car Type: Hatchback\n"
     ]
    },
    {
     "name": "stderr",
     "output_type": "stream",
     "text": [
      "0: 160x256 1 Hatchback, 1 NumberPlate, 9.0ms\n",
      "Speed: 1.0ms pre-process, 9.0ms inference, 2.0ms postprocess per image at shape (1, 3, 256, 256)\n"
     ]
    },
    {
     "name": "stdout",
     "output_type": "stream",
     "text": [
      "Car Type: Hatchback\n"
     ]
    },
    {
     "name": "stderr",
     "output_type": "stream",
     "text": [
      "0: 160x256 1 Hatchback, 1 NumberPlate, 9.0ms\n",
      "Speed: 1.0ms pre-process, 9.0ms inference, 2.0ms postprocess per image at shape (1, 3, 256, 256)\n"
     ]
    },
    {
     "name": "stdout",
     "output_type": "stream",
     "text": [
      "Car Type: Hatchback\n"
     ]
    },
    {
     "name": "stderr",
     "output_type": "stream",
     "text": [
      "0: 160x256 1 Hatchback, 1 NumberPlate, 8.9ms\n",
      "Speed: 0.0ms pre-process, 8.9ms inference, 2.0ms postprocess per image at shape (1, 3, 256, 256)\n"
     ]
    },
    {
     "name": "stdout",
     "output_type": "stream",
     "text": [
      "Car Type: Hatchback\n"
     ]
    },
    {
     "name": "stderr",
     "output_type": "stream",
     "text": [
      "0: 160x256 1 Hatchback, 1 NumberPlate, 9.0ms\n",
      "Speed: 1.0ms pre-process, 9.0ms inference, 2.0ms postprocess per image at shape (1, 3, 256, 256)\n"
     ]
    },
    {
     "name": "stdout",
     "output_type": "stream",
     "text": [
      "Car Type: Hatchback\n"
     ]
    },
    {
     "name": "stderr",
     "output_type": "stream",
     "text": [
      "0: 160x256 1 Hatchback, 1 NumberPlate, 9.0ms\n",
      "Speed: 0.0ms pre-process, 9.0ms inference, 2.0ms postprocess per image at shape (1, 3, 256, 256)\n"
     ]
    },
    {
     "name": "stdout",
     "output_type": "stream",
     "text": [
      "Car Type: Hatchback\n"
     ]
    },
    {
     "name": "stderr",
     "output_type": "stream",
     "text": [
      "0: 160x256 1 Hatchback, 1 NumberPlate, 11.0ms\n",
      "Speed: 1.0ms pre-process, 11.0ms inference, 5.0ms postprocess per image at shape (1, 3, 256, 256)\n"
     ]
    },
    {
     "name": "stdout",
     "output_type": "stream",
     "text": [
      "Car Type: Hatchback\n"
     ]
    },
    {
     "name": "stderr",
     "output_type": "stream",
     "text": [
      "0: 160x256 1 Hatchback, 1 NumberPlate, 9.0ms\n",
      "Speed: 0.0ms pre-process, 9.0ms inference, 3.0ms postprocess per image at shape (1, 3, 256, 256)\n"
     ]
    },
    {
     "name": "stdout",
     "output_type": "stream",
     "text": [
      "Car Type: Hatchback\n"
     ]
    },
    {
     "name": "stderr",
     "output_type": "stream",
     "text": [
      "0: 160x256 1 Hatchback, 1 NumberPlate, 14.0ms\n",
      "Speed: 1.0ms pre-process, 14.0ms inference, 4.0ms postprocess per image at shape (1, 3, 256, 256)\n"
     ]
    },
    {
     "name": "stdout",
     "output_type": "stream",
     "text": [
      "Car Type: Hatchback\n"
     ]
    },
    {
     "name": "stderr",
     "output_type": "stream",
     "text": [
      "0: 160x256 1 Hatchback, 1 NumberPlate, 9.0ms\n",
      "Speed: 1.0ms pre-process, 9.0ms inference, 2.0ms postprocess per image at shape (1, 3, 256, 256)\n"
     ]
    },
    {
     "name": "stdout",
     "output_type": "stream",
     "text": [
      "Car Type: Hatchback\n"
     ]
    },
    {
     "name": "stderr",
     "output_type": "stream",
     "text": [
      "0: 160x256 1 Hatchback, 1 NumberPlate, 9.0ms\n",
      "Speed: 1.0ms pre-process, 9.0ms inference, 2.0ms postprocess per image at shape (1, 3, 256, 256)\n"
     ]
    },
    {
     "name": "stdout",
     "output_type": "stream",
     "text": [
      "Car Type: Hatchback\n"
     ]
    },
    {
     "name": "stderr",
     "output_type": "stream",
     "text": [
      "0: 160x256 1 Hatchback, 1 NumberPlate, 17.0ms\n",
      "Speed: 0.0ms pre-process, 17.0ms inference, 4.0ms postprocess per image at shape (1, 3, 256, 256)\n"
     ]
    },
    {
     "name": "stdout",
     "output_type": "stream",
     "text": [
      "Car Type: Hatchback\n"
     ]
    },
    {
     "name": "stderr",
     "output_type": "stream",
     "text": [
      "0: 160x256 1 Hatchback, 1 NumberPlate, 15.0ms\n",
      "Speed: 1.0ms pre-process, 15.0ms inference, 4.0ms postprocess per image at shape (1, 3, 256, 256)\n"
     ]
    },
    {
     "name": "stdout",
     "output_type": "stream",
     "text": [
      "Car Type: Hatchback\n"
     ]
    },
    {
     "name": "stderr",
     "output_type": "stream",
     "text": [
      "0: 160x256 1 Hatchback, 1 NumberPlate, 9.0ms\n",
      "Speed: 0.0ms pre-process, 9.0ms inference, 2.0ms postprocess per image at shape (1, 3, 256, 256)\n"
     ]
    },
    {
     "name": "stdout",
     "output_type": "stream",
     "text": [
      "Car Type: Hatchback\n"
     ]
    },
    {
     "name": "stderr",
     "output_type": "stream",
     "text": [
      "0: 160x256 1 Hatchback, 1 NumberPlate, 9.0ms\n",
      "Speed: 1.0ms pre-process, 9.0ms inference, 2.0ms postprocess per image at shape (1, 3, 256, 256)\n"
     ]
    },
    {
     "name": "stdout",
     "output_type": "stream",
     "text": [
      "Car Type: Hatchback\n"
     ]
    },
    {
     "name": "stderr",
     "output_type": "stream",
     "text": [
      "0: 160x256 1 Hatchback, 1 NumberPlate, 10.0ms\n",
      "Speed: 1.0ms pre-process, 10.0ms inference, 2.0ms postprocess per image at shape (1, 3, 256, 256)\n"
     ]
    },
    {
     "name": "stdout",
     "output_type": "stream",
     "text": [
      "Car Type: Hatchback\n"
     ]
    },
    {
     "name": "stderr",
     "output_type": "stream",
     "text": [
      "0: 160x256 1 Hatchback, 1 NumberPlate, 17.0ms\n",
      "Speed: 0.0ms pre-process, 17.0ms inference, 4.0ms postprocess per image at shape (1, 3, 256, 256)\n"
     ]
    },
    {
     "name": "stdout",
     "output_type": "stream",
     "text": [
      "Car Type: Hatchback\n"
     ]
    },
    {
     "name": "stderr",
     "output_type": "stream",
     "text": [
      "0: 160x256 1 Hatchback, 1 NumberPlate, 9.0ms\n",
      "Speed: 1.0ms pre-process, 9.0ms inference, 1.0ms postprocess per image at shape (1, 3, 256, 256)\n"
     ]
    },
    {
     "name": "stdout",
     "output_type": "stream",
     "text": [
      "Car Type: Hatchback\n"
     ]
    },
    {
     "name": "stderr",
     "output_type": "stream",
     "text": [
      "0: 160x256 1 Hatchback, 1 NumberPlate, 9.0ms\n",
      "Speed: 0.0ms pre-process, 9.0ms inference, 2.0ms postprocess per image at shape (1, 3, 256, 256)\n"
     ]
    },
    {
     "name": "stdout",
     "output_type": "stream",
     "text": [
      "Car Type: Hatchback\n"
     ]
    },
    {
     "name": "stderr",
     "output_type": "stream",
     "text": [
      "0: 160x256 1 Hatchback, 1 NumberPlate, 8.9ms\n",
      "Speed: 0.0ms pre-process, 8.9ms inference, 3.0ms postprocess per image at shape (1, 3, 256, 256)\n"
     ]
    },
    {
     "name": "stdout",
     "output_type": "stream",
     "text": [
      "Car Type: Hatchback\n"
     ]
    },
    {
     "name": "stderr",
     "output_type": "stream",
     "text": [
      "0: 160x256 1 Hatchback, 1 NumberPlate, 9.0ms\n",
      "Speed: 0.0ms pre-process, 9.0ms inference, 2.0ms postprocess per image at shape (1, 3, 256, 256)\n"
     ]
    },
    {
     "name": "stdout",
     "output_type": "stream",
     "text": [
      "Car Type: Hatchback\n"
     ]
    },
    {
     "name": "stderr",
     "output_type": "stream",
     "text": [
      "0: 160x256 1 Hatchback, 1 NumberPlate, 8.0ms\n",
      "Speed: 1.0ms pre-process, 8.0ms inference, 3.0ms postprocess per image at shape (1, 3, 256, 256)\n"
     ]
    },
    {
     "name": "stdout",
     "output_type": "stream",
     "text": [
      "Car Type: Hatchback\n"
     ]
    },
    {
     "name": "stderr",
     "output_type": "stream",
     "text": [
      "0: 160x256 1 Hatchback, 1 NumberPlate, 10.0ms\n",
      "Speed: 0.0ms pre-process, 10.0ms inference, 2.0ms postprocess per image at shape (1, 3, 256, 256)\n"
     ]
    },
    {
     "name": "stdout",
     "output_type": "stream",
     "text": [
      "Car Type: Hatchback\n"
     ]
    },
    {
     "name": "stderr",
     "output_type": "stream",
     "text": [
      "0: 160x256 1 Hatchback, 1 NumberPlate, 15.9ms\n",
      "Speed: 1.0ms pre-process, 15.9ms inference, 4.0ms postprocess per image at shape (1, 3, 256, 256)\n"
     ]
    },
    {
     "name": "stdout",
     "output_type": "stream",
     "text": [
      "Car Type: Hatchback\n"
     ]
    },
    {
     "name": "stderr",
     "output_type": "stream",
     "text": [
      "0: 160x256 1 Hatchback, 1 NumberPlate, 16.0ms\n",
      "Speed: 1.0ms pre-process, 16.0ms inference, 4.0ms postprocess per image at shape (1, 3, 256, 256)\n"
     ]
    },
    {
     "name": "stdout",
     "output_type": "stream",
     "text": [
      "Car Type: Hatchback\n"
     ]
    },
    {
     "name": "stderr",
     "output_type": "stream",
     "text": [
      "0: 160x256 1 Hatchback, 1 NumberPlate, 9.0ms\n",
      "Speed: 0.0ms pre-process, 9.0ms inference, 2.0ms postprocess per image at shape (1, 3, 256, 256)\n"
     ]
    },
    {
     "name": "stdout",
     "output_type": "stream",
     "text": [
      "Car Type: Hatchback\n"
     ]
    },
    {
     "name": "stderr",
     "output_type": "stream",
     "text": [
      "0: 160x256 1 Hatchback, 1 NumberPlate, 9.0ms\n",
      "Speed: 1.0ms pre-process, 9.0ms inference, 2.0ms postprocess per image at shape (1, 3, 256, 256)\n"
     ]
    },
    {
     "name": "stdout",
     "output_type": "stream",
     "text": [
      "Car Type: Hatchback\n"
     ]
    },
    {
     "name": "stderr",
     "output_type": "stream",
     "text": [
      "0: 160x256 1 Hatchback, 1 NumberPlate, 10.0ms\n",
      "Speed: 0.0ms pre-process, 10.0ms inference, 2.0ms postprocess per image at shape (1, 3, 256, 256)\n"
     ]
    },
    {
     "name": "stdout",
     "output_type": "stream",
     "text": [
      "Car Type: Hatchback\n"
     ]
    },
    {
     "name": "stderr",
     "output_type": "stream",
     "text": [
      "0: 160x256 1 Hatchback, 1 NumberPlate, 12.0ms\n",
      "Speed: 0.0ms pre-process, 12.0ms inference, 2.0ms postprocess per image at shape (1, 3, 256, 256)\n"
     ]
    },
    {
     "name": "stdout",
     "output_type": "stream",
     "text": [
      "Car Type: Hatchback\n"
     ]
    },
    {
     "name": "stderr",
     "output_type": "stream",
     "text": [
      "0: 160x256 1 Hatchback, 1 NumberPlate, 9.0ms\n",
      "Speed: 0.0ms pre-process, 9.0ms inference, 2.0ms postprocess per image at shape (1, 3, 256, 256)\n"
     ]
    },
    {
     "name": "stdout",
     "output_type": "stream",
     "text": [
      "Car Type: Hatchback\n"
     ]
    },
    {
     "name": "stderr",
     "output_type": "stream",
     "text": [
      "0: 160x256 1 Hatchback, 1 NumberPlate, 9.0ms\n",
      "Speed: 0.0ms pre-process, 9.0ms inference, 2.0ms postprocess per image at shape (1, 3, 256, 256)\n"
     ]
    },
    {
     "name": "stdout",
     "output_type": "stream",
     "text": [
      "Car Type: Hatchback\n"
     ]
    },
    {
     "name": "stderr",
     "output_type": "stream",
     "text": [
      "0: 160x256 1 Hatchback, 1 NumberPlate, 8.0ms\n",
      "Speed: 0.0ms pre-process, 8.0ms inference, 2.0ms postprocess per image at shape (1, 3, 256, 256)\n"
     ]
    },
    {
     "name": "stdout",
     "output_type": "stream",
     "text": [
      "Car Type: Hatchback\n"
     ]
    },
    {
     "name": "stderr",
     "output_type": "stream",
     "text": [
      "0: 160x256 1 Hatchback, 1 NumberPlate, 16.0ms\n",
      "Speed: 0.0ms pre-process, 16.0ms inference, 4.0ms postprocess per image at shape (1, 3, 256, 256)\n"
     ]
    },
    {
     "name": "stdout",
     "output_type": "stream",
     "text": [
      "Car Type: Hatchback\n"
     ]
    },
    {
     "name": "stderr",
     "output_type": "stream",
     "text": [
      "0: 160x256 1 Hatchback, 1 NumberPlate, 9.0ms\n",
      "Speed: 0.0ms pre-process, 9.0ms inference, 2.0ms postprocess per image at shape (1, 3, 256, 256)\n"
     ]
    },
    {
     "name": "stdout",
     "output_type": "stream",
     "text": [
      "Car Type: Hatchback\n"
     ]
    },
    {
     "name": "stderr",
     "output_type": "stream",
     "text": [
      "0: 160x256 1 Hatchback, 1 NumberPlate, 12.0ms\n",
      "Speed: 0.0ms pre-process, 12.0ms inference, 3.0ms postprocess per image at shape (1, 3, 256, 256)\n"
     ]
    },
    {
     "name": "stdout",
     "output_type": "stream",
     "text": [
      "Car Type: Hatchback\n"
     ]
    },
    {
     "name": "stderr",
     "output_type": "stream",
     "text": [
      "0: 160x256 1 Hatchback, 1 NumberPlate, 7.9ms\n",
      "Speed: 0.0ms pre-process, 7.9ms inference, 3.0ms postprocess per image at shape (1, 3, 256, 256)\n"
     ]
    },
    {
     "name": "stdout",
     "output_type": "stream",
     "text": [
      "Car Type: Hatchback\n"
     ]
    },
    {
     "name": "stderr",
     "output_type": "stream",
     "text": [
      "0: 160x256 1 Hatchback, 1 NumberPlate, 10.0ms\n",
      "Speed: 0.0ms pre-process, 10.0ms inference, 2.0ms postprocess per image at shape (1, 3, 256, 256)\n"
     ]
    },
    {
     "name": "stdout",
     "output_type": "stream",
     "text": [
      "Car Type: Hatchback\n"
     ]
    },
    {
     "name": "stderr",
     "output_type": "stream",
     "text": [
      "0: 160x256 1 Hatchback, 1 NumberPlate, 8.9ms\n",
      "Speed: 0.0ms pre-process, 8.9ms inference, 3.0ms postprocess per image at shape (1, 3, 256, 256)\n"
     ]
    },
    {
     "name": "stdout",
     "output_type": "stream",
     "text": [
      "Car Type: Hatchback\n"
     ]
    },
    {
     "name": "stderr",
     "output_type": "stream",
     "text": [
      "0: 160x256 1 Hatchback, 1 NumberPlate, 19.9ms\n",
      "Speed: 0.0ms pre-process, 19.9ms inference, 4.0ms postprocess per image at shape (1, 3, 256, 256)\n"
     ]
    },
    {
     "name": "stdout",
     "output_type": "stream",
     "text": [
      "Car Type: Hatchback\n"
     ]
    },
    {
     "name": "stderr",
     "output_type": "stream",
     "text": [
      "0: 160x256 1 Hatchback, 1 NumberPlate, 9.0ms\n",
      "Speed: 0.0ms pre-process, 9.0ms inference, 2.0ms postprocess per image at shape (1, 3, 256, 256)\n"
     ]
    },
    {
     "name": "stdout",
     "output_type": "stream",
     "text": [
      "Car Type: Hatchback\n"
     ]
    },
    {
     "name": "stderr",
     "output_type": "stream",
     "text": [
      "0: 160x256 1 Hatchback, 1 NumberPlate, 16.0ms\n",
      "Speed: 0.0ms pre-process, 16.0ms inference, 3.0ms postprocess per image at shape (1, 3, 256, 256)\n"
     ]
    },
    {
     "name": "stdout",
     "output_type": "stream",
     "text": [
      "Car Type: Hatchback\n"
     ]
    },
    {
     "name": "stderr",
     "output_type": "stream",
     "text": [
      "0: 160x256 1 Hatchback, 1 NumberPlate, 9.0ms\n",
      "Speed: 0.0ms pre-process, 9.0ms inference, 2.0ms postprocess per image at shape (1, 3, 256, 256)\n"
     ]
    },
    {
     "name": "stdout",
     "output_type": "stream",
     "text": [
      "Car Type: Hatchback\n"
     ]
    },
    {
     "name": "stderr",
     "output_type": "stream",
     "text": [
      "0: 160x256 1 Hatchback, 1 NumberPlate, 9.0ms\n",
      "Speed: 1.0ms pre-process, 9.0ms inference, 2.0ms postprocess per image at shape (1, 3, 256, 256)\n"
     ]
    },
    {
     "name": "stdout",
     "output_type": "stream",
     "text": [
      "Car Type: Hatchback\n"
     ]
    },
    {
     "name": "stderr",
     "output_type": "stream",
     "text": [
      "0: 160x256 1 Hatchback, 1 NumberPlate, 8.0ms\n",
      "Speed: 0.0ms pre-process, 8.0ms inference, 3.0ms postprocess per image at shape (1, 3, 256, 256)\n"
     ]
    },
    {
     "name": "stdout",
     "output_type": "stream",
     "text": [
      "Car Type: Hatchback\n"
     ]
    },
    {
     "name": "stderr",
     "output_type": "stream",
     "text": [
      "0: 160x256 1 NumberPlate, 1 SUV, 11.0ms\n",
      "Speed: 0.0ms pre-process, 11.0ms inference, 6.0ms postprocess per image at shape (1, 3, 256, 256)\n"
     ]
    },
    {
     "name": "stdout",
     "output_type": "stream",
     "text": [
      "Car Type: SUV\n"
     ]
    },
    {
     "name": "stderr",
     "output_type": "stream",
     "text": [
      "0: 160x256 1 NumberPlate, 1 SUV, 8.0ms\n",
      "Speed: 0.0ms pre-process, 8.0ms inference, 3.0ms postprocess per image at shape (1, 3, 256, 256)\n"
     ]
    },
    {
     "name": "stdout",
     "output_type": "stream",
     "text": [
      "Car Type: SUV\n"
     ]
    },
    {
     "name": "stderr",
     "output_type": "stream",
     "text": [
      "0: 160x256 1 NumberPlate, 1 SUV, 10.0ms\n",
      "Speed: 0.0ms pre-process, 10.0ms inference, 2.0ms postprocess per image at shape (1, 3, 256, 256)\n"
     ]
    },
    {
     "name": "stdout",
     "output_type": "stream",
     "text": [
      "Car Type: SUV\n"
     ]
    },
    {
     "name": "stderr",
     "output_type": "stream",
     "text": [
      "0: 160x256 1 NumberPlate, 1 SUV, 9.0ms\n",
      "Speed: 0.0ms pre-process, 9.0ms inference, 2.0ms postprocess per image at shape (1, 3, 256, 256)\n"
     ]
    },
    {
     "name": "stdout",
     "output_type": "stream",
     "text": [
      "Car Type: SUV\n"
     ]
    },
    {
     "name": "stderr",
     "output_type": "stream",
     "text": [
      "0: 160x256 1 NumberPlate, 1 SUV, 16.0ms\n",
      "Speed: 0.0ms pre-process, 16.0ms inference, 5.0ms postprocess per image at shape (1, 3, 256, 256)\n"
     ]
    },
    {
     "name": "stdout",
     "output_type": "stream",
     "text": [
      "Car Type: SUV\n"
     ]
    },
    {
     "name": "stderr",
     "output_type": "stream",
     "text": [
      "0: 160x256 1 NumberPlate, 1 SUV, 8.9ms\n",
      "Speed: 0.0ms pre-process, 8.9ms inference, 2.0ms postprocess per image at shape (1, 3, 256, 256)\n"
     ]
    },
    {
     "name": "stdout",
     "output_type": "stream",
     "text": [
      "Car Type: SUV\n"
     ]
    },
    {
     "name": "stderr",
     "output_type": "stream",
     "text": [
      "0: 160x256 1 NumberPlate, 1 SUV, 9.0ms\n",
      "Speed: 1.0ms pre-process, 9.0ms inference, 2.0ms postprocess per image at shape (1, 3, 256, 256)\n"
     ]
    },
    {
     "name": "stdout",
     "output_type": "stream",
     "text": [
      "Car Type: SUV\n"
     ]
    },
    {
     "name": "stderr",
     "output_type": "stream",
     "text": [
      "0: 160x256 1 NumberPlate, 1 SUV, 12.0ms\n",
      "Speed: 0.9ms pre-process, 12.0ms inference, 2.0ms postprocess per image at shape (1, 3, 256, 256)\n"
     ]
    },
    {
     "name": "stdout",
     "output_type": "stream",
     "text": [
      "Car Type: SUV\n"
     ]
    },
    {
     "name": "stderr",
     "output_type": "stream",
     "text": [
      "0: 160x256 1 NumberPlate, 1 SUV, 9.0ms\n",
      "Speed: 0.0ms pre-process, 9.0ms inference, 2.0ms postprocess per image at shape (1, 3, 256, 256)\n"
     ]
    },
    {
     "name": "stdout",
     "output_type": "stream",
     "text": [
      "Car Type: SUV\n"
     ]
    },
    {
     "name": "stderr",
     "output_type": "stream",
     "text": [
      "0: 160x256 1 NumberPlate, 1 SUV, 9.0ms\n",
      "Speed: 1.0ms pre-process, 9.0ms inference, 2.0ms postprocess per image at shape (1, 3, 256, 256)\n"
     ]
    },
    {
     "name": "stdout",
     "output_type": "stream",
     "text": [
      "Car Type: SUV\n"
     ]
    },
    {
     "name": "stderr",
     "output_type": "stream",
     "text": [
      "0: 160x256 1 NumberPlate, 1 SUV, 15.0ms\n",
      "Speed: 1.0ms pre-process, 15.0ms inference, 4.0ms postprocess per image at shape (1, 3, 256, 256)\n"
     ]
    },
    {
     "name": "stdout",
     "output_type": "stream",
     "text": [
      "Car Type: SUV\n"
     ]
    },
    {
     "name": "stderr",
     "output_type": "stream",
     "text": [
      "0: 160x256 1 NumberPlate, 1 SUV, 8.0ms\n",
      "Speed: 0.0ms pre-process, 8.0ms inference, 2.0ms postprocess per image at shape (1, 3, 256, 256)\n"
     ]
    },
    {
     "name": "stdout",
     "output_type": "stream",
     "text": [
      "Car Type: SUV\n"
     ]
    },
    {
     "name": "stderr",
     "output_type": "stream",
     "text": [
      "0: 160x256 1 NumberPlate, 1 SUV, 15.0ms\n",
      "Speed: 1.0ms pre-process, 15.0ms inference, 3.0ms postprocess per image at shape (1, 3, 256, 256)\n"
     ]
    },
    {
     "name": "stdout",
     "output_type": "stream",
     "text": [
      "Car Type: SUV\n"
     ]
    },
    {
     "name": "stderr",
     "output_type": "stream",
     "text": [
      "0: 160x256 1 NumberPlate, 1 SUV, 9.0ms\n",
      "Speed: 1.0ms pre-process, 9.0ms inference, 2.0ms postprocess per image at shape (1, 3, 256, 256)\n"
     ]
    },
    {
     "name": "stdout",
     "output_type": "stream",
     "text": [
      "Car Type: SUV\n"
     ]
    },
    {
     "name": "stderr",
     "output_type": "stream",
     "text": [
      "0: 160x256 1 NumberPlate, 1 SUV, 8.0ms\n",
      "Speed: 1.0ms pre-process, 8.0ms inference, 2.0ms postprocess per image at shape (1, 3, 256, 256)\n"
     ]
    },
    {
     "name": "stdout",
     "output_type": "stream",
     "text": [
      "Car Type: SUV\n"
     ]
    },
    {
     "name": "stderr",
     "output_type": "stream",
     "text": [
      "0: 160x256 1 NumberPlate, 1 SUV, 8.9ms\n",
      "Speed: 0.0ms pre-process, 8.9ms inference, 2.0ms postprocess per image at shape (1, 3, 256, 256)\n"
     ]
    },
    {
     "name": "stdout",
     "output_type": "stream",
     "text": [
      "Car Type: SUV\n"
     ]
    },
    {
     "name": "stderr",
     "output_type": "stream",
     "text": [
      "0: 160x256 1 NumberPlate, 1 SUV, 9.0ms\n",
      "Speed: 0.0ms pre-process, 9.0ms inference, 3.0ms postprocess per image at shape (1, 3, 256, 256)\n"
     ]
    },
    {
     "name": "stdout",
     "output_type": "stream",
     "text": [
      "Car Type: SUV\n"
     ]
    },
    {
     "name": "stderr",
     "output_type": "stream",
     "text": [
      "0: 160x256 1 NumberPlate, 1 SUV, 16.0ms\n",
      "Speed: 0.0ms pre-process, 16.0ms inference, 4.0ms postprocess per image at shape (1, 3, 256, 256)\n"
     ]
    },
    {
     "name": "stdout",
     "output_type": "stream",
     "text": [
      "Car Type: SUV\n"
     ]
    },
    {
     "name": "stderr",
     "output_type": "stream",
     "text": [
      "0: 160x256 1 NumberPlate, 1 SUV, 10.0ms\n",
      "Speed: 1.0ms pre-process, 10.0ms inference, 2.0ms postprocess per image at shape (1, 3, 256, 256)\n"
     ]
    },
    {
     "name": "stdout",
     "output_type": "stream",
     "text": [
      "Car Type: SUV\n"
     ]
    },
    {
     "name": "stderr",
     "output_type": "stream",
     "text": [
      "0: 160x256 1 NumberPlate, 1 SUV, 11.0ms\n",
      "Speed: 0.0ms pre-process, 11.0ms inference, 2.0ms postprocess per image at shape (1, 3, 256, 256)\n"
     ]
    },
    {
     "name": "stdout",
     "output_type": "stream",
     "text": [
      "Car Type: SUV\n"
     ]
    },
    {
     "name": "stderr",
     "output_type": "stream",
     "text": [
      "0: 160x256 1 NumberPlate, 1 SUV, 9.0ms\n",
      "Speed: 0.0ms pre-process, 9.0ms inference, 2.0ms postprocess per image at shape (1, 3, 256, 256)\n"
     ]
    },
    {
     "name": "stdout",
     "output_type": "stream",
     "text": [
      "Car Type: SUV\n"
     ]
    },
    {
     "name": "stderr",
     "output_type": "stream",
     "text": [
      "0: 160x256 1 NumberPlate, 1 SUV, 9.0ms\n",
      "Speed: 0.0ms pre-process, 9.0ms inference, 2.0ms postprocess per image at shape (1, 3, 256, 256)\n"
     ]
    },
    {
     "name": "stdout",
     "output_type": "stream",
     "text": [
      "Car Type: SUV\n"
     ]
    },
    {
     "name": "stderr",
     "output_type": "stream",
     "text": [
      "0: 160x256 1 NumberPlate, 1 SUV, 8.0ms\n",
      "Speed: 1.0ms pre-process, 8.0ms inference, 2.0ms postprocess per image at shape (1, 3, 256, 256)\n"
     ]
    },
    {
     "name": "stdout",
     "output_type": "stream",
     "text": [
      "Car Type: SUV\n"
     ]
    },
    {
     "name": "stderr",
     "output_type": "stream",
     "text": [
      "0: 160x256 1 NumberPlate, 1 SUV, 9.0ms\n",
      "Speed: 0.0ms pre-process, 9.0ms inference, 2.0ms postprocess per image at shape (1, 3, 256, 256)\n"
     ]
    },
    {
     "name": "stdout",
     "output_type": "stream",
     "text": [
      "Car Type: SUV\n"
     ]
    },
    {
     "name": "stderr",
     "output_type": "stream",
     "text": [
      "0: 160x256 1 NumberPlate, 1 SUV, 9.0ms\n",
      "Speed: 1.0ms pre-process, 9.0ms inference, 2.0ms postprocess per image at shape (1, 3, 256, 256)\n"
     ]
    },
    {
     "name": "stdout",
     "output_type": "stream",
     "text": [
      "Car Type: SUV\n"
     ]
    },
    {
     "name": "stderr",
     "output_type": "stream",
     "text": [
      "0: 160x256 1 NumberPlate, 1 SUV, 9.0ms\n",
      "Speed: 0.0ms pre-process, 9.0ms inference, 2.0ms postprocess per image at shape (1, 3, 256, 256)\n"
     ]
    },
    {
     "name": "stdout",
     "output_type": "stream",
     "text": [
      "Car Type: SUV\n"
     ]
    },
    {
     "name": "stderr",
     "output_type": "stream",
     "text": [
      "0: 160x256 1 NumberPlate, 1 SUV, 9.0ms\n",
      "Speed: 1.0ms pre-process, 9.0ms inference, 2.0ms postprocess per image at shape (1, 3, 256, 256)\n"
     ]
    },
    {
     "name": "stdout",
     "output_type": "stream",
     "text": [
      "Car Type: SUV\n"
     ]
    },
    {
     "name": "stderr",
     "output_type": "stream",
     "text": [
      "0: 160x256 1 NumberPlate, 1 SUV, 9.0ms\n",
      "Speed: 1.0ms pre-process, 9.0ms inference, 2.0ms postprocess per image at shape (1, 3, 256, 256)\n"
     ]
    },
    {
     "name": "stdout",
     "output_type": "stream",
     "text": [
      "Car Type: SUV\n"
     ]
    },
    {
     "name": "stderr",
     "output_type": "stream",
     "text": [
      "0: 160x256 1 NumberPlate, 1 SUV, 9.0ms\n",
      "Speed: 1.0ms pre-process, 9.0ms inference, 2.0ms postprocess per image at shape (1, 3, 256, 256)\n"
     ]
    },
    {
     "name": "stdout",
     "output_type": "stream",
     "text": [
      "Car Type: SUV\n"
     ]
    },
    {
     "name": "stderr",
     "output_type": "stream",
     "text": [
      "0: 160x256 1 NumberPlate, 1 SUV, 9.0ms\n",
      "Speed: 0.0ms pre-process, 9.0ms inference, 2.0ms postprocess per image at shape (1, 3, 256, 256)\n"
     ]
    },
    {
     "name": "stdout",
     "output_type": "stream",
     "text": [
      "Car Type: SUV\n"
     ]
    },
    {
     "name": "stderr",
     "output_type": "stream",
     "text": [
      "0: 160x256 1 NumberPlate, 1 SUV, 9.0ms\n",
      "Speed: 0.0ms pre-process, 9.0ms inference, 3.0ms postprocess per image at shape (1, 3, 256, 256)\n"
     ]
    },
    {
     "name": "stdout",
     "output_type": "stream",
     "text": [
      "Car Type: SUV\n"
     ]
    },
    {
     "name": "stderr",
     "output_type": "stream",
     "text": [
      "0: 160x256 1 NumberPlate, 1 SUV, 8.9ms\n",
      "Speed: 0.0ms pre-process, 8.9ms inference, 5.0ms postprocess per image at shape (1, 3, 256, 256)\n"
     ]
    },
    {
     "name": "stdout",
     "output_type": "stream",
     "text": [
      "Car Type: SUV\n"
     ]
    },
    {
     "name": "stderr",
     "output_type": "stream",
     "text": [
      "0: 160x256 1 NumberPlate, 1 SUV, 12.0ms\n",
      "Speed: 1.0ms pre-process, 12.0ms inference, 2.0ms postprocess per image at shape (1, 3, 256, 256)\n"
     ]
    },
    {
     "name": "stdout",
     "output_type": "stream",
     "text": [
      "Car Type: SUV\n"
     ]
    },
    {
     "name": "stderr",
     "output_type": "stream",
     "text": [
      "0: 160x256 1 NumberPlate, 1 SUV, 9.0ms\n",
      "Speed: 1.0ms pre-process, 9.0ms inference, 1.0ms postprocess per image at shape (1, 3, 256, 256)\n"
     ]
    },
    {
     "name": "stdout",
     "output_type": "stream",
     "text": [
      "Car Type: SUV\n"
     ]
    },
    {
     "name": "stderr",
     "output_type": "stream",
     "text": [
      "0: 160x256 1 NumberPlate, 1 SUV, 11.0ms\n",
      "Speed: 0.0ms pre-process, 11.0ms inference, 3.0ms postprocess per image at shape (1, 3, 256, 256)\n"
     ]
    },
    {
     "name": "stdout",
     "output_type": "stream",
     "text": [
      "Car Type: SUV\n"
     ]
    },
    {
     "name": "stderr",
     "output_type": "stream",
     "text": [
      "0: 160x256 1 NumberPlate, 1 SUV, 11.0ms\n",
      "Speed: 0.0ms pre-process, 11.0ms inference, 2.0ms postprocess per image at shape (1, 3, 256, 256)\n"
     ]
    },
    {
     "name": "stdout",
     "output_type": "stream",
     "text": [
      "Car Type: SUV\n"
     ]
    },
    {
     "name": "stderr",
     "output_type": "stream",
     "text": [
      "0: 160x256 1 NumberPlate, 1 SUV, 15.0ms\n",
      "Speed: 1.0ms pre-process, 15.0ms inference, 4.0ms postprocess per image at shape (1, 3, 256, 256)\n"
     ]
    },
    {
     "name": "stdout",
     "output_type": "stream",
     "text": [
      "Car Type: SUV\n"
     ]
    },
    {
     "name": "stderr",
     "output_type": "stream",
     "text": [
      "0: 160x256 1 NumberPlate, 1 SUV, 14.0ms\n",
      "Speed: 0.0ms pre-process, 14.0ms inference, 5.0ms postprocess per image at shape (1, 3, 256, 256)\n"
     ]
    },
    {
     "name": "stdout",
     "output_type": "stream",
     "text": [
      "Car Type: SUV\n"
     ]
    },
    {
     "name": "stderr",
     "output_type": "stream",
     "text": [
      "0: 160x256 1 NumberPlate, 1 SUV, 8.0ms\n",
      "Speed: 1.0ms pre-process, 8.0ms inference, 2.0ms postprocess per image at shape (1, 3, 256, 256)\n"
     ]
    },
    {
     "name": "stdout",
     "output_type": "stream",
     "text": [
      "Car Type: SUV\n"
     ]
    },
    {
     "name": "stderr",
     "output_type": "stream",
     "text": [
      "0: 160x256 1 NumberPlate, 1 SUV, 8.0ms\n",
      "Speed: 1.0ms pre-process, 8.0ms inference, 2.0ms postprocess per image at shape (1, 3, 256, 256)\n"
     ]
    },
    {
     "name": "stdout",
     "output_type": "stream",
     "text": [
      "Car Type: SUV\n"
     ]
    },
    {
     "name": "stderr",
     "output_type": "stream",
     "text": [
      "0: 160x256 1 NumberPlate, 1 SUV, 12.0ms\n",
      "Speed: 1.0ms pre-process, 12.0ms inference, 2.0ms postprocess per image at shape (1, 3, 256, 256)\n"
     ]
    },
    {
     "name": "stdout",
     "output_type": "stream",
     "text": [
      "Car Type: SUV\n"
     ]
    },
    {
     "name": "stderr",
     "output_type": "stream",
     "text": [
      "0: 160x256 1 NumberPlate, 1 SUV, 7.9ms\n",
      "Speed: 0.0ms pre-process, 7.9ms inference, 2.0ms postprocess per image at shape (1, 3, 256, 256)\n"
     ]
    },
    {
     "name": "stdout",
     "output_type": "stream",
     "text": [
      "Car Type: SUV\n"
     ]
    },
    {
     "name": "stderr",
     "output_type": "stream",
     "text": [
      "0: 160x256 1 NumberPlate, 1 SUV, 8.0ms\n",
      "Speed: 1.0ms pre-process, 8.0ms inference, 2.0ms postprocess per image at shape (1, 3, 256, 256)\n"
     ]
    },
    {
     "name": "stdout",
     "output_type": "stream",
     "text": [
      "Car Type: SUV\n"
     ]
    },
    {
     "name": "stderr",
     "output_type": "stream",
     "text": [
      "0: 160x256 1 NumberPlate, 1 SUV, 8.9ms\n",
      "Speed: 0.0ms pre-process, 8.9ms inference, 1.0ms postprocess per image at shape (1, 3, 256, 256)\n"
     ]
    },
    {
     "name": "stdout",
     "output_type": "stream",
     "text": [
      "Car Type: SUV\n"
     ]
    },
    {
     "name": "stderr",
     "output_type": "stream",
     "text": [
      "0: 160x256 1 NumberPlate, 1 SUV, 15.0ms\n",
      "Speed: 1.0ms pre-process, 15.0ms inference, 4.9ms postprocess per image at shape (1, 3, 256, 256)\n"
     ]
    },
    {
     "name": "stdout",
     "output_type": "stream",
     "text": [
      "Car Type: SUV\n"
     ]
    },
    {
     "name": "stderr",
     "output_type": "stream",
     "text": [
      "0: 160x256 1 NumberPlate, 1 SUV, 8.9ms\n",
      "Speed: 0.0ms pre-process, 8.9ms inference, 2.0ms postprocess per image at shape (1, 3, 256, 256)\n"
     ]
    },
    {
     "name": "stdout",
     "output_type": "stream",
     "text": [
      "Car Type: SUV\n"
     ]
    },
    {
     "name": "stderr",
     "output_type": "stream",
     "text": [
      "0: 160x256 1 NumberPlate, 1 SUV, 9.0ms\n",
      "Speed: 1.0ms pre-process, 9.0ms inference, 2.0ms postprocess per image at shape (1, 3, 256, 256)\n"
     ]
    },
    {
     "name": "stdout",
     "output_type": "stream",
     "text": [
      "Car Type: SUV\n"
     ]
    },
    {
     "name": "stderr",
     "output_type": "stream",
     "text": [
      "0: 160x256 1 NumberPlate, 1 SUV, 9.0ms\n",
      "Speed: 1.0ms pre-process, 9.0ms inference, 2.0ms postprocess per image at shape (1, 3, 256, 256)\n"
     ]
    },
    {
     "name": "stdout",
     "output_type": "stream",
     "text": [
      "Car Type: SUV\n"
     ]
    },
    {
     "name": "stderr",
     "output_type": "stream",
     "text": [
      "0: 160x256 1 NumberPlate, 1 SUV, 9.0ms\n",
      "Speed: 1.0ms pre-process, 9.0ms inference, 3.0ms postprocess per image at shape (1, 3, 256, 256)\n"
     ]
    },
    {
     "name": "stdout",
     "output_type": "stream",
     "text": [
      "Car Type: SUV\n"
     ]
    },
    {
     "name": "stderr",
     "output_type": "stream",
     "text": [
      "0: 160x256 1 NumberPlate, 1 SUV, 9.0ms\n",
      "Speed: 0.0ms pre-process, 9.0ms inference, 2.0ms postprocess per image at shape (1, 3, 256, 256)\n"
     ]
    },
    {
     "name": "stdout",
     "output_type": "stream",
     "text": [
      "Car Type: SUV\n"
     ]
    },
    {
     "name": "stderr",
     "output_type": "stream",
     "text": [
      "0: 160x256 1 NumberPlate, 1 SUV, 16.0ms\n",
      "Speed: 0.0ms pre-process, 16.0ms inference, 4.0ms postprocess per image at shape (1, 3, 256, 256)\n"
     ]
    },
    {
     "name": "stdout",
     "output_type": "stream",
     "text": [
      "Car Type: SUV\n"
     ]
    },
    {
     "name": "stderr",
     "output_type": "stream",
     "text": [
      "0: 160x256 1 NumberPlate, 1 SUV, 8.0ms\n",
      "Speed: 1.0ms pre-process, 8.0ms inference, 2.0ms postprocess per image at shape (1, 3, 256, 256)\n"
     ]
    },
    {
     "name": "stdout",
     "output_type": "stream",
     "text": [
      "Car Type: SUV\n"
     ]
    },
    {
     "name": "stderr",
     "output_type": "stream",
     "text": [
      "0: 160x256 1 NumberPlate, 1 SUV, 10.0ms\n",
      "Speed: 0.0ms pre-process, 10.0ms inference, 4.0ms postprocess per image at shape (1, 3, 256, 256)\n"
     ]
    },
    {
     "name": "stdout",
     "output_type": "stream",
     "text": [
      "Car Type: SUV\n"
     ]
    },
    {
     "name": "stderr",
     "output_type": "stream",
     "text": [
      "0: 160x256 1 NumberPlate, 1 SUV, 8.0ms\n",
      "Speed: 1.0ms pre-process, 8.0ms inference, 3.0ms postprocess per image at shape (1, 3, 256, 256)\n"
     ]
    },
    {
     "name": "stdout",
     "output_type": "stream",
     "text": [
      "Car Type: SUV\n"
     ]
    },
    {
     "name": "stderr",
     "output_type": "stream",
     "text": [
      "0: 160x256 1 NumberPlate, 1 SUV, 9.0ms\n",
      "Speed: 1.0ms pre-process, 9.0ms inference, 2.0ms postprocess per image at shape (1, 3, 256, 256)\n"
     ]
    },
    {
     "name": "stdout",
     "output_type": "stream",
     "text": [
      "Car Type: SUV\n"
     ]
    },
    {
     "name": "stderr",
     "output_type": "stream",
     "text": [
      "0: 160x256 1 NumberPlate, 1 SUV, 7.9ms\n",
      "Speed: 1.0ms pre-process, 7.9ms inference, 2.0ms postprocess per image at shape (1, 3, 256, 256)\n"
     ]
    },
    {
     "name": "stdout",
     "output_type": "stream",
     "text": [
      "Car Type: SUV\n"
     ]
    },
    {
     "name": "stderr",
     "output_type": "stream",
     "text": [
      "0: 160x256 1 NumberPlate, 1 SUV, 9.9ms\n",
      "Speed: 0.0ms pre-process, 9.9ms inference, 3.0ms postprocess per image at shape (1, 3, 256, 256)\n"
     ]
    },
    {
     "name": "stdout",
     "output_type": "stream",
     "text": [
      "Car Type: SUV\n"
     ]
    },
    {
     "name": "stderr",
     "output_type": "stream",
     "text": [
      "0: 160x256 1 NumberPlate, 1 SUV, 9.0ms\n",
      "Speed: 0.0ms pre-process, 9.0ms inference, 2.0ms postprocess per image at shape (1, 3, 256, 256)\n"
     ]
    },
    {
     "name": "stdout",
     "output_type": "stream",
     "text": [
      "Car Type: SUV\n"
     ]
    },
    {
     "name": "stderr",
     "output_type": "stream",
     "text": [
      "0: 160x256 1 NumberPlate, 1 SUV, 15.9ms\n",
      "Speed: 1.0ms pre-process, 15.9ms inference, 4.0ms postprocess per image at shape (1, 3, 256, 256)\n"
     ]
    },
    {
     "name": "stdout",
     "output_type": "stream",
     "text": [
      "Car Type: SUV\n"
     ]
    },
    {
     "name": "stderr",
     "output_type": "stream",
     "text": [
      "0: 160x256 1 NumberPlate, 1 SUV, 8.0ms\n",
      "Speed: 1.0ms pre-process, 8.0ms inference, 2.0ms postprocess per image at shape (1, 3, 256, 256)\n"
     ]
    },
    {
     "name": "stdout",
     "output_type": "stream",
     "text": [
      "Car Type: SUV\n"
     ]
    },
    {
     "name": "stderr",
     "output_type": "stream",
     "text": [
      "0: 160x256 1 NumberPlate, 1 SUV, 11.0ms\n",
      "Speed: 1.0ms pre-process, 11.0ms inference, 2.0ms postprocess per image at shape (1, 3, 256, 256)\n"
     ]
    },
    {
     "name": "stdout",
     "output_type": "stream",
     "text": [
      "Car Type: SUV\n"
     ]
    },
    {
     "name": "stderr",
     "output_type": "stream",
     "text": [
      "0: 160x256 1 NumberPlate, 1 SUV, 8.0ms\n",
      "Speed: 1.0ms pre-process, 8.0ms inference, 2.0ms postprocess per image at shape (1, 3, 256, 256)\n"
     ]
    },
    {
     "name": "stdout",
     "output_type": "stream",
     "text": [
      "Car Type: SUV\n"
     ]
    },
    {
     "name": "stderr",
     "output_type": "stream",
     "text": [
      "0: 160x256 1 NumberPlate, 1 SUV, 8.0ms\n",
      "Speed: 1.0ms pre-process, 8.0ms inference, 2.0ms postprocess per image at shape (1, 3, 256, 256)\n"
     ]
    },
    {
     "name": "stdout",
     "output_type": "stream",
     "text": [
      "Car Type: SUV\n"
     ]
    },
    {
     "name": "stderr",
     "output_type": "stream",
     "text": [
      "0: 160x256 1 NumberPlate, 1 SUV, 9.0ms\n",
      "Speed: 0.0ms pre-process, 9.0ms inference, 2.0ms postprocess per image at shape (1, 3, 256, 256)\n"
     ]
    },
    {
     "name": "stdout",
     "output_type": "stream",
     "text": [
      "Car Type: SUV\n"
     ]
    },
    {
     "name": "stderr",
     "output_type": "stream",
     "text": [
      "0: 160x256 1 NumberPlate, 1 SUV, 8.9ms\n",
      "Speed: 0.0ms pre-process, 8.9ms inference, 2.0ms postprocess per image at shape (1, 3, 256, 256)\n"
     ]
    },
    {
     "name": "stdout",
     "output_type": "stream",
     "text": [
      "Car Type: SUV\n"
     ]
    },
    {
     "name": "stderr",
     "output_type": "stream",
     "text": [
      "0: 160x256 1 NumberPlate, 1 SUV, 8.9ms\n",
      "Speed: 0.0ms pre-process, 8.9ms inference, 2.0ms postprocess per image at shape (1, 3, 256, 256)\n"
     ]
    },
    {
     "name": "stdout",
     "output_type": "stream",
     "text": [
      "Car Type: SUV\n"
     ]
    },
    {
     "name": "stderr",
     "output_type": "stream",
     "text": [
      "0: 160x256 1 NumberPlate, 1 SUV, 9.0ms\n",
      "Speed: 1.0ms pre-process, 9.0ms inference, 2.0ms postprocess per image at shape (1, 3, 256, 256)\n"
     ]
    },
    {
     "name": "stdout",
     "output_type": "stream",
     "text": [
      "Car Type: SUV\n"
     ]
    },
    {
     "name": "stderr",
     "output_type": "stream",
     "text": [
      "0: 160x256 1 NumberPlate, 1 SUV, 9.0ms\n",
      "Speed: 0.0ms pre-process, 9.0ms inference, 1.0ms postprocess per image at shape (1, 3, 256, 256)\n"
     ]
    },
    {
     "name": "stdout",
     "output_type": "stream",
     "text": [
      "Car Type: SUV\n"
     ]
    },
    {
     "name": "stderr",
     "output_type": "stream",
     "text": [
      "0: 160x256 1 NumberPlate, 1 SUV, 16.0ms\n",
      "Speed: 1.0ms pre-process, 16.0ms inference, 6.0ms postprocess per image at shape (1, 3, 256, 256)\n"
     ]
    },
    {
     "name": "stdout",
     "output_type": "stream",
     "text": [
      "Car Type: SUV\n"
     ]
    },
    {
     "name": "stderr",
     "output_type": "stream",
     "text": [
      "0: 160x256 1 NumberPlate, 1 SUV, 9.0ms\n",
      "Speed: 0.0ms pre-process, 9.0ms inference, 2.0ms postprocess per image at shape (1, 3, 256, 256)\n"
     ]
    },
    {
     "name": "stdout",
     "output_type": "stream",
     "text": [
      "Car Type: SUV\n"
     ]
    },
    {
     "name": "stderr",
     "output_type": "stream",
     "text": [
      "0: 160x256 1 NumberPlate, 1 SUV, 9.0ms\n",
      "Speed: 1.0ms pre-process, 9.0ms inference, 2.0ms postprocess per image at shape (1, 3, 256, 256)\n"
     ]
    },
    {
     "name": "stdout",
     "output_type": "stream",
     "text": [
      "Car Type: SUV\n"
     ]
    },
    {
     "name": "stderr",
     "output_type": "stream",
     "text": [
      "0: 160x256 1 NumberPlate, 1 SUV, 9.0ms\n",
      "Speed: 0.0ms pre-process, 9.0ms inference, 2.0ms postprocess per image at shape (1, 3, 256, 256)\n"
     ]
    },
    {
     "name": "stdout",
     "output_type": "stream",
     "text": [
      "Car Type: SUV\n"
     ]
    },
    {
     "name": "stderr",
     "output_type": "stream",
     "text": [
      "0: 160x256 1 NumberPlate, 1 SUV, 15.9ms\n",
      "Speed: 1.0ms pre-process, 15.9ms inference, 4.0ms postprocess per image at shape (1, 3, 256, 256)\n"
     ]
    },
    {
     "name": "stdout",
     "output_type": "stream",
     "text": [
      "Car Type: SUV\n"
     ]
    },
    {
     "name": "stderr",
     "output_type": "stream",
     "text": [
      "0: 160x256 1 NumberPlate, 1 SUV, 14.2ms\n",
      "Speed: 0.0ms pre-process, 14.2ms inference, 1.8ms postprocess per image at shape (1, 3, 256, 256)\n"
     ]
    },
    {
     "name": "stdout",
     "output_type": "stream",
     "text": [
      "Car Type: SUV\n"
     ]
    },
    {
     "name": "stderr",
     "output_type": "stream",
     "text": [
      "0: 160x256 1 NumberPlate, 1 SUV, 9.0ms\n",
      "Speed: 0.0ms pre-process, 9.0ms inference, 2.0ms postprocess per image at shape (1, 3, 256, 256)\n"
     ]
    },
    {
     "name": "stdout",
     "output_type": "stream",
     "text": [
      "Car Type: SUV\n"
     ]
    },
    {
     "name": "stderr",
     "output_type": "stream",
     "text": [
      "0: 160x256 1 NumberPlate, 1 SUV, 16.9ms\n",
      "Speed: 0.0ms pre-process, 16.9ms inference, 4.0ms postprocess per image at shape (1, 3, 256, 256)\n"
     ]
    },
    {
     "name": "stdout",
     "output_type": "stream",
     "text": [
      "Car Type: SUV\n"
     ]
    },
    {
     "name": "stderr",
     "output_type": "stream",
     "text": [
      "0: 160x256 1 NumberPlate, 1 SUV, 9.0ms\n",
      "Speed: 0.0ms pre-process, 9.0ms inference, 2.0ms postprocess per image at shape (1, 3, 256, 256)\n"
     ]
    },
    {
     "name": "stdout",
     "output_type": "stream",
     "text": [
      "Car Type: SUV\n"
     ]
    },
    {
     "name": "stderr",
     "output_type": "stream",
     "text": [
      "0: 160x256 1 NumberPlate, 1 SUV, 8.9ms\n",
      "Speed: 0.0ms pre-process, 8.9ms inference, 1.0ms postprocess per image at shape (1, 3, 256, 256)\n"
     ]
    },
    {
     "name": "stdout",
     "output_type": "stream",
     "text": [
      "Car Type: SUV\n"
     ]
    },
    {
     "name": "stderr",
     "output_type": "stream",
     "text": [
      "0: 160x256 1 NumberPlate, 1 SUV, 12.0ms\n",
      "Speed: 1.0ms pre-process, 12.0ms inference, 2.0ms postprocess per image at shape (1, 3, 256, 256)\n"
     ]
    },
    {
     "name": "stdout",
     "output_type": "stream",
     "text": [
      "Car Type: SUV\n"
     ]
    },
    {
     "name": "stderr",
     "output_type": "stream",
     "text": [
      "0: 160x256 1 NumberPlate, 1 SUV, 15.0ms\n",
      "Speed: 1.0ms pre-process, 15.0ms inference, 4.0ms postprocess per image at shape (1, 3, 256, 256)\n"
     ]
    },
    {
     "name": "stdout",
     "output_type": "stream",
     "text": [
      "Car Type: SUV\n"
     ]
    },
    {
     "name": "stderr",
     "output_type": "stream",
     "text": [
      "0: 160x256 1 NumberPlate, 1 SUV, 9.0ms\n",
      "Speed: 1.0ms pre-process, 9.0ms inference, 2.0ms postprocess per image at shape (1, 3, 256, 256)\n"
     ]
    },
    {
     "name": "stdout",
     "output_type": "stream",
     "text": [
      "Car Type: SUV\n"
     ]
    },
    {
     "name": "stderr",
     "output_type": "stream",
     "text": [
      "0: 160x256 1 NumberPlate, 1 SUV, 8.0ms\n",
      "Speed: 1.0ms pre-process, 8.0ms inference, 2.0ms postprocess per image at shape (1, 3, 256, 256)\n"
     ]
    },
    {
     "name": "stdout",
     "output_type": "stream",
     "text": [
      "Car Type: SUV\n"
     ]
    },
    {
     "name": "stderr",
     "output_type": "stream",
     "text": [
      "0: 160x256 1 NumberPlate, 1 SUV, 9.0ms\n",
      "Speed: 1.0ms pre-process, 9.0ms inference, 2.0ms postprocess per image at shape (1, 3, 256, 256)\n"
     ]
    },
    {
     "name": "stdout",
     "output_type": "stream",
     "text": [
      "Car Type: SUV\n"
     ]
    },
    {
     "name": "stderr",
     "output_type": "stream",
     "text": [
      "0: 160x256 1 NumberPlate, 1 SUV, 9.0ms\n",
      "Speed: 0.0ms pre-process, 9.0ms inference, 2.0ms postprocess per image at shape (1, 3, 256, 256)\n"
     ]
    },
    {
     "name": "stdout",
     "output_type": "stream",
     "text": [
      "Car Type: SUV\n"
     ]
    },
    {
     "name": "stderr",
     "output_type": "stream",
     "text": [
      "0: 160x256 1 NumberPlate, 1 SUV, 9.0ms\n",
      "Speed: 0.0ms pre-process, 9.0ms inference, 2.0ms postprocess per image at shape (1, 3, 256, 256)\n"
     ]
    },
    {
     "name": "stdout",
     "output_type": "stream",
     "text": [
      "Car Type: SUV\n"
     ]
    },
    {
     "name": "stderr",
     "output_type": "stream",
     "text": [
      "0: 160x256 1 NumberPlate, 1 SUV, 11.9ms\n",
      "Speed: 0.0ms pre-process, 11.9ms inference, 2.0ms postprocess per image at shape (1, 3, 256, 256)\n"
     ]
    },
    {
     "name": "stdout",
     "output_type": "stream",
     "text": [
      "Car Type: SUV\n"
     ]
    },
    {
     "name": "stderr",
     "output_type": "stream",
     "text": [
      "0: 160x256 1 NumberPlate, 1 SUV, 9.0ms\n",
      "Speed: 1.0ms pre-process, 9.0ms inference, 2.0ms postprocess per image at shape (1, 3, 256, 256)\n"
     ]
    },
    {
     "name": "stdout",
     "output_type": "stream",
     "text": [
      "Car Type: SUV\n"
     ]
    },
    {
     "name": "stderr",
     "output_type": "stream",
     "text": [
      "0: 160x256 1 NumberPlate, 1 SUV, 8.9ms\n",
      "Speed: 0.0ms pre-process, 8.9ms inference, 2.0ms postprocess per image at shape (1, 3, 256, 256)\n"
     ]
    },
    {
     "name": "stdout",
     "output_type": "stream",
     "text": [
      "Car Type: SUV\n"
     ]
    },
    {
     "name": "stderr",
     "output_type": "stream",
     "text": [
      "0: 160x256 1 NumberPlate, 1 SUV, 9.0ms\n",
      "Speed: 1.0ms pre-process, 9.0ms inference, 2.0ms postprocess per image at shape (1, 3, 256, 256)\n"
     ]
    },
    {
     "name": "stdout",
     "output_type": "stream",
     "text": [
      "Car Type: SUV\n"
     ]
    },
    {
     "name": "stderr",
     "output_type": "stream",
     "text": [
      "0: 160x256 1 NumberPlate, 1 SUV, 9.0ms\n",
      "Speed: 1.0ms pre-process, 9.0ms inference, 3.0ms postprocess per image at shape (1, 3, 256, 256)\n"
     ]
    },
    {
     "name": "stdout",
     "output_type": "stream",
     "text": [
      "Car Type: SUV\n"
     ]
    },
    {
     "name": "stderr",
     "output_type": "stream",
     "text": [
      "0: 160x256 1 NumberPlate, 1 SUV, 16.0ms\n",
      "Speed: 0.0ms pre-process, 16.0ms inference, 4.0ms postprocess per image at shape (1, 3, 256, 256)\n"
     ]
    },
    {
     "name": "stdout",
     "output_type": "stream",
     "text": [
      "Car Type: SUV\n"
     ]
    },
    {
     "name": "stderr",
     "output_type": "stream",
     "text": [
      "0: 160x256 1 NumberPlate, 1 SUV, 8.9ms\n",
      "Speed: 0.0ms pre-process, 8.9ms inference, 2.0ms postprocess per image at shape (1, 3, 256, 256)\n"
     ]
    },
    {
     "name": "stdout",
     "output_type": "stream",
     "text": [
      "Car Type: SUV\n"
     ]
    },
    {
     "name": "stderr",
     "output_type": "stream",
     "text": [
      "0: 160x256 1 NumberPlate, 1 SUV, 14.0ms\n",
      "Speed: 1.0ms pre-process, 14.0ms inference, 5.0ms postprocess per image at shape (1, 3, 256, 256)\n"
     ]
    },
    {
     "name": "stdout",
     "output_type": "stream",
     "text": [
      "Car Type: SUV\n"
     ]
    },
    {
     "name": "stderr",
     "output_type": "stream",
     "text": [
      "0: 160x256 1 NumberPlate, 1 SUV, 10.0ms\n",
      "Speed: 0.0ms pre-process, 10.0ms inference, 3.0ms postprocess per image at shape (1, 3, 256, 256)\n"
     ]
    },
    {
     "name": "stdout",
     "output_type": "stream",
     "text": [
      "Car Type: SUV\n"
     ]
    },
    {
     "name": "stderr",
     "output_type": "stream",
     "text": [
      "0: 160x256 1 NumberPlate, 1 SUV, 8.0ms\n",
      "Speed: 1.0ms pre-process, 8.0ms inference, 2.0ms postprocess per image at shape (1, 3, 256, 256)\n"
     ]
    },
    {
     "name": "stdout",
     "output_type": "stream",
     "text": [
      "Car Type: SUV\n"
     ]
    },
    {
     "name": "stderr",
     "output_type": "stream",
     "text": [
      "0: 160x256 1 NumberPlate, 1 SUV, 8.9ms\n",
      "Speed: 0.0ms pre-process, 8.9ms inference, 2.0ms postprocess per image at shape (1, 3, 256, 256)\n"
     ]
    },
    {
     "name": "stdout",
     "output_type": "stream",
     "text": [
      "Car Type: SUV\n"
     ]
    },
    {
     "name": "stderr",
     "output_type": "stream",
     "text": [
      "0: 160x256 1 NumberPlate, 1 SUV, 9.0ms\n",
      "Speed: 0.0ms pre-process, 9.0ms inference, 2.0ms postprocess per image at shape (1, 3, 256, 256)\n"
     ]
    },
    {
     "name": "stdout",
     "output_type": "stream",
     "text": [
      "Car Type: SUV\n"
     ]
    },
    {
     "name": "stderr",
     "output_type": "stream",
     "text": [
      "0: 160x256 1 NumberPlate, 1 SUV, 11.9ms\n",
      "Speed: 0.0ms pre-process, 11.9ms inference, 2.0ms postprocess per image at shape (1, 3, 256, 256)\n"
     ]
    },
    {
     "name": "stdout",
     "output_type": "stream",
     "text": [
      "Car Type: SUV\n"
     ]
    },
    {
     "name": "stderr",
     "output_type": "stream",
     "text": [
      "0: 160x256 1 NumberPlate, 1 SUV, 9.0ms\n",
      "Speed: 1.0ms pre-process, 9.0ms inference, 3.0ms postprocess per image at shape (1, 3, 256, 256)\n"
     ]
    },
    {
     "name": "stdout",
     "output_type": "stream",
     "text": [
      "Car Type: SUV\n"
     ]
    },
    {
     "name": "stderr",
     "output_type": "stream",
     "text": [
      "0: 160x256 1 NumberPlate, 1 SUV, 9.0ms\n",
      "Speed: 0.0ms pre-process, 9.0ms inference, 3.0ms postprocess per image at shape (1, 3, 256, 256)\n"
     ]
    },
    {
     "name": "stdout",
     "output_type": "stream",
     "text": [
      "Car Type: SUV\n"
     ]
    },
    {
     "name": "stderr",
     "output_type": "stream",
     "text": [
      "0: 160x256 1 NumberPlate, 1 SUV, 14.0ms\n",
      "Speed: 1.0ms pre-process, 14.0ms inference, 4.0ms postprocess per image at shape (1, 3, 256, 256)\n"
     ]
    },
    {
     "name": "stdout",
     "output_type": "stream",
     "text": [
      "Car Type: SUV\n"
     ]
    },
    {
     "name": "stderr",
     "output_type": "stream",
     "text": [
      "0: 160x256 1 NumberPlate, 1 SUV, 7.9ms\n",
      "Speed: 1.0ms pre-process, 7.9ms inference, 2.0ms postprocess per image at shape (1, 3, 256, 256)\n"
     ]
    },
    {
     "name": "stdout",
     "output_type": "stream",
     "text": [
      "Car Type: SUV\n"
     ]
    },
    {
     "name": "stderr",
     "output_type": "stream",
     "text": [
      "0: 160x256 1 NumberPlate, 1 SUV, 9.0ms\n",
      "Speed: 1.0ms pre-process, 9.0ms inference, 2.0ms postprocess per image at shape (1, 3, 256, 256)\n"
     ]
    },
    {
     "name": "stdout",
     "output_type": "stream",
     "text": [
      "Car Type: SUV\n"
     ]
    },
    {
     "name": "stderr",
     "output_type": "stream",
     "text": [
      "0: 160x256 1 NumberPlate, 1 SUV, 9.0ms\n",
      "Speed: 0.0ms pre-process, 9.0ms inference, 2.0ms postprocess per image at shape (1, 3, 256, 256)\n"
     ]
    },
    {
     "name": "stdout",
     "output_type": "stream",
     "text": [
      "Car Type: SUV\n"
     ]
    },
    {
     "name": "stderr",
     "output_type": "stream",
     "text": [
      "0: 160x256 1 NumberPlate, 1 SUV, 14.0ms\n",
      "Speed: 0.0ms pre-process, 14.0ms inference, 1.0ms postprocess per image at shape (1, 3, 256, 256)\n"
     ]
    },
    {
     "name": "stdout",
     "output_type": "stream",
     "text": [
      "Car Type: SUV\n"
     ]
    },
    {
     "name": "stderr",
     "output_type": "stream",
     "text": [
      "0: 160x256 1 NumberPlate, 1 SUV, 10.0ms\n",
      "Speed: 1.0ms pre-process, 10.0ms inference, 3.0ms postprocess per image at shape (1, 3, 256, 256)\n"
     ]
    },
    {
     "name": "stdout",
     "output_type": "stream",
     "text": [
      "Car Type: SUV\n"
     ]
    },
    {
     "name": "stderr",
     "output_type": "stream",
     "text": [
      "0: 160x256 1 NumberPlate, 1 SUV, 8.0ms\n",
      "Speed: 1.0ms pre-process, 8.0ms inference, 2.0ms postprocess per image at shape (1, 3, 256, 256)\n"
     ]
    },
    {
     "name": "stdout",
     "output_type": "stream",
     "text": [
      "Car Type: SUV\n"
     ]
    },
    {
     "name": "stderr",
     "output_type": "stream",
     "text": [
      "0: 160x256 1 NumberPlate, 1 SUV, 10.0ms\n",
      "Speed: 0.0ms pre-process, 10.0ms inference, 2.0ms postprocess per image at shape (1, 3, 256, 256)\n"
     ]
    },
    {
     "name": "stdout",
     "output_type": "stream",
     "text": [
      "Car Type: SUV\n"
     ]
    },
    {
     "name": "stderr",
     "output_type": "stream",
     "text": [
      "0: 160x256 1 NumberPlate, 1 SUV, 11.0ms\n",
      "Speed: 1.0ms pre-process, 11.0ms inference, 2.0ms postprocess per image at shape (1, 3, 256, 256)\n"
     ]
    },
    {
     "name": "stdout",
     "output_type": "stream",
     "text": [
      "Car Type: SUV\n"
     ]
    },
    {
     "name": "stderr",
     "output_type": "stream",
     "text": [
      "0: 160x256 1 NumberPlate, 1 SUV, 9.0ms\n",
      "Speed: 0.0ms pre-process, 9.0ms inference, 2.0ms postprocess per image at shape (1, 3, 256, 256)\n"
     ]
    },
    {
     "name": "stdout",
     "output_type": "stream",
     "text": [
      "Car Type: SUV\n"
     ]
    },
    {
     "name": "stderr",
     "output_type": "stream",
     "text": [
      "0: 160x256 1 NumberPlate, 1 SUV, 8.0ms\n",
      "Speed: 1.0ms pre-process, 8.0ms inference, 3.0ms postprocess per image at shape (1, 3, 256, 256)\n"
     ]
    },
    {
     "name": "stdout",
     "output_type": "stream",
     "text": [
      "Car Type: SUV\n"
     ]
    },
    {
     "name": "stderr",
     "output_type": "stream",
     "text": [
      "0: 160x256 1 NumberPlate, 1 SUV, 9.0ms\n",
      "Speed: 0.0ms pre-process, 9.0ms inference, 2.0ms postprocess per image at shape (1, 3, 256, 256)\n"
     ]
    },
    {
     "name": "stdout",
     "output_type": "stream",
     "text": [
      "Car Type: SUV\n"
     ]
    },
    {
     "name": "stderr",
     "output_type": "stream",
     "text": [
      "0: 160x256 1 NumberPlate, 1 SUV, 9.0ms\n",
      "Speed: 0.0ms pre-process, 9.0ms inference, 2.0ms postprocess per image at shape (1, 3, 256, 256)\n"
     ]
    },
    {
     "name": "stdout",
     "output_type": "stream",
     "text": [
      "Car Type: SUV\n"
     ]
    },
    {
     "name": "stderr",
     "output_type": "stream",
     "text": [
      "0: 160x256 1 NumberPlate, 1 SUV, 9.0ms\n",
      "Speed: 0.0ms pre-process, 9.0ms inference, 2.0ms postprocess per image at shape (1, 3, 256, 256)\n"
     ]
    },
    {
     "name": "stdout",
     "output_type": "stream",
     "text": [
      "Car Type: SUV\n"
     ]
    },
    {
     "name": "stderr",
     "output_type": "stream",
     "text": [
      "0: 160x256 1 NumberPlate, 1 SUV, 11.0ms\n",
      "Speed: 0.0ms pre-process, 11.0ms inference, 5.0ms postprocess per image at shape (1, 3, 256, 256)\n"
     ]
    },
    {
     "name": "stdout",
     "output_type": "stream",
     "text": [
      "Car Type: SUV\n"
     ]
    },
    {
     "name": "stderr",
     "output_type": "stream",
     "text": [
      "0: 160x256 1 NumberPlate, 1 SUV, 8.9ms\n",
      "Speed: 0.0ms pre-process, 8.9ms inference, 2.0ms postprocess per image at shape (1, 3, 256, 256)\n"
     ]
    },
    {
     "name": "stdout",
     "output_type": "stream",
     "text": [
      "Car Type: SUV\n"
     ]
    },
    {
     "name": "stderr",
     "output_type": "stream",
     "text": [
      "0: 160x256 1 NumberPlate, 1 SUV, 15.0ms\n",
      "Speed: 1.0ms pre-process, 15.0ms inference, 5.0ms postprocess per image at shape (1, 3, 256, 256)\n"
     ]
    },
    {
     "name": "stdout",
     "output_type": "stream",
     "text": [
      "Car Type: SUV\n"
     ]
    },
    {
     "name": "stderr",
     "output_type": "stream",
     "text": [
      "0: 160x256 1 NumberPlate, 1 SUV, 8.0ms\n",
      "Speed: 0.0ms pre-process, 8.0ms inference, 2.0ms postprocess per image at shape (1, 3, 256, 256)\n"
     ]
    },
    {
     "name": "stdout",
     "output_type": "stream",
     "text": [
      "Car Type: SUV\n"
     ]
    },
    {
     "name": "stderr",
     "output_type": "stream",
     "text": [
      "0: 160x256 1 NumberPlate, 1 SUV, 11.0ms\n",
      "Speed: 1.0ms pre-process, 11.0ms inference, 2.0ms postprocess per image at shape (1, 3, 256, 256)\n"
     ]
    },
    {
     "name": "stdout",
     "output_type": "stream",
     "text": [
      "Car Type: SUV\n"
     ]
    },
    {
     "name": "stderr",
     "output_type": "stream",
     "text": [
      "0: 160x256 1 NumberPlate, 1 SUV, 8.9ms\n",
      "Speed: 0.0ms pre-process, 8.9ms inference, 2.0ms postprocess per image at shape (1, 3, 256, 256)\n"
     ]
    },
    {
     "name": "stdout",
     "output_type": "stream",
     "text": [
      "Car Type: SUV\n"
     ]
    },
    {
     "name": "stderr",
     "output_type": "stream",
     "text": [
      "0: 160x256 1 NumberPlate, 1 SUV, 9.0ms\n",
      "Speed: 0.0ms pre-process, 9.0ms inference, 2.0ms postprocess per image at shape (1, 3, 256, 256)\n"
     ]
    },
    {
     "name": "stdout",
     "output_type": "stream",
     "text": [
      "Car Type: SUV\n"
     ]
    },
    {
     "name": "stderr",
     "output_type": "stream",
     "text": [
      "0: 160x256 1 NumberPlate, 1 SUV, 8.0ms\n",
      "Speed: 0.0ms pre-process, 8.0ms inference, 2.0ms postprocess per image at shape (1, 3, 256, 256)\n"
     ]
    },
    {
     "name": "stdout",
     "output_type": "stream",
     "text": [
      "Car Type: SUV\n"
     ]
    },
    {
     "name": "stderr",
     "output_type": "stream",
     "text": [
      "0: 160x256 1 NumberPlate, 1 SUV, 14.0ms\n",
      "Speed: 0.0ms pre-process, 14.0ms inference, 5.0ms postprocess per image at shape (1, 3, 256, 256)\n"
     ]
    },
    {
     "name": "stdout",
     "output_type": "stream",
     "text": [
      "Car Type: SUV\n"
     ]
    },
    {
     "name": "stderr",
     "output_type": "stream",
     "text": [
      "0: 160x256 1 NumberPlate, 1 SUV, 8.0ms\n",
      "Speed: 1.0ms pre-process, 8.0ms inference, 2.0ms postprocess per image at shape (1, 3, 256, 256)\n"
     ]
    },
    {
     "name": "stdout",
     "output_type": "stream",
     "text": [
      "Car Type: SUV\n"
     ]
    },
    {
     "name": "stderr",
     "output_type": "stream",
     "text": [
      "0: 160x256 1 NumberPlate, 1 SUV, 15.9ms\n",
      "Speed: 0.0ms pre-process, 15.9ms inference, 4.0ms postprocess per image at shape (1, 3, 256, 256)\n"
     ]
    },
    {
     "name": "stdout",
     "output_type": "stream",
     "text": [
      "Car Type: SUV\n"
     ]
    },
    {
     "name": "stderr",
     "output_type": "stream",
     "text": [
      "0: 160x256 1 NumberPlate, 1 SUV, 8.0ms\n",
      "Speed: 0.0ms pre-process, 8.0ms inference, 3.0ms postprocess per image at shape (1, 3, 256, 256)\n"
     ]
    },
    {
     "name": "stdout",
     "output_type": "stream",
     "text": [
      "Car Type: SUV\n"
     ]
    },
    {
     "name": "stderr",
     "output_type": "stream",
     "text": [
      "0: 160x256 1 NumberPlate, 1 SUV, 8.0ms\n",
      "Speed: 1.0ms pre-process, 8.0ms inference, 2.0ms postprocess per image at shape (1, 3, 256, 256)\n"
     ]
    },
    {
     "name": "stdout",
     "output_type": "stream",
     "text": [
      "Car Type: SUV\n"
     ]
    },
    {
     "name": "stderr",
     "output_type": "stream",
     "text": [
      "0: 160x256 1 NumberPlate, 1 SUV, 8.9ms\n",
      "Speed: 0.0ms pre-process, 8.9ms inference, 2.0ms postprocess per image at shape (1, 3, 256, 256)\n"
     ]
    },
    {
     "name": "stdout",
     "output_type": "stream",
     "text": [
      "Car Type: SUV\n"
     ]
    },
    {
     "name": "stderr",
     "output_type": "stream",
     "text": [
      "0: 160x256 1 NumberPlate, 1 SUV, 16.0ms\n",
      "Speed: 1.0ms pre-process, 16.0ms inference, 4.0ms postprocess per image at shape (1, 3, 256, 256)\n"
     ]
    },
    {
     "name": "stdout",
     "output_type": "stream",
     "text": [
      "Car Type: SUV\n"
     ]
    },
    {
     "name": "stderr",
     "output_type": "stream",
     "text": [
      "0: 160x256 1 NumberPlate, 1 SUV, 12.0ms\n",
      "Speed: 0.0ms pre-process, 12.0ms inference, 3.0ms postprocess per image at shape (1, 3, 256, 256)\n"
     ]
    },
    {
     "name": "stdout",
     "output_type": "stream",
     "text": [
      "Car Type: SUV\n"
     ]
    },
    {
     "name": "stderr",
     "output_type": "stream",
     "text": [
      "0: 160x256 1 NumberPlate, 1 SUV, 9.0ms\n",
      "Speed: 1.0ms pre-process, 9.0ms inference, 3.0ms postprocess per image at shape (1, 3, 256, 256)\n"
     ]
    },
    {
     "name": "stdout",
     "output_type": "stream",
     "text": [
      "Car Type: SUV\n"
     ]
    },
    {
     "name": "stderr",
     "output_type": "stream",
     "text": [
      "0: 160x256 1 NumberPlate, 1 SUV, 8.9ms\n",
      "Speed: 0.0ms pre-process, 8.9ms inference, 2.0ms postprocess per image at shape (1, 3, 256, 256)\n"
     ]
    },
    {
     "name": "stdout",
     "output_type": "stream",
     "text": [
      "Car Type: SUV\n"
     ]
    },
    {
     "name": "stderr",
     "output_type": "stream",
     "text": [
      "0: 160x256 1 NumberPlate, 1 SUV, 16.0ms\n",
      "Speed: 0.0ms pre-process, 16.0ms inference, 4.0ms postprocess per image at shape (1, 3, 256, 256)\n"
     ]
    },
    {
     "name": "stdout",
     "output_type": "stream",
     "text": [
      "Car Type: SUV\n"
     ]
    },
    {
     "name": "stderr",
     "output_type": "stream",
     "text": [
      "0: 160x256 1 NumberPlate, 1 SUV, 16.0ms\n",
      "Speed: 0.0ms pre-process, 16.0ms inference, 4.0ms postprocess per image at shape (1, 3, 256, 256)\n"
     ]
    },
    {
     "name": "stdout",
     "output_type": "stream",
     "text": [
      "Car Type: SUV\n"
     ]
    },
    {
     "name": "stderr",
     "output_type": "stream",
     "text": [
      "0: 160x256 1 NumberPlate, 1 SUV, 9.0ms\n",
      "Speed: 0.0ms pre-process, 9.0ms inference, 2.0ms postprocess per image at shape (1, 3, 256, 256)\n"
     ]
    },
    {
     "name": "stdout",
     "output_type": "stream",
     "text": [
      "Car Type: SUV\n"
     ]
    },
    {
     "name": "stderr",
     "output_type": "stream",
     "text": [
      "0: 160x256 1 NumberPlate, 1 SUV, 13.0ms\n",
      "Speed: 1.0ms pre-process, 13.0ms inference, 3.0ms postprocess per image at shape (1, 3, 256, 256)\n"
     ]
    },
    {
     "name": "stdout",
     "output_type": "stream",
     "text": [
      "Car Type: SUV\n"
     ]
    },
    {
     "name": "stderr",
     "output_type": "stream",
     "text": [
      "0: 160x256 1 NumberPlate, 1 SUV, 10.0ms\n",
      "Speed: 0.0ms pre-process, 10.0ms inference, 3.0ms postprocess per image at shape (1, 3, 256, 256)\n"
     ]
    },
    {
     "name": "stdout",
     "output_type": "stream",
     "text": [
      "Car Type: SUV\n"
     ]
    },
    {
     "name": "stderr",
     "output_type": "stream",
     "text": [
      "0: 160x256 1 NumberPlate, 1 SUV, 10.0ms\n",
      "Speed: 0.0ms pre-process, 10.0ms inference, 3.0ms postprocess per image at shape (1, 3, 256, 256)\n"
     ]
    },
    {
     "name": "stdout",
     "output_type": "stream",
     "text": [
      "Car Type: SUV\n"
     ]
    },
    {
     "name": "stderr",
     "output_type": "stream",
     "text": [
      "0: 160x256 1 NumberPlate, 1 SUV, 15.0ms\n",
      "Speed: 1.0ms pre-process, 15.0ms inference, 3.0ms postprocess per image at shape (1, 3, 256, 256)\n"
     ]
    },
    {
     "name": "stdout",
     "output_type": "stream",
     "text": [
      "Car Type: SUV\n"
     ]
    },
    {
     "name": "stderr",
     "output_type": "stream",
     "text": [
      "0: 160x256 1 NumberPlate, 1 SUV, 8.9ms\n",
      "Speed: 1.1ms pre-process, 8.9ms inference, 2.0ms postprocess per image at shape (1, 3, 256, 256)\n"
     ]
    },
    {
     "name": "stdout",
     "output_type": "stream",
     "text": [
      "Car Type: SUV\n"
     ]
    },
    {
     "name": "stderr",
     "output_type": "stream",
     "text": [
      "0: 160x256 1 NumberPlate, 1 SUV, 11.0ms\n",
      "Speed: 1.0ms pre-process, 11.0ms inference, 3.0ms postprocess per image at shape (1, 3, 256, 256)\n"
     ]
    },
    {
     "name": "stdout",
     "output_type": "stream",
     "text": [
      "Car Type: SUV\n"
     ]
    },
    {
     "name": "stderr",
     "output_type": "stream",
     "text": [
      "0: 160x256 1 NumberPlate, 1 SUV, 21.9ms\n",
      "Speed: 1.0ms pre-process, 21.9ms inference, 3.0ms postprocess per image at shape (1, 3, 256, 256)\n"
     ]
    },
    {
     "name": "stdout",
     "output_type": "stream",
     "text": [
      "Car Type: SUV\n"
     ]
    },
    {
     "name": "stderr",
     "output_type": "stream",
     "text": [
      "0: 160x256 1 NumberPlate, 1 SUV, 17.0ms\n",
      "Speed: 0.0ms pre-process, 17.0ms inference, 4.0ms postprocess per image at shape (1, 3, 256, 256)\n"
     ]
    },
    {
     "name": "stdout",
     "output_type": "stream",
     "text": [
      "Car Type: SUV\n"
     ]
    },
    {
     "name": "stderr",
     "output_type": "stream",
     "text": [
      "0: 160x256 1 NumberPlate, 1 SUV, 11.0ms\n",
      "Speed: 0.0ms pre-process, 11.0ms inference, 2.0ms postprocess per image at shape (1, 3, 256, 256)\n"
     ]
    },
    {
     "name": "stdout",
     "output_type": "stream",
     "text": [
      "Car Type: SUV\n"
     ]
    },
    {
     "name": "stderr",
     "output_type": "stream",
     "text": [
      "0: 160x256 1 NumberPlate, 1 SUV, 15.0ms\n",
      "Speed: 0.0ms pre-process, 15.0ms inference, 2.0ms postprocess per image at shape (1, 3, 256, 256)\n"
     ]
    },
    {
     "name": "stdout",
     "output_type": "stream",
     "text": [
      "Car Type: SUV\n"
     ]
    },
    {
     "name": "stderr",
     "output_type": "stream",
     "text": [
      "0: 160x256 1 NumberPlate, 1 SUV, 8.0ms\n",
      "Speed: 1.0ms pre-process, 8.0ms inference, 3.0ms postprocess per image at shape (1, 3, 256, 256)\n"
     ]
    },
    {
     "name": "stdout",
     "output_type": "stream",
     "text": [
      "Car Type: SUV\n"
     ]
    },
    {
     "name": "stderr",
     "output_type": "stream",
     "text": [
      "0: 160x256 1 NumberPlate, 1 SUV, 10.0ms\n",
      "Speed: 1.0ms pre-process, 10.0ms inference, 2.0ms postprocess per image at shape (1, 3, 256, 256)\n"
     ]
    },
    {
     "name": "stdout",
     "output_type": "stream",
     "text": [
      "Car Type: SUV\n"
     ]
    },
    {
     "name": "stderr",
     "output_type": "stream",
     "text": [
      "0: 160x256 1 NumberPlate, 1 SUV, 15.0ms\n",
      "Speed: 0.9ms pre-process, 15.0ms inference, 4.0ms postprocess per image at shape (1, 3, 256, 256)\n"
     ]
    },
    {
     "name": "stdout",
     "output_type": "stream",
     "text": [
      "Car Type: SUV\n"
     ]
    },
    {
     "name": "stderr",
     "output_type": "stream",
     "text": [
      "0: 160x256 1 NumberPlate, 1 SUV, 13.0ms\n",
      "Speed: 1.0ms pre-process, 13.0ms inference, 2.0ms postprocess per image at shape (1, 3, 256, 256)\n"
     ]
    },
    {
     "name": "stdout",
     "output_type": "stream",
     "text": [
      "Car Type: SUV\n"
     ]
    },
    {
     "name": "stderr",
     "output_type": "stream",
     "text": [
      "0: 160x256 1 NumberPlate, 1 SUV, 9.0ms\n",
      "Speed: 1.0ms pre-process, 9.0ms inference, 1.0ms postprocess per image at shape (1, 3, 256, 256)\n"
     ]
    },
    {
     "name": "stdout",
     "output_type": "stream",
     "text": [
      "Car Type: SUV\n"
     ]
    },
    {
     "name": "stderr",
     "output_type": "stream",
     "text": [
      "0: 160x256 1 NumberPlate, 1 SUV, 9.0ms\n",
      "Speed: 0.0ms pre-process, 9.0ms inference, 2.0ms postprocess per image at shape (1, 3, 256, 256)\n"
     ]
    },
    {
     "name": "stdout",
     "output_type": "stream",
     "text": [
      "Car Type: SUV\n"
     ]
    },
    {
     "name": "stderr",
     "output_type": "stream",
     "text": [
      "0: 160x256 1 NumberPlate, 1 SUV, 9.0ms\n",
      "Speed: 0.0ms pre-process, 9.0ms inference, 2.0ms postprocess per image at shape (1, 3, 256, 256)\n"
     ]
    },
    {
     "name": "stdout",
     "output_type": "stream",
     "text": [
      "Car Type: SUV\n"
     ]
    },
    {
     "name": "stderr",
     "output_type": "stream",
     "text": [
      "0: 160x256 1 NumberPlate, 1 SUV, 15.0ms\n",
      "Speed: 1.0ms pre-process, 15.0ms inference, 5.0ms postprocess per image at shape (1, 3, 256, 256)\n"
     ]
    },
    {
     "name": "stdout",
     "output_type": "stream",
     "text": [
      "Car Type: SUV\n"
     ]
    },
    {
     "name": "stderr",
     "output_type": "stream",
     "text": [
      "0: 160x256 1 NumberPlate, 1 SUV, 15.0ms\n",
      "Speed: 1.0ms pre-process, 15.0ms inference, 4.0ms postprocess per image at shape (1, 3, 256, 256)\n"
     ]
    },
    {
     "name": "stdout",
     "output_type": "stream",
     "text": [
      "Car Type: SUV\n"
     ]
    },
    {
     "name": "stderr",
     "output_type": "stream",
     "text": [
      "0: 160x256 1 NumberPlate, 1 SUV, 10.0ms\n",
      "Speed: 1.0ms pre-process, 10.0ms inference, 1.0ms postprocess per image at shape (1, 3, 256, 256)\n"
     ]
    },
    {
     "name": "stdout",
     "output_type": "stream",
     "text": [
      "Car Type: SUV\n"
     ]
    },
    {
     "name": "stderr",
     "output_type": "stream",
     "text": [
      "0: 160x256 1 NumberPlate, 1 SUV, 9.0ms\n",
      "Speed: 1.0ms pre-process, 9.0ms inference, 2.0ms postprocess per image at shape (1, 3, 256, 256)\n"
     ]
    },
    {
     "name": "stdout",
     "output_type": "stream",
     "text": [
      "Car Type: SUV\n"
     ]
    },
    {
     "name": "stderr",
     "output_type": "stream",
     "text": [
      "0: 160x256 1 NumberPlate, 1 SUV, 9.0ms\n",
      "Speed: 1.0ms pre-process, 9.0ms inference, 2.0ms postprocess per image at shape (1, 3, 256, 256)\n"
     ]
    },
    {
     "name": "stdout",
     "output_type": "stream",
     "text": [
      "Car Type: SUV\n"
     ]
    },
    {
     "name": "stderr",
     "output_type": "stream",
     "text": [
      "0: 160x256 1 NumberPlate, 1 SUV, 11.0ms\n",
      "Speed: 0.0ms pre-process, 11.0ms inference, 4.0ms postprocess per image at shape (1, 3, 256, 256)\n"
     ]
    },
    {
     "name": "stdout",
     "output_type": "stream",
     "text": [
      "Car Type: SUV\n"
     ]
    },
    {
     "name": "stderr",
     "output_type": "stream",
     "text": [
      "0: 160x256 1 NumberPlate, 1 SUV, 9.0ms\n",
      "Speed: 1.0ms pre-process, 9.0ms inference, 2.0ms postprocess per image at shape (1, 3, 256, 256)\n"
     ]
    },
    {
     "name": "stdout",
     "output_type": "stream",
     "text": [
      "Car Type: SUV\n"
     ]
    },
    {
     "name": "stderr",
     "output_type": "stream",
     "text": [
      "0: 160x256 1 NumberPlate, 1 SUV, 8.9ms\n",
      "Speed: 0.0ms pre-process, 8.9ms inference, 2.0ms postprocess per image at shape (1, 3, 256, 256)\n"
     ]
    },
    {
     "name": "stdout",
     "output_type": "stream",
     "text": [
      "Car Type: SUV\n"
     ]
    },
    {
     "name": "stderr",
     "output_type": "stream",
     "text": [
      "0: 160x256 1 NumberPlate, 1 SUV, 9.0ms\n",
      "Speed: 1.0ms pre-process, 9.0ms inference, 2.0ms postprocess per image at shape (1, 3, 256, 256)\n"
     ]
    },
    {
     "name": "stdout",
     "output_type": "stream",
     "text": [
      "Car Type: SUV\n"
     ]
    },
    {
     "name": "stderr",
     "output_type": "stream",
     "text": [
      "0: 160x256 1 NumberPlate, 1 SUV, 9.0ms\n",
      "Speed: 0.0ms pre-process, 9.0ms inference, 2.0ms postprocess per image at shape (1, 3, 256, 256)\n"
     ]
    },
    {
     "name": "stdout",
     "output_type": "stream",
     "text": [
      "Car Type: SUV\n"
     ]
    },
    {
     "name": "stderr",
     "output_type": "stream",
     "text": [
      "0: 160x256 1 NumberPlate, 1 SUV, 9.0ms\n",
      "Speed: 1.0ms pre-process, 9.0ms inference, 2.0ms postprocess per image at shape (1, 3, 256, 256)\n"
     ]
    },
    {
     "name": "stdout",
     "output_type": "stream",
     "text": [
      "Car Type: SUV\n"
     ]
    },
    {
     "name": "stderr",
     "output_type": "stream",
     "text": [
      "0: 160x256 1 NumberPlate, 1 SUV, 8.0ms\n",
      "Speed: 1.0ms pre-process, 8.0ms inference, 2.0ms postprocess per image at shape (1, 3, 256, 256)\n"
     ]
    },
    {
     "name": "stdout",
     "output_type": "stream",
     "text": [
      "Car Type: SUV\n"
     ]
    },
    {
     "name": "stderr",
     "output_type": "stream",
     "text": [
      "0: 160x256 1 NumberPlate, 1 SUV, 9.0ms\n",
      "Speed: 1.0ms pre-process, 9.0ms inference, 2.0ms postprocess per image at shape (1, 3, 256, 256)\n"
     ]
    },
    {
     "name": "stdout",
     "output_type": "stream",
     "text": [
      "Car Type: SUV\n"
     ]
    },
    {
     "name": "stderr",
     "output_type": "stream",
     "text": [
      "0: 160x256 1 NumberPlate, 1 SUV, 16.0ms\n",
      "Speed: 0.0ms pre-process, 16.0ms inference, 3.0ms postprocess per image at shape (1, 3, 256, 256)\n"
     ]
    },
    {
     "name": "stdout",
     "output_type": "stream",
     "text": [
      "Car Type: SUV\n"
     ]
    },
    {
     "name": "stderr",
     "output_type": "stream",
     "text": [
      "0: 160x256 1 NumberPlate, 1 SUV, 12.0ms\n",
      "Speed: 1.0ms pre-process, 12.0ms inference, 2.0ms postprocess per image at shape (1, 3, 256, 256)\n"
     ]
    },
    {
     "name": "stdout",
     "output_type": "stream",
     "text": [
      "Car Type: SUV\n"
     ]
    },
    {
     "name": "stderr",
     "output_type": "stream",
     "text": [
      "0: 160x256 1 NumberPlate, 1 SUV, 8.9ms\n",
      "Speed: 1.0ms pre-process, 8.9ms inference, 3.0ms postprocess per image at shape (1, 3, 256, 256)\n"
     ]
    },
    {
     "name": "stdout",
     "output_type": "stream",
     "text": [
      "Car Type: SUV\n"
     ]
    },
    {
     "name": "stderr",
     "output_type": "stream",
     "text": [
      "0: 160x256 1 NumberPlate, 1 SUV, 12.0ms\n",
      "Speed: 1.0ms pre-process, 12.0ms inference, 4.0ms postprocess per image at shape (1, 3, 256, 256)\n"
     ]
    },
    {
     "name": "stdout",
     "output_type": "stream",
     "text": [
      "Car Type: SUV\n"
     ]
    },
    {
     "name": "stderr",
     "output_type": "stream",
     "text": [
      "0: 160x256 1 NumberPlate, 1 SUV, 9.0ms\n",
      "Speed: 0.0ms pre-process, 9.0ms inference, 2.0ms postprocess per image at shape (1, 3, 256, 256)\n"
     ]
    },
    {
     "name": "stdout",
     "output_type": "stream",
     "text": [
      "Car Type: SUV\n"
     ]
    },
    {
     "name": "stderr",
     "output_type": "stream",
     "text": [
      "0: 160x256 1 NumberPlate, 1 SUV, 9.0ms\n",
      "Speed: 1.0ms pre-process, 9.0ms inference, 2.0ms postprocess per image at shape (1, 3, 256, 256)\n"
     ]
    },
    {
     "name": "stdout",
     "output_type": "stream",
     "text": [
      "Car Type: SUV\n"
     ]
    },
    {
     "name": "stderr",
     "output_type": "stream",
     "text": [
      "0: 160x256 1 NumberPlate, 1 SUV, 9.0ms\n",
      "Speed: 0.0ms pre-process, 9.0ms inference, 2.0ms postprocess per image at shape (1, 3, 256, 256)\n"
     ]
    },
    {
     "name": "stdout",
     "output_type": "stream",
     "text": [
      "Car Type: SUV\n"
     ]
    },
    {
     "name": "stderr",
     "output_type": "stream",
     "text": [
      "0: 160x256 1 NumberPlate, 1 SUV, 16.0ms\n",
      "Speed: 1.0ms pre-process, 16.0ms inference, 4.0ms postprocess per image at shape (1, 3, 256, 256)\n"
     ]
    },
    {
     "name": "stdout",
     "output_type": "stream",
     "text": [
      "Car Type: SUV\n"
     ]
    },
    {
     "name": "stderr",
     "output_type": "stream",
     "text": [
      "0: 160x256 1 NumberPlate, 1 SUV, 11.0ms\n",
      "Speed: 0.0ms pre-process, 11.0ms inference, 2.0ms postprocess per image at shape (1, 3, 256, 256)\n"
     ]
    },
    {
     "name": "stdout",
     "output_type": "stream",
     "text": [
      "Car Type: SUV\n"
     ]
    },
    {
     "name": "stderr",
     "output_type": "stream",
     "text": [
      "0: 160x256 1 NumberPlate, 1 SUV, 9.0ms\n",
      "Speed: 1.0ms pre-process, 9.0ms inference, 2.0ms postprocess per image at shape (1, 3, 256, 256)\n"
     ]
    },
    {
     "name": "stdout",
     "output_type": "stream",
     "text": [
      "Car Type: SUV\n"
     ]
    },
    {
     "name": "stderr",
     "output_type": "stream",
     "text": [
      "0: 160x256 1 NumberPlate, 1 SUV, 8.0ms\n",
      "Speed: 1.0ms pre-process, 8.0ms inference, 2.0ms postprocess per image at shape (1, 3, 256, 256)\n"
     ]
    },
    {
     "name": "stdout",
     "output_type": "stream",
     "text": [
      "Car Type: SUV\n"
     ]
    },
    {
     "name": "stderr",
     "output_type": "stream",
     "text": [
      "0: 160x256 1 NumberPlate, 1 SUV, 8.0ms\n",
      "Speed: 1.0ms pre-process, 8.0ms inference, 3.0ms postprocess per image at shape (1, 3, 256, 256)\n"
     ]
    },
    {
     "name": "stdout",
     "output_type": "stream",
     "text": [
      "Car Type: SUV\n"
     ]
    },
    {
     "name": "stderr",
     "output_type": "stream",
     "text": [
      "0: 160x256 1 NumberPlate, 1 SUV, 9.0ms\n",
      "Speed: 1.0ms pre-process, 9.0ms inference, 1.0ms postprocess per image at shape (1, 3, 256, 256)\n"
     ]
    },
    {
     "name": "stdout",
     "output_type": "stream",
     "text": [
      "Car Type: SUV\n"
     ]
    },
    {
     "name": "stderr",
     "output_type": "stream",
     "text": [
      "0: 160x256 1 NumberPlate, 1 SUV, 15.0ms\n",
      "Speed: 0.0ms pre-process, 15.0ms inference, 4.0ms postprocess per image at shape (1, 3, 256, 256)\n"
     ]
    },
    {
     "name": "stdout",
     "output_type": "stream",
     "text": [
      "Car Type: SUV\n"
     ]
    },
    {
     "name": "stderr",
     "output_type": "stream",
     "text": [
      "0: 160x256 1 NumberPlate, 1 SUV, 8.9ms\n",
      "Speed: 0.0ms pre-process, 8.9ms inference, 2.0ms postprocess per image at shape (1, 3, 256, 256)\n"
     ]
    },
    {
     "name": "stdout",
     "output_type": "stream",
     "text": [
      "Car Type: SUV\n"
     ]
    },
    {
     "name": "stderr",
     "output_type": "stream",
     "text": [
      "0: 160x256 1 NumberPlate, 1 SUV, 16.0ms\n",
      "Speed: 1.0ms pre-process, 16.0ms inference, 3.0ms postprocess per image at shape (1, 3, 256, 256)\n"
     ]
    },
    {
     "name": "stdout",
     "output_type": "stream",
     "text": [
      "Car Type: SUV\n"
     ]
    },
    {
     "name": "stderr",
     "output_type": "stream",
     "text": [
      "0: 160x256 1 NumberPlate, 1 SUV, 7.9ms\n",
      "Speed: 0.0ms pre-process, 7.9ms inference, 2.0ms postprocess per image at shape (1, 3, 256, 256)\n"
     ]
    },
    {
     "name": "stdout",
     "output_type": "stream",
     "text": [
      "Car Type: SUV\n"
     ]
    },
    {
     "name": "stderr",
     "output_type": "stream",
     "text": [
      "0: 160x256 1 NumberPlate, 1 SUV, 10.0ms\n",
      "Speed: 1.0ms pre-process, 10.0ms inference, 3.0ms postprocess per image at shape (1, 3, 256, 256)\n"
     ]
    },
    {
     "name": "stdout",
     "output_type": "stream",
     "text": [
      "Car Type: SUV\n"
     ]
    },
    {
     "name": "stderr",
     "output_type": "stream",
     "text": [
      "0: 160x256 1 NumberPlate, 1 SUV, 8.9ms\n",
      "Speed: 0.0ms pre-process, 8.9ms inference, 2.0ms postprocess per image at shape (1, 3, 256, 256)\n"
     ]
    },
    {
     "name": "stdout",
     "output_type": "stream",
     "text": [
      "Car Type: SUV\n"
     ]
    },
    {
     "name": "stderr",
     "output_type": "stream",
     "text": [
      "0: 160x256 1 NumberPlate, 1 SUV, 9.0ms\n",
      "Speed: 0.0ms pre-process, 9.0ms inference, 3.0ms postprocess per image at shape (1, 3, 256, 256)\n"
     ]
    },
    {
     "name": "stdout",
     "output_type": "stream",
     "text": [
      "Car Type: SUV\n"
     ]
    },
    {
     "name": "stderr",
     "output_type": "stream",
     "text": [
      "0: 160x256 1 NumberPlate, 1 SUV, 8.0ms\n",
      "Speed: 0.9ms pre-process, 8.0ms inference, 3.0ms postprocess per image at shape (1, 3, 256, 256)\n"
     ]
    },
    {
     "name": "stdout",
     "output_type": "stream",
     "text": [
      "Car Type: SUV\n"
     ]
    },
    {
     "name": "stderr",
     "output_type": "stream",
     "text": [
      "0: 160x256 1 NumberPlate, 1 SUV, 9.0ms\n",
      "Speed: 1.0ms pre-process, 9.0ms inference, 2.0ms postprocess per image at shape (1, 3, 256, 256)\n"
     ]
    },
    {
     "name": "stdout",
     "output_type": "stream",
     "text": [
      "Car Type: SUV\n"
     ]
    },
    {
     "name": "stderr",
     "output_type": "stream",
     "text": [
      "0: 160x256 1 NumberPlate, 1 SUV, 9.0ms\n",
      "Speed: 0.0ms pre-process, 9.0ms inference, 2.0ms postprocess per image at shape (1, 3, 256, 256)\n"
     ]
    },
    {
     "name": "stdout",
     "output_type": "stream",
     "text": [
      "Car Type: SUV\n"
     ]
    },
    {
     "name": "stderr",
     "output_type": "stream",
     "text": [
      "0: 160x256 1 NumberPlate, 1 SUV, 15.9ms\n",
      "Speed: 0.0ms pre-process, 15.9ms inference, 4.0ms postprocess per image at shape (1, 3, 256, 256)\n"
     ]
    },
    {
     "name": "stdout",
     "output_type": "stream",
     "text": [
      "Car Type: SUV\n"
     ]
    },
    {
     "name": "stderr",
     "output_type": "stream",
     "text": [
      "0: 160x256 1 NumberPlate, 1 SUV, 10.0ms\n",
      "Speed: 1.0ms pre-process, 10.0ms inference, 3.0ms postprocess per image at shape (1, 3, 256, 256)\n"
     ]
    },
    {
     "name": "stdout",
     "output_type": "stream",
     "text": [
      "Car Type: SUV\n"
     ]
    },
    {
     "name": "stderr",
     "output_type": "stream",
     "text": [
      "0: 160x256 1 NumberPlate, 1 SUV, 9.0ms\n",
      "Speed: 0.0ms pre-process, 9.0ms inference, 2.0ms postprocess per image at shape (1, 3, 256, 256)\n"
     ]
    },
    {
     "name": "stdout",
     "output_type": "stream",
     "text": [
      "Car Type: SUV\n"
     ]
    },
    {
     "name": "stderr",
     "output_type": "stream",
     "text": [
      "0: 160x256 1 NumberPlate, 1 SUV, 8.0ms\n",
      "Speed: 0.0ms pre-process, 8.0ms inference, 2.0ms postprocess per image at shape (1, 3, 256, 256)\n"
     ]
    },
    {
     "name": "stdout",
     "output_type": "stream",
     "text": [
      "Car Type: SUV\n"
     ]
    },
    {
     "name": "stderr",
     "output_type": "stream",
     "text": [
      "0: 160x256 1 NumberPlate, 1 SUV, 11.0ms\n",
      "Speed: 1.0ms pre-process, 11.0ms inference, 1.0ms postprocess per image at shape (1, 3, 256, 256)\n"
     ]
    },
    {
     "name": "stdout",
     "output_type": "stream",
     "text": [
      "Car Type: SUV\n"
     ]
    },
    {
     "name": "stderr",
     "output_type": "stream",
     "text": [
      "0: 160x256 1 NumberPlate, 1 SUV, 8.0ms\n",
      "Speed: 0.0ms pre-process, 8.0ms inference, 2.0ms postprocess per image at shape (1, 3, 256, 256)\n"
     ]
    },
    {
     "name": "stdout",
     "output_type": "stream",
     "text": [
      "Car Type: SUV\n"
     ]
    },
    {
     "name": "stderr",
     "output_type": "stream",
     "text": [
      "0: 160x256 1 NumberPlate, 1 SUV, 9.0ms\n",
      "Speed: 1.0ms pre-process, 9.0ms inference, 3.0ms postprocess per image at shape (1, 3, 256, 256)\n"
     ]
    },
    {
     "name": "stdout",
     "output_type": "stream",
     "text": [
      "Car Type: SUV\n"
     ]
    },
    {
     "name": "stderr",
     "output_type": "stream",
     "text": [
      "0: 160x256 1 NumberPlate, 1 SUV, 9.9ms\n",
      "Speed: 0.0ms pre-process, 9.9ms inference, 2.0ms postprocess per image at shape (1, 3, 256, 256)\n"
     ]
    },
    {
     "name": "stdout",
     "output_type": "stream",
     "text": [
      "Car Type: SUV\n"
     ]
    },
    {
     "name": "stderr",
     "output_type": "stream",
     "text": [
      "0: 160x256 1 NumberPlate, 1 SUV, 15.0ms\n",
      "Speed: 1.0ms pre-process, 15.0ms inference, 4.0ms postprocess per image at shape (1, 3, 256, 256)\n"
     ]
    },
    {
     "name": "stdout",
     "output_type": "stream",
     "text": [
      "Car Type: SUV\n"
     ]
    },
    {
     "name": "stderr",
     "output_type": "stream",
     "text": [
      "0: 160x256 1 NumberPlate, 1 SUV, 9.0ms\n",
      "Speed: 0.0ms pre-process, 9.0ms inference, 2.0ms postprocess per image at shape (1, 3, 256, 256)\n"
     ]
    },
    {
     "name": "stdout",
     "output_type": "stream",
     "text": [
      "Car Type: SUV\n"
     ]
    },
    {
     "name": "stderr",
     "output_type": "stream",
     "text": [
      "0: 160x256 1 NumberPlate, 1 SUV, 10.0ms\n",
      "Speed: 0.0ms pre-process, 10.0ms inference, 2.0ms postprocess per image at shape (1, 3, 256, 256)\n"
     ]
    },
    {
     "name": "stdout",
     "output_type": "stream",
     "text": [
      "Car Type: SUV\n"
     ]
    },
    {
     "name": "stderr",
     "output_type": "stream",
     "text": [
      "0: 160x256 1 NumberPlate, 1 SUV, 9.0ms\n",
      "Speed: 0.0ms pre-process, 9.0ms inference, 2.0ms postprocess per image at shape (1, 3, 256, 256)\n"
     ]
    },
    {
     "name": "stdout",
     "output_type": "stream",
     "text": [
      "Car Type: SUV\n"
     ]
    },
    {
     "name": "stderr",
     "output_type": "stream",
     "text": [
      "0: 160x256 1 NumberPlate, 1 SUV, 8.0ms\n",
      "Speed: 1.0ms pre-process, 8.0ms inference, 3.0ms postprocess per image at shape (1, 3, 256, 256)\n"
     ]
    },
    {
     "name": "stdout",
     "output_type": "stream",
     "text": [
      "Car Type: SUV\n"
     ]
    },
    {
     "name": "stderr",
     "output_type": "stream",
     "text": [
      "0: 160x256 1 NumberPlate, 1 SUV, 8.9ms\n",
      "Speed: 1.0ms pre-process, 8.9ms inference, 2.0ms postprocess per image at shape (1, 3, 256, 256)\n"
     ]
    },
    {
     "name": "stdout",
     "output_type": "stream",
     "text": [
      "Car Type: SUV\n"
     ]
    },
    {
     "name": "stderr",
     "output_type": "stream",
     "text": [
      "0: 160x256 1 NumberPlate, 1 SUV, 9.0ms\n",
      "Speed: 0.0ms pre-process, 9.0ms inference, 2.0ms postprocess per image at shape (1, 3, 256, 256)\n"
     ]
    },
    {
     "name": "stdout",
     "output_type": "stream",
     "text": [
      "Car Type: SUV\n"
     ]
    },
    {
     "name": "stderr",
     "output_type": "stream",
     "text": [
      "0: 160x256 1 NumberPlate, 1 SUV, 9.0ms\n",
      "Speed: 1.0ms pre-process, 9.0ms inference, 2.0ms postprocess per image at shape (1, 3, 256, 256)\n"
     ]
    },
    {
     "name": "stdout",
     "output_type": "stream",
     "text": [
      "Car Type: SUV\n"
     ]
    },
    {
     "name": "stderr",
     "output_type": "stream",
     "text": [
      "0: 160x256 1 NumberPlate, 1 SUV, 15.0ms\n",
      "Speed: 1.0ms pre-process, 15.0ms inference, 4.0ms postprocess per image at shape (1, 3, 256, 256)\n"
     ]
    },
    {
     "name": "stdout",
     "output_type": "stream",
     "text": [
      "Car Type: SUV\n"
     ]
    },
    {
     "name": "stderr",
     "output_type": "stream",
     "text": [
      "0: 160x256 1 NumberPlate, 1 SUV, 10.0ms\n",
      "Speed: 1.0ms pre-process, 10.0ms inference, 2.0ms postprocess per image at shape (1, 3, 256, 256)\n"
     ]
    },
    {
     "name": "stdout",
     "output_type": "stream",
     "text": [
      "Car Type: SUV\n"
     ]
    },
    {
     "name": "stderr",
     "output_type": "stream",
     "text": [
      "0: 160x256 1 NumberPlate, 1 SUV, 9.9ms\n",
      "Speed: 0.0ms pre-process, 9.9ms inference, 2.0ms postprocess per image at shape (1, 3, 256, 256)\n"
     ]
    },
    {
     "name": "stdout",
     "output_type": "stream",
     "text": [
      "Car Type: SUV\n"
     ]
    },
    {
     "name": "stderr",
     "output_type": "stream",
     "text": [
      "0: 160x256 1 NumberPlate, 1 SUV, 10.9ms\n",
      "Speed: 0.0ms pre-process, 10.9ms inference, 3.0ms postprocess per image at shape (1, 3, 256, 256)\n"
     ]
    },
    {
     "name": "stdout",
     "output_type": "stream",
     "text": [
      "Car Type: SUV\n"
     ]
    },
    {
     "name": "stderr",
     "output_type": "stream",
     "text": [
      "0: 160x256 1 NumberPlate, 1 SUV, 8.0ms\n",
      "Speed: 1.0ms pre-process, 8.0ms inference, 2.0ms postprocess per image at shape (1, 3, 256, 256)\n"
     ]
    },
    {
     "name": "stdout",
     "output_type": "stream",
     "text": [
      "Car Type: SUV\n"
     ]
    },
    {
     "name": "stderr",
     "output_type": "stream",
     "text": [
      "0: 160x256 1 NumberPlate, 1 SUV, 11.0ms\n",
      "Speed: 0.0ms pre-process, 11.0ms inference, 2.0ms postprocess per image at shape (1, 3, 256, 256)\n"
     ]
    },
    {
     "name": "stdout",
     "output_type": "stream",
     "text": [
      "Car Type: SUV\n"
     ]
    },
    {
     "name": "stderr",
     "output_type": "stream",
     "text": [
      "0: 160x256 1 NumberPlate, 1 SUV, 14.0ms\n",
      "Speed: 1.0ms pre-process, 14.0ms inference, 5.0ms postprocess per image at shape (1, 3, 256, 256)\n"
     ]
    },
    {
     "name": "stdout",
     "output_type": "stream",
     "text": [
      "Car Type: SUV\n"
     ]
    },
    {
     "name": "stderr",
     "output_type": "stream",
     "text": [
      "0: 160x256 1 NumberPlate, 1 SUV, 10.0ms\n",
      "Speed: 0.0ms pre-process, 10.0ms inference, 1.0ms postprocess per image at shape (1, 3, 256, 256)\n"
     ]
    },
    {
     "name": "stdout",
     "output_type": "stream",
     "text": [
      "Car Type: SUV\n"
     ]
    },
    {
     "name": "stderr",
     "output_type": "stream",
     "text": [
      "0: 160x256 1 NumberPlate, 1 SUV, 15.0ms\n",
      "Speed: 1.0ms pre-process, 15.0ms inference, 4.0ms postprocess per image at shape (1, 3, 256, 256)\n"
     ]
    },
    {
     "name": "stdout",
     "output_type": "stream",
     "text": [
      "Car Type: SUV\n"
     ]
    },
    {
     "name": "stderr",
     "output_type": "stream",
     "text": [
      "0: 160x256 1 NumberPlate, 1 SUV, 8.0ms\n",
      "Speed: 1.0ms pre-process, 8.0ms inference, 2.0ms postprocess per image at shape (1, 3, 256, 256)\n"
     ]
    },
    {
     "name": "stdout",
     "output_type": "stream",
     "text": [
      "Car Type: SUV\n"
     ]
    },
    {
     "name": "stderr",
     "output_type": "stream",
     "text": [
      "0: 160x256 1 NumberPlate, 1 SUV, 9.0ms\n",
      "Speed: 1.0ms pre-process, 9.0ms inference, 2.0ms postprocess per image at shape (1, 3, 256, 256)\n"
     ]
    },
    {
     "name": "stdout",
     "output_type": "stream",
     "text": [
      "Car Type: SUV\n"
     ]
    },
    {
     "name": "stderr",
     "output_type": "stream",
     "text": [
      "0: 160x256 1 NumberPlate, 1 SUV, 8.0ms\n",
      "Speed: 1.0ms pre-process, 8.0ms inference, 3.0ms postprocess per image at shape (1, 3, 256, 256)\n"
     ]
    },
    {
     "name": "stdout",
     "output_type": "stream",
     "text": [
      "Car Type: SUV\n"
     ]
    }
   ],
   "source": [
    "while True:\n",
    "    ret, frame = cap.read()\n",
    "\n",
    "    if not ret:\n",
    "        break\n",
    "\n",
    "    # Run YOLOv8 inference on the frame to get the results\n",
    "    results = model(frame)\n",
    "\n",
    "    for result in results:\n",
    "        boxes = result.boxes.cpu().numpy()\n",
    "        for i, box in enumerate(boxes):\n",
    "            if box.conf[0] > 0.4:\n",
    "                cls = int(box.cls[0])\n",
    "                if cls == 2:\n",
    "                    r = box.xyxy[0].astype(int)\n",
    "                    crop = frame[r[1]:r[3], r[0]:r[2]]\n",
    "                    cv2.imwrite(\"numberplate.jpg\", crop)\n",
    "                    # Specify the path to the image\n",
    "                    number_plate = 'numberplate.jpg'\n",
    "                elif cls != 2:\n",
    "                    car_type = class_names.get(cls)\n",
    "                    print(f\"Car Type: {car_type}\")\n",
    "                    detected_car_type = car_type\n",
    "\n",
    "        # Extract text from the image (implement your extract_text_from_image function)\n",
    "        text = extract_text_from_image(number_plate)\n",
    "        text = str(text)\n",
    "\n",
    "        # Define the pattern for number plate extraction using regular expressions\n",
    "        pattern = r'[A-Z]{2}\\s?\\d{2}\\s?[A-Z]{2}\\s?\\d{4}'\n",
    "\n",
    "        # Search for the pattern in the extracted text\n",
    "        extracted_number_plates = re.findall(pattern, text)\n",
    "\n",
    "        # Iterate over the extracted number plates\n",
    "        for plate in extracted_number_plates:\n",
    "            # Add the vehicle type and number to the respective sets\n",
    "            vehicle_types.add(detected_car_type)\n",
    "            vehicle_numbers.add(plate)\n"
   ]
  },
  {
   "cell_type": "code",
   "execution_count": 32,
   "metadata": {},
   "outputs": [],
   "source": [
    "cap.release()\n",
    "csv_file.close()\n"
   ]
  },
  {
   "cell_type": "code",
   "execution_count": 33,
   "metadata": {},
   "outputs": [],
   "source": [
    "with open(\"vehicle_information.csv\", \"w\", newline=\"\") as csv_file:\n",
    "    csv_writer = csv.writer(csv_file)\n",
    "    for vehicle_type, vehicle_number in zip(vehicle_types, vehicle_numbers):\n",
    "        csv_writer.writerow([vehicle_type, vehicle_number])\n"
   ]
  },
  {
   "cell_type": "code",
   "execution_count": 34,
   "metadata": {},
   "outputs": [],
   "source": [
    "for plate, car_type in zip(vehicle_types, vehicle_numbers):\n",
    "    print(f\"This car with number: {plate} is a {car_type} type.\")\n"
   ]
  },
  {
   "cell_type": "code",
   "execution_count": null,
   "metadata": {},
   "outputs": [],
   "source": []
  },
  {
   "cell_type": "code",
   "execution_count": null,
   "metadata": {},
   "outputs": [],
   "source": []
  },
  {
   "cell_type": "code",
   "execution_count": null,
   "metadata": {},
   "outputs": [],
   "source": []
  },
  {
   "cell_type": "code",
   "execution_count": 36,
   "metadata": {},
   "outputs": [],
   "source": [
    "import tkinter as tk\n",
    "import csv\n",
    "\n",
    "class ParkingLot:\n",
    "    def __init__(self, capacity):\n",
    "        self.capacity = capacity\n",
    "        self.spaces = [None] * capacity\n",
    "\n",
    "class Car:\n",
    "    def __init__(self, car_type, car_number):\n",
    "        self.car_type = car_type\n",
    "        self.car_number = car_number\n",
    "\n",
    "def allocate_parking_space(car_type, car_number, parking_lots):\n",
    "    for parking_lot in parking_lots:\n",
    "        if parking_lot.spaces.count(None) == 0:\n",
    "            continue  # Move to the next parking lot if the current one is full\n",
    "\n",
    "        for i, space in enumerate(parking_lot.spaces):\n",
    "            if space is None:\n",
    "                if car_type == 'SUV':\n",
    "                    suv_count = sum(1 for s in parking_lot.spaces if s and s.car_type == 'SUV')\n",
    "                    if suv_count >= 0.4 * parking_lot.capacity:\n",
    "                        continue  # SUV limit reached in this parking lot\n",
    "\n",
    "                if car_type == 'SUV' and any(s and s.car_type == 'SUV' for s in parking_lot.spaces[i - 1:i + 2]):\n",
    "                    continue  # Don't allow two SUVs to be near\n",
    "\n",
    "                if car_type in ['Sedan', 'Hatchback']:\n",
    "                    neighboring_count = 0\n",
    "                    for j in range(i - 1, i + 2):\n",
    "                        if 0 <= j < parking_lot.capacity and parking_lot.spaces[j] and parking_lot.spaces[\n",
    "                            j].car_type in ['Sedan', 'Hatchback']:\n",
    "                            neighboring_count += 1\n",
    "                    if neighboring_count >= 2:\n",
    "                        continue  # Limit reached for Sedans and Hatchbacks\n",
    "\n",
    "                parking_lot.spaces[i] = Car(car_type, car_number)\n",
    "                return f'Car {car_number} parked at Lot {parking_lots.index(parking_lot) + 1}, Space {i + 1}'\n",
    "\n",
    "    return 'No available parking space'\n",
    "\n",
    "def read_vehicle_data(filename):\n",
    "    vehicle_data = []\n",
    "    with open(filename, \"r\") as file:\n",
    "        csv_reader = csv.reader(file)\n",
    "        next(csv_reader)  # Skip the header row\n",
    "        for row in csv_reader:\n",
    "            vehicle_id, vehicle_number, vehicle_type = row\n",
    "            vehicle_data.append((vehicle_id, vehicle_number, vehicle_type.strip()))\n",
    "    return vehicle_data\n",
    "\n",
    "def create_grid(frame, rows, columns):\n",
    "    for i in range(rows):\n",
    "        frame.rowconfigure(i, weight=1, minsize=50)\n",
    "        for j in range(columns):\n",
    "            frame.columnconfigure(j, weight=1, minsize=50)\n",
    "            cell = tk.Frame(\n",
    "                master=frame,\n",
    "                relief=tk.RAISED,\n",
    "                borderwidth=1\n",
    "            )\n",
    "            cell.grid(row=i, column=j, sticky=\"nsew\")\n",
    "            cell_frames.append(cell)\n",
    "\n",
    "def populate_grids(vehicle_data):\n",
    "    for i, (vehicle_id, _, vehicle_type) in enumerate(vehicle_data):\n",
    "        cell = cell_frames[i % len(cell_frames)]\n",
    "        color = assign_vehicle_color(vehicle_type)\n",
    "        cell.config(bg=color)\n",
    "\n",
    "        # Clear any existing widgets in the cell\n",
    "        for widget in cell.winfo_children():\n",
    "            widget.destroy()\n",
    "\n",
    "        label_font = (\"Arial\", 12, \"bold\")\n",
    "        label = tk.Label(cell, text=f\"Vehicle ID: {vehicle_id}\\nType: {vehicle_type}\", bg=color, fg=\"white\", font=label_font)\n",
    "        label.pack(fill=tk.BOTH, expand=True)\n",
    "\n",
    "def assign_vehicle_color(vehicle_type):\n",
    "    colors = {'SUV': 'red', 'Mid Size SUV': 'purple', 'Sedan': 'green', 'Hatchback': 'blue'}\n",
    "    return colors.get(vehicle_type, 'white')\n",
    "\n",
    "def load_vehicle_data():\n",
    "    filename = \"input.csv\"  # Update with your CSV file path\n",
    "    vehicle_data = read_vehicle_data(filename)\n",
    "    populate_grids(vehicle_data)\n",
    "\n",
    "# Initialize Tkinter window\n",
    "window = tk.Tk()\n",
    "window.title(\"Parking Lot\")\n",
    "window.geometry(\"800x600\")\n",
    "\n",
    "# Create main frame\n",
    "main_frame = tk.Frame(master=window)\n",
    "main_frame.pack(fill=tk.BOTH, expand=True)\n",
    "\n",
    "# Create cell frames\n",
    "cell_frames = []\n",
    "create_grid(main_frame, 2, 5)\n",
    "\n",
    "# Load vehicle data and populate grids\n",
    "load_vehicle_data()\n",
    "\n",
    "# Add a button to reload vehicle data\n",
    "button_frame = tk.Frame(master=window)\n",
    "button_frame.pack(pady=10)\n",
    "reload_button = tk.Button(button_frame, text=\"Reload Vehicle Data\", command=load_vehicle_data)\n",
    "reload_button.pack()\n",
    "\n",
    "# Start the Tkinter event loop\n",
    "window.mainloop()\n"
   ]
  },
  {
   "cell_type": "code",
   "execution_count": 42,
   "metadata": {},
   "outputs": [],
   "source": [
    "def populate_grids(vehicle_data):\n",
    "    for i, (vehicle_id, _, vehicle_type) in enumerate(vehicle_data):\n",
    "        allocated = False\n",
    "        for cell in cell_frames:\n",
    "            color = assign_vehicle_color(vehicle_type)\n",
    "            if not cell.winfo_children():  # Check if cell is empty\n",
    "                row, col = cell.grid_info()[\"row\"], cell.grid_info()[\"column\"]\n",
    "                if can_allocate_vehicle(row, col, vehicle_type):\n",
    "                    cell.config(bg=color)\n",
    "                    label_font = (\"Arial\", 12, \"bold\")\n",
    "                    label = tk.Label(cell, text=f\"Vehicle ID: {vehicle_id}\\nType: {vehicle_type}\", bg=color, fg=\"white\", font=label_font)\n",
    "                    label.pack(fill=tk.BOTH, expand=True)\n",
    "                    allocated = True\n",
    "                    break\n",
    "\n",
    "        if not allocated:\n",
    "            # Create a new grid layout and allocate the vehicle\n",
    "            create_grid(main_frame, 2, 5)\n",
    "            cell = cell_frames[-1]\n",
    "            color = assign_vehicle_color(vehicle_type)\n",
    "            cell.config(bg=color)\n",
    "            label_font = (\"Arial\", 12, \"bold\")\n",
    "            label = tk.Label(cell, text=f\"Vehicle ID: {vehicle_id}\\nType: {vehicle_type}\", bg=color, fg=\"white\", font=label_font)\n",
    "            label.pack(fill=tk.BOTH, expand=True)\n",
    "\n",
    "def can_allocate_vehicle(row, col, vehicle_type):\n",
    "    if vehicle_type == 'SUV':\n",
    "        suv_count = sum(1 for cell in cell_frames if cell.winfo_children() and cell.winfo_children()[0]['text'].split(\"\\n\")[1] == 'SUV')\n",
    "        if suv_count >= 0.4 * len(cell_frames):\n",
    "            return False\n",
    "        if row > 0 and cell_frames[(row - 1) * 5 + col].winfo_children() and cell_frames[(row - 1) * 5 + col].winfo_children()[0]['text'].split(\"\\n\")[1] == 'SUV':\n",
    "            return False\n",
    "        if row < 1 and cell_frames[(row + 1) * 5 + col].winfo_children() and cell_frames[(row + 1) * 5 + col].winfo_children()[0]['text'].split(\"\\n\")[1] == 'SUV':\n",
    "            return False\n",
    "        if col > 0 and cell_frames[row * 5 + col - 1].winfo_children() and cell_frames[row * 5 + col - 1].winfo_children()[0]['text'].split(\"\\n\")[1] == 'SUV':\n",
    "            return False\n",
    "        if col < 4 and cell_frames[row * 5 + col + 1].winfo_children() and cell_frames[row * 5 + col + 1].winfo_children()[0]['text'].split(\"\\n\")[1] == 'SUV':\n",
    "            return False\n",
    "    else:\n",
    "        neighboring_count = 0\n",
    "        if row > 0 and cell_frames[(row - 1) * 5 + col].winfo_children() and cell_frames[(row - 1) * 5 + col].winfo_children()[0]['text'].split(\"\\n\")[1] in ['Sedan', 'Hatchback']:\n",
    "            neighboring_count += 1\n",
    "        if row < 1 and cell_frames[(row + 1) * 5 + col].winfo_children() and cell_frames[(row + 1) * 5 + col].winfo_children()[0]['text'].split(\"\\n\")[1] in ['Sedan', 'Hatchback']:\n",
    "            neighboring_count += 1\n",
    "        if col > 0 and cell_frames[row * 5 + col - 1].winfo_children() and cell_frames[row * 5 + col - 1].winfo_children()[0]['text'].split(\"\\n\")[1] in ['Sedan', 'Hatchback']:\n",
    "            neighboring_count += 1\n",
    "        if col < 4 and cell_frames[row * 5 + col + 1].winfo_children() and cell_frames[row * 5 + col + 1].winfo_children()[0]['text'].split(\"\\n\")[1] in ['Sedan', 'Hatchback']:\n",
    "            neighboring_count += 1\n",
    "        if neighboring_count >= 2:\n",
    "            return False\n",
    "    return True\n",
    "\n",
    "def load_vehicle_data():\n",
    "    filename = \"input.csv\"  # Update with your CSV file path\n",
    "    vehicle_data = read_vehicle_data(filename)\n",
    "    populate_grids(vehicle_data)\n",
    "\n",
    "# Initialize Tkinter window\n",
    "window = tk.Tk()\n",
    "window.title(\"Parking Lot\")\n",
    "window.geometry(\"800x600\")\n",
    "\n",
    "# Create main frame\n",
    "main_frame = tk.Frame(master=window)\n",
    "main_frame.pack(fill=tk.BOTH, expand=True)\n",
    "\n",
    "# Create cell frames\n",
    "cell_frames = []\n",
    "create_grid(main_frame, 2, 5)\n",
    "\n",
    "# Load vehicle data and populate grids\n",
    "load_vehicle_data()\n",
    "\n",
    "# Add a button to reload vehicle data\n",
    "button_frame = tk.Frame(master=window)\n",
    "button_frame.pack(pady=10)\n",
    "reload_button = tk.Button(button_frame, text=\"Reload Vehicle Data\", command=load_vehicle_data)\n",
    "reload_button.pack()\n",
    "\n",
    "# Start the Tkinter event loop\n",
    "window.mainloop()\n"
   ]
  },
  {
   "cell_type": "code",
   "execution_count": null,
   "metadata": {},
   "outputs": [],
   "source": []
  }
 ],
 "metadata": {
  "kernelspec": {
   "display_name": "torch_gpu",
   "language": "python",
   "name": "python3"
  },
  "language_info": {
   "codemirror_mode": {
    "name": "ipython",
    "version": 3
   },
   "file_extension": ".py",
   "mimetype": "text/x-python",
   "name": "python",
   "nbconvert_exporter": "python",
   "pygments_lexer": "ipython3",
   "version": "3.11.0"
  },
  "orig_nbformat": 4
 },
 "nbformat": 4,
 "nbformat_minor": 2
}
