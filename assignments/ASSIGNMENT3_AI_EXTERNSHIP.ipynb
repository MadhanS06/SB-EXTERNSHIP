{
 "cells": [
  {
   "attachments": {},
   "cell_type": "markdown",
   "metadata": {},
   "source": [
    "# MADHAN KUMAR S\n",
    "\n",
    "# 20BEC1112\n",
    "\n",
    "# VIT CHENNAI\n",
    "\n",
    "ASSIGNEMENT 3"
   ]
  },
  {
   "attachments": {},
   "cell_type": "markdown",
   "metadata": {},
   "source": [
    "Exracting the files "
   ]
  },
  {
   "cell_type": "code",
   "execution_count": 1,
   "metadata": {},
   "outputs": [
    {
     "name": "stdout",
     "output_type": "stream",
     "text": [
      "Unzipping: ./archive (11).zip\n"
     ]
    }
   ],
   "source": [
    "import glob\n",
    "import zipfile\n",
    "files = glob.glob('./archive (11).zip')\n",
    "files\n",
    "for file in files:\n",
    "    print('Unzipping:',file)\n",
    "\n",
    "    with zipfile.ZipFile(file, 'r') as zip_ref:\n",
    "        zip_ref.extractall('Bird_Dataset')"
   ]
  },
  {
   "attachments": {},
   "cell_type": "markdown",
   "metadata": {},
   "source": [
    "## Preparation of Files to Our Required Format Style\n",
    "\n",
    "To Rename Images with label"
   ]
  },
  {
   "cell_type": "code",
   "execution_count": 2,
   "metadata": {},
   "outputs": [],
   "source": [
    "import os\n",
    "import shutil\n",
    "\n",
    "main_folder = './Bird_Dataset/test_data/test_data/'\n",
    "\n",
    "def rename_images_in_subfolders(folder_path, start_index=1):\n",
    "    subfolders = [f.path for f in os.scandir(folder_path) if f.is_dir()]\n",
    "\n",
    "    for index, subfolder in enumerate(subfolders, start=start_index):\n",
    "        images = [f.path for f in os.scandir(subfolder) if f.is_file() and f.name.endswith('.jpg')]\n",
    "        \n",
    "        subfolder_name = os.path.basename(subfolder)\n",
    "        \n",
    "        for i, image_path in enumerate(images):\n",
    "            image_name = f'{subfolder_name}-{i+1}.jpg'\n",
    "            new_image_path = os.path.join(subfolder, image_name)\n",
    "            shutil.move(image_path, new_image_path)\n",
    "\n",
    "        rename_images_in_subfolders(subfolder, start_index=index+1)\n",
    "\n",
    "rename_images_in_subfolders(main_folder)\n"
   ]
  },
  {
   "attachments": {},
   "cell_type": "markdown",
   "metadata": {},
   "source": [
    "To Copy all the images in different folders to one Folder \" ALL IMAGES \""
   ]
  },
  {
   "cell_type": "code",
   "execution_count": 14,
   "metadata": {},
   "outputs": [],
   "source": [
    "import os\n",
    "import shutil\n",
    "\n",
    "main_folder = './Bird_Dataset/test_data/test_data/'\n",
    "target_folder = './Bird_Dataset/train_data/all_images'\n",
    "\n",
    "def copy_images_to_target_folder(folder_path):\n",
    "    subfolders = [f.path for f in os.scandir(folder_path) if f.is_dir()]\n",
    "\n",
    "    for subfolder in subfolders:\n",
    "        images = [f.path for f in os.scandir(subfolder) if f.is_file() and f.name.endswith('.jpg')]\n",
    "\n",
    "        for image_path in images:\n",
    "            image_name = os.path.basename(image_path)\n",
    "            target_image_path = os.path.join(target_folder, image_name)\n",
    "            shutil.copy2(image_path, target_image_path)\n",
    "\n",
    "        copy_images_to_target_folder(subfolder)\n",
    "\n",
    "# Create the target folder if it doesn't exist\n",
    "if not os.path.exists(target_folder):\n",
    "    os.makedirs(target_folder)\n",
    "\n",
    "copy_images_to_target_folder(main_folder)\n"
   ]
  },
  {
   "cell_type": "code",
   "execution_count": 15,
   "metadata": {},
   "outputs": [
    {
     "name": "stdout",
     "output_type": "stream",
     "text": [
      "Number of files: 118\n"
     ]
    }
   ],
   "source": [
    "import os\n",
    "\n",
    "# Set the path to the image folder\n",
    "image_folder = './Bird_Dataset/train_data/all_images/'\n",
    "\n",
    "# Count the number of files in the directory\n",
    "num_files = len([f for f in os.listdir(image_folder) if os.path.isfile(os.path.join(image_folder, f))])\n",
    "\n",
    "print(\"Number of files:\", num_files)"
   ]
  },
  {
   "attachments": {},
   "cell_type": "markdown",
   "metadata": {},
   "source": [
    "augmentation of images"
   ]
  },
  {
   "cell_type": "code",
   "execution_count": 16,
   "metadata": {},
   "outputs": [
    {
     "name": "stdout",
     "output_type": "stream",
     "text": [
      "Augmented images saved in: ./Bird_Dataset/train_data/augmented_images/\n"
     ]
    }
   ],
   "source": [
    "import os\n",
    "from tensorflow.keras.preprocessing.image import ImageDataGenerator\n",
    "from PIL import Image\n",
    "import numpy as np\n",
    "\n",
    "# Path to the folder containing the original images\n",
    "original_folder = './Bird_Dataset/train_data/all_images/'\n",
    "\n",
    "# Path to the new folder for augmented images\n",
    "new_folder = './Bird_Dataset/train_data/augmented_images/'\n",
    "\n",
    "# Create the new folder if it doesn't exist\n",
    "if not os.path.exists(new_folder):\n",
    "    os.makedirs(new_folder)\n",
    "\n",
    "# Create an ImageDataGenerator instance with desired augmentation settings\n",
    "data_generator = ImageDataGenerator(\n",
    "    rotation_range=3,\n",
    "    width_shift_range=0.1,\n",
    "    shear_range=0.1,\n",
    "    zoom_range=0.1,\n",
    ")\n",
    "\n",
    "# Iterate through each image in the original folder\n",
    "for filename in os.listdir(original_folder):\n",
    "    if filename.endswith('.jpg') or filename.endswith('.png'):\n",
    "        original_image_path = os.path.join(original_folder, filename)\n",
    "\n",
    "        # Load the original image\n",
    "        original_image = Image.open(original_image_path)\n",
    "\n",
    "        # Reshape the image to 4D for compatibility with ImageDataGenerator\n",
    "        image_array = original_image.resize((256, 256))  # Resize if needed\n",
    "        image_array = np.array(image_array)\n",
    "        image_array = np.expand_dims(image_array, axis=0)\n",
    "\n",
    "        # Generate augmented images\n",
    "        augmented_images = data_generator.flow(image_array, batch_size=1)\n",
    "\n",
    "        # Generate 10 augmented versions of the image\n",
    "        for i, augmented_image_array in enumerate(augmented_images):\n",
    "            augmented_image = Image.fromarray(np.uint8(augmented_image_array[0]))\n",
    "\n",
    "            # Extract the name and extension of the original image\n",
    "            name, extension = os.path.splitext(filename)\n",
    "\n",
    "            # Generate a unique ID for each augmented image\n",
    "            image_id = f\"augmented_{i}\"\n",
    "\n",
    "            # Construct the new filename\n",
    "            new_filename = f\"{name}_{image_id}{extension}\"\n",
    "\n",
    "            # Get the path for the augmented image\n",
    "            augmented_image_path = os.path.join(new_folder, new_filename)\n",
    "\n",
    "            # Save the augmented image with the new filename\n",
    "            augmented_image.save(augmented_image_path)\n",
    "\n",
    "            if i == 20:\n",
    "                break\n",
    "\n",
    "# Print the path to the augmented images folder\n",
    "print(\"Augmented images saved in:\", new_folder)\n",
    "\n"
   ]
  },
  {
   "attachments": {},
   "cell_type": "markdown",
   "metadata": {},
   "source": [
    "TRAINING "
   ]
  },
  {
   "cell_type": "code",
   "execution_count": 17,
   "metadata": {},
   "outputs": [
    {
     "name": "stdout",
     "output_type": "stream",
     "text": [
      "Number of files: 2478\n"
     ]
    }
   ],
   "source": [
    "import os\n",
    "\n",
    "# Set the path to the image folder\n",
    "image_folder = './Bird_Dataset/train_data/augmented_images/'\n",
    "\n",
    "# Count the number of files in the directory\n",
    "num_files = len([f for f in os.listdir(image_folder) if os.path.isfile(os.path.join(image_folder, f))])\n",
    "\n",
    "print(\"Number of files:\", num_files)"
   ]
  },
  {
   "cell_type": "code",
   "execution_count": 18,
   "metadata": {},
   "outputs": [],
   "source": [
    "import os\n",
    "import cv2\n",
    "import numpy as np\n",
    "from sklearn.model_selection import train_test_split\n",
    "from tensorflow.keras.models import Sequential\n",
    "from tensorflow.keras.layers import Conv2D, MaxPooling2D, Flatten, Dense\n",
    "from tensorflow.keras.utils import to_categorical\n",
    "\n",
    "# Set the path to the image folder\n",
    "image_folder = './Bird_Dataset/train_data/augmented_images/'\n",
    "# Preprocessing and label extraction\n",
    "image_size = (150, 150)  # Set the desired image size\n",
    "labels = []\n",
    "\n",
    "# Load and preprocess the images\n",
    "images = []\n",
    "for filename in os.listdir(image_folder):\n",
    "    if filename.endswith('.jpg') or filename.endswith('.png'):\n",
    "        image_path = os.path.join(image_folder, filename)\n",
    "        label = filename.split('-')[0]\n",
    "        labels.append(label)\n",
    "\n",
    "        # Read the image and resize using the thumbnail option\n",
    "        image = cv2.imread(image_path)\n",
    "        image = cv2.cvtColor(image, cv2.COLOR_BGR2RGB)  # Convert BGR to RGB\n",
    "        thumbnail = cv2.resize(image, image_size, interpolation=cv2.INTER_AREA)\n",
    "        thumbnail = thumbnail / 255.0  # Normalize the image\n",
    "        images.append(thumbnail)\n",
    "\n",
    "# Convert the lists to numpy arrays\n",
    "images = np.array(images)\n",
    "labels = np.array(labels)\n",
    "\n",
    "# Perform one-hot encoding on the labels\n",
    "unique_labels = np.unique(labels)\n",
    "label_map = {label: idx for idx, label in enumerate(unique_labels)}\n",
    "encoded_labels = [label_map[label] for label in labels]\n",
    "one_hot_labels = to_categorical(encoded_labels)\n",
    "\n",
    "\n"
   ]
  },
  {
   "cell_type": "code",
   "execution_count": 19,
   "metadata": {},
   "outputs": [
    {
     "data": {
      "text/plain": [
       "array(['blasti', 'bonegl', 'brhkyt', 'cbrtsh', 'cmnmyn', 'gretit',\n",
       "       'hilpig', 'himbul', 'himgri', 'hsparo', 'indvul', 'jglowl',\n",
       "       'lbicrw', 'mgprob', 'rebimg', 'wcrsrt'], dtype='<U6')"
      ]
     },
     "execution_count": 19,
     "metadata": {},
     "output_type": "execute_result"
    }
   ],
   "source": [
    "np.unique(labels)"
   ]
  },
  {
   "cell_type": "code",
   "execution_count": 20,
   "metadata": {},
   "outputs": [],
   "source": [
    "\n",
    "# Split the data into training, validation, and testing sets\n",
    "X_train, X_test, y_train, y_test = train_test_split(images, one_hot_labels, test_size=0.4, random_state=42)\n",
    "X_train, X_val, y_train, y_val = train_test_split(X_train, y_train, test_size=0.15, random_state=42)\n"
   ]
  },
  {
   "cell_type": "code",
   "execution_count": 27,
   "metadata": {},
   "outputs": [
    {
     "name": "stdout",
     "output_type": "stream",
     "text": [
      "Epoch 1/25\n",
      "40/40 [==============================] - 4s 66ms/step - loss: 1.8218 - accuracy: 0.4481 - val_loss: 0.7086 - val_accuracy: 0.8072\n",
      "Epoch 2/25\n",
      "40/40 [==============================] - 2s 55ms/step - loss: 0.4289 - accuracy: 0.8876 - val_loss: 0.2646 - val_accuracy: 0.9283\n",
      "Epoch 3/25\n",
      "40/40 [==============================] - 2s 44ms/step - loss: 0.1428 - accuracy: 0.9636 - val_loss: 0.1543 - val_accuracy: 0.9462\n",
      "Epoch 4/25\n",
      "40/40 [==============================] - 2s 43ms/step - loss: 0.0859 - accuracy: 0.9802 - val_loss: 0.1867 - val_accuracy: 0.9238\n",
      "Epoch 5/25\n",
      "40/40 [==============================] - 2s 43ms/step - loss: 0.0378 - accuracy: 0.9921 - val_loss: 0.0820 - val_accuracy: 0.9821\n",
      "Epoch 6/25\n",
      "40/40 [==============================] - 2s 44ms/step - loss: 0.0267 - accuracy: 0.9921 - val_loss: 0.1281 - val_accuracy: 0.9686\n",
      "Epoch 7/25\n",
      "40/40 [==============================] - 2s 45ms/step - loss: 0.0312 - accuracy: 0.9929 - val_loss: 0.0475 - val_accuracy: 0.9821\n",
      "Epoch 8/25\n",
      "40/40 [==============================] - 2s 45ms/step - loss: 0.0090 - accuracy: 0.9976 - val_loss: 0.0366 - val_accuracy: 0.9910\n",
      "Epoch 9/25\n",
      "40/40 [==============================] - 2s 42ms/step - loss: 0.0051 - accuracy: 0.9984 - val_loss: 0.0542 - val_accuracy: 0.9865\n",
      "Epoch 10/25\n",
      "40/40 [==============================] - 2s 43ms/step - loss: 0.0025 - accuracy: 1.0000 - val_loss: 0.0417 - val_accuracy: 0.9910\n",
      "Epoch 11/25\n",
      "40/40 [==============================] - 2s 42ms/step - loss: 0.0031 - accuracy: 0.9992 - val_loss: 0.0776 - val_accuracy: 0.9821\n",
      "Epoch 12/25\n",
      "40/40 [==============================] - 2s 42ms/step - loss: 0.0034 - accuracy: 0.9992 - val_loss: 0.0713 - val_accuracy: 0.9865\n",
      "Epoch 13/25\n",
      "40/40 [==============================] - 2s 44ms/step - loss: 0.0013 - accuracy: 1.0000 - val_loss: 0.0531 - val_accuracy: 0.9865\n",
      "Epoch 14/25\n",
      "40/40 [==============================] - 2s 42ms/step - loss: 0.0047 - accuracy: 0.9984 - val_loss: 0.0965 - val_accuracy: 0.9776\n",
      "Epoch 15/25\n",
      "40/40 [==============================] - 2s 42ms/step - loss: 0.0140 - accuracy: 0.9960 - val_loss: 0.0727 - val_accuracy: 0.9821\n",
      "Epoch 16/25\n",
      "40/40 [==============================] - 2s 42ms/step - loss: 0.0025 - accuracy: 1.0000 - val_loss: 0.0671 - val_accuracy: 0.9865\n",
      "Epoch 17/25\n",
      "40/40 [==============================] - 2s 42ms/step - loss: 9.8563e-04 - accuracy: 1.0000 - val_loss: 0.0693 - val_accuracy: 0.9865\n",
      "Epoch 18/25\n",
      "40/40 [==============================] - 2s 42ms/step - loss: 6.2344e-04 - accuracy: 1.0000 - val_loss: 0.0636 - val_accuracy: 0.9865\n"
     ]
    },
    {
     "data": {
      "text/plain": [
       "<keras.callbacks.History at 0x1babdf254e0>"
      ]
     },
     "execution_count": 27,
     "metadata": {},
     "output_type": "execute_result"
    }
   ],
   "source": [
    "from tensorflow.keras.layers import Dropout\n",
    "from tensorflow.keras.callbacks import EarlyStopping\n",
    "\n",
    "# Build a simplified CNN model with one dropout layer\n",
    "model = Sequential()\n",
    "model.add(Conv2D(40, (3, 3), activation='relu', input_shape=(image_size[0], image_size[1], 3)))\n",
    "model.add(MaxPooling2D(pool_size=(2, 2)))\n",
    "model.add(Conv2D(60,(3,3), activation='relu',input_shape=(image_size[0], image_size[1], 3))) \n",
    "model.add(MaxPooling2D(pool_size=(2,2))) #maxpooling\n",
    "model.add(Flatten())\n",
    "model.add(Dropout(0.1))  # Add dropout layer with 25% dropout rate\n",
    "model.add(Dense(16, activation='softmax'))\n",
    "\n",
    "# Compile the model\n",
    "model.compile(optimizer='adam', loss='categorical_crossentropy', metrics=['accuracy'])\n",
    "\n",
    "# Define early stopping callback\n",
    "early_stopping = EarlyStopping(patience=10)\n",
    "\n",
    "# Train the model with early stopping\n",
    "model.fit(X_train, y_train, epochs=25, batch_size=32, validation_data=(X_val, y_val), callbacks=[early_stopping])\n",
    "\n",
    "\n"
   ]
  },
  {
   "cell_type": "code",
   "execution_count": 24,
   "metadata": {},
   "outputs": [],
   "source": [
    "# Assuming you have a trained model object named \"model\"\n",
    "model.save(\"modelV1.h5\")"
   ]
  },
  {
   "attachments": {},
   "cell_type": "markdown",
   "metadata": {},
   "source": [
    "testing"
   ]
  },
  {
   "cell_type": "code",
   "execution_count": 28,
   "metadata": {},
   "outputs": [
    {
     "name": "stdout",
     "output_type": "stream",
     "text": [
      "31/31 [==============================] - 1s 16ms/step\n",
      "Test Accuracy: 0.9808467741935484\n"
     ]
    },
    {
     "data": {
      "image/png": "[encoded data removed]",
      "text/plain": [
       "<Figure size 1000x800 with 2 Axes>"
      ]
     },
     "metadata": {},
     "output_type": "display_data"
    }
   ],
   "source": [
    "import numpy as np\n",
    "import matplotlib.pyplot as plt\n",
    "from sklearn.metrics import accuracy_score, confusion_matrix\n",
    "import seaborn as sns\n",
    "\n",
    "# Evaluate test accuracy\n",
    "y_pred = model.predict(X_test)\n",
    "y_pred_labels = np.argmax(y_pred, axis=1)\n",
    "y_test_labels = np.argmax(y_test, axis=1)\n",
    "test_accuracy = accuracy_score(y_test_labels, y_pred_labels)\n",
    "print('Test Accuracy:', test_accuracy)\n",
    "\n",
    "# Generate confusion matrix\n",
    "cm = confusion_matrix(y_test_labels, y_pred_labels)\n",
    "plt.figure(figsize=(10, 8))\n",
    "sns.heatmap(cm, annot=True, cmap='Blues', fmt='g', xticklabels=unique_labels, yticklabels=unique_labels)\n",
    "plt.xlabel('Predicted Labels')\n",
    "plt.ylabel('True Labels')\n",
    "plt.title('Confusion Matrix')\n",
    "plt.show()"
   ]
  },
  {
   "cell_type": "markdown",
   "metadata": {},
   "source": [
    "model tuning "
   ]
  },
  {
   "cell_type": "code",
   "execution_count": null,
   "metadata": {},
   "outputs": [],
   "source": []
  }
 ],
 "metadata": {
  "kernelspec": {
   "display_name": "tf_gpu",
   "language": "python",
   "name": "python3"
  },
  "language_info": {
   "codemirror_mode": {
    "name": "ipython",
    "version": 3
   },
   "file_extension": ".py",
   "mimetype": "text/x-python",
   "name": "python",
   "nbconvert_exporter": "python",
   "pygments_lexer": "ipython3",
   "version": "3.10.0"
  },
  "orig_nbformat": 4
 },
 "nbformat": 4,
 "nbformat_minor": 2
}
