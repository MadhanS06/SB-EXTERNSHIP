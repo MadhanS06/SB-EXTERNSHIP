{
 "cells": [
  {
   "cell_type": "markdown",
   "id": "6b9de45a",
   "metadata": {},
   "source": [
    "# ASSIGNEMENT 1\n",
    "\n",
    "# Name: Madhan Kumar S\n",
    "\n",
    "# Reg. no. 20BEC1112\n",
    "\n",
    "# College: Vellore Institute of Technology\n",
    "\n",
    "# Campus: Chennai\n",
    "\n",
    "# Course: Artificial Intelligence,  SmartBridge Externship"
   ]
  },
  {
   "cell_type": "markdown",
   "id": "a6052092",
   "metadata": {},
   "source": [
    "\n",
    "\n",
    "# Task 1\n"
   ]
  },
  {
   "cell_type": "code",
   "execution_count": null,
   "id": "eb67e013",
   "metadata": {},
   "outputs": [],
   "source": [
    "import pandas as pd\n",
    "import numpy as np"
   ]
  },
  {
   "cell_type": "code",
   "execution_count": 13,
   "id": "68c6f69a",
   "metadata": {},
   "outputs": [],
   "source": [
    "observations=np.random.rand(4,4)"
   ]
  },
  {
   "cell_type": "code",
   "execution_count": 14,
   "id": "539442e5",
   "metadata": {},
   "outputs": [],
   "source": [
    "features=np.array(['F1','F2','F3','F4'])"
   ]
  },
  {
   "cell_type": "code",
   "execution_count": 15,
   "id": "29940973",
   "metadata": {},
   "outputs": [],
   "source": [
    "VIT=pd.DataFrame(observations, features)"
   ]
  },
  {
   "cell_type": "code",
   "execution_count": 17,
   "id": "60e7707d",
   "metadata": {},
   "outputs": [
    {
     "name": "stdout",
     "output_type": "stream",
     "text": [
      "           0         1         2         3\n",
      "F1  0.154934  0.029086  0.148596  0.388449\n",
      "F2  0.286659  0.599699  0.765884  0.475284\n",
      "F3  0.668441  0.753857  0.133783  0.456388\n",
      "F4  0.897749  0.000823  0.757851  0.799794\n"
     ]
    }
   ],
   "source": [
    "print(VIT)"
   ]
  },
  {
   "cell_type": "markdown",
   "id": "8d501323",
   "metadata": {},
   "source": [
    "# Task 2"
   ]
  },
  {
   "cell_type": "code",
   "execution_count": 34,
   "id": "910d7aa2",
   "metadata": {},
   "outputs": [],
   "source": [
    "df=VIT"
   ]
  },
  {
   "cell_type": "code",
   "execution_count": 36,
   "id": "30913526",
   "metadata": {
    "scrolled": true
   },
   "outputs": [],
   "source": [
    "df=df.rename(columns={0:'Random Value 1',1:'Random Value 2',2:'Random Value 3',3:'Random Value 4'})"
   ]
  },
  {
   "cell_type": "markdown",
   "id": "1c33047c",
   "metadata": {},
   "source": [
    "# Task 3 Descriptive Summary "
   ]
  },
  {
   "cell_type": "code",
   "execution_count": 37,
   "id": "0fa93689",
   "metadata": {},
   "outputs": [
    {
     "data": {
      "text/plain": [
       "Random Value 1    2.007783\n",
       "Random Value 2    1.383466\n",
       "Random Value 3    1.806114\n",
       "Random Value 4    2.119915\n",
       "dtype: float64"
      ]
     },
     "execution_count": 37,
     "metadata": {},
     "output_type": "execute_result"
    }
   ],
   "source": [
    "df.sum()"
   ]
  },
  {
   "cell_type": "code",
   "execution_count": 38,
   "id": "fc4ca00d",
   "metadata": {},
   "outputs": [
    {
     "data": {
      "text/plain": [
       "Random Value 1    4\n",
       "Random Value 2    4\n",
       "Random Value 3    4\n",
       "Random Value 4    4\n",
       "dtype: int64"
      ]
     },
     "execution_count": 38,
     "metadata": {},
     "output_type": "execute_result"
    }
   ],
   "source": [
    "df.count()"
   ]
  },
  {
   "cell_type": "code",
   "execution_count": 39,
   "id": "7a71f6b9",
   "metadata": {},
   "outputs": [
    {
     "data": {
      "text/plain": [
       "Random Value 1    0.501946\n",
       "Random Value 2    0.345866\n",
       "Random Value 3    0.451529\n",
       "Random Value 4    0.529979\n",
       "dtype: float64"
      ]
     },
     "execution_count": 39,
     "metadata": {},
     "output_type": "execute_result"
    }
   ],
   "source": [
    "df.mean()"
   ]
  },
  {
   "cell_type": "code",
   "execution_count": 40,
   "id": "bc761c7e",
   "metadata": {},
   "outputs": [
    {
     "data": {
      "text/plain": [
       "Random Value 1    0.477550\n",
       "Random Value 2    0.314393\n",
       "Random Value 3    0.453224\n",
       "Random Value 4    0.465836\n",
       "dtype: float64"
      ]
     },
     "execution_count": 40,
     "metadata": {},
     "output_type": "execute_result"
    }
   ],
   "source": [
    "df.median()"
   ]
  },
  {
   "cell_type": "code",
   "execution_count": 41,
   "id": "a6dee226",
   "metadata": {},
   "outputs": [
    {
     "data": {
      "text/html": [
       "<div>\n",
       "<style scoped>\n",
       "    .dataframe tbody tr th:only-of-type {\n",
       "        vertical-align: middle;\n",
       "    }\n",
       "\n",
       "    .dataframe tbody tr th {\n",
       "        vertical-align: top;\n",
       "    }\n",
       "\n",
       "    .dataframe thead th {\n",
       "        text-align: right;\n",
       "    }\n",
       "</style>\n",
       "<table border=\"1\" class=\"dataframe\">\n",
       "  <thead>\n",
       "    <tr style=\"text-align: right;\">\n",
       "      <th></th>\n",
       "      <th>Random Value 1</th>\n",
       "      <th>Random Value 2</th>\n",
       "      <th>Random Value 3</th>\n",
       "      <th>Random Value 4</th>\n",
       "    </tr>\n",
       "  </thead>\n",
       "  <tbody>\n",
       "    <tr>\n",
       "      <th>0</th>\n",
       "      <td>0.154934</td>\n",
       "      <td>0.000823</td>\n",
       "      <td>0.133783</td>\n",
       "      <td>0.388449</td>\n",
       "    </tr>\n",
       "    <tr>\n",
       "      <th>1</th>\n",
       "      <td>0.286659</td>\n",
       "      <td>0.029086</td>\n",
       "      <td>0.148596</td>\n",
       "      <td>0.456388</td>\n",
       "    </tr>\n",
       "    <tr>\n",
       "      <th>2</th>\n",
       "      <td>0.668441</td>\n",
       "      <td>0.599699</td>\n",
       "      <td>0.757851</td>\n",
       "      <td>0.475284</td>\n",
       "    </tr>\n",
       "    <tr>\n",
       "      <th>3</th>\n",
       "      <td>0.897749</td>\n",
       "      <td>0.753857</td>\n",
       "      <td>0.765884</td>\n",
       "      <td>0.799794</td>\n",
       "    </tr>\n",
       "  </tbody>\n",
       "</table>\n",
       "</div>"
      ],
      "text/plain": [
       "   Random Value 1  Random Value 2  Random Value 3  Random Value 4\n",
       "0        0.154934        0.000823        0.133783        0.388449\n",
       "1        0.286659        0.029086        0.148596        0.456388\n",
       "2        0.668441        0.599699        0.757851        0.475284\n",
       "3        0.897749        0.753857        0.765884        0.799794"
      ]
     },
     "execution_count": 41,
     "metadata": {},
     "output_type": "execute_result"
    }
   ],
   "source": [
    "df.mode()"
   ]
  },
  {
   "cell_type": "code",
   "execution_count": 42,
   "id": "d78c3469",
   "metadata": {},
   "outputs": [
    {
     "data": {
      "text/plain": [
       "Random Value 1    0.342124\n",
       "Random Value 2    0.387424\n",
       "Random Value 3    0.358414\n",
       "Random Value 4    0.183701\n",
       "dtype: float64"
      ]
     },
     "execution_count": 42,
     "metadata": {},
     "output_type": "execute_result"
    }
   ],
   "source": [
    "df.std()"
   ]
  },
  {
   "cell_type": "code",
   "execution_count": 43,
   "id": "7e37f5aa",
   "metadata": {},
   "outputs": [
    {
     "data": {
      "text/plain": [
       "Random Value 1    0.154934\n",
       "Random Value 2    0.000823\n",
       "Random Value 3    0.133783\n",
       "Random Value 4    0.388449\n",
       "dtype: float64"
      ]
     },
     "execution_count": 43,
     "metadata": {},
     "output_type": "execute_result"
    }
   ],
   "source": [
    "df.min()"
   ]
  },
  {
   "cell_type": "code",
   "execution_count": 44,
   "id": "e96e3f3a",
   "metadata": {},
   "outputs": [
    {
     "data": {
      "text/plain": [
       "Random Value 1    0.897749\n",
       "Random Value 2    0.753857\n",
       "Random Value 3    0.765884\n",
       "Random Value 4    0.799794\n",
       "dtype: float64"
      ]
     },
     "execution_count": 44,
     "metadata": {},
     "output_type": "execute_result"
    }
   ],
   "source": [
    "df.max()"
   ]
  },
  {
   "cell_type": "code",
   "execution_count": 45,
   "id": "a1163abb",
   "metadata": {},
   "outputs": [
    {
     "data": {
      "text/html": [
       "<div>\n",
       "<style scoped>\n",
       "    .dataframe tbody tr th:only-of-type {\n",
       "        vertical-align: middle;\n",
       "    }\n",
       "\n",
       "    .dataframe tbody tr th {\n",
       "        vertical-align: top;\n",
       "    }\n",
       "\n",
       "    .dataframe thead th {\n",
       "        text-align: right;\n",
       "    }\n",
       "</style>\n",
       "<table border=\"1\" class=\"dataframe\">\n",
       "  <thead>\n",
       "    <tr style=\"text-align: right;\">\n",
       "      <th></th>\n",
       "      <th>Random Value 1</th>\n",
       "      <th>Random Value 2</th>\n",
       "      <th>Random Value 3</th>\n",
       "      <th>Random Value 4</th>\n",
       "    </tr>\n",
       "  </thead>\n",
       "  <tbody>\n",
       "    <tr>\n",
       "      <th>F1</th>\n",
       "      <td>0.154934</td>\n",
       "      <td>0.029086</td>\n",
       "      <td>0.148596</td>\n",
       "      <td>0.388449</td>\n",
       "    </tr>\n",
       "    <tr>\n",
       "      <th>F2</th>\n",
       "      <td>0.286659</td>\n",
       "      <td>0.599699</td>\n",
       "      <td>0.765884</td>\n",
       "      <td>0.475284</td>\n",
       "    </tr>\n",
       "    <tr>\n",
       "      <th>F3</th>\n",
       "      <td>0.668441</td>\n",
       "      <td>0.753857</td>\n",
       "      <td>0.133783</td>\n",
       "      <td>0.456388</td>\n",
       "    </tr>\n",
       "    <tr>\n",
       "      <th>F4</th>\n",
       "      <td>0.897749</td>\n",
       "      <td>0.000823</td>\n",
       "      <td>0.757851</td>\n",
       "      <td>0.799794</td>\n",
       "    </tr>\n",
       "  </tbody>\n",
       "</table>\n",
       "</div>"
      ],
      "text/plain": [
       "    Random Value 1  Random Value 2  Random Value 3  Random Value 4\n",
       "F1        0.154934        0.029086        0.148596        0.388449\n",
       "F2        0.286659        0.599699        0.765884        0.475284\n",
       "F3        0.668441        0.753857        0.133783        0.456388\n",
       "F4        0.897749        0.000823        0.757851        0.799794"
      ]
     },
     "execution_count": 45,
     "metadata": {},
     "output_type": "execute_result"
    }
   ],
   "source": [
    "df.abs()"
   ]
  },
  {
   "cell_type": "code",
   "execution_count": 46,
   "id": "d0a4863f",
   "metadata": {},
   "outputs": [
    {
     "data": {
      "text/plain": [
       "Random Value 1    0.026652\n",
       "Random Value 2    0.000011\n",
       "Random Value 3    0.011539\n",
       "Random Value 4    0.067391\n",
       "dtype: float64"
      ]
     },
     "execution_count": 46,
     "metadata": {},
     "output_type": "execute_result"
    }
   ],
   "source": [
    "df.prod()"
   ]
  },
  {
   "cell_type": "code",
   "execution_count": 47,
   "id": "a23233ab",
   "metadata": {},
   "outputs": [
    {
     "data": {
      "text/html": [
       "<div>\n",
       "<style scoped>\n",
       "    .dataframe tbody tr th:only-of-type {\n",
       "        vertical-align: middle;\n",
       "    }\n",
       "\n",
       "    .dataframe tbody tr th {\n",
       "        vertical-align: top;\n",
       "    }\n",
       "\n",
       "    .dataframe thead th {\n",
       "        text-align: right;\n",
       "    }\n",
       "</style>\n",
       "<table border=\"1\" class=\"dataframe\">\n",
       "  <thead>\n",
       "    <tr style=\"text-align: right;\">\n",
       "      <th></th>\n",
       "      <th>Random Value 1</th>\n",
       "      <th>Random Value 2</th>\n",
       "      <th>Random Value 3</th>\n",
       "      <th>Random Value 4</th>\n",
       "    </tr>\n",
       "  </thead>\n",
       "  <tbody>\n",
       "    <tr>\n",
       "      <th>F1</th>\n",
       "      <td>0.154934</td>\n",
       "      <td>0.029086</td>\n",
       "      <td>0.148596</td>\n",
       "      <td>0.388449</td>\n",
       "    </tr>\n",
       "    <tr>\n",
       "      <th>F2</th>\n",
       "      <td>0.441593</td>\n",
       "      <td>0.628785</td>\n",
       "      <td>0.914480</td>\n",
       "      <td>0.863733</td>\n",
       "    </tr>\n",
       "    <tr>\n",
       "      <th>F3</th>\n",
       "      <td>1.110035</td>\n",
       "      <td>1.382642</td>\n",
       "      <td>1.048263</td>\n",
       "      <td>1.320121</td>\n",
       "    </tr>\n",
       "    <tr>\n",
       "      <th>F4</th>\n",
       "      <td>2.007783</td>\n",
       "      <td>1.383466</td>\n",
       "      <td>1.806114</td>\n",
       "      <td>2.119915</td>\n",
       "    </tr>\n",
       "  </tbody>\n",
       "</table>\n",
       "</div>"
      ],
      "text/plain": [
       "    Random Value 1  Random Value 2  Random Value 3  Random Value 4\n",
       "F1        0.154934        0.029086        0.148596        0.388449\n",
       "F2        0.441593        0.628785        0.914480        0.863733\n",
       "F3        1.110035        1.382642        1.048263        1.320121\n",
       "F4        2.007783        1.383466        1.806114        2.119915"
      ]
     },
     "execution_count": 47,
     "metadata": {},
     "output_type": "execute_result"
    }
   ],
   "source": [
    "df.cumsum()"
   ]
  },
  {
   "cell_type": "code",
   "execution_count": 48,
   "id": "b5b3ae38",
   "metadata": {},
   "outputs": [
    {
     "data": {
      "text/html": [
       "<div>\n",
       "<style scoped>\n",
       "    .dataframe tbody tr th:only-of-type {\n",
       "        vertical-align: middle;\n",
       "    }\n",
       "\n",
       "    .dataframe tbody tr th {\n",
       "        vertical-align: top;\n",
       "    }\n",
       "\n",
       "    .dataframe thead th {\n",
       "        text-align: right;\n",
       "    }\n",
       "</style>\n",
       "<table border=\"1\" class=\"dataframe\">\n",
       "  <thead>\n",
       "    <tr style=\"text-align: right;\">\n",
       "      <th></th>\n",
       "      <th>Random Value 1</th>\n",
       "      <th>Random Value 2</th>\n",
       "      <th>Random Value 3</th>\n",
       "      <th>Random Value 4</th>\n",
       "    </tr>\n",
       "  </thead>\n",
       "  <tbody>\n",
       "    <tr>\n",
       "      <th>F1</th>\n",
       "      <td>0.154934</td>\n",
       "      <td>0.029086</td>\n",
       "      <td>0.148596</td>\n",
       "      <td>0.388449</td>\n",
       "    </tr>\n",
       "    <tr>\n",
       "      <th>F2</th>\n",
       "      <td>0.044413</td>\n",
       "      <td>0.017443</td>\n",
       "      <td>0.113808</td>\n",
       "      <td>0.184624</td>\n",
       "    </tr>\n",
       "    <tr>\n",
       "      <th>F3</th>\n",
       "      <td>0.029688</td>\n",
       "      <td>0.013149</td>\n",
       "      <td>0.015226</td>\n",
       "      <td>0.084260</td>\n",
       "    </tr>\n",
       "    <tr>\n",
       "      <th>F4</th>\n",
       "      <td>0.026652</td>\n",
       "      <td>0.000011</td>\n",
       "      <td>0.011539</td>\n",
       "      <td>0.067391</td>\n",
       "    </tr>\n",
       "  </tbody>\n",
       "</table>\n",
       "</div>"
      ],
      "text/plain": [
       "    Random Value 1  Random Value 2  Random Value 3  Random Value 4\n",
       "F1        0.154934        0.029086        0.148596        0.388449\n",
       "F2        0.044413        0.017443        0.113808        0.184624\n",
       "F3        0.029688        0.013149        0.015226        0.084260\n",
       "F4        0.026652        0.000011        0.011539        0.067391"
      ]
     },
     "execution_count": 48,
     "metadata": {},
     "output_type": "execute_result"
    }
   ],
   "source": [
    "df.cumprod()"
   ]
  },
  {
   "cell_type": "code",
   "execution_count": 49,
   "id": "1c776892",
   "metadata": {},
   "outputs": [
    {
     "data": {
      "text/html": [
       "<div>\n",
       "<style scoped>\n",
       "    .dataframe tbody tr th:only-of-type {\n",
       "        vertical-align: middle;\n",
       "    }\n",
       "\n",
       "    .dataframe tbody tr th {\n",
       "        vertical-align: top;\n",
       "    }\n",
       "\n",
       "    .dataframe thead th {\n",
       "        text-align: right;\n",
       "    }\n",
       "</style>\n",
       "<table border=\"1\" class=\"dataframe\">\n",
       "  <thead>\n",
       "    <tr style=\"text-align: right;\">\n",
       "      <th></th>\n",
       "      <th>Random Value 1</th>\n",
       "      <th>Random Value 2</th>\n",
       "      <th>Random Value 3</th>\n",
       "      <th>Random Value 4</th>\n",
       "    </tr>\n",
       "  </thead>\n",
       "  <tbody>\n",
       "    <tr>\n",
       "      <th>count</th>\n",
       "      <td>4.000000</td>\n",
       "      <td>4.000000</td>\n",
       "      <td>4.000000</td>\n",
       "      <td>4.000000</td>\n",
       "    </tr>\n",
       "    <tr>\n",
       "      <th>mean</th>\n",
       "      <td>0.501946</td>\n",
       "      <td>0.345866</td>\n",
       "      <td>0.451529</td>\n",
       "      <td>0.529979</td>\n",
       "    </tr>\n",
       "    <tr>\n",
       "      <th>std</th>\n",
       "      <td>0.342124</td>\n",
       "      <td>0.387424</td>\n",
       "      <td>0.358414</td>\n",
       "      <td>0.183701</td>\n",
       "    </tr>\n",
       "    <tr>\n",
       "      <th>min</th>\n",
       "      <td>0.154934</td>\n",
       "      <td>0.000823</td>\n",
       "      <td>0.133783</td>\n",
       "      <td>0.388449</td>\n",
       "    </tr>\n",
       "    <tr>\n",
       "      <th>25%</th>\n",
       "      <td>0.253728</td>\n",
       "      <td>0.022020</td>\n",
       "      <td>0.144893</td>\n",
       "      <td>0.439403</td>\n",
       "    </tr>\n",
       "    <tr>\n",
       "      <th>50%</th>\n",
       "      <td>0.477550</td>\n",
       "      <td>0.314393</td>\n",
       "      <td>0.453224</td>\n",
       "      <td>0.465836</td>\n",
       "    </tr>\n",
       "    <tr>\n",
       "      <th>75%</th>\n",
       "      <td>0.725768</td>\n",
       "      <td>0.638239</td>\n",
       "      <td>0.759859</td>\n",
       "      <td>0.556412</td>\n",
       "    </tr>\n",
       "    <tr>\n",
       "      <th>max</th>\n",
       "      <td>0.897749</td>\n",
       "      <td>0.753857</td>\n",
       "      <td>0.765884</td>\n",
       "      <td>0.799794</td>\n",
       "    </tr>\n",
       "  </tbody>\n",
       "</table>\n",
       "</div>"
      ],
      "text/plain": [
       "       Random Value 1  Random Value 2  Random Value 3  Random Value 4\n",
       "count        4.000000        4.000000        4.000000        4.000000\n",
       "mean         0.501946        0.345866        0.451529        0.529979\n",
       "std          0.342124        0.387424        0.358414        0.183701\n",
       "min          0.154934        0.000823        0.133783        0.388449\n",
       "25%          0.253728        0.022020        0.144893        0.439403\n",
       "50%          0.477550        0.314393        0.453224        0.465836\n",
       "75%          0.725768        0.638239        0.759859        0.556412\n",
       "max          0.897749        0.753857        0.765884        0.799794"
      ]
     },
     "execution_count": 49,
     "metadata": {},
     "output_type": "execute_result"
    }
   ],
   "source": [
    "df.describe()"
   ]
  },
  {
   "cell_type": "markdown",
   "id": "af33f62a",
   "metadata": {},
   "source": [
    "# Task 4"
   ]
  },
  {
   "cell_type": "code",
   "execution_count": 50,
   "id": "006d3bf6",
   "metadata": {},
   "outputs": [
    {
     "data": {
      "text/html": [
       "<div>\n",
       "<style scoped>\n",
       "    .dataframe tbody tr th:only-of-type {\n",
       "        vertical-align: middle;\n",
       "    }\n",
       "\n",
       "    .dataframe tbody tr th {\n",
       "        vertical-align: top;\n",
       "    }\n",
       "\n",
       "    .dataframe thead th {\n",
       "        text-align: right;\n",
       "    }\n",
       "</style>\n",
       "<table border=\"1\" class=\"dataframe\">\n",
       "  <thead>\n",
       "    <tr style=\"text-align: right;\">\n",
       "      <th></th>\n",
       "      <th>Random Value 1</th>\n",
       "      <th>Random Value 2</th>\n",
       "      <th>Random Value 3</th>\n",
       "      <th>Random Value 4</th>\n",
       "    </tr>\n",
       "  </thead>\n",
       "  <tbody>\n",
       "    <tr>\n",
       "      <th>F1</th>\n",
       "      <td>False</td>\n",
       "      <td>False</td>\n",
       "      <td>False</td>\n",
       "      <td>False</td>\n",
       "    </tr>\n",
       "    <tr>\n",
       "      <th>F2</th>\n",
       "      <td>False</td>\n",
       "      <td>False</td>\n",
       "      <td>False</td>\n",
       "      <td>False</td>\n",
       "    </tr>\n",
       "    <tr>\n",
       "      <th>F3</th>\n",
       "      <td>False</td>\n",
       "      <td>False</td>\n",
       "      <td>False</td>\n",
       "      <td>False</td>\n",
       "    </tr>\n",
       "    <tr>\n",
       "      <th>F4</th>\n",
       "      <td>False</td>\n",
       "      <td>False</td>\n",
       "      <td>False</td>\n",
       "      <td>False</td>\n",
       "    </tr>\n",
       "  </tbody>\n",
       "</table>\n",
       "</div>"
      ],
      "text/plain": [
       "    Random Value 1  Random Value 2  Random Value 3  Random Value 4\n",
       "F1           False           False           False           False\n",
       "F2           False           False           False           False\n",
       "F3           False           False           False           False\n",
       "F4           False           False           False           False"
      ]
     },
     "execution_count": 50,
     "metadata": {},
     "output_type": "execute_result"
    }
   ],
   "source": [
    "df.isnull()"
   ]
  },
  {
   "cell_type": "markdown",
   "id": "18ff1616",
   "metadata": {},
   "source": [
    "# Task 5"
   ]
  },
  {
   "cell_type": "code",
   "execution_count": 54,
   "id": "561702e6",
   "metadata": {},
   "outputs": [
    {
     "name": "stdout",
     "output_type": "stream",
     "text": [
      "Using .loc:\n",
      "    Random Value 2  Random Value 3\n",
      "F1        0.029086        0.148596\n",
      "F2        0.599699        0.765884\n",
      "F3        0.753857        0.133783\n",
      "F4        0.000823        0.757851\n"
     ]
    }
   ],
   "source": [
    "columns_loc = df.loc[:, ['Random Value 2', 'Random Value 3']]\n",
    "print(\"Using .loc:\")\n",
    "print(columns_loc)"
   ]
  },
  {
   "cell_type": "code",
   "execution_count": 53,
   "id": "ad5d829b",
   "metadata": {},
   "outputs": [
    {
     "name": "stdout",
     "output_type": "stream",
     "text": [
      "\n",
      "Using .iloc:\n",
      "    Random Value 2  Random Value 3\n",
      "F1        0.029086        0.148596\n",
      "F2        0.599699        0.765884\n",
      "F3        0.753857        0.133783\n",
      "F4        0.000823        0.757851\n"
     ]
    }
   ],
   "source": [
    "columns_iloc = df.iloc[:, [1, 2]]\n",
    "print(\"\\nUsing .iloc:\")\n",
    "print(columns_iloc)"
   ]
  },
  {
   "cell_type": "code",
   "execution_count": null,
   "id": "59cd3b44",
   "metadata": {},
   "outputs": [],
   "source": []
  }
 ],
 "metadata": {
  "kernelspec": {
   "display_name": "Python 3 (ipykernel)",
   "language": "python",
   "name": "python3"
  },
  "language_info": {
   "codemirror_mode": {
    "name": "ipython",
    "version": 3
   },
   "file_extension": ".py",
   "mimetype": "text/x-python",
   "name": "python",
   "nbconvert_exporter": "python",
   "pygments_lexer": "ipython3",
   "version": "3.10.9"
  }
 },
 "nbformat": 4,
 "nbformat_minor": 5
}
